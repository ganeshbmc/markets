{
 "cells": [
  {
   "cell_type": "code",
   "execution_count": 3,
   "metadata": {},
   "outputs": [],
   "source": [
    "import breeze_connect\n",
    "from breeze_connect import BreezeConnect"
   ]
  },
  {
   "cell_type": "code",
   "execution_count": 4,
   "metadata": {},
   "outputs": [],
   "source": [
    "# Generate session token for each day  \n",
    "# Log into this site while the 'developer tools -> network' tab is open  \n",
    "# Copy 'API_session' key for 'payload' section in 127.0.0.1  \n",
    "\n",
    "fresh_token = 1514347"
   ]
  },
  {
   "cell_type": "code",
   "execution_count": 5,
   "metadata": {},
   "outputs": [],
   "source": [
    "isec = BreezeConnect(api_key=\"06890j43os6a521A7b7241i934KQ9S56\")\n",
    "isec.generate_session(\n",
    "    api_secret=\"$42367K2z98758S712349896J6i^64Mx\",\n",
    "    session_token=fresh_token)"
   ]
  },
  {
   "cell_type": "markdown",
   "metadata": {},
   "source": [
    "## Historical data  "
   ]
  },
  {
   "cell_type": "markdown",
   "metadata": {},
   "source": [
    "`Daily data nifty`  "
   ]
  },
  {
   "cell_type": "code",
   "execution_count": null,
   "metadata": {},
   "outputs": [],
   "source": [
    "nifty_daily = isec.get_historical_data(\n",
    "    interval=\"1day\", \n",
    "    from_date=\"2011-01-01\", \n",
    "    to_date=\"2022-08-15\",\n",
    "    stock_code=\"NIFTY\",\n",
    "    exchange_code=\"NSE\",\n",
    "    product_type=\"\",\n",
    "    expiry_date=\"\")\n",
    "\n",
    "nifty_daily"
   ]
  },
  {
   "cell_type": "code",
   "execution_count": 18,
   "metadata": {},
   "outputs": [
    {
     "name": "stdout",
     "output_type": "stream",
     "text": [
      "2855\n"
     ]
    },
    {
     "data": {
      "text/html": [
       "<div>\n",
       "<style scoped>\n",
       "    .dataframe tbody tr th:only-of-type {\n",
       "        vertical-align: middle;\n",
       "    }\n",
       "\n",
       "    .dataframe tbody tr th {\n",
       "        vertical-align: top;\n",
       "    }\n",
       "\n",
       "    .dataframe thead th {\n",
       "        text-align: right;\n",
       "    }\n",
       "</style>\n",
       "<table border=\"1\" class=\"dataframe\">\n",
       "  <thead>\n",
       "    <tr style=\"text-align: right;\">\n",
       "      <th></th>\n",
       "      <th>datetime</th>\n",
       "      <th>stock_code</th>\n",
       "      <th>exchange_code</th>\n",
       "      <th>product_type</th>\n",
       "      <th>expiry_date</th>\n",
       "      <th>right</th>\n",
       "      <th>strike_price</th>\n",
       "      <th>open</th>\n",
       "      <th>high</th>\n",
       "      <th>low</th>\n",
       "      <th>close</th>\n",
       "      <th>volume</th>\n",
       "      <th>open_interest</th>\n",
       "      <th>count</th>\n",
       "    </tr>\n",
       "  </thead>\n",
       "  <tbody>\n",
       "    <tr>\n",
       "      <th>2850</th>\n",
       "      <td>2022-08-05 12:08:00</td>\n",
       "      <td>NIFTY</td>\n",
       "      <td>NSE</td>\n",
       "      <td>None</td>\n",
       "      <td>None</td>\n",
       "      <td>None</td>\n",
       "      <td>None</td>\n",
       "      <td>17423.65</td>\n",
       "      <td>17474.4</td>\n",
       "      <td>17348.75</td>\n",
       "      <td>17397.5</td>\n",
       "      <td>294357710</td>\n",
       "      <td>None</td>\n",
       "      <td>2850</td>\n",
       "    </tr>\n",
       "    <tr>\n",
       "      <th>2851</th>\n",
       "      <td>2022-08-08 12:08:00</td>\n",
       "      <td>NIFTY</td>\n",
       "      <td>NSE</td>\n",
       "      <td>None</td>\n",
       "      <td>None</td>\n",
       "      <td>None</td>\n",
       "      <td>None</td>\n",
       "      <td>17401.5</td>\n",
       "      <td>17548.8</td>\n",
       "      <td>17359.75</td>\n",
       "      <td>17525.1</td>\n",
       "      <td>231336314</td>\n",
       "      <td>None</td>\n",
       "      <td>2851</td>\n",
       "    </tr>\n",
       "    <tr>\n",
       "      <th>2852</th>\n",
       "      <td>2022-08-10 12:08:00</td>\n",
       "      <td>NIFTY</td>\n",
       "      <td>NSE</td>\n",
       "      <td>None</td>\n",
       "      <td>None</td>\n",
       "      <td>None</td>\n",
       "      <td>None</td>\n",
       "      <td>17566.1</td>\n",
       "      <td>17566.1</td>\n",
       "      <td>17442.8</td>\n",
       "      <td>17534.75</td>\n",
       "      <td>264768246</td>\n",
       "      <td>None</td>\n",
       "      <td>2852</td>\n",
       "    </tr>\n",
       "    <tr>\n",
       "      <th>2853</th>\n",
       "      <td>2022-08-11 12:08:00</td>\n",
       "      <td>NIFTY</td>\n",
       "      <td>NSE</td>\n",
       "      <td>None</td>\n",
       "      <td>None</td>\n",
       "      <td>None</td>\n",
       "      <td>None</td>\n",
       "      <td>17711.65</td>\n",
       "      <td>17719.3</td>\n",
       "      <td>17631.95</td>\n",
       "      <td>17659</td>\n",
       "      <td>220141683</td>\n",
       "      <td>None</td>\n",
       "      <td>2853</td>\n",
       "    </tr>\n",
       "    <tr>\n",
       "      <th>2854</th>\n",
       "      <td>2022-08-12 12:08:00</td>\n",
       "      <td>NIFTY</td>\n",
       "      <td>NSE</td>\n",
       "      <td>None</td>\n",
       "      <td>None</td>\n",
       "      <td>None</td>\n",
       "      <td>None</td>\n",
       "      <td>17659.65</td>\n",
       "      <td>17724.65</td>\n",
       "      <td>17597.85</td>\n",
       "      <td>17698.15</td>\n",
       "      <td>242553351</td>\n",
       "      <td>None</td>\n",
       "      <td>2854</td>\n",
       "    </tr>\n",
       "  </tbody>\n",
       "</table>\n",
       "</div>"
      ],
      "text/plain": [
       "                 datetime stock_code exchange_code product_type expiry_date  \\\n",
       "2850  2022-08-05 12:08:00      NIFTY           NSE         None        None   \n",
       "2851  2022-08-08 12:08:00      NIFTY           NSE         None        None   \n",
       "2852  2022-08-10 12:08:00      NIFTY           NSE         None        None   \n",
       "2853  2022-08-11 12:08:00      NIFTY           NSE         None        None   \n",
       "2854  2022-08-12 12:08:00      NIFTY           NSE         None        None   \n",
       "\n",
       "     right strike_price      open      high       low     close     volume  \\\n",
       "2850  None         None  17423.65   17474.4  17348.75   17397.5  294357710   \n",
       "2851  None         None   17401.5   17548.8  17359.75   17525.1  231336314   \n",
       "2852  None         None   17566.1   17566.1   17442.8  17534.75  264768246   \n",
       "2853  None         None  17711.65   17719.3  17631.95     17659  220141683   \n",
       "2854  None         None  17659.65  17724.65  17597.85  17698.15  242553351   \n",
       "\n",
       "     open_interest  count  \n",
       "2850          None   2850  \n",
       "2851          None   2851  \n",
       "2852          None   2852  \n",
       "2853          None   2853  \n",
       "2854          None   2854  "
      ]
     },
     "execution_count": 18,
     "metadata": {},
     "output_type": "execute_result"
    }
   ],
   "source": [
    "import pandas as pd\n",
    "df = pd.DataFrame(nifty_daily['Success'])\n",
    "print(len(df))\n",
    "df.tail()"
   ]
  },
  {
   "cell_type": "code",
   "execution_count": 20,
   "metadata": {},
   "outputs": [],
   "source": [
    "df.to_csv('datasets/nifty_daily.csv')"
   ]
  },
  {
   "cell_type": "markdown",
   "metadata": {},
   "source": [
    "`1min data nifty`  "
   ]
  },
  {
   "cell_type": "code",
   "execution_count": 43,
   "metadata": {},
   "outputs": [
    {
     "name": "stdout",
     "output_type": "stream",
     "text": [
      "<class 'dict'>\n",
      "83063\n"
     ]
    }
   ],
   "source": [
    "nifty_1min = isec.get_historical_data(\n",
    "    interval=\"1minute\", \n",
    "    from_date=\"2022-01-01\", \n",
    "    to_date=\"2022-08-17\",\n",
    "    stock_code=\"NIFTY\",\n",
    "    exchange_code=\"NSE\",\n",
    "    product_type=\"\",\n",
    "    expiry_date=\"\")\n",
    "\n",
    "print(type(nifty_1min))\n",
    "print(len(nifty_1min['Success']))"
   ]
  },
  {
   "cell_type": "code",
   "execution_count": 44,
   "metadata": {},
   "outputs": [
    {
     "data": {
      "text/plain": [
       "83063"
      ]
     },
     "execution_count": 44,
     "metadata": {},
     "output_type": "execute_result"
    }
   ],
   "source": [
    "nifty_1min_df = pd.DataFrame(nifty_1min['Success'])\n",
    "len(nifty_1min_df)"
   ]
  },
  {
   "cell_type": "code",
   "execution_count": 45,
   "metadata": {},
   "outputs": [
    {
     "data": {
      "text/html": [
       "<div>\n",
       "<style scoped>\n",
       "    .dataframe tbody tr th:only-of-type {\n",
       "        vertical-align: middle;\n",
       "    }\n",
       "\n",
       "    .dataframe tbody tr th {\n",
       "        vertical-align: top;\n",
       "    }\n",
       "\n",
       "    .dataframe thead th {\n",
       "        text-align: right;\n",
       "    }\n",
       "</style>\n",
       "<table border=\"1\" class=\"dataframe\">\n",
       "  <thead>\n",
       "    <tr style=\"text-align: right;\">\n",
       "      <th></th>\n",
       "      <th>datetime</th>\n",
       "      <th>stock_code</th>\n",
       "      <th>exchange_code</th>\n",
       "      <th>product_type</th>\n",
       "      <th>expiry_date</th>\n",
       "      <th>right</th>\n",
       "      <th>strike_price</th>\n",
       "      <th>open</th>\n",
       "      <th>high</th>\n",
       "      <th>low</th>\n",
       "      <th>close</th>\n",
       "      <th>volume</th>\n",
       "      <th>open_interest</th>\n",
       "      <th>count</th>\n",
       "    </tr>\n",
       "  </thead>\n",
       "  <tbody>\n",
       "    <tr>\n",
       "      <th>83058</th>\n",
       "      <td>2022-08-17 16:16:00</td>\n",
       "      <td>NIFTY</td>\n",
       "      <td>NSE</td>\n",
       "      <td>None</td>\n",
       "      <td>None</td>\n",
       "      <td>None</td>\n",
       "      <td>None</td>\n",
       "      <td>17944.25</td>\n",
       "      <td>17944.25</td>\n",
       "      <td>17944.25</td>\n",
       "      <td>17944.25</td>\n",
       "      <td></td>\n",
       "      <td>None</td>\n",
       "      <td>83058</td>\n",
       "    </tr>\n",
       "    <tr>\n",
       "      <th>83059</th>\n",
       "      <td>2022-08-17 16:17:00</td>\n",
       "      <td>NIFTY</td>\n",
       "      <td>NSE</td>\n",
       "      <td>None</td>\n",
       "      <td>None</td>\n",
       "      <td>None</td>\n",
       "      <td>None</td>\n",
       "      <td>17944.25</td>\n",
       "      <td>17944.25</td>\n",
       "      <td>17944.25</td>\n",
       "      <td>17944.25</td>\n",
       "      <td></td>\n",
       "      <td>None</td>\n",
       "      <td>83059</td>\n",
       "    </tr>\n",
       "    <tr>\n",
       "      <th>83060</th>\n",
       "      <td>2022-08-17 16:18:00</td>\n",
       "      <td>NIFTY</td>\n",
       "      <td>NSE</td>\n",
       "      <td>None</td>\n",
       "      <td>None</td>\n",
       "      <td>None</td>\n",
       "      <td>None</td>\n",
       "      <td>17944.25</td>\n",
       "      <td>17944.25</td>\n",
       "      <td>17944.25</td>\n",
       "      <td>17944.25</td>\n",
       "      <td></td>\n",
       "      <td>None</td>\n",
       "      <td>83060</td>\n",
       "    </tr>\n",
       "    <tr>\n",
       "      <th>83061</th>\n",
       "      <td>2022-08-17 16:19:00</td>\n",
       "      <td>NIFTY</td>\n",
       "      <td>NSE</td>\n",
       "      <td>None</td>\n",
       "      <td>None</td>\n",
       "      <td>None</td>\n",
       "      <td>None</td>\n",
       "      <td>17944.25</td>\n",
       "      <td>17944.25</td>\n",
       "      <td>17944.25</td>\n",
       "      <td>17944.25</td>\n",
       "      <td></td>\n",
       "      <td>None</td>\n",
       "      <td>83061</td>\n",
       "    </tr>\n",
       "    <tr>\n",
       "      <th>83062</th>\n",
       "      <td>2022-08-17 16:20:00</td>\n",
       "      <td>NIFTY</td>\n",
       "      <td>NSE</td>\n",
       "      <td>None</td>\n",
       "      <td>None</td>\n",
       "      <td>None</td>\n",
       "      <td>None</td>\n",
       "      <td>17944.25</td>\n",
       "      <td>17944.25</td>\n",
       "      <td>17944.25</td>\n",
       "      <td>17944.25</td>\n",
       "      <td></td>\n",
       "      <td>None</td>\n",
       "      <td>83062</td>\n",
       "    </tr>\n",
       "  </tbody>\n",
       "</table>\n",
       "</div>"
      ],
      "text/plain": [
       "                  datetime stock_code exchange_code product_type expiry_date  \\\n",
       "83058  2022-08-17 16:16:00      NIFTY           NSE         None        None   \n",
       "83059  2022-08-17 16:17:00      NIFTY           NSE         None        None   \n",
       "83060  2022-08-17 16:18:00      NIFTY           NSE         None        None   \n",
       "83061  2022-08-17 16:19:00      NIFTY           NSE         None        None   \n",
       "83062  2022-08-17 16:20:00      NIFTY           NSE         None        None   \n",
       "\n",
       "      right strike_price      open      high       low     close volume  \\\n",
       "83058  None         None  17944.25  17944.25  17944.25  17944.25          \n",
       "83059  None         None  17944.25  17944.25  17944.25  17944.25          \n",
       "83060  None         None  17944.25  17944.25  17944.25  17944.25          \n",
       "83061  None         None  17944.25  17944.25  17944.25  17944.25          \n",
       "83062  None         None  17944.25  17944.25  17944.25  17944.25          \n",
       "\n",
       "      open_interest  count  \n",
       "83058          None  83058  \n",
       "83059          None  83059  \n",
       "83060          None  83060  \n",
       "83061          None  83061  \n",
       "83062          None  83062  "
      ]
     },
     "execution_count": 45,
     "metadata": {},
     "output_type": "execute_result"
    }
   ],
   "source": [
    "nifty_1min_df.tail()"
   ]
  },
  {
   "cell_type": "code",
   "execution_count": 46,
   "metadata": {},
   "outputs": [],
   "source": [
    "nifty_1min_df.to_csv('datasets/nifty_1min.csv')"
   ]
  },
  {
   "cell_type": "markdown",
   "metadata": {},
   "source": [
    "## Live Data  "
   ]
  },
  {
   "cell_type": "code",
   "execution_count": null,
   "metadata": {},
   "outputs": [
    {
     "ename": "GetStockTokenError",
     "evalue": "Stock-Code not found.",
     "output_type": "error",
     "traceback": [
      "\u001b[1;31m---------------------------------------------------------------------------\u001b[0m",
      "\u001b[1;31mGetStockTokenError\u001b[0m                        Traceback (most recent call last)",
      "\u001b[1;32me:\\Github\\markets\\breeze API\\explore_breezeAPI.ipynb Cell 8\u001b[0m in \u001b[0;36m<cell line: 3>\u001b[1;34m()\u001b[0m\n\u001b[0;32m      <a href='vscode-notebook-cell:/e%3A/Github/markets/breeze%20API/explore_breezeAPI.ipynb#W6sZmlsZQ%3D%3D?line=0'>1</a>\u001b[0m isec\u001b[39m.\u001b[39mws_connect()\n\u001b[1;32m----> <a href='vscode-notebook-cell:/e%3A/Github/markets/breeze%20API/explore_breezeAPI.ipynb#W6sZmlsZQ%3D%3D?line=2'>3</a>\u001b[0m isec\u001b[39m.\u001b[39;49msubscribe_feeds(\n\u001b[0;32m      <a href='vscode-notebook-cell:/e%3A/Github/markets/breeze%20API/explore_breezeAPI.ipynb#W6sZmlsZQ%3D%3D?line=3'>4</a>\u001b[0m     stock_code\u001b[39m=\u001b[39;49m\u001b[39m\"\u001b[39;49m\u001b[39mAXIBAN\u001b[39;49m\u001b[39m\"\u001b[39;49m,\n\u001b[0;32m      <a href='vscode-notebook-cell:/e%3A/Github/markets/breeze%20API/explore_breezeAPI.ipynb#W6sZmlsZQ%3D%3D?line=4'>5</a>\u001b[0m     exchange_code\u001b[39m=\u001b[39;49m\u001b[39m\"\u001b[39;49m\u001b[39mNFO\u001b[39;49m\u001b[39m\"\u001b[39;49m,\n\u001b[0;32m      <a href='vscode-notebook-cell:/e%3A/Github/markets/breeze%20API/explore_breezeAPI.ipynb#W6sZmlsZQ%3D%3D?line=5'>6</a>\u001b[0m     product_type\u001b[39m=\u001b[39;49m\u001b[39m\"\u001b[39;49m\u001b[39mfutures\u001b[39;49m\u001b[39m\"\u001b[39;49m,\n\u001b[0;32m      <a href='vscode-notebook-cell:/e%3A/Github/markets/breeze%20API/explore_breezeAPI.ipynb#W6sZmlsZQ%3D%3D?line=6'>7</a>\u001b[0m     expiry_date\u001b[39m=\u001b[39;49m\u001b[39m\"\u001b[39;49m\u001b[39m2022-09-29\u001b[39;49m\u001b[39m\"\u001b[39;49m)\n\u001b[0;32m      <a href='vscode-notebook-cell:/e%3A/Github/markets/breeze%20API/explore_breezeAPI.ipynb#W6sZmlsZQ%3D%3D?line=8'>9</a>\u001b[0m \u001b[39mdef\u001b[39;00m \u001b[39mon_ticks\u001b[39m(ticks):\n\u001b[0;32m     <a href='vscode-notebook-cell:/e%3A/Github/markets/breeze%20API/explore_breezeAPI.ipynb#W6sZmlsZQ%3D%3D?line=9'>10</a>\u001b[0m     \u001b[39m# Callback to receive ticks\u001b[39;00m\n\u001b[0;32m     <a href='vscode-notebook-cell:/e%3A/Github/markets/breeze%20API/explore_breezeAPI.ipynb#W6sZmlsZQ%3D%3D?line=10'>11</a>\u001b[0m     \u001b[39mprint\u001b[39m(\u001b[39mf\u001b[39m\u001b[39m'\u001b[39m\u001b[39mTicks: \u001b[39m\u001b[39m{\u001b[39;00mticks\u001b[39m}\u001b[39;00m\u001b[39m'\u001b[39m)\n",
      "File \u001b[1;32me:\\Github\\markets\\breeze_venv\\lib\\site-packages\\breeze_connect\\breeze_connect.py:125\u001b[0m, in \u001b[0;36mBreezeConnect.subscribe_feeds\u001b[1;34m(self, stock_token, exchange_code, stock_code, product_type, expiry_date, strike_price, right, get_exchange_quotes, get_market_depth)\u001b[0m\n\u001b[0;32m    123\u001b[0m     \u001b[39mreturn\u001b[39;00m {\u001b[39m\"\u001b[39m\u001b[39mmessage\u001b[39m\u001b[39m\"\u001b[39m:\u001b[39m\"\u001b[39m\u001b[39mStock \u001b[39m\u001b[39m\"\u001b[39m\u001b[39m+\u001b[39mstock_token\u001b[39m+\u001b[39m\u001b[39m\"\u001b[39m\u001b[39m subscribed successfully\u001b[39m\u001b[39m\"\u001b[39m}\n\u001b[0;32m    124\u001b[0m \u001b[39melse\u001b[39;00m:\n\u001b[1;32m--> 125\u001b[0m     exchange_quotes_token, market_depth_token \u001b[39m=\u001b[39m \u001b[39mself\u001b[39;49m\u001b[39m.\u001b[39;49mget_stock_token_value(exchange_code\u001b[39m=\u001b[39;49mexchange_code, stock_code\u001b[39m=\u001b[39;49mstock_code, product_type\u001b[39m=\u001b[39;49mproduct_type, expiry_date\u001b[39m=\u001b[39;49mexpiry_date, strike_price\u001b[39m=\u001b[39;49mstrike_price, right\u001b[39m=\u001b[39;49mright, get_exchange_quotes\u001b[39m=\u001b[39;49mget_exchange_quotes, get_market_depth\u001b[39m=\u001b[39;49mget_market_depth)\n\u001b[0;32m    126\u001b[0m     \u001b[39mif\u001b[39;00m exchange_quotes_token \u001b[39m!=\u001b[39m \u001b[39mFalse\u001b[39;00m:\n\u001b[0;32m    127\u001b[0m         \u001b[39mself\u001b[39m\u001b[39m.\u001b[39msio_handler\u001b[39m.\u001b[39mwatch(exchange_quotes_token)\n",
      "File \u001b[1;32me:\\Github\\markets\\breeze_venv\\lib\\site-packages\\breeze_connect\\breeze_connect.py:110\u001b[0m, in \u001b[0;36mBreezeConnect.get_stock_token_value\u001b[1;34m(self, exchange_code, stock_code, product_type, expiry_date, strike_price, right, get_exchange_quotes, get_market_depth)\u001b[0m\n\u001b[0;32m    108\u001b[0m         token_value \u001b[39m=\u001b[39m \u001b[39mself\u001b[39m\u001b[39m.\u001b[39mstock_script_dict_list[\u001b[39m4\u001b[39m]\u001b[39m.\u001b[39mget(contract_detail_value,\u001b[39mFalse\u001b[39;00m)\n\u001b[0;32m    109\u001b[0m \u001b[39mif\u001b[39;00m token_value \u001b[39m==\u001b[39m \u001b[39mFalse\u001b[39;00m:\n\u001b[1;32m--> 110\u001b[0m     \u001b[39mraise\u001b[39;00m GetStockTokenError(message \u001b[39m=\u001b[39m \u001b[39m\"\u001b[39m\u001b[39mStock-Code not found.\u001b[39m\u001b[39m\"\u001b[39m)\n\u001b[0;32m    111\u001b[0m exchange_quotes_token_value \u001b[39m=\u001b[39m \u001b[39mFalse\u001b[39;00m\n\u001b[0;32m    112\u001b[0m \u001b[39mif\u001b[39;00m get_exchange_quotes \u001b[39m!=\u001b[39m \u001b[39mFalse\u001b[39;00m:\n",
      "\u001b[1;31mGetStockTokenError\u001b[0m: Stock-Code not found."
     ]
    }
   ],
   "source": [
    "isec.ws_connect()\n",
    "\n",
    "isec.subscribe_feeds(\n",
    "    stock_code=\"AXIBAN\",\n",
    "    exchange_code=\"NFO\",\n",
    "    product_type=\"futures\",\n",
    "    expiry_date=\"2022-09-29\")\n",
    "\n",
    "def on_ticks(ticks):\n",
    "    # Callback to receive ticks\n",
    "    print(f'Ticks: {ticks}')\n",
    "\n",
    "isec.on_ticks = on_ticks"
   ]
  },
  {
   "cell_type": "markdown",
   "metadata": {},
   "source": [
    "## Placing order  "
   ]
  },
  {
   "cell_type": "code",
   "execution_count": null,
   "metadata": {},
   "outputs": [
    {
     "name": "stdout",
     "output_type": "stream",
     "text": [
      "{'Success': None, 'Status': 500, 'Error': 'Client not enabled for Derivatives, please write to dbccell for assistance.: '}\n"
     ]
    }
   ],
   "source": [
    "# print(isec.place_order(\n",
    "#     stock_code=\"AXIBAN\",\n",
    "#     exchange_code=\"NFO\",\n",
    "#     product=\"Futures\",\n",
    "#     action=\"Buy\",\n",
    "#     order_type=\"Limit\",\n",
    "#     stoploss=\"0\",\n",
    "#     quantity=\"1200\",\n",
    "#     price=\"760.00\",\n",
    "#     validity=\"Day\",\n",
    "#     validity_date=\"2022-08-20\",\n",
    "#     disclosed_quantity=\"0\",\n",
    "#     expiry_date=\"2022-08-24\",\n",
    "#     right=\"others\",\n",
    "#     strike_price=\"0\",\n",
    "#     user_remark=\"Test\"\n",
    "# ))"
   ]
  },
  {
   "cell_type": "markdown",
   "metadata": {},
   "source": [
    "## Using help  "
   ]
  },
  {
   "cell_type": "code",
   "execution_count": null,
   "metadata": {},
   "outputs": [],
   "source": [
    "help(isec)"
   ]
  },
  {
   "cell_type": "markdown",
   "metadata": {},
   "source": [
    "## Saving data  "
   ]
  },
  {
   "cell_type": "code",
   "execution_count": null,
   "metadata": {},
   "outputs": [
    {
     "data": {
      "text/html": [
       "<div>\n",
       "<style scoped>\n",
       "    .dataframe tbody tr th:only-of-type {\n",
       "        vertical-align: middle;\n",
       "    }\n",
       "\n",
       "    .dataframe tbody tr th {\n",
       "        vertical-align: top;\n",
       "    }\n",
       "\n",
       "    .dataframe thead th {\n",
       "        text-align: right;\n",
       "    }\n",
       "</style>\n",
       "<table border=\"1\" class=\"dataframe\">\n",
       "  <thead>\n",
       "    <tr style=\"text-align: right;\">\n",
       "      <th></th>\n",
       "      <th>Success</th>\n",
       "      <th>Status</th>\n",
       "      <th>Error</th>\n",
       "    </tr>\n",
       "  </thead>\n",
       "  <tbody>\n",
       "    <tr>\n",
       "      <th>0</th>\n",
       "      <td>{'datetime': '2022-07-01 15:24:40', 'stock_cod...</td>\n",
       "      <td>200</td>\n",
       "      <td>None</td>\n",
       "    </tr>\n",
       "    <tr>\n",
       "      <th>1</th>\n",
       "      <td>{'datetime': '2022-07-04 15:29:00', 'stock_cod...</td>\n",
       "      <td>200</td>\n",
       "      <td>None</td>\n",
       "    </tr>\n",
       "    <tr>\n",
       "      <th>2</th>\n",
       "      <td>{'datetime': '2022-07-05 15:29:05', 'stock_cod...</td>\n",
       "      <td>200</td>\n",
       "      <td>None</td>\n",
       "    </tr>\n",
       "    <tr>\n",
       "      <th>3</th>\n",
       "      <td>{'datetime': '2022-07-06 15:29:54', 'stock_cod...</td>\n",
       "      <td>200</td>\n",
       "      <td>None</td>\n",
       "    </tr>\n",
       "    <tr>\n",
       "      <th>4</th>\n",
       "      <td>{'datetime': '2022-07-07 15:29:24', 'stock_cod...</td>\n",
       "      <td>200</td>\n",
       "      <td>None</td>\n",
       "    </tr>\n",
       "  </tbody>\n",
       "</table>\n",
       "</div>"
      ],
      "text/plain": [
       "                                             Success  Status Error\n",
       "0  {'datetime': '2022-07-01 15:24:40', 'stock_cod...     200  None\n",
       "1  {'datetime': '2022-07-04 15:29:00', 'stock_cod...     200  None\n",
       "2  {'datetime': '2022-07-05 15:29:05', 'stock_cod...     200  None\n",
       "3  {'datetime': '2022-07-06 15:29:54', 'stock_cod...     200  None\n",
       "4  {'datetime': '2022-07-07 15:29:24', 'stock_cod...     200  None"
      ]
     },
     "execution_count": 37,
     "metadata": {},
     "output_type": "execute_result"
    }
   ],
   "source": [
    "import pandas as pd\n",
    "df = pd.DataFrame(ax_fut)\n",
    "df.head()"
   ]
  },
  {
   "cell_type": "code",
   "execution_count": null,
   "metadata": {},
   "outputs": [
    {
     "data": {
      "text/plain": [
       "{'datetime': '2022-07-01 15:24:40',\n",
       " 'stock_code': 'AXIBAN',\n",
       " 'exchange_code': 'NFO',\n",
       " 'product_type': 'Futures',\n",
       " 'expiry_date': '29-SEP-22',\n",
       " 'right': 'Others',\n",
       " 'strike_price': '0',\n",
       " 'open': '644',\n",
       " 'high': '648.9',\n",
       " 'low': '643.85',\n",
       " 'close': '645.1',\n",
       " 'volume': '3600',\n",
       " 'open_interest': None,\n",
       " 'count': 0}"
      ]
     },
     "execution_count": 36,
     "metadata": {},
     "output_type": "execute_result"
    }
   ],
   "source": [
    "df[\"Success\"][0]"
   ]
  }
 ],
 "metadata": {
  "kernelspec": {
   "display_name": "Python 3.9.7 ('breeze_venv': venv)",
   "language": "python",
   "name": "python3"
  },
  "language_info": {
   "codemirror_mode": {
    "name": "ipython",
    "version": 3
   },
   "file_extension": ".py",
   "mimetype": "text/x-python",
   "name": "python",
   "nbconvert_exporter": "python",
   "pygments_lexer": "ipython3",
   "version": "3.9.7"
  },
  "orig_nbformat": 4,
  "vscode": {
   "interpreter": {
    "hash": "2aee5d54ee989bebb69703e06a2f16d91b0fd177a2000c6dc453d9df6160402d"
   }
  }
 },
 "nbformat": 4,
 "nbformat_minor": 2
}
