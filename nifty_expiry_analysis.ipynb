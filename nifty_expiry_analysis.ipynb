{
 "cells": [
  {
   "cell_type": "code",
   "execution_count": 1,
   "metadata": {},
   "outputs": [],
   "source": [
    "import pandas as pd\n",
    "import numpy as np\n",
    "import matplotlib.pyplot as plt\n",
    "import seaborn as sns"
   ]
  },
  {
   "cell_type": "code",
   "execution_count": 2,
   "metadata": {},
   "outputs": [
    {
     "data": {
      "text/html": [
       "<div>\n",
       "<style scoped>\n",
       "    .dataframe tbody tr th:only-of-type {\n",
       "        vertical-align: middle;\n",
       "    }\n",
       "\n",
       "    .dataframe tbody tr th {\n",
       "        vertical-align: top;\n",
       "    }\n",
       "\n",
       "    .dataframe thead th {\n",
       "        text-align: right;\n",
       "    }\n",
       "</style>\n",
       "<table border=\"1\" class=\"dataframe\">\n",
       "  <thead>\n",
       "    <tr style=\"text-align: right;\">\n",
       "      <th></th>\n",
       "      <th>Unnamed: 0</th>\n",
       "      <th>Date</th>\n",
       "      <th>Open</th>\n",
       "      <th>High</th>\n",
       "      <th>Low</th>\n",
       "      <th>Close</th>\n",
       "      <th>Shares Traded</th>\n",
       "      <th>Turnover (Rs. Cr)</th>\n",
       "      <th>day_range</th>\n",
       "      <th>day_range_pct</th>\n",
       "      <th>oc_range</th>\n",
       "      <th>oc_range_pct</th>\n",
       "    </tr>\n",
       "  </thead>\n",
       "  <tbody>\n",
       "    <tr>\n",
       "      <th>0</th>\n",
       "      <td>129</td>\n",
       "      <td>2022-01-06</td>\n",
       "      <td>17768.50</td>\n",
       "      <td>17797.95</td>\n",
       "      <td>17655.55</td>\n",
       "      <td>17745.90</td>\n",
       "      <td>236454824</td>\n",
       "      <td>22643.82</td>\n",
       "      <td>142.40</td>\n",
       "      <td>0.801418</td>\n",
       "      <td>22.60</td>\n",
       "      <td>0.127191</td>\n",
       "    </tr>\n",
       "    <tr>\n",
       "      <th>1</th>\n",
       "      <td>134</td>\n",
       "      <td>2022-01-13</td>\n",
       "      <td>18257.00</td>\n",
       "      <td>18272.25</td>\n",
       "      <td>18163.80</td>\n",
       "      <td>18257.80</td>\n",
       "      <td>303700545</td>\n",
       "      <td>28670.93</td>\n",
       "      <td>108.45</td>\n",
       "      <td>0.594019</td>\n",
       "      <td>0.80</td>\n",
       "      <td>0.004382</td>\n",
       "    </tr>\n",
       "    <tr>\n",
       "      <th>2</th>\n",
       "      <td>139</td>\n",
       "      <td>2022-01-20</td>\n",
       "      <td>17921.00</td>\n",
       "      <td>17943.70</td>\n",
       "      <td>17648.45</td>\n",
       "      <td>17757.00</td>\n",
       "      <td>258094246</td>\n",
       "      <td>25863.29</td>\n",
       "      <td>295.25</td>\n",
       "      <td>1.647509</td>\n",
       "      <td>164.00</td>\n",
       "      <td>0.915128</td>\n",
       "    </tr>\n",
       "    <tr>\n",
       "      <th>3</th>\n",
       "      <td>143</td>\n",
       "      <td>2022-01-27</td>\n",
       "      <td>17062.00</td>\n",
       "      <td>17182.50</td>\n",
       "      <td>16866.75</td>\n",
       "      <td>17110.15</td>\n",
       "      <td>395596577</td>\n",
       "      <td>36296.64</td>\n",
       "      <td>315.75</td>\n",
       "      <td>1.850604</td>\n",
       "      <td>48.15</td>\n",
       "      <td>0.282206</td>\n",
       "    </tr>\n",
       "    <tr>\n",
       "      <th>4</th>\n",
       "      <td>148</td>\n",
       "      <td>2022-02-03</td>\n",
       "      <td>17767.75</td>\n",
       "      <td>17781.15</td>\n",
       "      <td>17511.15</td>\n",
       "      <td>17560.20</td>\n",
       "      <td>226614989</td>\n",
       "      <td>20373.06</td>\n",
       "      <td>270.00</td>\n",
       "      <td>1.519607</td>\n",
       "      <td>207.55</td>\n",
       "      <td>1.168128</td>\n",
       "    </tr>\n",
       "  </tbody>\n",
       "</table>\n",
       "</div>"
      ],
      "text/plain": [
       "   Unnamed: 0        Date      Open      High       Low     Close  \\\n",
       "0         129  2022-01-06  17768.50  17797.95  17655.55  17745.90   \n",
       "1         134  2022-01-13  18257.00  18272.25  18163.80  18257.80   \n",
       "2         139  2022-01-20  17921.00  17943.70  17648.45  17757.00   \n",
       "3         143  2022-01-27  17062.00  17182.50  16866.75  17110.15   \n",
       "4         148  2022-02-03  17767.75  17781.15  17511.15  17560.20   \n",
       "\n",
       "   Shares Traded  Turnover (Rs. Cr)  day_range  day_range_pct  oc_range  \\\n",
       "0      236454824           22643.82     142.40       0.801418     22.60   \n",
       "1      303700545           28670.93     108.45       0.594019      0.80   \n",
       "2      258094246           25863.29     295.25       1.647509    164.00   \n",
       "3      395596577           36296.64     315.75       1.850604     48.15   \n",
       "4      226614989           20373.06     270.00       1.519607    207.55   \n",
       "\n",
       "   oc_range_pct  \n",
       "0      0.127191  \n",
       "1      0.004382  \n",
       "2      0.915128  \n",
       "3      0.282206  \n",
       "4      1.168128  "
      ]
     },
     "execution_count": 2,
     "metadata": {},
     "output_type": "execute_result"
    }
   ],
   "source": [
    "df = pd.read_csv(\"nifty_expiry_days_22.csv\")\n",
    "df.head()"
   ]
  },
  {
   "cell_type": "code",
   "execution_count": 3,
   "metadata": {},
   "outputs": [],
   "source": [
    "df['Date'] = pd.to_datetime(df['Date'])\n",
    "df['Date'] = df['Date'].dt.strftime('%Y-%m-%d')"
   ]
  },
  {
   "cell_type": "code",
   "execution_count": 4,
   "metadata": {},
   "outputs": [
    {
     "data": {
      "text/html": [
       "<div>\n",
       "<style scoped>\n",
       "    .dataframe tbody tr th:only-of-type {\n",
       "        vertical-align: middle;\n",
       "    }\n",
       "\n",
       "    .dataframe tbody tr th {\n",
       "        vertical-align: top;\n",
       "    }\n",
       "\n",
       "    .dataframe thead th {\n",
       "        text-align: right;\n",
       "    }\n",
       "</style>\n",
       "<table border=\"1\" class=\"dataframe\">\n",
       "  <thead>\n",
       "    <tr style=\"text-align: right;\">\n",
       "      <th></th>\n",
       "      <th>Unnamed: 0</th>\n",
       "      <th>Date</th>\n",
       "      <th>Open</th>\n",
       "      <th>High</th>\n",
       "      <th>Low</th>\n",
       "      <th>Close</th>\n",
       "      <th>Shares Traded</th>\n",
       "      <th>Turnover (Rs. Cr)</th>\n",
       "      <th>day_range</th>\n",
       "      <th>day_range_pct</th>\n",
       "      <th>oc_range</th>\n",
       "      <th>oc_range_pct</th>\n",
       "    </tr>\n",
       "  </thead>\n",
       "  <tbody>\n",
       "    <tr>\n",
       "      <th>0</th>\n",
       "      <td>129</td>\n",
       "      <td>2022-01-06</td>\n",
       "      <td>17768.50</td>\n",
       "      <td>17797.95</td>\n",
       "      <td>17655.55</td>\n",
       "      <td>17745.90</td>\n",
       "      <td>236454824</td>\n",
       "      <td>22643.82</td>\n",
       "      <td>142.40</td>\n",
       "      <td>0.801418</td>\n",
       "      <td>22.60</td>\n",
       "      <td>0.127191</td>\n",
       "    </tr>\n",
       "    <tr>\n",
       "      <th>1</th>\n",
       "      <td>134</td>\n",
       "      <td>2022-01-13</td>\n",
       "      <td>18257.00</td>\n",
       "      <td>18272.25</td>\n",
       "      <td>18163.80</td>\n",
       "      <td>18257.80</td>\n",
       "      <td>303700545</td>\n",
       "      <td>28670.93</td>\n",
       "      <td>108.45</td>\n",
       "      <td>0.594019</td>\n",
       "      <td>0.80</td>\n",
       "      <td>0.004382</td>\n",
       "    </tr>\n",
       "    <tr>\n",
       "      <th>2</th>\n",
       "      <td>139</td>\n",
       "      <td>2022-01-20</td>\n",
       "      <td>17921.00</td>\n",
       "      <td>17943.70</td>\n",
       "      <td>17648.45</td>\n",
       "      <td>17757.00</td>\n",
       "      <td>258094246</td>\n",
       "      <td>25863.29</td>\n",
       "      <td>295.25</td>\n",
       "      <td>1.647509</td>\n",
       "      <td>164.00</td>\n",
       "      <td>0.915128</td>\n",
       "    </tr>\n",
       "    <tr>\n",
       "      <th>3</th>\n",
       "      <td>143</td>\n",
       "      <td>2022-01-27</td>\n",
       "      <td>17062.00</td>\n",
       "      <td>17182.50</td>\n",
       "      <td>16866.75</td>\n",
       "      <td>17110.15</td>\n",
       "      <td>395596577</td>\n",
       "      <td>36296.64</td>\n",
       "      <td>315.75</td>\n",
       "      <td>1.850604</td>\n",
       "      <td>48.15</td>\n",
       "      <td>0.282206</td>\n",
       "    </tr>\n",
       "    <tr>\n",
       "      <th>4</th>\n",
       "      <td>148</td>\n",
       "      <td>2022-02-03</td>\n",
       "      <td>17767.75</td>\n",
       "      <td>17781.15</td>\n",
       "      <td>17511.15</td>\n",
       "      <td>17560.20</td>\n",
       "      <td>226614989</td>\n",
       "      <td>20373.06</td>\n",
       "      <td>270.00</td>\n",
       "      <td>1.519607</td>\n",
       "      <td>207.55</td>\n",
       "      <td>1.168128</td>\n",
       "    </tr>\n",
       "  </tbody>\n",
       "</table>\n",
       "</div>"
      ],
      "text/plain": [
       "   Unnamed: 0        Date      Open      High       Low     Close  \\\n",
       "0         129  2022-01-06  17768.50  17797.95  17655.55  17745.90   \n",
       "1         134  2022-01-13  18257.00  18272.25  18163.80  18257.80   \n",
       "2         139  2022-01-20  17921.00  17943.70  17648.45  17757.00   \n",
       "3         143  2022-01-27  17062.00  17182.50  16866.75  17110.15   \n",
       "4         148  2022-02-03  17767.75  17781.15  17511.15  17560.20   \n",
       "\n",
       "   Shares Traded  Turnover (Rs. Cr)  day_range  day_range_pct  oc_range  \\\n",
       "0      236454824           22643.82     142.40       0.801418     22.60   \n",
       "1      303700545           28670.93     108.45       0.594019      0.80   \n",
       "2      258094246           25863.29     295.25       1.647509    164.00   \n",
       "3      395596577           36296.64     315.75       1.850604     48.15   \n",
       "4      226614989           20373.06     270.00       1.519607    207.55   \n",
       "\n",
       "   oc_range_pct  \n",
       "0      0.127191  \n",
       "1      0.004382  \n",
       "2      0.915128  \n",
       "3      0.282206  \n",
       "4      1.168128  "
      ]
     },
     "execution_count": 4,
     "metadata": {},
     "output_type": "execute_result"
    }
   ],
   "source": [
    "df.head()"
   ]
  },
  {
   "cell_type": "code",
   "execution_count": 5,
   "metadata": {},
   "outputs": [
    {
     "data": {
      "text/plain": [
       "Index(['Unnamed: 0', 'Date', 'Open', 'High', 'Low', 'Close', 'Shares Traded',\n",
       "       'Turnover (Rs. Cr)', 'day_range', 'day_range_pct', 'oc_range',\n",
       "       'oc_range_pct'],\n",
       "      dtype='object')"
      ]
     },
     "execution_count": 5,
     "metadata": {},
     "output_type": "execute_result"
    }
   ],
   "source": [
    "df.columns"
   ]
  },
  {
   "cell_type": "code",
   "execution_count": 6,
   "metadata": {},
   "outputs": [
    {
     "name": "stdout",
     "output_type": "stream",
     "text": [
      "<class 'pandas.core.frame.DataFrame'>\n",
      "RangeIndex: 240 entries, 0 to 239\n",
      "Data columns (total 7 columns):\n",
      " #   Column             Non-Null Count  Dtype  \n",
      "---  ------             --------------  -----  \n",
      " 0   Date               240 non-null    object \n",
      " 1   Open               240 non-null    float64\n",
      " 2   High               240 non-null    float64\n",
      " 3   Low                240 non-null    float64\n",
      " 4   Close              240 non-null    float64\n",
      " 5   Shares Traded      240 non-null    int64  \n",
      " 6   Turnover (Rs. Cr)  240 non-null    float64\n",
      "dtypes: float64(5), int64(1), object(1)\n",
      "memory usage: 13.2+ KB\n"
     ]
    }
   ],
   "source": [
    "df.info()"
   ]
  },
  {
   "cell_type": "code",
   "execution_count": 7,
   "metadata": {},
   "outputs": [
    {
     "data": {
      "text/html": [
       "<div>\n",
       "<style scoped>\n",
       "    .dataframe tbody tr th:only-of-type {\n",
       "        vertical-align: middle;\n",
       "    }\n",
       "\n",
       "    .dataframe tbody tr th {\n",
       "        vertical-align: top;\n",
       "    }\n",
       "\n",
       "    .dataframe thead th {\n",
       "        text-align: right;\n",
       "    }\n",
       "</style>\n",
       "<table border=\"1\" class=\"dataframe\">\n",
       "  <thead>\n",
       "    <tr style=\"text-align: right;\">\n",
       "      <th></th>\n",
       "      <th>count</th>\n",
       "      <th>mean</th>\n",
       "      <th>std</th>\n",
       "      <th>min</th>\n",
       "      <th>25%</th>\n",
       "      <th>50%</th>\n",
       "      <th>75%</th>\n",
       "      <th>max</th>\n",
       "    </tr>\n",
       "  </thead>\n",
       "  <tbody>\n",
       "    <tr>\n",
       "      <th>Open</th>\n",
       "      <td>240.0</td>\n",
       "      <td>1.706008e+04</td>\n",
       "      <td>7.621198e+02</td>\n",
       "      <td>15272.65</td>\n",
       "      <td>1.647361e+04</td>\n",
       "      <td>1.719797e+04</td>\n",
       "      <td>1.762881e+04</td>\n",
       "      <td>1.860235e+04</td>\n",
       "    </tr>\n",
       "    <tr>\n",
       "      <th>High</th>\n",
       "      <td>240.0</td>\n",
       "      <td>1.714822e+04</td>\n",
       "      <td>7.551928e+02</td>\n",
       "      <td>15400.40</td>\n",
       "      <td>1.653627e+04</td>\n",
       "      <td>1.730780e+04</td>\n",
       "      <td>1.774434e+04</td>\n",
       "      <td>1.860445e+04</td>\n",
       "    </tr>\n",
       "    <tr>\n",
       "      <th>Low</th>\n",
       "      <td>240.0</td>\n",
       "      <td>1.693901e+04</td>\n",
       "      <td>7.545604e+02</td>\n",
       "      <td>15183.40</td>\n",
       "      <td>1.635400e+04</td>\n",
       "      <td>1.706435e+04</td>\n",
       "      <td>1.751436e+04</td>\n",
       "      <td>1.844530e+04</td>\n",
       "    </tr>\n",
       "    <tr>\n",
       "      <th>Close</th>\n",
       "      <td>240.0</td>\n",
       "      <td>1.704648e+04</td>\n",
       "      <td>7.561988e+02</td>\n",
       "      <td>15293.50</td>\n",
       "      <td>1.647120e+04</td>\n",
       "      <td>1.719875e+04</td>\n",
       "      <td>1.762004e+04</td>\n",
       "      <td>1.847705e+04</td>\n",
       "    </tr>\n",
       "    <tr>\n",
       "      <th>Shares Traded</th>\n",
       "      <td>240.0</td>\n",
       "      <td>3.016702e+08</td>\n",
       "      <td>8.348404e+07</td>\n",
       "      <td>48520856.00</td>\n",
       "      <td>2.463861e+08</td>\n",
       "      <td>2.832574e+08</td>\n",
       "      <td>3.369160e+08</td>\n",
       "      <td>6.516136e+08</td>\n",
       "    </tr>\n",
       "    <tr>\n",
       "      <th>Turnover (Rs. Cr)</th>\n",
       "      <td>240.0</td>\n",
       "      <td>2.431301e+04</td>\n",
       "      <td>5.967099e+03</td>\n",
       "      <td>3637.06</td>\n",
       "      <td>2.063689e+04</td>\n",
       "      <td>2.337160e+04</td>\n",
       "      <td>2.716411e+04</td>\n",
       "      <td>5.292935e+04</td>\n",
       "    </tr>\n",
       "  </tbody>\n",
       "</table>\n",
       "</div>"
      ],
      "text/plain": [
       "                   count          mean           std          min  \\\n",
       "Open               240.0  1.706008e+04  7.621198e+02     15272.65   \n",
       "High               240.0  1.714822e+04  7.551928e+02     15400.40   \n",
       "Low                240.0  1.693901e+04  7.545604e+02     15183.40   \n",
       "Close              240.0  1.704648e+04  7.561988e+02     15293.50   \n",
       "Shares Traded      240.0  3.016702e+08  8.348404e+07  48520856.00   \n",
       "Turnover (Rs. Cr)  240.0  2.431301e+04  5.967099e+03      3637.06   \n",
       "\n",
       "                            25%           50%           75%           max  \n",
       "Open               1.647361e+04  1.719797e+04  1.762881e+04  1.860235e+04  \n",
       "High               1.653627e+04  1.730780e+04  1.774434e+04  1.860445e+04  \n",
       "Low                1.635400e+04  1.706435e+04  1.751436e+04  1.844530e+04  \n",
       "Close              1.647120e+04  1.719875e+04  1.762004e+04  1.847705e+04  \n",
       "Shares Traded      2.463861e+08  2.832574e+08  3.369160e+08  6.516136e+08  \n",
       "Turnover (Rs. Cr)  2.063689e+04  2.337160e+04  2.716411e+04  5.292935e+04  "
      ]
     },
     "execution_count": 7,
     "metadata": {},
     "output_type": "execute_result"
    }
   ],
   "source": [
    "df.describe().T"
   ]
  },
  {
   "cell_type": "code",
   "execution_count": 8,
   "metadata": {},
   "outputs": [
    {
     "data": {
      "text/html": [
       "<div>\n",
       "<style scoped>\n",
       "    .dataframe tbody tr th:only-of-type {\n",
       "        vertical-align: middle;\n",
       "    }\n",
       "\n",
       "    .dataframe tbody tr th {\n",
       "        vertical-align: top;\n",
       "    }\n",
       "\n",
       "    .dataframe thead th {\n",
       "        text-align: right;\n",
       "    }\n",
       "</style>\n",
       "<table border=\"1\" class=\"dataframe\">\n",
       "  <thead>\n",
       "    <tr style=\"text-align: right;\">\n",
       "      <th></th>\n",
       "      <th>Date</th>\n",
       "      <th>Open</th>\n",
       "      <th>High</th>\n",
       "      <th>Low</th>\n",
       "      <th>Close</th>\n",
       "      <th>Shares Traded</th>\n",
       "      <th>Turnover (Rs. Cr)</th>\n",
       "    </tr>\n",
       "  </thead>\n",
       "  <tbody>\n",
       "    <tr>\n",
       "      <th>0</th>\n",
       "      <td>2021-07-01</td>\n",
       "      <td>15755.05</td>\n",
       "      <td>15755.55</td>\n",
       "      <td>15667.05</td>\n",
       "      <td>15680.00</td>\n",
       "      <td>224921644</td>\n",
       "      <td>17359.97</td>\n",
       "    </tr>\n",
       "    <tr>\n",
       "      <th>1</th>\n",
       "      <td>2021-07-02</td>\n",
       "      <td>15705.85</td>\n",
       "      <td>15738.35</td>\n",
       "      <td>15635.95</td>\n",
       "      <td>15722.20</td>\n",
       "      <td>254808999</td>\n",
       "      <td>18015.42</td>\n",
       "    </tr>\n",
       "    <tr>\n",
       "      <th>2</th>\n",
       "      <td>2021-07-05</td>\n",
       "      <td>15793.40</td>\n",
       "      <td>15845.95</td>\n",
       "      <td>15762.05</td>\n",
       "      <td>15834.35</td>\n",
       "      <td>207032153</td>\n",
       "      <td>14976.54</td>\n",
       "    </tr>\n",
       "    <tr>\n",
       "      <th>3</th>\n",
       "      <td>2021-07-06</td>\n",
       "      <td>15813.75</td>\n",
       "      <td>15914.20</td>\n",
       "      <td>15801.00</td>\n",
       "      <td>15818.25</td>\n",
       "      <td>391410742</td>\n",
       "      <td>24456.05</td>\n",
       "    </tr>\n",
       "    <tr>\n",
       "      <th>4</th>\n",
       "      <td>2021-07-07</td>\n",
       "      <td>15819.60</td>\n",
       "      <td>15893.55</td>\n",
       "      <td>15779.70</td>\n",
       "      <td>15879.65</td>\n",
       "      <td>329308646</td>\n",
       "      <td>22259.96</td>\n",
       "    </tr>\n",
       "  </tbody>\n",
       "</table>\n",
       "</div>"
      ],
      "text/plain": [
       "         Date      Open      High       Low     Close  Shares Traded  \\\n",
       "0  2021-07-01  15755.05  15755.55  15667.05  15680.00      224921644   \n",
       "1  2021-07-02  15705.85  15738.35  15635.95  15722.20      254808999   \n",
       "2  2021-07-05  15793.40  15845.95  15762.05  15834.35      207032153   \n",
       "3  2021-07-06  15813.75  15914.20  15801.00  15818.25      391410742   \n",
       "4  2021-07-07  15819.60  15893.55  15779.70  15879.65      329308646   \n",
       "\n",
       "   Turnover (Rs. Cr)  \n",
       "0           17359.97  \n",
       "1           18015.42  \n",
       "2           14976.54  \n",
       "3           24456.05  \n",
       "4           22259.96  "
      ]
     },
     "execution_count": 8,
     "metadata": {},
     "output_type": "execute_result"
    }
   ],
   "source": [
    "data = df\n",
    "data.head()"
   ]
  },
  {
   "cell_type": "code",
   "execution_count": 9,
   "metadata": {},
   "outputs": [
    {
     "data": {
      "text/html": [
       "<div>\n",
       "<style scoped>\n",
       "    .dataframe tbody tr th:only-of-type {\n",
       "        vertical-align: middle;\n",
       "    }\n",
       "\n",
       "    .dataframe tbody tr th {\n",
       "        vertical-align: top;\n",
       "    }\n",
       "\n",
       "    .dataframe thead th {\n",
       "        text-align: right;\n",
       "    }\n",
       "</style>\n",
       "<table border=\"1\" class=\"dataframe\">\n",
       "  <thead>\n",
       "    <tr style=\"text-align: right;\">\n",
       "      <th></th>\n",
       "      <th>Date</th>\n",
       "      <th>Open</th>\n",
       "      <th>High</th>\n",
       "      <th>Low</th>\n",
       "      <th>Close</th>\n",
       "      <th>Shares Traded</th>\n",
       "      <th>Turnover (Rs. Cr)</th>\n",
       "      <th>day_range</th>\n",
       "      <th>day_range_pct</th>\n",
       "    </tr>\n",
       "  </thead>\n",
       "  <tbody>\n",
       "    <tr>\n",
       "      <th>0</th>\n",
       "      <td>2021-07-01</td>\n",
       "      <td>15755.05</td>\n",
       "      <td>15755.55</td>\n",
       "      <td>15667.05</td>\n",
       "      <td>15680.00</td>\n",
       "      <td>224921644</td>\n",
       "      <td>17359.97</td>\n",
       "      <td>88.50</td>\n",
       "      <td>0.561725</td>\n",
       "    </tr>\n",
       "    <tr>\n",
       "      <th>1</th>\n",
       "      <td>2021-07-02</td>\n",
       "      <td>15705.85</td>\n",
       "      <td>15738.35</td>\n",
       "      <td>15635.95</td>\n",
       "      <td>15722.20</td>\n",
       "      <td>254808999</td>\n",
       "      <td>18015.42</td>\n",
       "      <td>102.40</td>\n",
       "      <td>0.651986</td>\n",
       "    </tr>\n",
       "    <tr>\n",
       "      <th>2</th>\n",
       "      <td>2021-07-05</td>\n",
       "      <td>15793.40</td>\n",
       "      <td>15845.95</td>\n",
       "      <td>15762.05</td>\n",
       "      <td>15834.35</td>\n",
       "      <td>207032153</td>\n",
       "      <td>14976.54</td>\n",
       "      <td>83.90</td>\n",
       "      <td>0.531235</td>\n",
       "    </tr>\n",
       "    <tr>\n",
       "      <th>3</th>\n",
       "      <td>2021-07-06</td>\n",
       "      <td>15813.75</td>\n",
       "      <td>15914.20</td>\n",
       "      <td>15801.00</td>\n",
       "      <td>15818.25</td>\n",
       "      <td>391410742</td>\n",
       "      <td>24456.05</td>\n",
       "      <td>113.20</td>\n",
       "      <td>0.715833</td>\n",
       "    </tr>\n",
       "    <tr>\n",
       "      <th>4</th>\n",
       "      <td>2021-07-07</td>\n",
       "      <td>15819.60</td>\n",
       "      <td>15893.55</td>\n",
       "      <td>15779.70</td>\n",
       "      <td>15879.65</td>\n",
       "      <td>329308646</td>\n",
       "      <td>22259.96</td>\n",
       "      <td>113.85</td>\n",
       "      <td>0.719677</td>\n",
       "    </tr>\n",
       "  </tbody>\n",
       "</table>\n",
       "</div>"
      ],
      "text/plain": [
       "         Date      Open      High       Low     Close  Shares Traded  \\\n",
       "0  2021-07-01  15755.05  15755.55  15667.05  15680.00      224921644   \n",
       "1  2021-07-02  15705.85  15738.35  15635.95  15722.20      254808999   \n",
       "2  2021-07-05  15793.40  15845.95  15762.05  15834.35      207032153   \n",
       "3  2021-07-06  15813.75  15914.20  15801.00  15818.25      391410742   \n",
       "4  2021-07-07  15819.60  15893.55  15779.70  15879.65      329308646   \n",
       "\n",
       "   Turnover (Rs. Cr)  day_range  day_range_pct  \n",
       "0           17359.97      88.50       0.561725  \n",
       "1           18015.42     102.40       0.651986  \n",
       "2           14976.54      83.90       0.531235  \n",
       "3           24456.05     113.20       0.715833  \n",
       "4           22259.96     113.85       0.719677  "
      ]
     },
     "execution_count": 9,
     "metadata": {},
     "output_type": "execute_result"
    }
   ],
   "source": [
    "data['day_range'] = np.abs(data['High'] - data['Low'])\n",
    "data['day_range_pct'] = (data['day_range']/data['Open'])*100\n",
    "data.head()"
   ]
  },
  {
   "cell_type": "code",
   "execution_count": 10,
   "metadata": {},
   "outputs": [
    {
     "data": {
      "text/html": [
       "<div>\n",
       "<style scoped>\n",
       "    .dataframe tbody tr th:only-of-type {\n",
       "        vertical-align: middle;\n",
       "    }\n",
       "\n",
       "    .dataframe tbody tr th {\n",
       "        vertical-align: top;\n",
       "    }\n",
       "\n",
       "    .dataframe thead th {\n",
       "        text-align: right;\n",
       "    }\n",
       "</style>\n",
       "<table border=\"1\" class=\"dataframe\">\n",
       "  <thead>\n",
       "    <tr style=\"text-align: right;\">\n",
       "      <th></th>\n",
       "      <th>Date</th>\n",
       "      <th>Open</th>\n",
       "      <th>High</th>\n",
       "      <th>Low</th>\n",
       "      <th>Close</th>\n",
       "      <th>Shares Traded</th>\n",
       "      <th>Turnover (Rs. Cr)</th>\n",
       "      <th>day_range</th>\n",
       "      <th>day_range_pct</th>\n",
       "      <th>oc_range</th>\n",
       "      <th>oc_range_pct</th>\n",
       "    </tr>\n",
       "  </thead>\n",
       "  <tbody>\n",
       "    <tr>\n",
       "      <th>0</th>\n",
       "      <td>2021-07-01</td>\n",
       "      <td>15755.05</td>\n",
       "      <td>15755.55</td>\n",
       "      <td>15667.05</td>\n",
       "      <td>15680.00</td>\n",
       "      <td>224921644</td>\n",
       "      <td>17359.97</td>\n",
       "      <td>88.50</td>\n",
       "      <td>0.561725</td>\n",
       "      <td>75.05</td>\n",
       "      <td>0.476355</td>\n",
       "    </tr>\n",
       "    <tr>\n",
       "      <th>1</th>\n",
       "      <td>2021-07-02</td>\n",
       "      <td>15705.85</td>\n",
       "      <td>15738.35</td>\n",
       "      <td>15635.95</td>\n",
       "      <td>15722.20</td>\n",
       "      <td>254808999</td>\n",
       "      <td>18015.42</td>\n",
       "      <td>102.40</td>\n",
       "      <td>0.651986</td>\n",
       "      <td>16.35</td>\n",
       "      <td>0.104101</td>\n",
       "    </tr>\n",
       "    <tr>\n",
       "      <th>2</th>\n",
       "      <td>2021-07-05</td>\n",
       "      <td>15793.40</td>\n",
       "      <td>15845.95</td>\n",
       "      <td>15762.05</td>\n",
       "      <td>15834.35</td>\n",
       "      <td>207032153</td>\n",
       "      <td>14976.54</td>\n",
       "      <td>83.90</td>\n",
       "      <td>0.531235</td>\n",
       "      <td>40.95</td>\n",
       "      <td>0.259286</td>\n",
       "    </tr>\n",
       "    <tr>\n",
       "      <th>3</th>\n",
       "      <td>2021-07-06</td>\n",
       "      <td>15813.75</td>\n",
       "      <td>15914.20</td>\n",
       "      <td>15801.00</td>\n",
       "      <td>15818.25</td>\n",
       "      <td>391410742</td>\n",
       "      <td>24456.05</td>\n",
       "      <td>113.20</td>\n",
       "      <td>0.715833</td>\n",
       "      <td>4.50</td>\n",
       "      <td>0.028456</td>\n",
       "    </tr>\n",
       "    <tr>\n",
       "      <th>4</th>\n",
       "      <td>2021-07-07</td>\n",
       "      <td>15819.60</td>\n",
       "      <td>15893.55</td>\n",
       "      <td>15779.70</td>\n",
       "      <td>15879.65</td>\n",
       "      <td>329308646</td>\n",
       "      <td>22259.96</td>\n",
       "      <td>113.85</td>\n",
       "      <td>0.719677</td>\n",
       "      <td>60.05</td>\n",
       "      <td>0.379592</td>\n",
       "    </tr>\n",
       "  </tbody>\n",
       "</table>\n",
       "</div>"
      ],
      "text/plain": [
       "         Date      Open      High       Low     Close  Shares Traded  \\\n",
       "0  2021-07-01  15755.05  15755.55  15667.05  15680.00      224921644   \n",
       "1  2021-07-02  15705.85  15738.35  15635.95  15722.20      254808999   \n",
       "2  2021-07-05  15793.40  15845.95  15762.05  15834.35      207032153   \n",
       "3  2021-07-06  15813.75  15914.20  15801.00  15818.25      391410742   \n",
       "4  2021-07-07  15819.60  15893.55  15779.70  15879.65      329308646   \n",
       "\n",
       "   Turnover (Rs. Cr)  day_range  day_range_pct  oc_range  oc_range_pct  \n",
       "0           17359.97      88.50       0.561725     75.05      0.476355  \n",
       "1           18015.42     102.40       0.651986     16.35      0.104101  \n",
       "2           14976.54      83.90       0.531235     40.95      0.259286  \n",
       "3           24456.05     113.20       0.715833      4.50      0.028456  \n",
       "4           22259.96     113.85       0.719677     60.05      0.379592  "
      ]
     },
     "execution_count": 10,
     "metadata": {},
     "output_type": "execute_result"
    }
   ],
   "source": [
    "data['oc_range'] = np.abs(data['Open'] - data['Close'])\n",
    "data['oc_range_pct'] = (data['oc_range']/data['Open'])*100\n",
    "data.head()"
   ]
  },
  {
   "cell_type": "code",
   "execution_count": 11,
   "metadata": {},
   "outputs": [
    {
     "data": {
      "text/plain": [
       "(240, 11)"
      ]
     },
     "execution_count": 11,
     "metadata": {},
     "output_type": "execute_result"
    }
   ],
   "source": [
    "data.shape"
   ]
  },
  {
   "cell_type": "code",
   "execution_count": 12,
   "metadata": {},
   "outputs": [
    {
     "data": {
      "text/html": [
       "<div>\n",
       "<style scoped>\n",
       "    .dataframe tbody tr th:only-of-type {\n",
       "        vertical-align: middle;\n",
       "    }\n",
       "\n",
       "    .dataframe tbody tr th {\n",
       "        vertical-align: top;\n",
       "    }\n",
       "\n",
       "    .dataframe thead th {\n",
       "        text-align: right;\n",
       "    }\n",
       "</style>\n",
       "<table border=\"1\" class=\"dataframe\">\n",
       "  <thead>\n",
       "    <tr style=\"text-align: right;\">\n",
       "      <th></th>\n",
       "      <th>count</th>\n",
       "      <th>mean</th>\n",
       "      <th>std</th>\n",
       "      <th>min</th>\n",
       "      <th>25%</th>\n",
       "      <th>50%</th>\n",
       "      <th>75%</th>\n",
       "      <th>max</th>\n",
       "    </tr>\n",
       "  </thead>\n",
       "  <tbody>\n",
       "    <tr>\n",
       "      <th>Open</th>\n",
       "      <td>240.0</td>\n",
       "      <td>1.706008e+04</td>\n",
       "      <td>7.621198e+02</td>\n",
       "      <td>1.527265e+04</td>\n",
       "      <td>1.647361e+04</td>\n",
       "      <td>1.719797e+04</td>\n",
       "      <td>1.762881e+04</td>\n",
       "      <td>1.860235e+04</td>\n",
       "    </tr>\n",
       "    <tr>\n",
       "      <th>High</th>\n",
       "      <td>240.0</td>\n",
       "      <td>1.714822e+04</td>\n",
       "      <td>7.551928e+02</td>\n",
       "      <td>1.540040e+04</td>\n",
       "      <td>1.653627e+04</td>\n",
       "      <td>1.730780e+04</td>\n",
       "      <td>1.774434e+04</td>\n",
       "      <td>1.860445e+04</td>\n",
       "    </tr>\n",
       "    <tr>\n",
       "      <th>Low</th>\n",
       "      <td>240.0</td>\n",
       "      <td>1.693901e+04</td>\n",
       "      <td>7.545604e+02</td>\n",
       "      <td>1.518340e+04</td>\n",
       "      <td>1.635400e+04</td>\n",
       "      <td>1.706435e+04</td>\n",
       "      <td>1.751436e+04</td>\n",
       "      <td>1.844530e+04</td>\n",
       "    </tr>\n",
       "    <tr>\n",
       "      <th>Close</th>\n",
       "      <td>240.0</td>\n",
       "      <td>1.704648e+04</td>\n",
       "      <td>7.561988e+02</td>\n",
       "      <td>1.529350e+04</td>\n",
       "      <td>1.647120e+04</td>\n",
       "      <td>1.719875e+04</td>\n",
       "      <td>1.762004e+04</td>\n",
       "      <td>1.847705e+04</td>\n",
       "    </tr>\n",
       "    <tr>\n",
       "      <th>Shares Traded</th>\n",
       "      <td>240.0</td>\n",
       "      <td>3.016702e+08</td>\n",
       "      <td>8.348404e+07</td>\n",
       "      <td>4.852086e+07</td>\n",
       "      <td>2.463861e+08</td>\n",
       "      <td>2.832574e+08</td>\n",
       "      <td>3.369160e+08</td>\n",
       "      <td>6.516136e+08</td>\n",
       "    </tr>\n",
       "    <tr>\n",
       "      <th>Turnover (Rs. Cr)</th>\n",
       "      <td>240.0</td>\n",
       "      <td>2.431301e+04</td>\n",
       "      <td>5.967099e+03</td>\n",
       "      <td>3.637060e+03</td>\n",
       "      <td>2.063689e+04</td>\n",
       "      <td>2.337160e+04</td>\n",
       "      <td>2.716411e+04</td>\n",
       "      <td>5.292935e+04</td>\n",
       "    </tr>\n",
       "    <tr>\n",
       "      <th>day_range</th>\n",
       "      <td>240.0</td>\n",
       "      <td>2.092127e+02</td>\n",
       "      <td>9.997091e+01</td>\n",
       "      <td>4.695000e+01</td>\n",
       "      <td>1.390750e+02</td>\n",
       "      <td>1.889750e+02</td>\n",
       "      <td>2.611125e+02</td>\n",
       "      <td>6.015500e+02</td>\n",
       "    </tr>\n",
       "    <tr>\n",
       "      <th>day_range_pct</th>\n",
       "      <td>240.0</td>\n",
       "      <td>1.227594e+00</td>\n",
       "      <td>5.898898e-01</td>\n",
       "      <td>2.617779e-01</td>\n",
       "      <td>8.040933e-01</td>\n",
       "      <td>1.117894e+00</td>\n",
       "      <td>1.506607e+00</td>\n",
       "      <td>3.422730e+00</td>\n",
       "    </tr>\n",
       "    <tr>\n",
       "      <th>oc_range</th>\n",
       "      <td>240.0</td>\n",
       "      <td>1.072250e+02</td>\n",
       "      <td>9.096451e+01</td>\n",
       "      <td>1.500000e-01</td>\n",
       "      <td>4.061250e+01</td>\n",
       "      <td>8.205000e+01</td>\n",
       "      <td>1.470000e+02</td>\n",
       "      <td>4.716500e+02</td>\n",
       "    </tr>\n",
       "    <tr>\n",
       "      <th>oc_range_pct</th>\n",
       "      <td>240.0</td>\n",
       "      <td>6.278478e-01</td>\n",
       "      <td>5.360646e-01</td>\n",
       "      <td>8.555833e-04</td>\n",
       "      <td>2.356540e-01</td>\n",
       "      <td>4.744485e-01</td>\n",
       "      <td>8.755500e-01</td>\n",
       "      <td>2.979046e+00</td>\n",
       "    </tr>\n",
       "  </tbody>\n",
       "</table>\n",
       "</div>"
      ],
      "text/plain": [
       "                   count          mean           std           min  \\\n",
       "Open               240.0  1.706008e+04  7.621198e+02  1.527265e+04   \n",
       "High               240.0  1.714822e+04  7.551928e+02  1.540040e+04   \n",
       "Low                240.0  1.693901e+04  7.545604e+02  1.518340e+04   \n",
       "Close              240.0  1.704648e+04  7.561988e+02  1.529350e+04   \n",
       "Shares Traded      240.0  3.016702e+08  8.348404e+07  4.852086e+07   \n",
       "Turnover (Rs. Cr)  240.0  2.431301e+04  5.967099e+03  3.637060e+03   \n",
       "day_range          240.0  2.092127e+02  9.997091e+01  4.695000e+01   \n",
       "day_range_pct      240.0  1.227594e+00  5.898898e-01  2.617779e-01   \n",
       "oc_range           240.0  1.072250e+02  9.096451e+01  1.500000e-01   \n",
       "oc_range_pct       240.0  6.278478e-01  5.360646e-01  8.555833e-04   \n",
       "\n",
       "                            25%           50%           75%           max  \n",
       "Open               1.647361e+04  1.719797e+04  1.762881e+04  1.860235e+04  \n",
       "High               1.653627e+04  1.730780e+04  1.774434e+04  1.860445e+04  \n",
       "Low                1.635400e+04  1.706435e+04  1.751436e+04  1.844530e+04  \n",
       "Close              1.647120e+04  1.719875e+04  1.762004e+04  1.847705e+04  \n",
       "Shares Traded      2.463861e+08  2.832574e+08  3.369160e+08  6.516136e+08  \n",
       "Turnover (Rs. Cr)  2.063689e+04  2.337160e+04  2.716411e+04  5.292935e+04  \n",
       "day_range          1.390750e+02  1.889750e+02  2.611125e+02  6.015500e+02  \n",
       "day_range_pct      8.040933e-01  1.117894e+00  1.506607e+00  3.422730e+00  \n",
       "oc_range           4.061250e+01  8.205000e+01  1.470000e+02  4.716500e+02  \n",
       "oc_range_pct       2.356540e-01  4.744485e-01  8.755500e-01  2.979046e+00  "
      ]
     },
     "execution_count": 12,
     "metadata": {},
     "output_type": "execute_result"
    }
   ],
   "source": [
    "data.describe().T"
   ]
  },
  {
   "cell_type": "markdown",
   "metadata": {},
   "source": [
    "## Data in 2022"
   ]
  },
  {
   "cell_type": "code",
   "execution_count": 13,
   "metadata": {},
   "outputs": [
    {
     "data": {
      "text/html": [
       "<div>\n",
       "<style scoped>\n",
       "    .dataframe tbody tr th:only-of-type {\n",
       "        vertical-align: middle;\n",
       "    }\n",
       "\n",
       "    .dataframe tbody tr th {\n",
       "        vertical-align: top;\n",
       "    }\n",
       "\n",
       "    .dataframe thead th {\n",
       "        text-align: right;\n",
       "    }\n",
       "</style>\n",
       "<table border=\"1\" class=\"dataframe\">\n",
       "  <thead>\n",
       "    <tr style=\"text-align: right;\">\n",
       "      <th></th>\n",
       "      <th>Date</th>\n",
       "      <th>Open</th>\n",
       "      <th>High</th>\n",
       "      <th>Low</th>\n",
       "      <th>Close</th>\n",
       "      <th>Shares Traded</th>\n",
       "      <th>Turnover (Rs. Cr)</th>\n",
       "      <th>day_range</th>\n",
       "      <th>day_range_pct</th>\n",
       "      <th>oc_range</th>\n",
       "      <th>oc_range_pct</th>\n",
       "    </tr>\n",
       "  </thead>\n",
       "  <tbody>\n",
       "    <tr>\n",
       "      <th>126</th>\n",
       "      <td>2022-01-03</td>\n",
       "      <td>17387.15</td>\n",
       "      <td>17646.65</td>\n",
       "      <td>17383.30</td>\n",
       "      <td>17625.70</td>\n",
       "      <td>200456430</td>\n",
       "      <td>16181.36</td>\n",
       "      <td>263.35</td>\n",
       "      <td>1.514624</td>\n",
       "      <td>238.55</td>\n",
       "      <td>1.371990</td>\n",
       "    </tr>\n",
       "    <tr>\n",
       "      <th>127</th>\n",
       "      <td>2022-01-04</td>\n",
       "      <td>17681.40</td>\n",
       "      <td>17827.60</td>\n",
       "      <td>17593.55</td>\n",
       "      <td>17805.25</td>\n",
       "      <td>247437472</td>\n",
       "      <td>18604.16</td>\n",
       "      <td>234.05</td>\n",
       "      <td>1.323707</td>\n",
       "      <td>123.85</td>\n",
       "      <td>0.700454</td>\n",
       "    </tr>\n",
       "    <tr>\n",
       "      <th>128</th>\n",
       "      <td>2022-01-05</td>\n",
       "      <td>17820.10</td>\n",
       "      <td>17944.70</td>\n",
       "      <td>17748.85</td>\n",
       "      <td>17925.25</td>\n",
       "      <td>251460038</td>\n",
       "      <td>23737.31</td>\n",
       "      <td>195.85</td>\n",
       "      <td>1.099040</td>\n",
       "      <td>105.15</td>\n",
       "      <td>0.590064</td>\n",
       "    </tr>\n",
       "    <tr>\n",
       "      <th>129</th>\n",
       "      <td>2022-01-06</td>\n",
       "      <td>17768.50</td>\n",
       "      <td>17797.95</td>\n",
       "      <td>17655.55</td>\n",
       "      <td>17745.90</td>\n",
       "      <td>236454824</td>\n",
       "      <td>22643.82</td>\n",
       "      <td>142.40</td>\n",
       "      <td>0.801418</td>\n",
       "      <td>22.60</td>\n",
       "      <td>0.127191</td>\n",
       "    </tr>\n",
       "    <tr>\n",
       "      <th>130</th>\n",
       "      <td>2022-01-07</td>\n",
       "      <td>17797.60</td>\n",
       "      <td>17905.00</td>\n",
       "      <td>17704.55</td>\n",
       "      <td>17812.70</td>\n",
       "      <td>239338015</td>\n",
       "      <td>21447.89</td>\n",
       "      <td>200.45</td>\n",
       "      <td>1.126275</td>\n",
       "      <td>15.10</td>\n",
       "      <td>0.084843</td>\n",
       "    </tr>\n",
       "    <tr>\n",
       "      <th>...</th>\n",
       "      <td>...</td>\n",
       "      <td>...</td>\n",
       "      <td>...</td>\n",
       "      <td>...</td>\n",
       "      <td>...</td>\n",
       "      <td>...</td>\n",
       "      <td>...</td>\n",
       "      <td>...</td>\n",
       "      <td>...</td>\n",
       "      <td>...</td>\n",
       "      <td>...</td>\n",
       "    </tr>\n",
       "    <tr>\n",
       "      <th>235</th>\n",
       "      <td>2022-06-13</td>\n",
       "      <td>15877.55</td>\n",
       "      <td>15886.15</td>\n",
       "      <td>15684.00</td>\n",
       "      <td>15774.40</td>\n",
       "      <td>225534385</td>\n",
       "      <td>20002.64</td>\n",
       "      <td>202.15</td>\n",
       "      <td>1.273181</td>\n",
       "      <td>103.15</td>\n",
       "      <td>0.649659</td>\n",
       "    </tr>\n",
       "    <tr>\n",
       "      <th>236</th>\n",
       "      <td>2022-06-14</td>\n",
       "      <td>15674.25</td>\n",
       "      <td>15858.00</td>\n",
       "      <td>15659.45</td>\n",
       "      <td>15732.10</td>\n",
       "      <td>225425862</td>\n",
       "      <td>19825.41</td>\n",
       "      <td>198.55</td>\n",
       "      <td>1.266727</td>\n",
       "      <td>57.85</td>\n",
       "      <td>0.369077</td>\n",
       "    </tr>\n",
       "    <tr>\n",
       "      <th>237</th>\n",
       "      <td>2022-06-15</td>\n",
       "      <td>15729.25</td>\n",
       "      <td>15783.65</td>\n",
       "      <td>15678.90</td>\n",
       "      <td>15692.15</td>\n",
       "      <td>183011236</td>\n",
       "      <td>16063.24</td>\n",
       "      <td>104.75</td>\n",
       "      <td>0.665957</td>\n",
       "      <td>37.10</td>\n",
       "      <td>0.235866</td>\n",
       "    </tr>\n",
       "    <tr>\n",
       "      <th>238</th>\n",
       "      <td>2022-06-16</td>\n",
       "      <td>15832.25</td>\n",
       "      <td>15863.15</td>\n",
       "      <td>15335.10</td>\n",
       "      <td>15360.60</td>\n",
       "      <td>264735957</td>\n",
       "      <td>21383.06</td>\n",
       "      <td>528.05</td>\n",
       "      <td>3.335281</td>\n",
       "      <td>471.65</td>\n",
       "      <td>2.979046</td>\n",
       "    </tr>\n",
       "    <tr>\n",
       "      <th>239</th>\n",
       "      <td>2022-06-17</td>\n",
       "      <td>15272.65</td>\n",
       "      <td>15400.40</td>\n",
       "      <td>15183.40</td>\n",
       "      <td>15293.50</td>\n",
       "      <td>342629997</td>\n",
       "      <td>29074.00</td>\n",
       "      <td>217.00</td>\n",
       "      <td>1.420841</td>\n",
       "      <td>20.85</td>\n",
       "      <td>0.136519</td>\n",
       "    </tr>\n",
       "  </tbody>\n",
       "</table>\n",
       "<p>114 rows × 11 columns</p>\n",
       "</div>"
      ],
      "text/plain": [
       "           Date      Open      High       Low     Close  Shares Traded  \\\n",
       "126  2022-01-03  17387.15  17646.65  17383.30  17625.70      200456430   \n",
       "127  2022-01-04  17681.40  17827.60  17593.55  17805.25      247437472   \n",
       "128  2022-01-05  17820.10  17944.70  17748.85  17925.25      251460038   \n",
       "129  2022-01-06  17768.50  17797.95  17655.55  17745.90      236454824   \n",
       "130  2022-01-07  17797.60  17905.00  17704.55  17812.70      239338015   \n",
       "..          ...       ...       ...       ...       ...            ...   \n",
       "235  2022-06-13  15877.55  15886.15  15684.00  15774.40      225534385   \n",
       "236  2022-06-14  15674.25  15858.00  15659.45  15732.10      225425862   \n",
       "237  2022-06-15  15729.25  15783.65  15678.90  15692.15      183011236   \n",
       "238  2022-06-16  15832.25  15863.15  15335.10  15360.60      264735957   \n",
       "239  2022-06-17  15272.65  15400.40  15183.40  15293.50      342629997   \n",
       "\n",
       "     Turnover (Rs. Cr)  day_range  day_range_pct  oc_range  oc_range_pct  \n",
       "126           16181.36     263.35       1.514624    238.55      1.371990  \n",
       "127           18604.16     234.05       1.323707    123.85      0.700454  \n",
       "128           23737.31     195.85       1.099040    105.15      0.590064  \n",
       "129           22643.82     142.40       0.801418     22.60      0.127191  \n",
       "130           21447.89     200.45       1.126275     15.10      0.084843  \n",
       "..                 ...        ...            ...       ...           ...  \n",
       "235           20002.64     202.15       1.273181    103.15      0.649659  \n",
       "236           19825.41     198.55       1.266727     57.85      0.369077  \n",
       "237           16063.24     104.75       0.665957     37.10      0.235866  \n",
       "238           21383.06     528.05       3.335281    471.65      2.979046  \n",
       "239           29074.00     217.00       1.420841     20.85      0.136519  \n",
       "\n",
       "[114 rows x 11 columns]"
      ]
     },
     "execution_count": 13,
     "metadata": {},
     "output_type": "execute_result"
    }
   ],
   "source": [
    "mask = data['Date'] > '2022-01-01'\n",
    "data_22 = data.loc[mask]\n",
    "data_22"
   ]
  },
  {
   "cell_type": "code",
   "execution_count": 14,
   "metadata": {},
   "outputs": [
    {
     "data": {
      "text/html": [
       "<div>\n",
       "<style scoped>\n",
       "    .dataframe tbody tr th:only-of-type {\n",
       "        vertical-align: middle;\n",
       "    }\n",
       "\n",
       "    .dataframe tbody tr th {\n",
       "        vertical-align: top;\n",
       "    }\n",
       "\n",
       "    .dataframe thead th {\n",
       "        text-align: right;\n",
       "    }\n",
       "</style>\n",
       "<table border=\"1\" class=\"dataframe\">\n",
       "  <thead>\n",
       "    <tr style=\"text-align: right;\">\n",
       "      <th></th>\n",
       "      <th>count</th>\n",
       "      <th>mean</th>\n",
       "      <th>std</th>\n",
       "      <th>min</th>\n",
       "      <th>25%</th>\n",
       "      <th>50%</th>\n",
       "      <th>75%</th>\n",
       "      <th>max</th>\n",
       "    </tr>\n",
       "  </thead>\n",
       "  <tbody>\n",
       "    <tr>\n",
       "      <th>Open</th>\n",
       "      <td>114.0</td>\n",
       "      <td>1.699648e+04</td>\n",
       "      <td>6.908396e+02</td>\n",
       "      <td>1.527265e+04</td>\n",
       "      <td>1.647661e+04</td>\n",
       "      <td>1.710850e+04</td>\n",
       "      <td>1.750644e+04</td>\n",
       "      <td>1.833720e+04</td>\n",
       "    </tr>\n",
       "    <tr>\n",
       "      <th>High</th>\n",
       "      <td>114.0</td>\n",
       "      <td>1.710202e+04</td>\n",
       "      <td>6.737226e+02</td>\n",
       "      <td>1.540040e+04</td>\n",
       "      <td>1.653846e+04</td>\n",
       "      <td>1.723642e+04</td>\n",
       "      <td>1.759838e+04</td>\n",
       "      <td>1.835095e+04</td>\n",
       "    </tr>\n",
       "    <tr>\n",
       "      <th>Low</th>\n",
       "      <td>114.0</td>\n",
       "      <td>1.686046e+04</td>\n",
       "      <td>7.002052e+02</td>\n",
       "      <td>1.518340e+04</td>\n",
       "      <td>1.634245e+04</td>\n",
       "      <td>1.698840e+04</td>\n",
       "      <td>1.738622e+04</td>\n",
       "      <td>1.822875e+04</td>\n",
       "    </tr>\n",
       "    <tr>\n",
       "      <th>Close</th>\n",
       "      <td>114.0</td>\n",
       "      <td>1.698560e+04</td>\n",
       "      <td>6.983851e+02</td>\n",
       "      <td>1.529350e+04</td>\n",
       "      <td>1.643179e+04</td>\n",
       "      <td>1.711388e+04</td>\n",
       "      <td>1.749260e+04</td>\n",
       "      <td>1.830810e+04</td>\n",
       "    </tr>\n",
       "    <tr>\n",
       "      <th>Shares Traded</th>\n",
       "      <td>114.0</td>\n",
       "      <td>2.990786e+08</td>\n",
       "      <td>8.397300e+07</td>\n",
       "      <td>1.830112e+08</td>\n",
       "      <td>2.451752e+08</td>\n",
       "      <td>2.771540e+08</td>\n",
       "      <td>3.199757e+08</td>\n",
       "      <td>6.516136e+08</td>\n",
       "    </tr>\n",
       "    <tr>\n",
       "      <th>Turnover (Rs. Cr)</th>\n",
       "      <td>114.0</td>\n",
       "      <td>2.483947e+04</td>\n",
       "      <td>5.955697e+03</td>\n",
       "      <td>1.606324e+04</td>\n",
       "      <td>2.105048e+04</td>\n",
       "      <td>2.378067e+04</td>\n",
       "      <td>2.706993e+04</td>\n",
       "      <td>5.292935e+04</td>\n",
       "    </tr>\n",
       "    <tr>\n",
       "      <th>day_range</th>\n",
       "      <td>114.0</td>\n",
       "      <td>2.415596e+02</td>\n",
       "      <td>1.035146e+02</td>\n",
       "      <td>9.280000e+01</td>\n",
       "      <td>1.661750e+02</td>\n",
       "      <td>2.176750e+02</td>\n",
       "      <td>2.928500e+02</td>\n",
       "      <td>6.015500e+02</td>\n",
       "    </tr>\n",
       "    <tr>\n",
       "      <th>day_range_pct</th>\n",
       "      <td>114.0</td>\n",
       "      <td>1.429047e+00</td>\n",
       "      <td>6.254768e-01</td>\n",
       "      <td>5.088933e-01</td>\n",
       "      <td>9.621791e-01</td>\n",
       "      <td>1.320096e+00</td>\n",
       "      <td>1.716168e+00</td>\n",
       "      <td>3.422730e+00</td>\n",
       "    </tr>\n",
       "    <tr>\n",
       "      <th>oc_range</th>\n",
       "      <td>114.0</td>\n",
       "      <td>1.264452e+02</td>\n",
       "      <td>1.016266e+02</td>\n",
       "      <td>8.000000e-01</td>\n",
       "      <td>5.447500e+01</td>\n",
       "      <td>9.390000e+01</td>\n",
       "      <td>1.938375e+02</td>\n",
       "      <td>4.716500e+02</td>\n",
       "    </tr>\n",
       "    <tr>\n",
       "      <th>oc_range_pct</th>\n",
       "      <td>114.0</td>\n",
       "      <td>7.477255e-01</td>\n",
       "      <td>6.089100e-01</td>\n",
       "      <td>4.381881e-03</td>\n",
       "      <td>3.136670e-01</td>\n",
       "      <td>5.576697e-01</td>\n",
       "      <td>1.119200e+00</td>\n",
       "      <td>2.979046e+00</td>\n",
       "    </tr>\n",
       "  </tbody>\n",
       "</table>\n",
       "</div>"
      ],
      "text/plain": [
       "                   count          mean           std           min  \\\n",
       "Open               114.0  1.699648e+04  6.908396e+02  1.527265e+04   \n",
       "High               114.0  1.710202e+04  6.737226e+02  1.540040e+04   \n",
       "Low                114.0  1.686046e+04  7.002052e+02  1.518340e+04   \n",
       "Close              114.0  1.698560e+04  6.983851e+02  1.529350e+04   \n",
       "Shares Traded      114.0  2.990786e+08  8.397300e+07  1.830112e+08   \n",
       "Turnover (Rs. Cr)  114.0  2.483947e+04  5.955697e+03  1.606324e+04   \n",
       "day_range          114.0  2.415596e+02  1.035146e+02  9.280000e+01   \n",
       "day_range_pct      114.0  1.429047e+00  6.254768e-01  5.088933e-01   \n",
       "oc_range           114.0  1.264452e+02  1.016266e+02  8.000000e-01   \n",
       "oc_range_pct       114.0  7.477255e-01  6.089100e-01  4.381881e-03   \n",
       "\n",
       "                            25%           50%           75%           max  \n",
       "Open               1.647661e+04  1.710850e+04  1.750644e+04  1.833720e+04  \n",
       "High               1.653846e+04  1.723642e+04  1.759838e+04  1.835095e+04  \n",
       "Low                1.634245e+04  1.698840e+04  1.738622e+04  1.822875e+04  \n",
       "Close              1.643179e+04  1.711388e+04  1.749260e+04  1.830810e+04  \n",
       "Shares Traded      2.451752e+08  2.771540e+08  3.199757e+08  6.516136e+08  \n",
       "Turnover (Rs. Cr)  2.105048e+04  2.378067e+04  2.706993e+04  5.292935e+04  \n",
       "day_range          1.661750e+02  2.176750e+02  2.928500e+02  6.015500e+02  \n",
       "day_range_pct      9.621791e-01  1.320096e+00  1.716168e+00  3.422730e+00  \n",
       "oc_range           5.447500e+01  9.390000e+01  1.938375e+02  4.716500e+02  \n",
       "oc_range_pct       3.136670e-01  5.576697e-01  1.119200e+00  2.979046e+00  "
      ]
     },
     "execution_count": 14,
     "metadata": {},
     "output_type": "execute_result"
    }
   ],
   "source": [
    "data_22.describe().T"
   ]
  },
  {
   "cell_type": "markdown",
   "metadata": {},
   "source": [
    "### High-low range"
   ]
  },
  {
   "cell_type": "code",
   "execution_count": 15,
   "metadata": {},
   "outputs": [
    {
     "data": {
      "text/plain": [
       "<AxesSubplot:xlabel='Date', ylabel='day_range'>"
      ]
     },
     "execution_count": 15,
     "metadata": {},
     "output_type": "execute_result"
    },
    {
     "data": {
      "image/png": "[encoded data removed]",
      "text/plain": [
       "<Figure size 432x288 with 1 Axes>"
      ]
     },
     "metadata": {
      "needs_background": "light"
     },
     "output_type": "display_data"
    }
   ],
   "source": [
    "x = data_22['Date']\n",
    "y = data_22['day_range']\n",
    "sns.lineplot(x=x, y=y)"
   ]
  },
  {
   "cell_type": "code",
   "execution_count": 16,
   "metadata": {},
   "outputs": [
    {
     "data": {
      "text/plain": [
       "<AxesSubplot:xlabel='day_range', ylabel='Count'>"
      ]
     },
     "execution_count": 16,
     "metadata": {},
     "output_type": "execute_result"
    },
    {
     "data": {
      "image/png": "[encoded data removed]",
      "text/plain": [
       "<Figure size 432x288 with 1 Axes>"
      ]
     },
     "metadata": {
      "needs_background": "light"
     },
     "output_type": "display_data"
    }
   ],
   "source": [
    "sns.histplot(data_22['day_range'], kde=True)"
   ]
  },
  {
   "cell_type": "markdown",
   "metadata": {},
   "source": [
    "### Open-close range  "
   ]
  },
  {
   "cell_type": "code",
   "execution_count": 17,
   "metadata": {},
   "outputs": [
    {
     "data": {
      "text/plain": [
       "<AxesSubplot:xlabel='Date', ylabel='oc_range'>"
      ]
     },
     "execution_count": 17,
     "metadata": {},
     "output_type": "execute_result"
    },
    {
     "data": {
      "image/png": "[encoded data removed]",
      "text/plain": [
       "<Figure size 432x288 with 1 Axes>"
      ]
     },
     "metadata": {
      "needs_background": "light"
     },
     "output_type": "display_data"
    }
   ],
   "source": [
    "x = data_22['Date']\n",
    "y = data_22['oc_range']\n",
    "sns.lineplot(x=x, y=y)"
   ]
  },
  {
   "cell_type": "code",
   "execution_count": 18,
   "metadata": {},
   "outputs": [
    {
     "data": {
      "text/plain": [
       "<AxesSubplot:xlabel='oc_range', ylabel='Count'>"
      ]
     },
     "execution_count": 18,
     "metadata": {},
     "output_type": "execute_result"
    },
    {
     "data": {
      "image/png": "[encoded data removed]",
      "text/plain": [
       "<Figure size 432x288 with 1 Axes>"
      ]
     },
     "metadata": {
      "needs_background": "light"
     },
     "output_type": "display_data"
    }
   ],
   "source": [
    "sns.histplot(data_22['oc_range'], kde=True)"
   ]
  },
  {
   "cell_type": "code",
   "execution_count": 19,
   "metadata": {},
   "outputs": [
    {
     "data": {
      "text/plain": [
       "<AxesSubplot:xlabel='oc_range', ylabel='day_range'>"
      ]
     },
     "execution_count": 19,
     "metadata": {},
     "output_type": "execute_result"
    },
    {
     "data": {
      "image/png": "[encoded data removed]",
      "text/plain": [
       "<Figure size 432x288 with 1 Axes>"
      ]
     },
     "metadata": {
      "needs_background": "light"
     },
     "output_type": "display_data"
    }
   ],
   "source": [
    "x = data_22['oc_range']\n",
    "y = data_22['day_range']\n",
    "sns.scatterplot(x=x, y=y)"
   ]
  },
  {
   "cell_type": "code",
   "execution_count": 20,
   "metadata": {},
   "outputs": [
    {
     "data": {
      "text/html": [
       "<div>\n",
       "<style scoped>\n",
       "    .dataframe tbody tr th:only-of-type {\n",
       "        vertical-align: middle;\n",
       "    }\n",
       "\n",
       "    .dataframe tbody tr th {\n",
       "        vertical-align: top;\n",
       "    }\n",
       "\n",
       "    .dataframe thead th {\n",
       "        text-align: right;\n",
       "    }\n",
       "</style>\n",
       "<table border=\"1\" class=\"dataframe\">\n",
       "  <thead>\n",
       "    <tr style=\"text-align: right;\">\n",
       "      <th></th>\n",
       "      <th>Open</th>\n",
       "      <th>High</th>\n",
       "      <th>Low</th>\n",
       "      <th>Close</th>\n",
       "      <th>Shares Traded</th>\n",
       "      <th>Turnover (Rs. Cr)</th>\n",
       "      <th>day_range</th>\n",
       "      <th>day_range_pct</th>\n",
       "      <th>oc_range</th>\n",
       "      <th>oc_range_pct</th>\n",
       "    </tr>\n",
       "  </thead>\n",
       "  <tbody>\n",
       "    <tr>\n",
       "      <th>Open</th>\n",
       "      <td>1.000000</td>\n",
       "      <td>0.991608</td>\n",
       "      <td>0.987571</td>\n",
       "      <td>0.972764</td>\n",
       "      <td>-0.219100</td>\n",
       "      <td>-0.097015</td>\n",
       "      <td>-0.226377</td>\n",
       "      <td>-0.310039</td>\n",
       "      <td>-0.108350</td>\n",
       "      <td>-0.153923</td>\n",
       "    </tr>\n",
       "    <tr>\n",
       "      <th>High</th>\n",
       "      <td>0.991608</td>\n",
       "      <td>1.000000</td>\n",
       "      <td>0.989386</td>\n",
       "      <td>0.988919</td>\n",
       "      <td>-0.202486</td>\n",
       "      <td>-0.076863</td>\n",
       "      <td>-0.184040</td>\n",
       "      <td>-0.267304</td>\n",
       "      <td>-0.064255</td>\n",
       "      <td>-0.109245</td>\n",
       "    </tr>\n",
       "    <tr>\n",
       "      <th>Low</th>\n",
       "      <td>0.987571</td>\n",
       "      <td>0.989386</td>\n",
       "      <td>1.000000</td>\n",
       "      <td>0.989905</td>\n",
       "      <td>-0.242342</td>\n",
       "      <td>-0.126742</td>\n",
       "      <td>-0.324914</td>\n",
       "      <td>-0.404355</td>\n",
       "      <td>-0.182560</td>\n",
       "      <td>-0.226104</td>\n",
       "    </tr>\n",
       "    <tr>\n",
       "      <th>Close</th>\n",
       "      <td>0.972764</td>\n",
       "      <td>0.988919</td>\n",
       "      <td>0.989905</td>\n",
       "      <td>1.000000</td>\n",
       "      <td>-0.211322</td>\n",
       "      <td>-0.093098</td>\n",
       "      <td>-0.259668</td>\n",
       "      <td>-0.338982</td>\n",
       "      <td>-0.135396</td>\n",
       "      <td>-0.178017</td>\n",
       "    </tr>\n",
       "    <tr>\n",
       "      <th>Shares Traded</th>\n",
       "      <td>-0.219100</td>\n",
       "      <td>-0.202486</td>\n",
       "      <td>-0.242342</td>\n",
       "      <td>-0.211322</td>\n",
       "      <td>1.000000</td>\n",
       "      <td>0.925266</td>\n",
       "      <td>0.321395</td>\n",
       "      <td>0.337520</td>\n",
       "      <td>0.103173</td>\n",
       "      <td>0.113233</td>\n",
       "    </tr>\n",
       "    <tr>\n",
       "      <th>Turnover (Rs. Cr)</th>\n",
       "      <td>-0.097015</td>\n",
       "      <td>-0.076863</td>\n",
       "      <td>-0.126742</td>\n",
       "      <td>-0.093098</td>\n",
       "      <td>0.925266</td>\n",
       "      <td>1.000000</td>\n",
       "      <td>0.357061</td>\n",
       "      <td>0.359624</td>\n",
       "      <td>0.127537</td>\n",
       "      <td>0.129830</td>\n",
       "    </tr>\n",
       "    <tr>\n",
       "      <th>day_range</th>\n",
       "      <td>-0.226377</td>\n",
       "      <td>-0.184040</td>\n",
       "      <td>-0.324914</td>\n",
       "      <td>-0.259668</td>\n",
       "      <td>0.321395</td>\n",
       "      <td>0.357061</td>\n",
       "      <td>1.000000</td>\n",
       "      <td>0.995438</td>\n",
       "      <td>0.816695</td>\n",
       "      <td>0.818421</td>\n",
       "    </tr>\n",
       "    <tr>\n",
       "      <th>day_range_pct</th>\n",
       "      <td>-0.310039</td>\n",
       "      <td>-0.267304</td>\n",
       "      <td>-0.404355</td>\n",
       "      <td>-0.338982</td>\n",
       "      <td>0.337520</td>\n",
       "      <td>0.359624</td>\n",
       "      <td>0.995438</td>\n",
       "      <td>1.000000</td>\n",
       "      <td>0.810344</td>\n",
       "      <td>0.817398</td>\n",
       "    </tr>\n",
       "    <tr>\n",
       "      <th>oc_range</th>\n",
       "      <td>-0.108350</td>\n",
       "      <td>-0.064255</td>\n",
       "      <td>-0.182560</td>\n",
       "      <td>-0.135396</td>\n",
       "      <td>0.103173</td>\n",
       "      <td>0.127537</td>\n",
       "      <td>0.816695</td>\n",
       "      <td>0.810344</td>\n",
       "      <td>1.000000</td>\n",
       "      <td>0.998063</td>\n",
       "    </tr>\n",
       "    <tr>\n",
       "      <th>oc_range_pct</th>\n",
       "      <td>-0.153923</td>\n",
       "      <td>-0.109245</td>\n",
       "      <td>-0.226104</td>\n",
       "      <td>-0.178017</td>\n",
       "      <td>0.113233</td>\n",
       "      <td>0.129830</td>\n",
       "      <td>0.818421</td>\n",
       "      <td>0.817398</td>\n",
       "      <td>0.998063</td>\n",
       "      <td>1.000000</td>\n",
       "    </tr>\n",
       "  </tbody>\n",
       "</table>\n",
       "</div>"
      ],
      "text/plain": [
       "                       Open      High       Low     Close  Shares Traded  \\\n",
       "Open               1.000000  0.991608  0.987571  0.972764      -0.219100   \n",
       "High               0.991608  1.000000  0.989386  0.988919      -0.202486   \n",
       "Low                0.987571  0.989386  1.000000  0.989905      -0.242342   \n",
       "Close              0.972764  0.988919  0.989905  1.000000      -0.211322   \n",
       "Shares Traded     -0.219100 -0.202486 -0.242342 -0.211322       1.000000   \n",
       "Turnover (Rs. Cr) -0.097015 -0.076863 -0.126742 -0.093098       0.925266   \n",
       "day_range         -0.226377 -0.184040 -0.324914 -0.259668       0.321395   \n",
       "day_range_pct     -0.310039 -0.267304 -0.404355 -0.338982       0.337520   \n",
       "oc_range          -0.108350 -0.064255 -0.182560 -0.135396       0.103173   \n",
       "oc_range_pct      -0.153923 -0.109245 -0.226104 -0.178017       0.113233   \n",
       "\n",
       "                   Turnover (Rs. Cr)  day_range  day_range_pct  oc_range  \\\n",
       "Open                       -0.097015  -0.226377      -0.310039 -0.108350   \n",
       "High                       -0.076863  -0.184040      -0.267304 -0.064255   \n",
       "Low                        -0.126742  -0.324914      -0.404355 -0.182560   \n",
       "Close                      -0.093098  -0.259668      -0.338982 -0.135396   \n",
       "Shares Traded               0.925266   0.321395       0.337520  0.103173   \n",
       "Turnover (Rs. Cr)           1.000000   0.357061       0.359624  0.127537   \n",
       "day_range                   0.357061   1.000000       0.995438  0.816695   \n",
       "day_range_pct               0.359624   0.995438       1.000000  0.810344   \n",
       "oc_range                    0.127537   0.816695       0.810344  1.000000   \n",
       "oc_range_pct                0.129830   0.818421       0.817398  0.998063   \n",
       "\n",
       "                   oc_range_pct  \n",
       "Open                  -0.153923  \n",
       "High                  -0.109245  \n",
       "Low                   -0.226104  \n",
       "Close                 -0.178017  \n",
       "Shares Traded          0.113233  \n",
       "Turnover (Rs. Cr)      0.129830  \n",
       "day_range              0.818421  \n",
       "day_range_pct          0.817398  \n",
       "oc_range               0.998063  \n",
       "oc_range_pct           1.000000  "
      ]
     },
     "execution_count": 20,
     "metadata": {},
     "output_type": "execute_result"
    }
   ],
   "source": [
    "data_22.corr()"
   ]
  },
  {
   "cell_type": "markdown",
   "metadata": {},
   "source": [
    "### Returns  "
   ]
  },
  {
   "cell_type": "code",
   "execution_count": 21,
   "metadata": {},
   "outputs": [
    {
     "data": {
      "text/plain": [
       "126         NaN\n",
       "127    0.010187\n",
       "128    0.006740\n",
       "129   -0.010005\n",
       "130    0.003764\n",
       "Name: Close, dtype: float64"
      ]
     },
     "execution_count": 21,
     "metadata": {},
     "output_type": "execute_result"
    }
   ],
   "source": [
    "daily_return = data_22['Close'].pct_change(1)\n",
    "daily_return.head()"
   ]
  },
  {
   "cell_type": "code",
   "execution_count": 22,
   "metadata": {},
   "outputs": [
    {
     "data": {
      "text/plain": [
       "<AxesSubplot:>"
      ]
     },
     "execution_count": 22,
     "metadata": {},
     "output_type": "execute_result"
    },
    {
     "data": {
      "image/png": "[encoded data removed]",
      "text/plain": [
       "<Figure size 432x288 with 1 Axes>"
      ]
     },
     "metadata": {
      "needs_background": "light"
     },
     "output_type": "display_data"
    }
   ],
   "source": [
    "daily_return.plot.line()"
   ]
  },
  {
   "cell_type": "code",
   "execution_count": 23,
   "metadata": {},
   "outputs": [
    {
     "data": {
      "text/plain": [
       "<AxesSubplot:xlabel='Close', ylabel='Count'>"
      ]
     },
     "execution_count": 23,
     "metadata": {},
     "output_type": "execute_result"
    },
    {
     "data": {
      "image/png": "[encoded data removed]",
      "text/plain": [
       "<Figure size 432x288 with 1 Axes>"
      ]
     },
     "metadata": {
      "needs_background": "light"
     },
     "output_type": "display_data"
    }
   ],
   "source": [
    "sns.histplot(daily_return, kde=True)"
   ]
  },
  {
   "cell_type": "code",
   "execution_count": 24,
   "metadata": {},
   "outputs": [
    {
     "data": {
      "text/plain": [
       "count    113.000000\n",
       "mean      -0.001168\n",
       "std        0.013213\n",
       "min       -0.047781\n",
       "25%       -0.009440\n",
       "50%       -0.001956\n",
       "75%        0.008209\n",
       "max        0.030259\n",
       "Name: Close, dtype: float64"
      ]
     },
     "execution_count": 24,
     "metadata": {},
     "output_type": "execute_result"
    }
   ],
   "source": [
    "daily_return.describe()"
   ]
  },
  {
   "cell_type": "code",
   "execution_count": 25,
   "metadata": {},
   "outputs": [
    {
     "data": {
      "text/plain": [
       "45"
      ]
     },
     "execution_count": 25,
     "metadata": {},
     "output_type": "execute_result"
    }
   ],
   "source": [
    "daily_return[daily_return > 0].count()"
   ]
  },
  {
   "cell_type": "code",
   "execution_count": 26,
   "metadata": {},
   "outputs": [
    {
     "data": {
      "text/plain": [
       "68"
      ]
     },
     "execution_count": 26,
     "metadata": {},
     "output_type": "execute_result"
    }
   ],
   "source": [
    "daily_return[daily_return < 0].count()"
   ]
  },
  {
   "cell_type": "code",
   "execution_count": 27,
   "metadata": {},
   "outputs": [
    {
     "data": {
      "text/plain": [
       "count    45.000000\n",
       "mean      0.011514\n",
       "std       0.007259\n",
       "min       0.000303\n",
       "25%       0.006740\n",
       "50%       0.010490\n",
       "75%       0.014560\n",
       "max       0.030259\n",
       "Name: Close, dtype: float64"
      ]
     },
     "execution_count": 27,
     "metadata": {},
     "output_type": "execute_result"
    }
   ],
   "source": [
    "daily_return[daily_return > 0].describe()"
   ]
  },
  {
   "cell_type": "code",
   "execution_count": 28,
   "metadata": {},
   "outputs": [
    {
     "data": {
      "text/plain": [
       "count    68.000000\n",
       "mean     -0.009561\n",
       "std       0.008814\n",
       "min      -0.047781\n",
       "25%      -0.012561\n",
       "50%      -0.007271\n",
       "75%      -0.003152\n",
       "max      -0.000112\n",
       "Name: Close, dtype: float64"
      ]
     },
     "execution_count": 28,
     "metadata": {},
     "output_type": "execute_result"
    }
   ],
   "source": [
    "daily_return[daily_return < 0].describe()"
   ]
  },
  {
   "cell_type": "code",
   "execution_count": 29,
   "metadata": {},
   "outputs": [
    {
     "data": {
      "text/plain": [
       "230   -0.000889\n",
       "231   -0.009246\n",
       "232   -0.003661\n",
       "233    0.007450\n",
       "234   -0.016768\n",
       "235   -0.026380\n",
       "236   -0.002682\n",
       "237   -0.002539\n",
       "238   -0.021128\n",
       "239   -0.004368\n",
       "Name: Close, dtype: float64"
      ]
     },
     "execution_count": 29,
     "metadata": {},
     "output_type": "execute_result"
    }
   ],
   "source": [
    "daily_return.tail(10)"
   ]
  },
  {
   "cell_type": "markdown",
   "metadata": {},
   "source": [
    "### Moving averages/Rolling means  "
   ]
  },
  {
   "cell_type": "code",
   "execution_count": 30,
   "metadata": {},
   "outputs": [
    {
     "data": {
      "text/plain": [
       "235    16245.38\n",
       "236    16108.53\n",
       "237    15975.71\n",
       "238    15752.21\n",
       "239    15570.55\n",
       "Name: Close, dtype: float64"
      ]
     },
     "execution_count": 30,
     "metadata": {},
     "output_type": "execute_result"
    }
   ],
   "source": [
    "sma_5 = data_22['Close'].rolling(window=5).mean()\n",
    "sma_5.tail(5)"
   ]
  },
  {
   "cell_type": "code",
   "execution_count": 31,
   "metadata": {},
   "outputs": [
    {
     "data": {
      "text/plain": [
       "<AxesSubplot:>"
      ]
     },
     "execution_count": 31,
     "metadata": {},
     "output_type": "execute_result"
    },
    {
     "data": {
      "image/png": "[encoded data removed]",
      "text/plain": [
       "<Figure size 432x288 with 1 Axes>"
      ]
     },
     "metadata": {
      "needs_background": "light"
     },
     "output_type": "display_data"
    }
   ],
   "source": [
    "sma_5.plot.line()"
   ]
  },
  {
   "cell_type": "code",
   "execution_count": 32,
   "metadata": {},
   "outputs": [
    {
     "data": {
      "text/plain": [
       "235    16411.605\n",
       "236    16326.360\n",
       "237    16243.300\n",
       "238    16116.560\n",
       "239    15987.480\n",
       "Name: Close, dtype: float64"
      ]
     },
     "execution_count": 32,
     "metadata": {},
     "output_type": "execute_result"
    }
   ],
   "source": [
    "sma_10 = data_22['Close'].rolling(window=10).mean()\n",
    "sma_10.tail(5)"
   ]
  },
  {
   "cell_type": "code",
   "execution_count": 33,
   "metadata": {},
   "outputs": [
    {
     "data": {
      "text/plain": [
       "<AxesSubplot:>"
      ]
     },
     "execution_count": 33,
     "metadata": {},
     "output_type": "execute_result"
    },
    {
     "data": {
      "image/png": "[encoded data removed]",
      "text/plain": [
       "<Figure size 432x288 with 1 Axes>"
      ]
     },
     "metadata": {
      "needs_background": "light"
     },
     "output_type": "display_data"
    }
   ],
   "source": [
    "sma_10.plot.line()"
   ]
  },
  {
   "cell_type": "code",
   "execution_count": 34,
   "metadata": {},
   "outputs": [
    {
     "data": {
      "text/plain": [
       "235    16312.0425\n",
       "236    16285.6825\n",
       "237    16258.2750\n",
       "238    16235.8350\n",
       "239    16187.2025\n",
       "Name: Close, dtype: float64"
      ]
     },
     "execution_count": 34,
     "metadata": {},
     "output_type": "execute_result"
    }
   ],
   "source": [
    "sma_20 = data_22['Close'].rolling(window=20).mean()\n",
    "sma_20.tail(5)"
   ]
  },
  {
   "cell_type": "code",
   "execution_count": 35,
   "metadata": {},
   "outputs": [
    {
     "data": {
      "text/plain": [
       "<AxesSubplot:>"
      ]
     },
     "execution_count": 35,
     "metadata": {},
     "output_type": "execute_result"
    },
    {
     "data": {
      "image/png": "[encoded data removed]",
      "text/plain": [
       "<Figure size 432x288 with 1 Axes>"
      ]
     },
     "metadata": {
      "needs_background": "light"
     },
     "output_type": "display_data"
    }
   ],
   "source": [
    "sma_20.plot.line()"
   ]
  },
  {
   "cell_type": "code",
   "execution_count": 36,
   "metadata": {},
   "outputs": [
    {
     "data": {
      "image/png": "[encoded data removed]",
      "text/plain": [
       "<Figure size 432x288 with 1 Axes>"
      ]
     },
     "metadata": {
      "needs_background": "light"
     },
     "output_type": "display_data"
    }
   ],
   "source": [
    "plt.plot(data_22['Close'], label='Close')\n",
    "plt.plot(sma_5, label='SMA 5 days')\n",
    "plt.plot(sma_20, label='SMA 20 days')\n",
    "plt.legend(loc='best')\n",
    "plt.title('Nifty close and moving averages')\n",
    "plt.show()"
   ]
  },
  {
   "cell_type": "code",
   "execution_count": 91,
   "metadata": {},
   "outputs": [],
   "source": [
    "from datetime import timedelta, date\n",
    "def get_days(start, day_index, end=None):\n",
    "    # set the start as the next valid day\n",
    "    start += timedelta(days=(day_index - start.weekday()) % 7)\n",
    "    week = timedelta(days=7)\n",
    "    while end and start < end or not end:\n",
    "        yield start\n",
    "        start += week"
   ]
  },
  {
   "cell_type": "code",
   "execution_count": 92,
   "metadata": {},
   "outputs": [
    {
     "name": "stdout",
     "output_type": "stream",
     "text": [
      "['2022-01-06', '2022-01-13', '2022-01-20', '2022-01-27', '2022-02-03', '2022-02-10', '2022-02-17', '2022-02-24', '2022-03-03', '2022-03-10', '2022-03-17', '2022-03-24', '2022-03-31', '2022-04-07', '2022-04-14', '2022-04-21', '2022-04-28', '2022-05-05', '2022-05-12', '2022-05-19', '2022-05-26', '2022-06-02', '2022-06-09', '2022-06-16']\n"
     ]
    },
    {
     "data": {
      "text/plain": [
       "'\\n[datetime.date(2015, 1, 8), datetime.date(2015, 1, 15), datetime.date(2015, 1, 22), ...]\\n'"
      ]
     },
     "execution_count": 92,
     "metadata": {},
     "output_type": "execute_result"
    }
   ],
   "source": [
    "thursday_generator = get_days(date(2022, 1, 1), 3, date(2022, 6, 22))\n",
    "thursdays = list(map(str, thursday_generator))\n",
    "print(thursdays)\n",
    "\"\"\"\n",
    "[datetime.date(2015, 1, 8), datetime.date(2015, 1, 15), datetime.date(2015, 1, 22), ...]\n",
    "\"\"\""
   ]
  },
  {
   "cell_type": "markdown",
   "metadata": {},
   "source": []
  },
  {
   "cell_type": "code",
   "execution_count": 97,
   "metadata": {},
   "outputs": [
    {
     "data": {
      "text/html": [
       "<div>\n",
       "<style scoped>\n",
       "    .dataframe tbody tr th:only-of-type {\n",
       "        vertical-align: middle;\n",
       "    }\n",
       "\n",
       "    .dataframe tbody tr th {\n",
       "        vertical-align: top;\n",
       "    }\n",
       "\n",
       "    .dataframe thead th {\n",
       "        text-align: right;\n",
       "    }\n",
       "</style>\n",
       "<table border=\"1\" class=\"dataframe\">\n",
       "  <thead>\n",
       "    <tr style=\"text-align: right;\">\n",
       "      <th></th>\n",
       "      <th>Date</th>\n",
       "      <th>Open</th>\n",
       "      <th>High</th>\n",
       "      <th>Low</th>\n",
       "      <th>Close</th>\n",
       "      <th>Shares Traded</th>\n",
       "      <th>Turnover (Rs. Cr)</th>\n",
       "      <th>day_range</th>\n",
       "      <th>day_range_pct</th>\n",
       "      <th>oc_range</th>\n",
       "      <th>oc_range_pct</th>\n",
       "    </tr>\n",
       "  </thead>\n",
       "  <tbody>\n",
       "    <tr>\n",
       "      <th>129</th>\n",
       "      <td>2022-01-06</td>\n",
       "      <td>17768.50</td>\n",
       "      <td>17797.95</td>\n",
       "      <td>17655.55</td>\n",
       "      <td>17745.90</td>\n",
       "      <td>236454824</td>\n",
       "      <td>22643.82</td>\n",
       "      <td>142.40</td>\n",
       "      <td>0.801418</td>\n",
       "      <td>22.60</td>\n",
       "      <td>0.127191</td>\n",
       "    </tr>\n",
       "    <tr>\n",
       "      <th>134</th>\n",
       "      <td>2022-01-13</td>\n",
       "      <td>18257.00</td>\n",
       "      <td>18272.25</td>\n",
       "      <td>18163.80</td>\n",
       "      <td>18257.80</td>\n",
       "      <td>303700545</td>\n",
       "      <td>28670.93</td>\n",
       "      <td>108.45</td>\n",
       "      <td>0.594019</td>\n",
       "      <td>0.80</td>\n",
       "      <td>0.004382</td>\n",
       "    </tr>\n",
       "    <tr>\n",
       "      <th>139</th>\n",
       "      <td>2022-01-20</td>\n",
       "      <td>17921.00</td>\n",
       "      <td>17943.70</td>\n",
       "      <td>17648.45</td>\n",
       "      <td>17757.00</td>\n",
       "      <td>258094246</td>\n",
       "      <td>25863.29</td>\n",
       "      <td>295.25</td>\n",
       "      <td>1.647509</td>\n",
       "      <td>164.00</td>\n",
       "      <td>0.915128</td>\n",
       "    </tr>\n",
       "    <tr>\n",
       "      <th>143</th>\n",
       "      <td>2022-01-27</td>\n",
       "      <td>17062.00</td>\n",
       "      <td>17182.50</td>\n",
       "      <td>16866.75</td>\n",
       "      <td>17110.15</td>\n",
       "      <td>395596577</td>\n",
       "      <td>36296.64</td>\n",
       "      <td>315.75</td>\n",
       "      <td>1.850604</td>\n",
       "      <td>48.15</td>\n",
       "      <td>0.282206</td>\n",
       "    </tr>\n",
       "    <tr>\n",
       "      <th>148</th>\n",
       "      <td>2022-02-03</td>\n",
       "      <td>17767.75</td>\n",
       "      <td>17781.15</td>\n",
       "      <td>17511.15</td>\n",
       "      <td>17560.20</td>\n",
       "      <td>226614989</td>\n",
       "      <td>20373.06</td>\n",
       "      <td>270.00</td>\n",
       "      <td>1.519607</td>\n",
       "      <td>207.55</td>\n",
       "      <td>1.168128</td>\n",
       "    </tr>\n",
       "    <tr>\n",
       "      <th>153</th>\n",
       "      <td>2022-02-10</td>\n",
       "      <td>17554.10</td>\n",
       "      <td>17639.45</td>\n",
       "      <td>17427.15</td>\n",
       "      <td>17605.85</td>\n",
       "      <td>273606440</td>\n",
       "      <td>22210.93</td>\n",
       "      <td>212.30</td>\n",
       "      <td>1.209404</td>\n",
       "      <td>51.75</td>\n",
       "      <td>0.294803</td>\n",
       "    </tr>\n",
       "    <tr>\n",
       "      <th>158</th>\n",
       "      <td>2022-02-17</td>\n",
       "      <td>17396.55</td>\n",
       "      <td>17442.90</td>\n",
       "      <td>17235.85</td>\n",
       "      <td>17304.60</td>\n",
       "      <td>232136131</td>\n",
       "      <td>19381.26</td>\n",
       "      <td>207.05</td>\n",
       "      <td>1.190179</td>\n",
       "      <td>91.95</td>\n",
       "      <td>0.528553</td>\n",
       "    </tr>\n",
       "    <tr>\n",
       "      <th>163</th>\n",
       "      <td>2022-02-24</td>\n",
       "      <td>16548.90</td>\n",
       "      <td>16705.25</td>\n",
       "      <td>16203.25</td>\n",
       "      <td>16247.95</td>\n",
       "      <td>457967874</td>\n",
       "      <td>36650.83</td>\n",
       "      <td>502.00</td>\n",
       "      <td>3.033434</td>\n",
       "      <td>300.95</td>\n",
       "      <td>1.818550</td>\n",
       "    </tr>\n",
       "    <tr>\n",
       "      <th>167</th>\n",
       "      <td>2022-03-03</td>\n",
       "      <td>16723.20</td>\n",
       "      <td>16768.95</td>\n",
       "      <td>16442.95</td>\n",
       "      <td>16498.05</td>\n",
       "      <td>442068263</td>\n",
       "      <td>31413.00</td>\n",
       "      <td>326.00</td>\n",
       "      <td>1.949388</td>\n",
       "      <td>225.15</td>\n",
       "      <td>1.346333</td>\n",
       "    </tr>\n",
       "    <tr>\n",
       "      <th>172</th>\n",
       "      <td>2022-03-10</td>\n",
       "      <td>16757.10</td>\n",
       "      <td>16757.30</td>\n",
       "      <td>16447.90</td>\n",
       "      <td>16594.90</td>\n",
       "      <td>486445481</td>\n",
       "      <td>35513.73</td>\n",
       "      <td>309.40</td>\n",
       "      <td>1.846382</td>\n",
       "      <td>162.20</td>\n",
       "      <td>0.967948</td>\n",
       "    </tr>\n",
       "    <tr>\n",
       "      <th>177</th>\n",
       "      <td>2022-03-17</td>\n",
       "      <td>17202.90</td>\n",
       "      <td>17344.60</td>\n",
       "      <td>17175.75</td>\n",
       "      <td>17287.05</td>\n",
       "      <td>448335248</td>\n",
       "      <td>35367.28</td>\n",
       "      <td>168.85</td>\n",
       "      <td>0.981521</td>\n",
       "      <td>84.15</td>\n",
       "      <td>0.489162</td>\n",
       "    </tr>\n",
       "    <tr>\n",
       "      <th>181</th>\n",
       "      <td>2022-03-24</td>\n",
       "      <td>17094.95</td>\n",
       "      <td>17291.75</td>\n",
       "      <td>17091.15</td>\n",
       "      <td>17222.75</td>\n",
       "      <td>290280124</td>\n",
       "      <td>25011.72</td>\n",
       "      <td>200.60</td>\n",
       "      <td>1.173446</td>\n",
       "      <td>127.80</td>\n",
       "      <td>0.747589</td>\n",
       "    </tr>\n",
       "    <tr>\n",
       "      <th>186</th>\n",
       "      <td>2022-03-31</td>\n",
       "      <td>17519.20</td>\n",
       "      <td>17559.80</td>\n",
       "      <td>17435.20</td>\n",
       "      <td>17464.75</td>\n",
       "      <td>281111679</td>\n",
       "      <td>24032.07</td>\n",
       "      <td>124.60</td>\n",
       "      <td>0.711220</td>\n",
       "      <td>54.45</td>\n",
       "      <td>0.310802</td>\n",
       "    </tr>\n",
       "    <tr>\n",
       "      <th>191</th>\n",
       "      <td>2022-04-07</td>\n",
       "      <td>17723.30</td>\n",
       "      <td>17787.50</td>\n",
       "      <td>17623.70</td>\n",
       "      <td>17639.55</td>\n",
       "      <td>308840215</td>\n",
       "      <td>26236.91</td>\n",
       "      <td>163.80</td>\n",
       "      <td>0.924207</td>\n",
       "      <td>83.75</td>\n",
       "      <td>0.472542</td>\n",
       "    </tr>\n",
       "    <tr>\n",
       "      <th>199</th>\n",
       "      <td>2022-04-21</td>\n",
       "      <td>17234.60</td>\n",
       "      <td>17414.70</td>\n",
       "      <td>17215.50</td>\n",
       "      <td>17392.60</td>\n",
       "      <td>285200022</td>\n",
       "      <td>24999.90</td>\n",
       "      <td>199.20</td>\n",
       "      <td>1.155814</td>\n",
       "      <td>158.00</td>\n",
       "      <td>0.916760</td>\n",
       "    </tr>\n",
       "    <tr>\n",
       "      <th>204</th>\n",
       "      <td>2022-04-28</td>\n",
       "      <td>17189.50</td>\n",
       "      <td>17322.50</td>\n",
       "      <td>17071.05</td>\n",
       "      <td>17245.05</td>\n",
       "      <td>312914417</td>\n",
       "      <td>28488.87</td>\n",
       "      <td>251.45</td>\n",
       "      <td>1.462812</td>\n",
       "      <td>55.55</td>\n",
       "      <td>0.323162</td>\n",
       "    </tr>\n",
       "    <tr>\n",
       "      <th>208</th>\n",
       "      <td>2022-05-05</td>\n",
       "      <td>16854.75</td>\n",
       "      <td>16945.70</td>\n",
       "      <td>16651.85</td>\n",
       "      <td>16682.65</td>\n",
       "      <td>265793403</td>\n",
       "      <td>21792.91</td>\n",
       "      <td>293.85</td>\n",
       "      <td>1.743425</td>\n",
       "      <td>172.10</td>\n",
       "      <td>1.021077</td>\n",
       "    </tr>\n",
       "    <tr>\n",
       "      <th>213</th>\n",
       "      <td>2022-05-12</td>\n",
       "      <td>16021.10</td>\n",
       "      <td>16041.95</td>\n",
       "      <td>15735.75</td>\n",
       "      <td>15808.00</td>\n",
       "      <td>314921678</td>\n",
       "      <td>25352.34</td>\n",
       "      <td>306.20</td>\n",
       "      <td>1.911230</td>\n",
       "      <td>213.10</td>\n",
       "      <td>1.330121</td>\n",
       "    </tr>\n",
       "    <tr>\n",
       "      <th>218</th>\n",
       "      <td>2022-05-19</td>\n",
       "      <td>15917.40</td>\n",
       "      <td>15984.75</td>\n",
       "      <td>15775.20</td>\n",
       "      <td>15809.40</td>\n",
       "      <td>313876082</td>\n",
       "      <td>24340.84</td>\n",
       "      <td>209.55</td>\n",
       "      <td>1.316484</td>\n",
       "      <td>108.00</td>\n",
       "      <td>0.678503</td>\n",
       "    </tr>\n",
       "    <tr>\n",
       "      <th>223</th>\n",
       "      <td>2022-05-26</td>\n",
       "      <td>16105.00</td>\n",
       "      <td>16204.45</td>\n",
       "      <td>15903.70</td>\n",
       "      <td>16170.15</td>\n",
       "      <td>314305739</td>\n",
       "      <td>27721.21</td>\n",
       "      <td>300.75</td>\n",
       "      <td>1.867432</td>\n",
       "      <td>65.15</td>\n",
       "      <td>0.404533</td>\n",
       "    </tr>\n",
       "    <tr>\n",
       "      <th>228</th>\n",
       "      <td>2022-06-02</td>\n",
       "      <td>16481.65</td>\n",
       "      <td>16646.40</td>\n",
       "      <td>16443.05</td>\n",
       "      <td>16628.00</td>\n",
       "      <td>235958283</td>\n",
       "      <td>20055.84</td>\n",
       "      <td>203.35</td>\n",
       "      <td>1.233796</td>\n",
       "      <td>146.35</td>\n",
       "      <td>0.887957</td>\n",
       "    </tr>\n",
       "    <tr>\n",
       "      <th>233</th>\n",
       "      <td>2022-06-09</td>\n",
       "      <td>16263.85</td>\n",
       "      <td>16492.80</td>\n",
       "      <td>16243.85</td>\n",
       "      <td>16478.10</td>\n",
       "      <td>204954394</td>\n",
       "      <td>16721.68</td>\n",
       "      <td>248.95</td>\n",
       "      <td>1.530695</td>\n",
       "      <td>214.25</td>\n",
       "      <td>1.317339</td>\n",
       "    </tr>\n",
       "    <tr>\n",
       "      <th>238</th>\n",
       "      <td>2022-06-16</td>\n",
       "      <td>15832.25</td>\n",
       "      <td>15863.15</td>\n",
       "      <td>15335.10</td>\n",
       "      <td>15360.60</td>\n",
       "      <td>264735957</td>\n",
       "      <td>21383.06</td>\n",
       "      <td>528.05</td>\n",
       "      <td>3.335281</td>\n",
       "      <td>471.65</td>\n",
       "      <td>2.979046</td>\n",
       "    </tr>\n",
       "  </tbody>\n",
       "</table>\n",
       "</div>"
      ],
      "text/plain": [
       "           Date      Open      High       Low     Close  Shares Traded  \\\n",
       "129  2022-01-06  17768.50  17797.95  17655.55  17745.90      236454824   \n",
       "134  2022-01-13  18257.00  18272.25  18163.80  18257.80      303700545   \n",
       "139  2022-01-20  17921.00  17943.70  17648.45  17757.00      258094246   \n",
       "143  2022-01-27  17062.00  17182.50  16866.75  17110.15      395596577   \n",
       "148  2022-02-03  17767.75  17781.15  17511.15  17560.20      226614989   \n",
       "153  2022-02-10  17554.10  17639.45  17427.15  17605.85      273606440   \n",
       "158  2022-02-17  17396.55  17442.90  17235.85  17304.60      232136131   \n",
       "163  2022-02-24  16548.90  16705.25  16203.25  16247.95      457967874   \n",
       "167  2022-03-03  16723.20  16768.95  16442.95  16498.05      442068263   \n",
       "172  2022-03-10  16757.10  16757.30  16447.90  16594.90      486445481   \n",
       "177  2022-03-17  17202.90  17344.60  17175.75  17287.05      448335248   \n",
       "181  2022-03-24  17094.95  17291.75  17091.15  17222.75      290280124   \n",
       "186  2022-03-31  17519.20  17559.80  17435.20  17464.75      281111679   \n",
       "191  2022-04-07  17723.30  17787.50  17623.70  17639.55      308840215   \n",
       "199  2022-04-21  17234.60  17414.70  17215.50  17392.60      285200022   \n",
       "204  2022-04-28  17189.50  17322.50  17071.05  17245.05      312914417   \n",
       "208  2022-05-05  16854.75  16945.70  16651.85  16682.65      265793403   \n",
       "213  2022-05-12  16021.10  16041.95  15735.75  15808.00      314921678   \n",
       "218  2022-05-19  15917.40  15984.75  15775.20  15809.40      313876082   \n",
       "223  2022-05-26  16105.00  16204.45  15903.70  16170.15      314305739   \n",
       "228  2022-06-02  16481.65  16646.40  16443.05  16628.00      235958283   \n",
       "233  2022-06-09  16263.85  16492.80  16243.85  16478.10      204954394   \n",
       "238  2022-06-16  15832.25  15863.15  15335.10  15360.60      264735957   \n",
       "\n",
       "     Turnover (Rs. Cr)  day_range  day_range_pct  oc_range  oc_range_pct  \n",
       "129           22643.82     142.40       0.801418     22.60      0.127191  \n",
       "134           28670.93     108.45       0.594019      0.80      0.004382  \n",
       "139           25863.29     295.25       1.647509    164.00      0.915128  \n",
       "143           36296.64     315.75       1.850604     48.15      0.282206  \n",
       "148           20373.06     270.00       1.519607    207.55      1.168128  \n",
       "153           22210.93     212.30       1.209404     51.75      0.294803  \n",
       "158           19381.26     207.05       1.190179     91.95      0.528553  \n",
       "163           36650.83     502.00       3.033434    300.95      1.818550  \n",
       "167           31413.00     326.00       1.949388    225.15      1.346333  \n",
       "172           35513.73     309.40       1.846382    162.20      0.967948  \n",
       "177           35367.28     168.85       0.981521     84.15      0.489162  \n",
       "181           25011.72     200.60       1.173446    127.80      0.747589  \n",
       "186           24032.07     124.60       0.711220     54.45      0.310802  \n",
       "191           26236.91     163.80       0.924207     83.75      0.472542  \n",
       "199           24999.90     199.20       1.155814    158.00      0.916760  \n",
       "204           28488.87     251.45       1.462812     55.55      0.323162  \n",
       "208           21792.91     293.85       1.743425    172.10      1.021077  \n",
       "213           25352.34     306.20       1.911230    213.10      1.330121  \n",
       "218           24340.84     209.55       1.316484    108.00      0.678503  \n",
       "223           27721.21     300.75       1.867432     65.15      0.404533  \n",
       "228           20055.84     203.35       1.233796    146.35      0.887957  \n",
       "233           16721.68     248.95       1.530695    214.25      1.317339  \n",
       "238           21383.06     528.05       3.335281    471.65      2.979046  "
      ]
     },
     "execution_count": 97,
     "metadata": {},
     "output_type": "execute_result"
    }
   ],
   "source": [
    "expiry_days_22 = data_22[data_22['Date'].isin(thursdays)]\n",
    "expiry_days_22"
   ]
  },
  {
   "cell_type": "code",
   "execution_count": 98,
   "metadata": {},
   "outputs": [],
   "source": [
    "expiry_days_22.to_csv(\"nifty_expiry_days_22.csv\")"
   ]
  }
 ],
 "metadata": {
  "kernelspec": {
   "display_name": "Python 3.9.7 ('base')",
   "language": "python",
   "name": "python3"
  },
  "language_info": {
   "codemirror_mode": {
    "name": "ipython",
    "version": 3
   },
   "file_extension": ".py",
   "mimetype": "text/x-python",
   "name": "python",
   "nbconvert_exporter": "python",
   "pygments_lexer": "ipython3",
   "version": "3.9.7"
  },
  "orig_nbformat": 4,
  "vscode": {
   "interpreter": {
    "hash": "a9fc4c7d055303a75ac6825ce3e810b1379669e9cb09d6b336d4c18851158a95"
   }
  }
 },
 "nbformat": 4,
 "nbformat_minor": 2
}
