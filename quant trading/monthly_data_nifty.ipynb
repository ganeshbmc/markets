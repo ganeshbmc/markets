{
 "cells": [
  {
   "cell_type": "code",
   "execution_count": 54,
   "metadata": {},
   "outputs": [],
   "source": [
    "import pandas as pd\n",
    "import numpy as np\n",
    "import datetime as dt\n",
    "import math as m"
   ]
  },
  {
   "cell_type": "code",
   "execution_count": 55,
   "metadata": {},
   "outputs": [
    {
     "data": {
      "text/html": [
       "<div>\n",
       "<style scoped>\n",
       "    .dataframe tbody tr th:only-of-type {\n",
       "        vertical-align: middle;\n",
       "    }\n",
       "\n",
       "    .dataframe tbody tr th {\n",
       "        vertical-align: top;\n",
       "    }\n",
       "\n",
       "    .dataframe thead th {\n",
       "        text-align: right;\n",
       "    }\n",
       "</style>\n",
       "<table border=\"1\" class=\"dataframe\">\n",
       "  <thead>\n",
       "    <tr style=\"text-align: right;\">\n",
       "      <th></th>\n",
       "      <th>Date</th>\n",
       "      <th>Open</th>\n",
       "      <th>High</th>\n",
       "      <th>Low</th>\n",
       "      <th>Close</th>\n",
       "      <th>Adj Close</th>\n",
       "      <th>Volume</th>\n",
       "    </tr>\n",
       "  </thead>\n",
       "  <tbody>\n",
       "    <tr>\n",
       "      <th>164</th>\n",
       "      <td>2022-09-01</td>\n",
       "      <td>17485.699219</td>\n",
       "      <td>18096.150391</td>\n",
       "      <td>16747.699219</td>\n",
       "      <td>17094.349609</td>\n",
       "      <td>17094.349609</td>\n",
       "      <td>6896300</td>\n",
       "    </tr>\n",
       "    <tr>\n",
       "      <th>165</th>\n",
       "      <td>2022-10-01</td>\n",
       "      <td>17102.099609</td>\n",
       "      <td>18022.800781</td>\n",
       "      <td>16855.550781</td>\n",
       "      <td>18012.199219</td>\n",
       "      <td>18012.199219</td>\n",
       "      <td>4539900</td>\n",
       "    </tr>\n",
       "    <tr>\n",
       "      <th>166</th>\n",
       "      <td>2022-11-01</td>\n",
       "      <td>18130.699219</td>\n",
       "      <td>18816.050781</td>\n",
       "      <td>17959.199219</td>\n",
       "      <td>18758.349609</td>\n",
       "      <td>18758.349609</td>\n",
       "      <td>5257200</td>\n",
       "    </tr>\n",
       "    <tr>\n",
       "      <th>167</th>\n",
       "      <td>2022-12-01</td>\n",
       "      <td>18871.949219</td>\n",
       "      <td>18887.599609</td>\n",
       "      <td>17779.500000</td>\n",
       "      <td>17806.800781</td>\n",
       "      <td>17806.800781</td>\n",
       "      <td>3683600</td>\n",
       "    </tr>\n",
       "    <tr>\n",
       "      <th>168</th>\n",
       "      <td>2022-12-23</td>\n",
       "      <td>17977.650391</td>\n",
       "      <td>18050.449219</td>\n",
       "      <td>17779.500000</td>\n",
       "      <td>17806.800781</td>\n",
       "      <td>17806.800781</td>\n",
       "      <td>0</td>\n",
       "    </tr>\n",
       "  </tbody>\n",
       "</table>\n",
       "</div>"
      ],
      "text/plain": [
       "           Date          Open          High           Low         Close  \\\n",
       "164  2022-09-01  17485.699219  18096.150391  16747.699219  17094.349609   \n",
       "165  2022-10-01  17102.099609  18022.800781  16855.550781  18012.199219   \n",
       "166  2022-11-01  18130.699219  18816.050781  17959.199219  18758.349609   \n",
       "167  2022-12-01  18871.949219  18887.599609  17779.500000  17806.800781   \n",
       "168  2022-12-23  17977.650391  18050.449219  17779.500000  17806.800781   \n",
       "\n",
       "        Adj Close   Volume  \n",
       "164  17094.349609  6896300  \n",
       "165  18012.199219  4539900  \n",
       "166  18758.349609  5257200  \n",
       "167  17806.800781  3683600  \n",
       "168  17806.800781        0  "
      ]
     },
     "execution_count": 55,
     "metadata": {},
     "output_type": "execute_result"
    }
   ],
   "source": [
    "data = pd.read_csv('/home/ganesh/Github/markets/data/nifty_monthly_data.csv')\n",
    "data.tail()"
   ]
  },
  {
   "cell_type": "code",
   "execution_count": 56,
   "metadata": {},
   "outputs": [
    {
     "data": {
      "text/plain": [
       "Index(['Date', 'Open', 'High', 'Low', 'Close', 'Adj Close', 'Volume'], dtype='object')"
      ]
     },
     "execution_count": 56,
     "metadata": {},
     "output_type": "execute_result"
    }
   ],
   "source": [
    "data.columns"
   ]
  },
  {
   "cell_type": "code",
   "execution_count": 57,
   "metadata": {},
   "outputs": [
    {
     "data": {
      "text/plain": [
       "(169, 7)"
      ]
     },
     "execution_count": 57,
     "metadata": {},
     "output_type": "execute_result"
    }
   ],
   "source": [
    "data.shape"
   ]
  },
  {
   "cell_type": "code",
   "execution_count": 58,
   "metadata": {},
   "outputs": [
    {
     "data": {
      "text/html": [
       "<div>\n",
       "<style scoped>\n",
       "    .dataframe tbody tr th:only-of-type {\n",
       "        vertical-align: middle;\n",
       "    }\n",
       "\n",
       "    .dataframe tbody tr th {\n",
       "        vertical-align: top;\n",
       "    }\n",
       "\n",
       "    .dataframe thead th {\n",
       "        text-align: right;\n",
       "    }\n",
       "</style>\n",
       "<table border=\"1\" class=\"dataframe\">\n",
       "  <thead>\n",
       "    <tr style=\"text-align: right;\">\n",
       "      <th></th>\n",
       "      <th>Date</th>\n",
       "      <th>Open</th>\n",
       "      <th>High</th>\n",
       "      <th>Low</th>\n",
       "      <th>Close</th>\n",
       "      <th>Adj Close</th>\n",
       "      <th>Volume</th>\n",
       "    </tr>\n",
       "  </thead>\n",
       "  <tbody>\n",
       "    <tr>\n",
       "      <th>162</th>\n",
       "      <td>2022-07-01</td>\n",
       "      <td>15703.700195</td>\n",
       "      <td>17172.800781</td>\n",
       "      <td>15511.049805</td>\n",
       "      <td>17158.250000</td>\n",
       "      <td>17158.250000</td>\n",
       "      <td>5475300</td>\n",
       "    </tr>\n",
       "    <tr>\n",
       "      <th>163</th>\n",
       "      <td>2022-08-01</td>\n",
       "      <td>17243.199219</td>\n",
       "      <td>17992.199219</td>\n",
       "      <td>17154.800781</td>\n",
       "      <td>17759.300781</td>\n",
       "      <td>17759.300781</td>\n",
       "      <td>5589500</td>\n",
       "    </tr>\n",
       "    <tr>\n",
       "      <th>164</th>\n",
       "      <td>2022-09-01</td>\n",
       "      <td>17485.699219</td>\n",
       "      <td>18096.150391</td>\n",
       "      <td>16747.699219</td>\n",
       "      <td>17094.349609</td>\n",
       "      <td>17094.349609</td>\n",
       "      <td>6896300</td>\n",
       "    </tr>\n",
       "    <tr>\n",
       "      <th>165</th>\n",
       "      <td>2022-10-01</td>\n",
       "      <td>17102.099609</td>\n",
       "      <td>18022.800781</td>\n",
       "      <td>16855.550781</td>\n",
       "      <td>18012.199219</td>\n",
       "      <td>18012.199219</td>\n",
       "      <td>4539900</td>\n",
       "    </tr>\n",
       "    <tr>\n",
       "      <th>166</th>\n",
       "      <td>2022-11-01</td>\n",
       "      <td>18130.699219</td>\n",
       "      <td>18816.050781</td>\n",
       "      <td>17959.199219</td>\n",
       "      <td>18758.349609</td>\n",
       "      <td>18758.349609</td>\n",
       "      <td>5257200</td>\n",
       "    </tr>\n",
       "  </tbody>\n",
       "</table>\n",
       "</div>"
      ],
      "text/plain": [
       "           Date          Open          High           Low         Close  \\\n",
       "162  2022-07-01  15703.700195  17172.800781  15511.049805  17158.250000   \n",
       "163  2022-08-01  17243.199219  17992.199219  17154.800781  17759.300781   \n",
       "164  2022-09-01  17485.699219  18096.150391  16747.699219  17094.349609   \n",
       "165  2022-10-01  17102.099609  18022.800781  16855.550781  18012.199219   \n",
       "166  2022-11-01  18130.699219  18816.050781  17959.199219  18758.349609   \n",
       "\n",
       "        Adj Close   Volume  \n",
       "162  17158.250000  5475300  \n",
       "163  17759.300781  5589500  \n",
       "164  17094.349609  6896300  \n",
       "165  18012.199219  4539900  \n",
       "166  18758.349609  5257200  "
      ]
     },
     "execution_count": 58,
     "metadata": {},
     "output_type": "execute_result"
    }
   ],
   "source": [
    "df = data[:-2]\n",
    "df.tail()"
   ]
  },
  {
   "cell_type": "code",
   "execution_count": 59,
   "metadata": {},
   "outputs": [
    {
     "data": {
      "text/plain": [
       "(167, 7)"
      ]
     },
     "execution_count": 59,
     "metadata": {},
     "output_type": "execute_result"
    }
   ],
   "source": [
    "df.shape"
   ]
  },
  {
   "cell_type": "code",
   "execution_count": 60,
   "metadata": {},
   "outputs": [
    {
     "name": "stderr",
     "output_type": "stream",
     "text": [
      "/tmp/ipykernel_7966/360322641.py:1: SettingWithCopyWarning: \n",
      "A value is trying to be set on a copy of a slice from a DataFrame.\n",
      "Try using .loc[row_indexer,col_indexer] = value instead\n",
      "\n",
      "See the caveats in the documentation: https://pandas.pydata.org/pandas-docs/stable/user_guide/indexing.html#returning-a-view-versus-a-copy\n",
      "  df['return'] = df['Close'].pct_change()\n"
     ]
    },
    {
     "data": {
      "text/html": [
       "<div>\n",
       "<style scoped>\n",
       "    .dataframe tbody tr th:only-of-type {\n",
       "        vertical-align: middle;\n",
       "    }\n",
       "\n",
       "    .dataframe tbody tr th {\n",
       "        vertical-align: top;\n",
       "    }\n",
       "\n",
       "    .dataframe thead th {\n",
       "        text-align: right;\n",
       "    }\n",
       "</style>\n",
       "<table border=\"1\" class=\"dataframe\">\n",
       "  <thead>\n",
       "    <tr style=\"text-align: right;\">\n",
       "      <th></th>\n",
       "      <th>Date</th>\n",
       "      <th>Open</th>\n",
       "      <th>High</th>\n",
       "      <th>Low</th>\n",
       "      <th>Close</th>\n",
       "      <th>Adj Close</th>\n",
       "      <th>Volume</th>\n",
       "      <th>return</th>\n",
       "    </tr>\n",
       "  </thead>\n",
       "  <tbody>\n",
       "    <tr>\n",
       "      <th>0</th>\n",
       "      <td>2009-01-01</td>\n",
       "      <td>2963.300049</td>\n",
       "      <td>3147.199951</td>\n",
       "      <td>2661.649902</td>\n",
       "      <td>2874.800049</td>\n",
       "      <td>2874.800049</td>\n",
       "      <td>0</td>\n",
       "      <td>NaN</td>\n",
       "    </tr>\n",
       "    <tr>\n",
       "      <th>1</th>\n",
       "      <td>2009-02-01</td>\n",
       "      <td>2872.350098</td>\n",
       "      <td>2969.750000</td>\n",
       "      <td>2677.550049</td>\n",
       "      <td>2763.649902</td>\n",
       "      <td>2763.649902</td>\n",
       "      <td>0</td>\n",
       "      <td>-0.038664</td>\n",
       "    </tr>\n",
       "    <tr>\n",
       "      <th>2</th>\n",
       "      <td>2009-03-01</td>\n",
       "      <td>2764.600098</td>\n",
       "      <td>3123.350098</td>\n",
       "      <td>2539.449951</td>\n",
       "      <td>3020.949951</td>\n",
       "      <td>3020.949951</td>\n",
       "      <td>0</td>\n",
       "      <td>0.093102</td>\n",
       "    </tr>\n",
       "    <tr>\n",
       "      <th>3</th>\n",
       "      <td>2009-04-01</td>\n",
       "      <td>3023.850098</td>\n",
       "      <td>3517.250000</td>\n",
       "      <td>2965.699951</td>\n",
       "      <td>3473.949951</td>\n",
       "      <td>3473.949951</td>\n",
       "      <td>0</td>\n",
       "      <td>0.149953</td>\n",
       "    </tr>\n",
       "    <tr>\n",
       "      <th>4</th>\n",
       "      <td>2009-05-01</td>\n",
       "      <td>3478.699951</td>\n",
       "      <td>4509.399902</td>\n",
       "      <td>3478.699951</td>\n",
       "      <td>4448.950195</td>\n",
       "      <td>4448.950195</td>\n",
       "      <td>0</td>\n",
       "      <td>0.280660</td>\n",
       "    </tr>\n",
       "    <tr>\n",
       "      <th>...</th>\n",
       "      <td>...</td>\n",
       "      <td>...</td>\n",
       "      <td>...</td>\n",
       "      <td>...</td>\n",
       "      <td>...</td>\n",
       "      <td>...</td>\n",
       "      <td>...</td>\n",
       "      <td>...</td>\n",
       "    </tr>\n",
       "    <tr>\n",
       "      <th>162</th>\n",
       "      <td>2022-07-01</td>\n",
       "      <td>15703.700195</td>\n",
       "      <td>17172.800781</td>\n",
       "      <td>15511.049805</td>\n",
       "      <td>17158.250000</td>\n",
       "      <td>17158.250000</td>\n",
       "      <td>5475300</td>\n",
       "      <td>0.087324</td>\n",
       "    </tr>\n",
       "    <tr>\n",
       "      <th>163</th>\n",
       "      <td>2022-08-01</td>\n",
       "      <td>17243.199219</td>\n",
       "      <td>17992.199219</td>\n",
       "      <td>17154.800781</td>\n",
       "      <td>17759.300781</td>\n",
       "      <td>17759.300781</td>\n",
       "      <td>5589500</td>\n",
       "      <td>0.035030</td>\n",
       "    </tr>\n",
       "    <tr>\n",
       "      <th>164</th>\n",
       "      <td>2022-09-01</td>\n",
       "      <td>17485.699219</td>\n",
       "      <td>18096.150391</td>\n",
       "      <td>16747.699219</td>\n",
       "      <td>17094.349609</td>\n",
       "      <td>17094.349609</td>\n",
       "      <td>6896300</td>\n",
       "      <td>-0.037442</td>\n",
       "    </tr>\n",
       "    <tr>\n",
       "      <th>165</th>\n",
       "      <td>2022-10-01</td>\n",
       "      <td>17102.099609</td>\n",
       "      <td>18022.800781</td>\n",
       "      <td>16855.550781</td>\n",
       "      <td>18012.199219</td>\n",
       "      <td>18012.199219</td>\n",
       "      <td>4539900</td>\n",
       "      <td>0.053693</td>\n",
       "    </tr>\n",
       "    <tr>\n",
       "      <th>166</th>\n",
       "      <td>2022-11-01</td>\n",
       "      <td>18130.699219</td>\n",
       "      <td>18816.050781</td>\n",
       "      <td>17959.199219</td>\n",
       "      <td>18758.349609</td>\n",
       "      <td>18758.349609</td>\n",
       "      <td>5257200</td>\n",
       "      <td>0.041425</td>\n",
       "    </tr>\n",
       "  </tbody>\n",
       "</table>\n",
       "<p>167 rows × 8 columns</p>\n",
       "</div>"
      ],
      "text/plain": [
       "           Date          Open          High           Low         Close  \\\n",
       "0    2009-01-01   2963.300049   3147.199951   2661.649902   2874.800049   \n",
       "1    2009-02-01   2872.350098   2969.750000   2677.550049   2763.649902   \n",
       "2    2009-03-01   2764.600098   3123.350098   2539.449951   3020.949951   \n",
       "3    2009-04-01   3023.850098   3517.250000   2965.699951   3473.949951   \n",
       "4    2009-05-01   3478.699951   4509.399902   3478.699951   4448.950195   \n",
       "..          ...           ...           ...           ...           ...   \n",
       "162  2022-07-01  15703.700195  17172.800781  15511.049805  17158.250000   \n",
       "163  2022-08-01  17243.199219  17992.199219  17154.800781  17759.300781   \n",
       "164  2022-09-01  17485.699219  18096.150391  16747.699219  17094.349609   \n",
       "165  2022-10-01  17102.099609  18022.800781  16855.550781  18012.199219   \n",
       "166  2022-11-01  18130.699219  18816.050781  17959.199219  18758.349609   \n",
       "\n",
       "        Adj Close   Volume    return  \n",
       "0     2874.800049        0       NaN  \n",
       "1     2763.649902        0 -0.038664  \n",
       "2     3020.949951        0  0.093102  \n",
       "3     3473.949951        0  0.149953  \n",
       "4     4448.950195        0  0.280660  \n",
       "..            ...      ...       ...  \n",
       "162  17158.250000  5475300  0.087324  \n",
       "163  17759.300781  5589500  0.035030  \n",
       "164  17094.349609  6896300 -0.037442  \n",
       "165  18012.199219  4539900  0.053693  \n",
       "166  18758.349609  5257200  0.041425  \n",
       "\n",
       "[167 rows x 8 columns]"
      ]
     },
     "execution_count": 60,
     "metadata": {},
     "output_type": "execute_result"
    }
   ],
   "source": [
    "df['return'] = df['Close'].pct_change()\n",
    "df"
   ]
  },
  {
   "cell_type": "code",
   "execution_count": 61,
   "metadata": {},
   "outputs": [],
   "source": [
    "import seaborn as sns"
   ]
  },
  {
   "cell_type": "code",
   "execution_count": 62,
   "metadata": {},
   "outputs": [
    {
     "data": {
      "text/plain": [
       "<AxesSubplot:xlabel='return', ylabel='Count'>"
      ]
     },
     "execution_count": 62,
     "metadata": {},
     "output_type": "execute_result"
    },
    {
     "data": {
      "image/png": "[encoded data removed]",
      "text/plain": [
       "<Figure size 432x288 with 1 Axes>"
      ]
     },
     "metadata": {
      "needs_background": "light"
     },
     "output_type": "display_data"
    }
   ],
   "source": [
    "sns.histplot(data=df[\"return\"],binwidth=0.05, binrange=(-0.3, 0.3), stat='count', kde=True)"
   ]
  },
  {
   "cell_type": "code",
   "execution_count": 63,
   "metadata": {},
   "outputs": [
    {
     "data": {
      "text/plain": [
       "count    166.000000\n",
       "mean       0.012878\n",
       "std        0.055614\n",
       "min       -0.232464\n",
       "25%       -0.018939\n",
       "50%        0.008573\n",
       "75%        0.044250\n",
       "max        0.280660\n",
       "Name: return, dtype: float64"
      ]
     },
     "execution_count": 63,
     "metadata": {},
     "output_type": "execute_result"
    }
   ],
   "source": [
    "df['return'].describe()"
   ]
  },
  {
   "cell_type": "code",
   "execution_count": 74,
   "metadata": {},
   "outputs": [
    {
     "data": {
      "text/plain": [
       "1     -0.038664\n",
       "2      0.093102\n",
       "3      0.149953\n",
       "4      0.280660\n",
       "5     -0.035480\n",
       "         ...   \n",
       "162    0.087324\n",
       "163    0.035030\n",
       "164   -0.037442\n",
       "165    0.053693\n",
       "166    0.041425\n",
       "Name: return, Length: 166, dtype: float64"
      ]
     },
     "execution_count": 74,
     "metadata": {},
     "output_type": "execute_result"
    }
   ],
   "source": [
    "returns = df[1:]['return']\n",
    "returns"
   ]
  },
  {
   "cell_type": "code",
   "execution_count": 88,
   "metadata": {},
   "outputs": [
    {
     "name": "stdout",
     "output_type": "stream",
     "text": [
      "Nifty losing streaks on monthly basis since 2009:\n"
     ]
    },
    {
     "data": {
      "text/plain": [
       "[[-10.0, -3.0],\n",
       " [-1.0, -5.0],\n",
       " [-3.0, -9.0, -1.0],\n",
       " [-9.0, -4.0],\n",
       " [-2.0, -1.0, -6.0],\n",
       " [-2.0, -2.0, -5.0],\n",
       " [-4.0, -4.0],\n",
       " [-5.0, -8.0],\n",
       " [-2.0, -1.0],\n",
       " [-5.0, -4.0],\n",
       " [-6.0, -5.0],\n",
       " [-1.0, -6.0, -1.0],\n",
       " [-2.0, -6.0, -23.0],\n",
       " [-2.0, -3.0, -5.0]]"
      ]
     },
     "execution_count": 88,
     "metadata": {},
     "output_type": "execute_result"
    }
   ],
   "source": [
    "losing_streaks = []\n",
    "\n",
    "losing_streak = []\n",
    "for ret in returns:\n",
    "    ret = round(float(ret), 2)\n",
    "    # print(ret)\n",
    "    if ret < 0:\n",
    "        losing_streak.append(ret*100)\n",
    "    else:\n",
    "        if len(losing_streak) >1:\n",
    "            losing_streaks.append(losing_streak)\n",
    "        losing_streak = []\n",
    "print(f\"Nifty losing streaks on monthly basis since 2009:\")\n",
    "losing_streaks"
   ]
  },
  {
   "cell_type": "code",
   "execution_count": 87,
   "metadata": {},
   "outputs": [
    {
     "name": "stdout",
     "output_type": "stream",
     "text": [
      "Nifty winning streaks on monthly basis since 2009:\n"
     ]
    },
    {
     "data": {
      "text/plain": [
       "[[9.31, 15.0, 28.07],\n",
       " [8.05, 0.55, 9.05],\n",
       " [6.81, 3.35],\n",
       " [0.82, 6.64, 0.55],\n",
       " [4.45, 1.04, 0.65, 11.62],\n",
       " [12.43, 3.58],\n",
       " [0.56, 8.46],\n",
       " [4.63, 0.43, 2.2],\n",
       " [4.36, 0.94],\n",
       " [4.82, 9.83],\n",
       " [3.08, 6.81],\n",
       " [7.97, 5.28, 1.44, 3.02, 0.13, 4.49, 3.2],\n",
       " [6.35, 0.41],\n",
       " [10.75, 1.44, 3.95, 1.56, 4.23, 1.71],\n",
       " [4.59, 3.72, 3.31, 1.42, 3.41],\n",
       " [2.97, 4.72],\n",
       " [5.99, 2.85],\n",
       " [7.7, 1.07, 1.49],\n",
       " [4.09, 3.51, 1.5, 0.93],\n",
       " [7.53, 7.49, 2.84],\n",
       " [3.51, 11.39, 7.81],\n",
       " [6.56, 1.11],\n",
       " [6.5, 0.89, 0.26, 8.69, 2.84, 0.3],\n",
       " [8.73, 3.5]]"
      ]
     },
     "execution_count": 87,
     "metadata": {},
     "output_type": "execute_result"
    }
   ],
   "source": [
    "winning_streaks = []\n",
    "\n",
    "winning_streak = []\n",
    "for ret in returns:\n",
    "    ret = round(float(ret*100), 2)\n",
    "    # print(ret)\n",
    "    if ret > 0:\n",
    "        winning_streak.append(ret)\n",
    "    else:\n",
    "        if len(winning_streak) > 1: \n",
    "            winning_streaks.append(winning_streak)\n",
    "        winning_streak = []\n",
    "print(f\"Nifty winning streaks on monthly basis since 2009:\")\n",
    "winning_streaks"
   ]
  }
 ],
 "metadata": {
  "kernelspec": {
   "display_name": "base",
   "language": "python",
   "name": "python3"
  },
  "language_info": {
   "codemirror_mode": {
    "name": "ipython",
    "version": 3
   },
   "file_extension": ".py",
   "mimetype": "text/x-python",
   "name": "python",
   "nbconvert_exporter": "python",
   "pygments_lexer": "ipython3",
   "version": "3.9.7"
  },
  "orig_nbformat": 4,
  "vscode": {
   "interpreter": {
    "hash": "a9fc4c7d055303a75ac6825ce3e810b1379669e9cb09d6b336d4c18851158a95"
   }
  }
 },
 "nbformat": 4,
 "nbformat_minor": 2
}
