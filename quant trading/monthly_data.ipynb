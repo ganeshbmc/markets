{
 "cells": [
  {
   "cell_type": "code",
   "execution_count": 1,
   "metadata": {},
   "outputs": [],
   "source": [
    "import breeze_connect\n",
    "from breeze_connect import BreezeConnect"
   ]
  },
  {
   "cell_type": "markdown",
   "metadata": {},
   "source": [
    "`Generate session token for each day`  \n",
    "Log into the [icici direct using API key](https://api.icicidirect.com/apiuser/login?api_key=06890j43os6a521A7b7241i934KQ9S56) while the 'developer tools -> network' tab is open  \n",
    "`Copy 'API_session' key for 'payload' section in 127.0.0.1`    "
   ]
  },
  {
   "cell_type": "code",
   "execution_count": 2,
   "metadata": {},
   "outputs": [],
   "source": [
    "fresh_token = 2294584"
   ]
  },
  {
   "cell_type": "code",
   "execution_count": 3,
   "metadata": {},
   "outputs": [],
   "source": [
    "isec = BreezeConnect(api_key=\"06890j43os6a521A7b7241i934KQ9S56\")\n",
    "isec.generate_session(\n",
    "    api_secret=\"$42367K2z98758S712349896J6i^64Mx\",\n",
    "    session_token=fresh_token)"
   ]
  },
  {
   "cell_type": "markdown",
   "metadata": {},
   "source": [
    "## Historical data  "
   ]
  },
  {
   "cell_type": "code",
   "execution_count": 4,
   "metadata": {},
   "outputs": [
    {
     "data": {
      "text/plain": [
       "('2022-12-25 16:03:05.986833', '2022-11-25 16:03:05.986913')"
      ]
     },
     "execution_count": 4,
     "metadata": {},
     "output_type": "execute_result"
    }
   ],
   "source": [
    "import datetime\n",
    "period = 30\n",
    "current_date = str(datetime.datetime.today())\n",
    "previous_date = str(datetime.datetime.today() - datetime.timedelta(days=period))\n",
    "current_date, previous_date"
   ]
  },
  {
   "cell_type": "markdown",
   "metadata": {},
   "source": [
    "`Monthly data nifty`  "
   ]
  },
  {
   "cell_type": "code",
   "execution_count": 5,
   "metadata": {},
   "outputs": [
    {
     "data": {
      "text/plain": [
       "{'Success': [{'datetime': '2022-11-25 12:11:00',\n",
       "   'stock_code': 'NIFTY',\n",
       "   'exchange_code': 'NSE',\n",
       "   'product_type': None,\n",
       "   'expiry_date': None,\n",
       "   'right': None,\n",
       "   'strike_price': None,\n",
       "   'open': '18528.45',\n",
       "   'high': '18534.9',\n",
       "   'low': '18445.1',\n",
       "   'close': '18512.75',\n",
       "   'volume': '358768454',\n",
       "   'open_interest': None,\n",
       "   'count': 0},\n",
       "  {'datetime': '2022-11-28 12:11:00',\n",
       "   'stock_code': 'NIFTY',\n",
       "   'exchange_code': 'NSE',\n",
       "   'product_type': None,\n",
       "   'expiry_date': None,\n",
       "   'right': None,\n",
       "   'strike_price': None,\n",
       "   'open': '18430.55',\n",
       "   'high': '18614.25',\n",
       "   'low': '18365.6',\n",
       "   'close': '18562.75',\n",
       "   'volume': '337774388',\n",
       "   'open_interest': None,\n",
       "   'count': 1},\n",
       "  {'datetime': '2022-11-29 12:11:00',\n",
       "   'stock_code': 'NIFTY',\n",
       "   'exchange_code': 'NSE',\n",
       "   'product_type': None,\n",
       "   'expiry_date': None,\n",
       "   'right': None,\n",
       "   'strike_price': None,\n",
       "   'open': '18552.45',\n",
       "   'high': '18678.1',\n",
       "   'low': '18552.15',\n",
       "   'close': '18618.05',\n",
       "   'volume': '300523760',\n",
       "   'open_interest': None,\n",
       "   'count': 2},\n",
       "  {'datetime': '2022-11-30 12:11:00',\n",
       "   'stock_code': 'NIFTY',\n",
       "   'exchange_code': 'NSE',\n",
       "   'product_type': None,\n",
       "   'expiry_date': None,\n",
       "   'right': None,\n",
       "   'strike_price': None,\n",
       "   'open': '18625.7',\n",
       "   'high': '18816.05',\n",
       "   'low': '18616.55',\n",
       "   'close': '18758.35',\n",
       "   'volume': '419783495',\n",
       "   'open_interest': None,\n",
       "   'count': 3},\n",
       "  {'datetime': '2022-12-01 12:12:00',\n",
       "   'stock_code': 'NIFTY',\n",
       "   'exchange_code': 'NSE',\n",
       "   'product_type': None,\n",
       "   'expiry_date': None,\n",
       "   'right': None,\n",
       "   'strike_price': None,\n",
       "   'open': '18871.95',\n",
       "   'high': '18887.6',\n",
       "   'low': '18778.2',\n",
       "   'close': '18812.5',\n",
       "   'volume': '308532858',\n",
       "   'open_interest': None,\n",
       "   'count': 4},\n",
       "  {'datetime': '2022-12-02 12:12:00',\n",
       "   'stock_code': 'NIFTY',\n",
       "   'exchange_code': 'NSE',\n",
       "   'product_type': None,\n",
       "   'expiry_date': None,\n",
       "   'right': None,\n",
       "   'strike_price': None,\n",
       "   'open': '18752.4',\n",
       "   'high': '18781.95',\n",
       "   'low': '18639.2',\n",
       "   'close': '18696.1',\n",
       "   'volume': '358090487',\n",
       "   'open_interest': None,\n",
       "   'count': 5},\n",
       "  {'datetime': '2022-12-05 12:12:00',\n",
       "   'stock_code': 'NIFTY',\n",
       "   'exchange_code': 'NSE',\n",
       "   'product_type': None,\n",
       "   'expiry_date': None,\n",
       "   'right': None,\n",
       "   'strike_price': None,\n",
       "   'open': '18719.55',\n",
       "   'high': '18728.6',\n",
       "   'low': '18591.35',\n",
       "   'close': '18701.05',\n",
       "   'volume': '380833274',\n",
       "   'open_interest': None,\n",
       "   'count': 6},\n",
       "  {'datetime': '2022-12-06 12:12:00',\n",
       "   'stock_code': 'NIFTY',\n",
       "   'exchange_code': 'NSE',\n",
       "   'product_type': None,\n",
       "   'expiry_date': None,\n",
       "   'right': None,\n",
       "   'strike_price': None,\n",
       "   'open': '18600.65',\n",
       "   'high': '18654.9',\n",
       "   'low': '18577.9',\n",
       "   'close': '18642.75',\n",
       "   'volume': '343914409',\n",
       "   'open_interest': None,\n",
       "   'count': 7},\n",
       "  {'datetime': '2022-12-07 12:12:00',\n",
       "   'stock_code': 'NIFTY',\n",
       "   'exchange_code': 'NSE',\n",
       "   'product_type': None,\n",
       "   'expiry_date': None,\n",
       "   'right': None,\n",
       "   'strike_price': None,\n",
       "   'open': '18638.85',\n",
       "   'high': '18668.3',\n",
       "   'low': '18528.4',\n",
       "   'close': '18560.5',\n",
       "   'volume': '319940900',\n",
       "   'open_interest': None,\n",
       "   'count': 8},\n",
       "  {'datetime': '2022-12-08 12:12:00',\n",
       "   'stock_code': 'NIFTY',\n",
       "   'exchange_code': 'NSE',\n",
       "   'product_type': None,\n",
       "   'expiry_date': None,\n",
       "   'right': None,\n",
       "   'strike_price': None,\n",
       "   'open': '18570.85',\n",
       "   'high': '18625',\n",
       "   'low': '18536.95',\n",
       "   'close': '18609.35',\n",
       "   'volume': '297439111',\n",
       "   'open_interest': None,\n",
       "   'count': 9},\n",
       "  {'datetime': '2022-12-09 12:12:00',\n",
       "   'stock_code': 'NIFTY',\n",
       "   'exchange_code': 'NSE',\n",
       "   'product_type': None,\n",
       "   'expiry_date': None,\n",
       "   'right': None,\n",
       "   'strike_price': None,\n",
       "   'open': '18662.4',\n",
       "   'high': '18664.7',\n",
       "   'low': '18410.1',\n",
       "   'close': '18496.6',\n",
       "   'volume': '497572998',\n",
       "   'open_interest': None,\n",
       "   'count': 10},\n",
       "  {'datetime': '2022-12-12 12:12:00',\n",
       "   'stock_code': 'NIFTY',\n",
       "   'exchange_code': 'NSE',\n",
       "   'product_type': None,\n",
       "   'expiry_date': None,\n",
       "   'right': None,\n",
       "   'strike_price': None,\n",
       "   'open': '18402.15',\n",
       "   'high': '18521.55',\n",
       "   'low': '18345.7',\n",
       "   'close': '18497.15',\n",
       "   'volume': '403641766',\n",
       "   'open_interest': None,\n",
       "   'count': 11},\n",
       "  {'datetime': '2022-12-13 12:12:00',\n",
       "   'stock_code': 'NIFTY',\n",
       "   'exchange_code': 'NSE',\n",
       "   'product_type': None,\n",
       "   'expiry_date': None,\n",
       "   'right': None,\n",
       "   'strike_price': None,\n",
       "   'open': '18524.4',\n",
       "   'high': '18617.25',\n",
       "   'low': '18490.2',\n",
       "   'close': '18608',\n",
       "   'volume': '491814571',\n",
       "   'open_interest': None,\n",
       "   'count': 12},\n",
       "  {'datetime': '2022-12-14 12:12:00',\n",
       "   'stock_code': 'NIFTY',\n",
       "   'exchange_code': 'NSE',\n",
       "   'product_type': None,\n",
       "   'expiry_date': None,\n",
       "   'right': None,\n",
       "   'strike_price': None,\n",
       "   'open': '18671.25',\n",
       "   'high': '18696.1',\n",
       "   'low': '18632.9',\n",
       "   'close': '18660.3',\n",
       "   'volume': '627258694',\n",
       "   'open_interest': None,\n",
       "   'count': 13},\n",
       "  {'datetime': '2022-12-15 12:12:00',\n",
       "   'stock_code': 'NIFTY',\n",
       "   'exchange_code': 'NSE',\n",
       "   'product_type': None,\n",
       "   'expiry_date': None,\n",
       "   'right': None,\n",
       "   'strike_price': None,\n",
       "   'open': '18614.4',\n",
       "   'high': '18652.9',\n",
       "   'low': '18387.7',\n",
       "   'close': '18414.9',\n",
       "   'volume': '503132898',\n",
       "   'open_interest': None,\n",
       "   'count': 14},\n",
       "  {'datetime': '2022-12-16 12:12:00',\n",
       "   'stock_code': 'NIFTY',\n",
       "   'exchange_code': 'NSE',\n",
       "   'product_type': None,\n",
       "   'expiry_date': None,\n",
       "   'right': None,\n",
       "   'strike_price': None,\n",
       "   'open': '18319.1',\n",
       "   'high': '18440.95',\n",
       "   'low': '18255.15',\n",
       "   'close': '18269',\n",
       "   'volume': '444703365',\n",
       "   'open_interest': None,\n",
       "   'count': 15},\n",
       "  {'datetime': '2022-12-19 12:12:00',\n",
       "   'stock_code': 'NIFTY',\n",
       "   'exchange_code': 'NSE',\n",
       "   'product_type': None,\n",
       "   'expiry_date': None,\n",
       "   'right': None,\n",
       "   'strike_price': None,\n",
       "   'open': '18288.1',\n",
       "   'high': '18431.65',\n",
       "   'low': '18244.55',\n",
       "   'close': '18420.45',\n",
       "   'volume': '382735977',\n",
       "   'open_interest': None,\n",
       "   'count': 16},\n",
       "  {'datetime': '2022-12-20 12:12:00',\n",
       "   'stock_code': 'NIFTY',\n",
       "   'exchange_code': 'NSE',\n",
       "   'product_type': None,\n",
       "   'expiry_date': None,\n",
       "   'right': None,\n",
       "   'strike_price': None,\n",
       "   'open': '18340.3',\n",
       "   'high': '18404.9',\n",
       "   'low': '18202.65',\n",
       "   'close': '18385.3',\n",
       "   'volume': '368485441',\n",
       "   'open_interest': None,\n",
       "   'count': 17},\n",
       "  {'datetime': '2022-12-21 12:12:00',\n",
       "   'stock_code': 'NIFTY',\n",
       "   'exchange_code': 'NSE',\n",
       "   'product_type': None,\n",
       "   'expiry_date': None,\n",
       "   'right': None,\n",
       "   'strike_price': None,\n",
       "   'open': '18435.15',\n",
       "   'high': '18473.35',\n",
       "   'low': '18162.75',\n",
       "   'close': '18199.1',\n",
       "   'volume': '471434877',\n",
       "   'open_interest': None,\n",
       "   'count': 18},\n",
       "  {'datetime': '2022-12-22 12:12:00',\n",
       "   'stock_code': 'NIFTY',\n",
       "   'exchange_code': 'NSE',\n",
       "   'product_type': None,\n",
       "   'expiry_date': None,\n",
       "   'right': None,\n",
       "   'strike_price': None,\n",
       "   'open': '18288.8',\n",
       "   'high': '18318.75',\n",
       "   'low': '18068.6',\n",
       "   'close': '18127.35',\n",
       "   'volume': '406970495',\n",
       "   'open_interest': None,\n",
       "   'count': 19},\n",
       "  {'datetime': '2022-12-23 12:12:00',\n",
       "   'stock_code': 'NIFTY',\n",
       "   'exchange_code': 'NSE',\n",
       "   'product_type': None,\n",
       "   'expiry_date': None,\n",
       "   'right': None,\n",
       "   'strike_price': None,\n",
       "   'open': '17977.65',\n",
       "   'high': '18050.45',\n",
       "   'low': '17779.5',\n",
       "   'close': '17806.8',\n",
       "   'volume': '406794867',\n",
       "   'open_interest': None,\n",
       "   'count': 20}],\n",
       " 'Status': 200,\n",
       " 'Error': None}"
      ]
     },
     "execution_count": 5,
     "metadata": {},
     "output_type": "execute_result"
    }
   ],
   "source": [
    "nifty_daily = isec.get_historical_data(\n",
    "    interval=\"1day\", \n",
    "    from_date=previous_date, \n",
    "    to_date=current_date,\n",
    "    stock_code=\"NIFTY\",\n",
    "    exchange_code=\"NSE\",\n",
    "    product_type=\"\",\n",
    "    expiry_date=\"\")\n",
    "\n",
    "nifty_daily"
   ]
  },
  {
   "cell_type": "code",
   "execution_count": 6,
   "metadata": {},
   "outputs": [
    {
     "name": "stdout",
     "output_type": "stream",
     "text": [
      "21\n"
     ]
    },
    {
     "data": {
      "text/html": [
       "<div>\n",
       "<style scoped>\n",
       "    .dataframe tbody tr th:only-of-type {\n",
       "        vertical-align: middle;\n",
       "    }\n",
       "\n",
       "    .dataframe tbody tr th {\n",
       "        vertical-align: top;\n",
       "    }\n",
       "\n",
       "    .dataframe thead th {\n",
       "        text-align: right;\n",
       "    }\n",
       "</style>\n",
       "<table border=\"1\" class=\"dataframe\">\n",
       "  <thead>\n",
       "    <tr style=\"text-align: right;\">\n",
       "      <th></th>\n",
       "      <th>datetime</th>\n",
       "      <th>stock_code</th>\n",
       "      <th>exchange_code</th>\n",
       "      <th>product_type</th>\n",
       "      <th>expiry_date</th>\n",
       "      <th>right</th>\n",
       "      <th>strike_price</th>\n",
       "      <th>open</th>\n",
       "      <th>high</th>\n",
       "      <th>low</th>\n",
       "      <th>close</th>\n",
       "      <th>volume</th>\n",
       "      <th>open_interest</th>\n",
       "      <th>count</th>\n",
       "    </tr>\n",
       "  </thead>\n",
       "  <tbody>\n",
       "    <tr>\n",
       "      <th>16</th>\n",
       "      <td>2022-12-19 12:12:00</td>\n",
       "      <td>NIFTY</td>\n",
       "      <td>NSE</td>\n",
       "      <td>None</td>\n",
       "      <td>None</td>\n",
       "      <td>None</td>\n",
       "      <td>None</td>\n",
       "      <td>18288.1</td>\n",
       "      <td>18431.65</td>\n",
       "      <td>18244.55</td>\n",
       "      <td>18420.45</td>\n",
       "      <td>382735977</td>\n",
       "      <td>None</td>\n",
       "      <td>16</td>\n",
       "    </tr>\n",
       "    <tr>\n",
       "      <th>17</th>\n",
       "      <td>2022-12-20 12:12:00</td>\n",
       "      <td>NIFTY</td>\n",
       "      <td>NSE</td>\n",
       "      <td>None</td>\n",
       "      <td>None</td>\n",
       "      <td>None</td>\n",
       "      <td>None</td>\n",
       "      <td>18340.3</td>\n",
       "      <td>18404.9</td>\n",
       "      <td>18202.65</td>\n",
       "      <td>18385.3</td>\n",
       "      <td>368485441</td>\n",
       "      <td>None</td>\n",
       "      <td>17</td>\n",
       "    </tr>\n",
       "    <tr>\n",
       "      <th>18</th>\n",
       "      <td>2022-12-21 12:12:00</td>\n",
       "      <td>NIFTY</td>\n",
       "      <td>NSE</td>\n",
       "      <td>None</td>\n",
       "      <td>None</td>\n",
       "      <td>None</td>\n",
       "      <td>None</td>\n",
       "      <td>18435.15</td>\n",
       "      <td>18473.35</td>\n",
       "      <td>18162.75</td>\n",
       "      <td>18199.1</td>\n",
       "      <td>471434877</td>\n",
       "      <td>None</td>\n",
       "      <td>18</td>\n",
       "    </tr>\n",
       "    <tr>\n",
       "      <th>19</th>\n",
       "      <td>2022-12-22 12:12:00</td>\n",
       "      <td>NIFTY</td>\n",
       "      <td>NSE</td>\n",
       "      <td>None</td>\n",
       "      <td>None</td>\n",
       "      <td>None</td>\n",
       "      <td>None</td>\n",
       "      <td>18288.8</td>\n",
       "      <td>18318.75</td>\n",
       "      <td>18068.6</td>\n",
       "      <td>18127.35</td>\n",
       "      <td>406970495</td>\n",
       "      <td>None</td>\n",
       "      <td>19</td>\n",
       "    </tr>\n",
       "    <tr>\n",
       "      <th>20</th>\n",
       "      <td>2022-12-23 12:12:00</td>\n",
       "      <td>NIFTY</td>\n",
       "      <td>NSE</td>\n",
       "      <td>None</td>\n",
       "      <td>None</td>\n",
       "      <td>None</td>\n",
       "      <td>None</td>\n",
       "      <td>17977.65</td>\n",
       "      <td>18050.45</td>\n",
       "      <td>17779.5</td>\n",
       "      <td>17806.8</td>\n",
       "      <td>406794867</td>\n",
       "      <td>None</td>\n",
       "      <td>20</td>\n",
       "    </tr>\n",
       "  </tbody>\n",
       "</table>\n",
       "</div>"
      ],
      "text/plain": [
       "               datetime stock_code exchange_code product_type expiry_date  \\\n",
       "16  2022-12-19 12:12:00      NIFTY           NSE         None        None   \n",
       "17  2022-12-20 12:12:00      NIFTY           NSE         None        None   \n",
       "18  2022-12-21 12:12:00      NIFTY           NSE         None        None   \n",
       "19  2022-12-22 12:12:00      NIFTY           NSE         None        None   \n",
       "20  2022-12-23 12:12:00      NIFTY           NSE         None        None   \n",
       "\n",
       "   right strike_price      open      high       low     close     volume  \\\n",
       "16  None         None   18288.1  18431.65  18244.55  18420.45  382735977   \n",
       "17  None         None   18340.3   18404.9  18202.65   18385.3  368485441   \n",
       "18  None         None  18435.15  18473.35  18162.75   18199.1  471434877   \n",
       "19  None         None   18288.8  18318.75   18068.6  18127.35  406970495   \n",
       "20  None         None  17977.65  18050.45   17779.5   17806.8  406794867   \n",
       "\n",
       "   open_interest  count  \n",
       "16          None     16  \n",
       "17          None     17  \n",
       "18          None     18  \n",
       "19          None     19  \n",
       "20          None     20  "
      ]
     },
     "execution_count": 6,
     "metadata": {},
     "output_type": "execute_result"
    }
   ],
   "source": [
    "import pandas as pd\n",
    "df = pd.DataFrame(nifty_daily['Success'])\n",
    "print(len(df))\n",
    "df.tail()"
   ]
  },
  {
   "cell_type": "code",
   "execution_count": 7,
   "metadata": {},
   "outputs": [],
   "source": [
    "# df.to_csv('datasets/nifty_daily.csv')"
   ]
  },
  {
   "cell_type": "code",
   "execution_count": 8,
   "metadata": {},
   "outputs": [
    {
     "name": "stdout",
     "output_type": "stream",
     "text": [
      "<class 'pandas.core.frame.DataFrame'>\n",
      "RangeIndex: 21 entries, 0 to 20\n",
      "Data columns (total 14 columns):\n",
      " #   Column         Non-Null Count  Dtype \n",
      "---  ------         --------------  ----- \n",
      " 0   datetime       21 non-null     object\n",
      " 1   stock_code     21 non-null     object\n",
      " 2   exchange_code  21 non-null     object\n",
      " 3   product_type   0 non-null      object\n",
      " 4   expiry_date    0 non-null      object\n",
      " 5   right          0 non-null      object\n",
      " 6   strike_price   0 non-null      object\n",
      " 7   open           21 non-null     object\n",
      " 8   high           21 non-null     object\n",
      " 9   low            21 non-null     object\n",
      " 10  close          21 non-null     object\n",
      " 11  volume         21 non-null     object\n",
      " 12  open_interest  0 non-null      object\n",
      " 13  count          21 non-null     int64 \n",
      "dtypes: int64(1), object(13)\n",
      "memory usage: 2.4+ KB\n"
     ]
    }
   ],
   "source": [
    "df.info()"
   ]
  },
  {
   "cell_type": "code",
   "execution_count": 9,
   "metadata": {},
   "outputs": [
    {
     "data": {
      "text/plain": [
       "Index(['datetime', 'stock_code', 'exchange_code', 'product_type',\n",
       "       'expiry_date', 'right', 'strike_price', 'open', 'high', 'low', 'close',\n",
       "       'volume', 'open_interest', 'count'],\n",
       "      dtype='object')"
      ]
     },
     "execution_count": 9,
     "metadata": {},
     "output_type": "execute_result"
    }
   ],
   "source": [
    "df.columns"
   ]
  },
  {
   "cell_type": "code",
   "execution_count": 10,
   "metadata": {},
   "outputs": [
    {
     "name": "stdout",
     "output_type": "stream",
     "text": [
      "<class 'pandas.core.frame.DataFrame'>\n",
      "RangeIndex: 21 entries, 0 to 20\n",
      "Data columns (total 14 columns):\n",
      " #   Column         Non-Null Count  Dtype  \n",
      "---  ------         --------------  -----  \n",
      " 0   datetime       21 non-null     object \n",
      " 1   stock_code     21 non-null     object \n",
      " 2   exchange_code  21 non-null     object \n",
      " 3   product_type   0 non-null      object \n",
      " 4   expiry_date    0 non-null      object \n",
      " 5   right          0 non-null      object \n",
      " 6   strike_price   0 non-null      object \n",
      " 7   open           21 non-null     float64\n",
      " 8   high           21 non-null     float64\n",
      " 9   low            21 non-null     float64\n",
      " 10  close          21 non-null     float64\n",
      " 11  volume         21 non-null     float64\n",
      " 12  open_interest  0 non-null      object \n",
      " 13  count          21 non-null     int64  \n",
      "dtypes: float64(5), int64(1), object(8)\n",
      "memory usage: 2.4+ KB\n"
     ]
    }
   ],
   "source": [
    "df[['open', 'high', 'low', 'close',\n",
    "       'volume']] = df[['open', 'high', 'low', 'close',\n",
    "       'volume']].astype('float64')\n",
    "df[['count']] = df[['count']].astype('int')\n",
    "df.info()"
   ]
  },
  {
   "cell_type": "code",
   "execution_count": 11,
   "metadata": {},
   "outputs": [
    {
     "data": {
      "text/html": [
       "<div>\n",
       "<style scoped>\n",
       "    .dataframe tbody tr th:only-of-type {\n",
       "        vertical-align: middle;\n",
       "    }\n",
       "\n",
       "    .dataframe tbody tr th {\n",
       "        vertical-align: top;\n",
       "    }\n",
       "\n",
       "    .dataframe thead th {\n",
       "        text-align: right;\n",
       "    }\n",
       "</style>\n",
       "<table border=\"1\" class=\"dataframe\">\n",
       "  <thead>\n",
       "    <tr style=\"text-align: right;\">\n",
       "      <th></th>\n",
       "      <th>datetime</th>\n",
       "      <th>stock_code</th>\n",
       "      <th>exchange_code</th>\n",
       "      <th>product_type</th>\n",
       "      <th>expiry_date</th>\n",
       "      <th>right</th>\n",
       "      <th>strike_price</th>\n",
       "      <th>open</th>\n",
       "      <th>high</th>\n",
       "      <th>low</th>\n",
       "      <th>close</th>\n",
       "      <th>volume</th>\n",
       "      <th>open_interest</th>\n",
       "      <th>count</th>\n",
       "      <th>return</th>\n",
       "    </tr>\n",
       "  </thead>\n",
       "  <tbody>\n",
       "    <tr>\n",
       "      <th>16</th>\n",
       "      <td>2022-12-19 12:12:00</td>\n",
       "      <td>NIFTY</td>\n",
       "      <td>NSE</td>\n",
       "      <td>None</td>\n",
       "      <td>None</td>\n",
       "      <td>None</td>\n",
       "      <td>None</td>\n",
       "      <td>18288.10</td>\n",
       "      <td>18431.65</td>\n",
       "      <td>18244.55</td>\n",
       "      <td>18420.45</td>\n",
       "      <td>382735977.0</td>\n",
       "      <td>None</td>\n",
       "      <td>16</td>\n",
       "      <td>0.008290</td>\n",
       "    </tr>\n",
       "    <tr>\n",
       "      <th>17</th>\n",
       "      <td>2022-12-20 12:12:00</td>\n",
       "      <td>NIFTY</td>\n",
       "      <td>NSE</td>\n",
       "      <td>None</td>\n",
       "      <td>None</td>\n",
       "      <td>None</td>\n",
       "      <td>None</td>\n",
       "      <td>18340.30</td>\n",
       "      <td>18404.90</td>\n",
       "      <td>18202.65</td>\n",
       "      <td>18385.30</td>\n",
       "      <td>368485441.0</td>\n",
       "      <td>None</td>\n",
       "      <td>17</td>\n",
       "      <td>-0.001908</td>\n",
       "    </tr>\n",
       "    <tr>\n",
       "      <th>18</th>\n",
       "      <td>2022-12-21 12:12:00</td>\n",
       "      <td>NIFTY</td>\n",
       "      <td>NSE</td>\n",
       "      <td>None</td>\n",
       "      <td>None</td>\n",
       "      <td>None</td>\n",
       "      <td>None</td>\n",
       "      <td>18435.15</td>\n",
       "      <td>18473.35</td>\n",
       "      <td>18162.75</td>\n",
       "      <td>18199.10</td>\n",
       "      <td>471434877.0</td>\n",
       "      <td>None</td>\n",
       "      <td>18</td>\n",
       "      <td>-0.010128</td>\n",
       "    </tr>\n",
       "    <tr>\n",
       "      <th>19</th>\n",
       "      <td>2022-12-22 12:12:00</td>\n",
       "      <td>NIFTY</td>\n",
       "      <td>NSE</td>\n",
       "      <td>None</td>\n",
       "      <td>None</td>\n",
       "      <td>None</td>\n",
       "      <td>None</td>\n",
       "      <td>18288.80</td>\n",
       "      <td>18318.75</td>\n",
       "      <td>18068.60</td>\n",
       "      <td>18127.35</td>\n",
       "      <td>406970495.0</td>\n",
       "      <td>None</td>\n",
       "      <td>19</td>\n",
       "      <td>-0.003943</td>\n",
       "    </tr>\n",
       "    <tr>\n",
       "      <th>20</th>\n",
       "      <td>2022-12-23 12:12:00</td>\n",
       "      <td>NIFTY</td>\n",
       "      <td>NSE</td>\n",
       "      <td>None</td>\n",
       "      <td>None</td>\n",
       "      <td>None</td>\n",
       "      <td>None</td>\n",
       "      <td>17977.65</td>\n",
       "      <td>18050.45</td>\n",
       "      <td>17779.50</td>\n",
       "      <td>17806.80</td>\n",
       "      <td>406794867.0</td>\n",
       "      <td>None</td>\n",
       "      <td>20</td>\n",
       "      <td>-0.017683</td>\n",
       "    </tr>\n",
       "  </tbody>\n",
       "</table>\n",
       "</div>"
      ],
      "text/plain": [
       "               datetime stock_code exchange_code product_type expiry_date  \\\n",
       "16  2022-12-19 12:12:00      NIFTY           NSE         None        None   \n",
       "17  2022-12-20 12:12:00      NIFTY           NSE         None        None   \n",
       "18  2022-12-21 12:12:00      NIFTY           NSE         None        None   \n",
       "19  2022-12-22 12:12:00      NIFTY           NSE         None        None   \n",
       "20  2022-12-23 12:12:00      NIFTY           NSE         None        None   \n",
       "\n",
       "   right strike_price      open      high       low     close       volume  \\\n",
       "16  None         None  18288.10  18431.65  18244.55  18420.45  382735977.0   \n",
       "17  None         None  18340.30  18404.90  18202.65  18385.30  368485441.0   \n",
       "18  None         None  18435.15  18473.35  18162.75  18199.10  471434877.0   \n",
       "19  None         None  18288.80  18318.75  18068.60  18127.35  406970495.0   \n",
       "20  None         None  17977.65  18050.45  17779.50  17806.80  406794867.0   \n",
       "\n",
       "   open_interest  count    return  \n",
       "16          None     16  0.008290  \n",
       "17          None     17 -0.001908  \n",
       "18          None     18 -0.010128  \n",
       "19          None     19 -0.003943  \n",
       "20          None     20 -0.017683  "
      ]
     },
     "execution_count": 11,
     "metadata": {},
     "output_type": "execute_result"
    }
   ],
   "source": [
    "df['return'] = df['close'].pct_change()\n",
    "df.tail()"
   ]
  },
  {
   "cell_type": "code",
   "execution_count": 12,
   "metadata": {},
   "outputs": [
    {
     "data": {
      "text/plain": [
       "count    20.000000\n",
       "mean     -0.001919\n",
       "std       0.006888\n",
       "min      -0.017683\n",
       "25%      -0.006091\n",
       "50%      -0.000939\n",
       "75%       0.002830\n",
       "max       0.008290\n",
       "Name: return, dtype: float64"
      ]
     },
     "execution_count": 12,
     "metadata": {},
     "output_type": "execute_result"
    }
   ],
   "source": [
    "df['return'].describe()"
   ]
  },
  {
   "cell_type": "code",
   "execution_count": 13,
   "metadata": {},
   "outputs": [
    {
     "data": {
      "text/plain": [
       "(21, 15)"
      ]
     },
     "execution_count": 13,
     "metadata": {},
     "output_type": "execute_result"
    }
   ],
   "source": [
    "df.shape"
   ]
  },
  {
   "cell_type": "code",
   "execution_count": 14,
   "metadata": {},
   "outputs": [
    {
     "data": {
      "text/plain": [
       "<AxesSubplot:xlabel='return', ylabel='Count'>"
      ]
     },
     "execution_count": 14,
     "metadata": {},
     "output_type": "execute_result"
    }
   ],
   "source": [
    "import seaborn as sns\n",
    "sns.histplot(df['return'])"
   ]
  },
  {
   "cell_type": "markdown",
   "metadata": {},
   "source": [
    "## Volatility comparison"
   ]
  },
  {
   "cell_type": "code",
   "execution_count": 15,
   "metadata": {},
   "outputs": [
    {
     "data": {
      "text/plain": [
       "(30, '2022-12-25 16:03:05.986833', '2022-11-25 16:03:05.986913')"
      ]
     },
     "execution_count": 15,
     "metadata": {},
     "output_type": "execute_result"
    }
   ],
   "source": [
    "period, current_date, previous_date"
   ]
  },
  {
   "cell_type": "code",
   "execution_count": 16,
   "metadata": {},
   "outputs": [
    {
     "data": {
      "text/plain": [
       "(17830, 173.8425, 17656.1575, 18003.8425)"
      ]
     },
     "execution_count": 16,
     "metadata": {},
     "output_type": "execute_result"
    }
   ],
   "source": [
    "def predicted_range(spot, hv, sd_safety):\n",
    "    movt = spot * hv/100 * sd_safety\n",
    "    upper = spot + movt\n",
    "    lower = spot - movt\n",
    "    return spot, movt, lower, upper\n",
    "\n",
    "predicted_range(17830, 0.65, 1.5)"
   ]
  },
  {
   "cell_type": "code",
   "execution_count": 17,
   "metadata": {},
   "outputs": [
    {
     "data": {
      "text/plain": [
       "(0.688815090461338, 2.3861254673983794)"
      ]
     },
     "execution_count": 17,
     "metadata": {},
     "output_type": "execute_result"
    }
   ],
   "source": [
    "hv_daily = df['return'].describe()[\"std\"]*100\n",
    "hv_mo = (hv_daily)*(12**0.5)\n",
    "hv_daily, hv_mo"
   ]
  },
  {
   "cell_type": "code",
   "execution_count": 18,
   "metadata": {},
   "outputs": [
    {
     "name": "stdout",
     "output_type": "stream",
     "text": [
      "2.3861254673983794\n",
      "(18484, 441.0514313939164, 18042.948568606083, 18925.051431393917)\n",
      "(18484, 661.5771470908746, 17822.422852909127, 19145.577147090873)\n"
     ]
    }
   ],
   "source": [
    "hv_mo = (hv_daily)*(12**0.5)\n",
    "print(hv_mo)\n",
    "print(predicted_range(18484, hv_mo, 1))\n",
    "print(predicted_range(18484, hv_mo, 1.5))"
   ]
  }
 ],
 "metadata": {
  "kernelspec": {
   "display_name": "Python 3 (ipykernel)",
   "language": "python",
   "name": "python3"
  },
  "language_info": {
   "codemirror_mode": {
    "name": "ipython",
    "version": 3
   },
   "file_extension": ".py",
   "mimetype": "text/x-python",
   "name": "python",
   "nbconvert_exporter": "python",
   "pygments_lexer": "ipython3",
   "version": "3.9.7"
  },
  "vscode": {
   "interpreter": {
    "hash": "a9fc4c7d055303a75ac6825ce3e810b1379669e9cb09d6b336d4c18851158a95"
   }
  }
 },
 "nbformat": 4,
 "nbformat_minor": 2
}
