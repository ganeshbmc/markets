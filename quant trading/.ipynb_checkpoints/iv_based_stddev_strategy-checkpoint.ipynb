{
 "cells": [
  {
   "cell_type": "markdown",
   "metadata": {
    "colab_type": "text",
    "id": "view-in-github"
   },
   "source": [
    "<a href=\"https://colab.research.google.com/github/ganeshbmc/markets/blob/master/quant%20trading/iv_based_stddev_strategy.ipynb\" target=\"_parent\"><img src=\"https://colab.research.google.com/assets/colab-badge.svg\" alt=\"Open In Colab\"/></a>"
   ]
  },
  {
   "cell_type": "markdown",
   "metadata": {
    "id": "0JPoHQ0K2kt-"
   },
   "source": [
    "# Simple strategy based on ATM IV and std deviations"
   ]
  },
  {
   "cell_type": "markdown",
   "metadata": {
    "id": "S4cQPtWI20-O"
   },
   "source": [
    "`Define your input variables here`  "
   ]
  },
  {
   "cell_type": "code",
   "execution_count": 1,
   "metadata": {
    "id": "kwZmFwgz2aKD"
   },
   "outputs": [],
   "source": [
    "# Input\n",
    "underlying = \"nifty\"\n",
    "spot_prev_close = 17800\n",
    "days_to_expiry = 9\n",
    "atm_iv = 14"
   ]
  },
  {
   "cell_type": "markdown",
   "metadata": {
    "id": "xCWh-cqF2zaa"
   },
   "source": [
    "`Import necessary libraries`"
   ]
  },
  {
   "cell_type": "code",
   "execution_count": 2,
   "metadata": {
    "id": "4PQUDaP82aJ_"
   },
   "outputs": [],
   "source": [
    "import math as m\n",
    "import numpy as np\n",
    "import pandas as pd\n",
    "import datetime as dt"
   ]
  },
  {
   "cell_type": "markdown",
   "metadata": {
    "id": "oVnEy53X26aB"
   },
   "source": [
    "`Calculation engine`  "
   ]
  },
  {
   "cell_type": "code",
   "execution_count": 3,
   "metadata": {
    "id": "Mbsx04pd2aKD"
   },
   "outputs": [],
   "source": [
    "def expected_move_pct(atm_iv, days_to_expiry, risk_stddev):\n",
    "    exp_move_pct = (atm_iv/(m.sqrt(256/days_to_expiry)))\n",
    "    exp_move_pct_for_desired_risk = exp_move_pct * risk_stddev\n",
    "    return exp_move_pct, exp_move_pct_for_desired_risk\n",
    "\n",
    "def get_strikes(underlying, atm_iv, spot_prev_close, days_to_expiry):\n",
    "\n",
    "    heads = [\"Percentage move\", \"Points to move from spot\", \"Lower strike\", \"Upper strike\"]\n",
    "    df = pd.DataFrame(index=heads)\n",
    "\n",
    "    std_devs = [0.75, 1, 1.25, 1.5, 1.75, 2, 2.5]\n",
    "    for risk_stddev in std_devs:\n",
    "        mv1, mv2 = expected_move_pct(atm_iv, days_to_expiry, risk_stddev)\n",
    "        points_move = spot_prev_close * (mv2/100)\n",
    "        lower_strike = spot_prev_close - points_move\n",
    "        upper_strike = spot_prev_close + points_move\n",
    "\n",
    "        temp = [f\"{round(mv2, 2)}%\", \n",
    "                f\"{int(points_move)}\", f\"{int(lower_strike)}\", f\"{int(upper_strike)}\"]\n",
    "        df[f\"{risk_stddev} SD\"] = temp\n",
    "\n",
    "    statement = f\"Underlying: {underlying.upper()}\\nSpot price of interest: {spot_prev_close}\\nPeriod of interest: {days_to_expiry}\\nATM IV: {atm_iv}\\n\\n\"\n",
    "    print(statement)\n",
    "    return df"
   ]
  },
  {
   "cell_type": "markdown",
   "metadata": {
    "id": "lOUR9rYo3EDq"
   },
   "source": [
    "`Output`  "
   ]
  },
  {
   "cell_type": "code",
   "execution_count": 4,
   "metadata": {
    "colab": {
     "base_uri": "https://localhost:8080/",
     "height": 279
    },
    "id": "RXOi5PDK3BYW",
    "outputId": "15639669-eefa-4ef4-ab05-7ccde4d667db",
    "scrolled": true
   },
   "outputs": [
    {
     "name": "stdout",
     "output_type": "stream",
     "text": [
      "Underlying: NIFTY\n",
      "Spot price of interest: 17800\n",
      "Period of interest: 4\n",
      "ATM IV: 13.6\n",
      "\n",
      "\n"
     ]
    },
    {
     "data": {
      "text/html": [
       "<div>\n",
       "<style scoped>\n",
       "    .dataframe tbody tr th:only-of-type {\n",
       "        vertical-align: middle;\n",
       "    }\n",
       "\n",
       "    .dataframe tbody tr th {\n",
       "        vertical-align: top;\n",
       "    }\n",
       "\n",
       "    .dataframe thead th {\n",
       "        text-align: right;\n",
       "    }\n",
       "</style>\n",
       "<table border=\"1\" class=\"dataframe\">\n",
       "  <thead>\n",
       "    <tr style=\"text-align: right;\">\n",
       "      <th></th>\n",
       "      <th>0.75 SD</th>\n",
       "      <th>1 SD</th>\n",
       "      <th>1.25 SD</th>\n",
       "      <th>1.5 SD</th>\n",
       "      <th>1.75 SD</th>\n",
       "      <th>2 SD</th>\n",
       "      <th>2.5 SD</th>\n",
       "    </tr>\n",
       "  </thead>\n",
       "  <tbody>\n",
       "    <tr>\n",
       "      <th>Percentage move</th>\n",
       "      <td>1.27%</td>\n",
       "      <td>1.7%</td>\n",
       "      <td>2.12%</td>\n",
       "      <td>2.55%</td>\n",
       "      <td>2.98%</td>\n",
       "      <td>3.4%</td>\n",
       "      <td>4.25%</td>\n",
       "    </tr>\n",
       "    <tr>\n",
       "      <th>Points to move from spot</th>\n",
       "      <td>226</td>\n",
       "      <td>302</td>\n",
       "      <td>378</td>\n",
       "      <td>453</td>\n",
       "      <td>529</td>\n",
       "      <td>605</td>\n",
       "      <td>756</td>\n",
       "    </tr>\n",
       "    <tr>\n",
       "      <th>Lower strike</th>\n",
       "      <td>17573</td>\n",
       "      <td>17497</td>\n",
       "      <td>17421</td>\n",
       "      <td>17346</td>\n",
       "      <td>17270</td>\n",
       "      <td>17194</td>\n",
       "      <td>17043</td>\n",
       "    </tr>\n",
       "    <tr>\n",
       "      <th>Upper strike</th>\n",
       "      <td>18026</td>\n",
       "      <td>18102</td>\n",
       "      <td>18178</td>\n",
       "      <td>18253</td>\n",
       "      <td>18329</td>\n",
       "      <td>18405</td>\n",
       "      <td>18556</td>\n",
       "    </tr>\n",
       "  </tbody>\n",
       "</table>\n",
       "</div>"
      ],
      "text/plain": [
       "                         0.75 SD   1 SD 1.25 SD 1.5 SD 1.75 SD   2 SD 2.5 SD\n",
       "Percentage move            1.27%   1.7%   2.12%  2.55%   2.98%   3.4%  4.25%\n",
       "Points to move from spot     226    302     378    453     529    605    756\n",
       "Lower strike               17573  17497   17421  17346   17270  17194  17043\n",
       "Upper strike               18026  18102   18178  18253   18329  18405  18556"
      ]
     },
     "execution_count": 4,
     "metadata": {},
     "output_type": "execute_result"
    }
   ],
   "source": [
    "get_strikes(underlying, atm_iv, spot_prev_close, days_to_expiry)"
   ]
  }
 ],
 "metadata": {
  "colab": {
   "include_colab_link": true,
   "provenance": []
  },
  "kernelspec": {
   "display_name": "Python 3 (ipykernel)",
   "language": "python",
   "name": "python3"
  },
  "language_info": {
   "codemirror_mode": {
    "name": "ipython",
    "version": 3
   },
   "file_extension": ".py",
   "mimetype": "text/x-python",
   "name": "python",
   "nbconvert_exporter": "python",
   "pygments_lexer": "ipython3",
   "version": "3.9.7"
  },
  "vscode": {
   "interpreter": {
    "hash": "a9fc4c7d055303a75ac6825ce3e810b1379669e9cb09d6b336d4c18851158a95"
   }
  }
 },
 "nbformat": 4,
 "nbformat_minor": 1
}
