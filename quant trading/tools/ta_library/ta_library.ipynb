{
 "cells": [
  {
   "cell_type": "code",
   "execution_count": 162,
   "metadata": {},
   "outputs": [],
   "source": [
    "import yfinance as yf\n",
    "from datetime import datetime \n",
    "import pandas as pd\n",
    "import numpy as np\n",
    "import matplotlib.pyplot as plt\n",
    "import ta"
   ]
  },
  {
   "cell_type": "code",
   "execution_count": 163,
   "metadata": {},
   "outputs": [],
   "source": [
    "class Underlying():\n",
    "    period_dict = {\"1m\":\"1d\", \"5m\":\"5d\", \"15m\":\"1mo\", \"30m\":\"1mo\", \"1h\":\"3mo\", \"1d\":\"1y\", \"1wk\":\"10y\", \"1mo\":\"max\"}\n",
    "\n",
    "    def __init__(self, symbol):\n",
    "        self.symbol = symbol\n",
    "    \n",
    "    def get_data(self, timeframe=\"1d\"):\n",
    "        period = Underlying.period_dict[timeframe]\n",
    "        df = yf.download(self.symbol, period=period, interval=timeframe)\n",
    "        return df\n",
    "\n",
    "    def get_data_with_ta(self, timeframe=\"1d\"):\n",
    "        df = Underlying.get_data(self, timeframe)\n",
    "        df_with_ta = ta.add_all_ta_features(df, 'Open', 'High', 'Low', 'Close', 'Volume')\n",
    "        return df_with_ta"
   ]
  },
  {
   "cell_type": "code",
   "execution_count": 164,
   "metadata": {},
   "outputs": [],
   "source": [
    "nifty_symbol = \"^NSEI\""
   ]
  },
  {
   "cell_type": "code",
   "execution_count": 165,
   "metadata": {},
   "outputs": [
    {
     "data": {
      "text/plain": [
       "<__main__.Underlying at 0x7fbf9f32fca0>"
      ]
     },
     "execution_count": 165,
     "metadata": {},
     "output_type": "execute_result"
    }
   ],
   "source": [
    "nifty = Underlying(nifty_symbol)\n",
    "nifty"
   ]
  },
  {
   "cell_type": "code",
   "execution_count": 166,
   "metadata": {},
   "outputs": [
    {
     "name": "stdout",
     "output_type": "stream",
     "text": [
      "[*********************100%***********************]  1 of 1 completed\n"
     ]
    },
    {
     "name": "stderr",
     "output_type": "stream",
     "text": [
      "/home/ganesh/anaconda3/lib/python3.9/site-packages/ta/trend.py:780: RuntimeWarning: invalid value encountered in double_scalars\n",
      "  dip[idx] = 100 * (self._dip[idx] / value)\n",
      "/home/ganesh/anaconda3/lib/python3.9/site-packages/ta/trend.py:785: RuntimeWarning: invalid value encountered in double_scalars\n",
      "  din[idx] = 100 * (self._din[idx] / value)\n"
     ]
    },
    {
     "data": {
      "text/html": [
       "<div>\n",
       "<style scoped>\n",
       "    .dataframe tbody tr th:only-of-type {\n",
       "        vertical-align: middle;\n",
       "    }\n",
       "\n",
       "    .dataframe tbody tr th {\n",
       "        vertical-align: top;\n",
       "    }\n",
       "\n",
       "    .dataframe thead th {\n",
       "        text-align: right;\n",
       "    }\n",
       "</style>\n",
       "<table border=\"1\" class=\"dataframe\">\n",
       "  <thead>\n",
       "    <tr style=\"text-align: right;\">\n",
       "      <th></th>\n",
       "      <th>Open</th>\n",
       "      <th>High</th>\n",
       "      <th>Low</th>\n",
       "      <th>Close</th>\n",
       "      <th>Adj Close</th>\n",
       "      <th>Volume</th>\n",
       "      <th>volume_adi</th>\n",
       "      <th>volume_obv</th>\n",
       "      <th>volume_cmf</th>\n",
       "      <th>volume_fi</th>\n",
       "      <th>...</th>\n",
       "      <th>momentum_ppo</th>\n",
       "      <th>momentum_ppo_signal</th>\n",
       "      <th>momentum_ppo_hist</th>\n",
       "      <th>momentum_pvo</th>\n",
       "      <th>momentum_pvo_signal</th>\n",
       "      <th>momentum_pvo_hist</th>\n",
       "      <th>momentum_kama</th>\n",
       "      <th>others_dr</th>\n",
       "      <th>others_dlr</th>\n",
       "      <th>others_cr</th>\n",
       "    </tr>\n",
       "    <tr>\n",
       "      <th>Date</th>\n",
       "      <th></th>\n",
       "      <th></th>\n",
       "      <th></th>\n",
       "      <th></th>\n",
       "      <th></th>\n",
       "      <th></th>\n",
       "      <th></th>\n",
       "      <th></th>\n",
       "      <th></th>\n",
       "      <th></th>\n",
       "      <th></th>\n",
       "      <th></th>\n",
       "      <th></th>\n",
       "      <th></th>\n",
       "      <th></th>\n",
       "      <th></th>\n",
       "      <th></th>\n",
       "      <th></th>\n",
       "      <th></th>\n",
       "      <th></th>\n",
       "      <th></th>\n",
       "    </tr>\n",
       "  </thead>\n",
       "  <tbody>\n",
       "    <tr>\n",
       "      <th>2023-03-20</th>\n",
       "      <td>17066.599609</td>\n",
       "      <td>17066.599609</td>\n",
       "      <td>16828.349609</td>\n",
       "      <td>16988.400391</td>\n",
       "      <td>16988.400391</td>\n",
       "      <td>241800</td>\n",
       "      <td>3.493870e+06</td>\n",
       "      <td>-3551400</td>\n",
       "      <td>-0.139565</td>\n",
       "      <td>-7.622555e+06</td>\n",
       "      <td>...</td>\n",
       "      <td>-1.166520</td>\n",
       "      <td>-0.915550</td>\n",
       "      <td>-0.250970</td>\n",
       "      <td>2.844267</td>\n",
       "      <td>1.719583</td>\n",
       "      <td>1.124684</td>\n",
       "      <td>17383.305612</td>\n",
       "      <td>-0.652924</td>\n",
       "      <td>-0.655065</td>\n",
       "      <td>-1.360698</td>\n",
       "    </tr>\n",
       "    <tr>\n",
       "      <th>2023-03-21</th>\n",
       "      <td>17060.400391</td>\n",
       "      <td>17127.699219</td>\n",
       "      <td>17016.000000</td>\n",
       "      <td>17107.500000</td>\n",
       "      <td>17107.500000</td>\n",
       "      <td>246700</td>\n",
       "      <td>3.651346e+06</td>\n",
       "      <td>-3304700</td>\n",
       "      <td>-0.087512</td>\n",
       "      <td>-2.336208e+06</td>\n",
       "      <td>...</td>\n",
       "      <td>-1.138848</td>\n",
       "      <td>-0.960209</td>\n",
       "      <td>-0.178639</td>\n",
       "      <td>1.311037</td>\n",
       "      <td>1.637874</td>\n",
       "      <td>-0.326837</td>\n",
       "      <td>17345.198636</td>\n",
       "      <td>0.701064</td>\n",
       "      <td>0.698618</td>\n",
       "      <td>-0.669173</td>\n",
       "    </tr>\n",
       "    <tr>\n",
       "      <th>2023-03-22</th>\n",
       "      <td>17177.449219</td>\n",
       "      <td>17207.250000</td>\n",
       "      <td>17107.849609</td>\n",
       "      <td>17151.900391</td>\n",
       "      <td>17151.900391</td>\n",
       "      <td>0</td>\n",
       "      <td>3.651346e+06</td>\n",
       "      <td>-3304700</td>\n",
       "      <td>-0.069670</td>\n",
       "      <td>-2.002464e+06</td>\n",
       "      <td>...</td>\n",
       "      <td>-1.083767</td>\n",
       "      <td>-0.984921</td>\n",
       "      <td>-0.098846</td>\n",
       "      <td>-7.417298</td>\n",
       "      <td>-0.173160</td>\n",
       "      <td>-7.244138</td>\n",
       "      <td>17318.650908</td>\n",
       "      <td>0.259538</td>\n",
       "      <td>0.259201</td>\n",
       "      <td>-0.411372</td>\n",
       "    </tr>\n",
       "    <tr>\n",
       "      <th>2023-03-23</th>\n",
       "      <td>17097.400391</td>\n",
       "      <td>17205.400391</td>\n",
       "      <td>17045.300781</td>\n",
       "      <td>17076.900391</td>\n",
       "      <td>17076.900391</td>\n",
       "      <td>219200</td>\n",
       "      <td>3.518675e+06</td>\n",
       "      <td>-3523900</td>\n",
       "      <td>-0.064037</td>\n",
       "      <td>-4.064969e+06</td>\n",
       "      <td>...</td>\n",
       "      <td>-1.063104</td>\n",
       "      <td>-1.000558</td>\n",
       "      <td>-0.062546</td>\n",
       "      <td>-7.688228</td>\n",
       "      <td>-1.676174</td>\n",
       "      <td>-6.012054</td>\n",
       "      <td>17289.655032</td>\n",
       "      <td>-0.437269</td>\n",
       "      <td>-0.438228</td>\n",
       "      <td>-0.846843</td>\n",
       "    </tr>\n",
       "    <tr>\n",
       "      <th>2023-03-24</th>\n",
       "      <td>17076.199219</td>\n",
       "      <td>17109.449219</td>\n",
       "      <td>16917.349609</td>\n",
       "      <td>16945.050781</td>\n",
       "      <td>16945.050781</td>\n",
       "      <td>228000</td>\n",
       "      <td>3.356431e+06</td>\n",
       "      <td>-3751900</td>\n",
       "      <td>-0.079800</td>\n",
       "      <td>-7.778789e+06</td>\n",
       "      <td>...</td>\n",
       "      <td>-1.096194</td>\n",
       "      <td>-1.019685</td>\n",
       "      <td>-0.076509</td>\n",
       "      <td>-7.537755</td>\n",
       "      <td>-2.848490</td>\n",
       "      <td>-4.689265</td>\n",
       "      <td>17251.522292</td>\n",
       "      <td>-0.772093</td>\n",
       "      <td>-0.775089</td>\n",
       "      <td>-1.612398</td>\n",
       "    </tr>\n",
       "  </tbody>\n",
       "</table>\n",
       "<p>5 rows × 92 columns</p>\n",
       "</div>"
      ],
      "text/plain": [
       "                    Open          High           Low         Close  \\\n",
       "Date                                                                 \n",
       "2023-03-20  17066.599609  17066.599609  16828.349609  16988.400391   \n",
       "2023-03-21  17060.400391  17127.699219  17016.000000  17107.500000   \n",
       "2023-03-22  17177.449219  17207.250000  17107.849609  17151.900391   \n",
       "2023-03-23  17097.400391  17205.400391  17045.300781  17076.900391   \n",
       "2023-03-24  17076.199219  17109.449219  16917.349609  16945.050781   \n",
       "\n",
       "               Adj Close  Volume    volume_adi  volume_obv  volume_cmf  \\\n",
       "Date                                                                     \n",
       "2023-03-20  16988.400391  241800  3.493870e+06    -3551400   -0.139565   \n",
       "2023-03-21  17107.500000  246700  3.651346e+06    -3304700   -0.087512   \n",
       "2023-03-22  17151.900391       0  3.651346e+06    -3304700   -0.069670   \n",
       "2023-03-23  17076.900391  219200  3.518675e+06    -3523900   -0.064037   \n",
       "2023-03-24  16945.050781  228000  3.356431e+06    -3751900   -0.079800   \n",
       "\n",
       "               volume_fi  ...  momentum_ppo  momentum_ppo_signal  \\\n",
       "Date                      ...                                      \n",
       "2023-03-20 -7.622555e+06  ...     -1.166520            -0.915550   \n",
       "2023-03-21 -2.336208e+06  ...     -1.138848            -0.960209   \n",
       "2023-03-22 -2.002464e+06  ...     -1.083767            -0.984921   \n",
       "2023-03-23 -4.064969e+06  ...     -1.063104            -1.000558   \n",
       "2023-03-24 -7.778789e+06  ...     -1.096194            -1.019685   \n",
       "\n",
       "            momentum_ppo_hist  momentum_pvo  momentum_pvo_signal  \\\n",
       "Date                                                               \n",
       "2023-03-20          -0.250970      2.844267             1.719583   \n",
       "2023-03-21          -0.178639      1.311037             1.637874   \n",
       "2023-03-22          -0.098846     -7.417298            -0.173160   \n",
       "2023-03-23          -0.062546     -7.688228            -1.676174   \n",
       "2023-03-24          -0.076509     -7.537755            -2.848490   \n",
       "\n",
       "            momentum_pvo_hist  momentum_kama  others_dr  others_dlr  others_cr  \n",
       "Date                                                                            \n",
       "2023-03-20           1.124684   17383.305612  -0.652924   -0.655065  -1.360698  \n",
       "2023-03-21          -0.326837   17345.198636   0.701064    0.698618  -0.669173  \n",
       "2023-03-22          -7.244138   17318.650908   0.259538    0.259201  -0.411372  \n",
       "2023-03-23          -6.012054   17289.655032  -0.437269   -0.438228  -0.846843  \n",
       "2023-03-24          -4.689265   17251.522292  -0.772093   -0.775089  -1.612398  \n",
       "\n",
       "[5 rows x 92 columns]"
      ]
     },
     "execution_count": 166,
     "metadata": {},
     "output_type": "execute_result"
    }
   ],
   "source": [
    "df_ta = nifty.get_data_with_ta()\n",
    "df_ta.tail()"
   ]
  },
  {
   "cell_type": "code",
   "execution_count": 167,
   "metadata": {},
   "outputs": [
    {
     "data": {
      "text/plain": [
       "Index(['Open', 'High', 'Low', 'Close', 'Adj Close', 'Volume', 'volume_adi',\n",
       "       'volume_obv', 'volume_cmf', 'volume_fi', 'volume_em', 'volume_sma_em',\n",
       "       'volume_vpt', 'volume_vwap', 'volume_mfi', 'volume_nvi',\n",
       "       'volatility_bbm', 'volatility_bbh', 'volatility_bbl', 'volatility_bbw',\n",
       "       'volatility_bbp', 'volatility_bbhi', 'volatility_bbli',\n",
       "       'volatility_kcc', 'volatility_kch', 'volatility_kcl', 'volatility_kcw',\n",
       "       'volatility_kcp', 'volatility_kchi', 'volatility_kcli',\n",
       "       'volatility_dcl', 'volatility_dch', 'volatility_dcm', 'volatility_dcw',\n",
       "       'volatility_dcp', 'volatility_atr', 'volatility_ui', 'trend_macd',\n",
       "       'trend_macd_signal', 'trend_macd_diff', 'trend_sma_fast',\n",
       "       'trend_sma_slow', 'trend_ema_fast', 'trend_ema_slow',\n",
       "       'trend_vortex_ind_pos', 'trend_vortex_ind_neg', 'trend_vortex_ind_diff',\n",
       "       'trend_trix', 'trend_mass_index', 'trend_dpo', 'trend_kst',\n",
       "       'trend_kst_sig', 'trend_kst_diff', 'trend_ichimoku_conv',\n",
       "       'trend_ichimoku_base', 'trend_ichimoku_a', 'trend_ichimoku_b',\n",
       "       'trend_stc', 'trend_adx', 'trend_adx_pos', 'trend_adx_neg', 'trend_cci',\n",
       "       'trend_visual_ichimoku_a', 'trend_visual_ichimoku_b', 'trend_aroon_up',\n",
       "       'trend_aroon_down', 'trend_aroon_ind', 'trend_psar_up',\n",
       "       'trend_psar_down', 'trend_psar_up_indicator',\n",
       "       'trend_psar_down_indicator', 'momentum_rsi', 'momentum_stoch_rsi',\n",
       "       'momentum_stoch_rsi_k', 'momentum_stoch_rsi_d', 'momentum_tsi',\n",
       "       'momentum_uo', 'momentum_stoch', 'momentum_stoch_signal', 'momentum_wr',\n",
       "       'momentum_ao', 'momentum_roc', 'momentum_ppo', 'momentum_ppo_signal',\n",
       "       'momentum_ppo_hist', 'momentum_pvo', 'momentum_pvo_signal',\n",
       "       'momentum_pvo_hist', 'momentum_kama', 'others_dr', 'others_dlr',\n",
       "       'others_cr'],\n",
       "      dtype='object')"
      ]
     },
     "execution_count": 167,
     "metadata": {},
     "output_type": "execute_result"
    }
   ],
   "source": [
    "df_ta.columns"
   ]
  },
  {
   "cell_type": "code",
   "execution_count": 168,
   "metadata": {},
   "outputs": [
    {
     "data": {
      "text/plain": [
       "35.551257207682895"
      ]
     },
     "execution_count": 168,
     "metadata": {},
     "output_type": "execute_result"
    }
   ],
   "source": [
    "df_ta['momentum_rsi'][-1]"
   ]
  },
  {
   "cell_type": "code",
   "execution_count": 169,
   "metadata": {},
   "outputs": [
    {
     "data": {
      "text/plain": [
       "29.44405029954341"
      ]
     },
     "execution_count": 169,
     "metadata": {},
     "output_type": "execute_result"
    }
   ],
   "source": [
    "df_ta['trend_adx'][-1]"
   ]
  },
  {
   "cell_type": "code",
   "execution_count": 170,
   "metadata": {},
   "outputs": [
    {
     "data": {
      "text/plain": [
       "17127.304524739582"
      ]
     },
     "execution_count": 170,
     "metadata": {},
     "output_type": "execute_result"
    }
   ],
   "source": [
    "df_ta['trend_sma_fast'][-1]"
   ]
  },
  {
   "cell_type": "code",
   "execution_count": 171,
   "metadata": {},
   "outputs": [
    {
     "data": {
      "text/plain": [
       "17147.4465258455"
      ]
     },
     "execution_count": 171,
     "metadata": {},
     "output_type": "execute_result"
    }
   ],
   "source": [
    "df_ta['trend_ema_fast'][-1]"
   ]
  },
  {
   "cell_type": "code",
   "execution_count": 172,
   "metadata": {},
   "outputs": [
    {
     "data": {
      "text/plain": [
       "17393.846228966348"
      ]
     },
     "execution_count": 172,
     "metadata": {},
     "output_type": "execute_result"
    }
   ],
   "source": [
    "df_ta['trend_sma_slow'][-1]"
   ]
  },
  {
   "cell_type": "code",
   "execution_count": 173,
   "metadata": {},
   "outputs": [
    {
     "data": {
      "text/plain": [
       "17337.499224840216"
      ]
     },
     "execution_count": 173,
     "metadata": {},
     "output_type": "execute_result"
    }
   ],
   "source": [
    "df_ta['trend_ema_slow'][-1]\n"
   ]
  },
  {
   "attachments": {},
   "cell_type": "markdown",
   "metadata": {},
   "source": [
    "## Make a table of   \n",
    "`rsi, adx, sma, ema for 5m, 15m, 1h, 1d, 1w, 1mo timeframes`"
   ]
  },
  {
   "cell_type": "code",
   "execution_count": 174,
   "metadata": {},
   "outputs": [
    {
     "data": {
      "text/plain": [
       "['momentum_rsi',\n",
       " 'trend_adx',\n",
       " 'trend_sma_fast',\n",
       " 'trend_sma_slow',\n",
       " 'trend_ema_fast',\n",
       " 'trend_ema_slow']"
      ]
     },
     "execution_count": 174,
     "metadata": {},
     "output_type": "execute_result"
    }
   ],
   "source": [
    "tfs = [\"5m\", \"15m\", \"1h\", \"1d\", \"1wk\", \"1mo\"]\n",
    "indicators = [\"momentum_rsi\", \"trend_adx\", \"trend_sma_fast\", \"trend_sma_slow\", \"trend_ema_fast\", \"trend_ema_slow\"]\n",
    "indicators"
   ]
  },
  {
   "cell_type": "code",
   "execution_count": 175,
   "metadata": {},
   "outputs": [
    {
     "data": {
      "text/plain": [
       "{'momentum_rsi': [],\n",
       " 'trend_adx': [],\n",
       " 'trend_sma_fast': [],\n",
       " 'trend_sma_slow': [],\n",
       " 'trend_ema_fast': [],\n",
       " 'trend_ema_slow': []}"
      ]
     },
     "execution_count": 175,
     "metadata": {},
     "output_type": "execute_result"
    }
   ],
   "source": [
    "dict1 = {ind:[] for ind in indicators}\n",
    "dict1"
   ]
  },
  {
   "cell_type": "code",
   "execution_count": null,
   "metadata": {},
   "outputs": [],
   "source": [
    "for tf in tfs:\n",
    "    df_temp = nifty.get_data_with_ta(timeframe=tf)\n",
    "    for k in dict1.keys():\n",
    "        dict1[k].append(df_temp[k][-1].round(2))\n",
    "# dict1"
   ]
  },
  {
   "cell_type": "code",
   "execution_count": 180,
   "metadata": {},
   "outputs": [
    {
     "data": {
      "text/html": [
       "<div>\n",
       "<style scoped>\n",
       "    .dataframe tbody tr th:only-of-type {\n",
       "        vertical-align: middle;\n",
       "    }\n",
       "\n",
       "    .dataframe tbody tr th {\n",
       "        vertical-align: top;\n",
       "    }\n",
       "\n",
       "    .dataframe thead th {\n",
       "        text-align: right;\n",
       "    }\n",
       "</style>\n",
       "<table border=\"1\" class=\"dataframe\">\n",
       "  <thead>\n",
       "    <tr style=\"text-align: right;\">\n",
       "      <th></th>\n",
       "      <th>0</th>\n",
       "      <th>momentum_rsi</th>\n",
       "      <th>trend_adx</th>\n",
       "      <th>trend_sma_fast</th>\n",
       "      <th>trend_sma_slow</th>\n",
       "      <th>trend_ema_fast</th>\n",
       "      <th>trend_ema_slow</th>\n",
       "    </tr>\n",
       "  </thead>\n",
       "  <tbody>\n",
       "    <tr>\n",
       "      <th>0</th>\n",
       "      <td>5m</td>\n",
       "      <td>36.25</td>\n",
       "      <td>32.50</td>\n",
       "      <td>16960.84</td>\n",
       "      <td>16994.98</td>\n",
       "      <td>16958.76</td>\n",
       "      <td>16986.47</td>\n",
       "    </tr>\n",
       "    <tr>\n",
       "      <th>1</th>\n",
       "      <td>15m</td>\n",
       "      <td>31.36</td>\n",
       "      <td>30.08</td>\n",
       "      <td>17007.59</td>\n",
       "      <td>17032.09</td>\n",
       "      <td>16994.34</td>\n",
       "      <td>17030.11</td>\n",
       "    </tr>\n",
       "    <tr>\n",
       "      <th>2</th>\n",
       "      <td>1h</td>\n",
       "      <td>32.23</td>\n",
       "      <td>20.59</td>\n",
       "      <td>17068.83</td>\n",
       "      <td>17096.80</td>\n",
       "      <td>17046.09</td>\n",
       "      <td>17068.42</td>\n",
       "    </tr>\n",
       "    <tr>\n",
       "      <th>3</th>\n",
       "      <td>1d</td>\n",
       "      <td>35.55</td>\n",
       "      <td>29.44</td>\n",
       "      <td>17127.30</td>\n",
       "      <td>17393.85</td>\n",
       "      <td>17147.45</td>\n",
       "      <td>17337.50</td>\n",
       "    </tr>\n",
       "    <tr>\n",
       "      <th>4</th>\n",
       "      <td>1wk</td>\n",
       "      <td>38.82</td>\n",
       "      <td>14.87</td>\n",
       "      <td>17635.08</td>\n",
       "      <td>17816.92</td>\n",
       "      <td>17544.68</td>\n",
       "      <td>17621.78</td>\n",
       "    </tr>\n",
       "    <tr>\n",
       "      <th>5</th>\n",
       "      <td>1mo</td>\n",
       "      <td>54.04</td>\n",
       "      <td>22.00</td>\n",
       "      <td>17355.52</td>\n",
       "      <td>16828.55</td>\n",
       "      <td>17333.87</td>\n",
       "      <td>16415.63</td>\n",
       "    </tr>\n",
       "  </tbody>\n",
       "</table>\n",
       "</div>"
      ],
      "text/plain": [
       "     0  momentum_rsi  trend_adx  trend_sma_fast  trend_sma_slow  \\\n",
       "0   5m         36.25      32.50        16960.84        16994.98   \n",
       "1  15m         31.36      30.08        17007.59        17032.09   \n",
       "2   1h         32.23      20.59        17068.83        17096.80   \n",
       "3   1d         35.55      29.44        17127.30        17393.85   \n",
       "4  1wk         38.82      14.87        17635.08        17816.92   \n",
       "5  1mo         54.04      22.00        17355.52        16828.55   \n",
       "\n",
       "   trend_ema_fast  trend_ema_slow  \n",
       "0        16958.76        16986.47  \n",
       "1        16994.34        17030.11  \n",
       "2        17046.09        17068.42  \n",
       "3        17147.45        17337.50  \n",
       "4        17544.68        17621.78  \n",
       "5        17333.87        16415.63  "
      ]
     },
     "execution_count": 180,
     "metadata": {},
     "output_type": "execute_result"
    }
   ],
   "source": [
    "df2 = pd.concat([pd.Series(tfs), pd.DataFrame(dict1)], axis=1)\n",
    "df2"
   ]
  }
 ],
 "metadata": {
  "kernelspec": {
   "display_name": "base",
   "language": "python",
   "name": "python3"
  },
  "language_info": {
   "codemirror_mode": {
    "name": "ipython",
    "version": 3
   },
   "file_extension": ".py",
   "mimetype": "text/x-python",
   "name": "python",
   "nbconvert_exporter": "python",
   "pygments_lexer": "ipython3",
   "version": "3.9.7"
  },
  "orig_nbformat": 4
 },
 "nbformat": 4,
 "nbformat_minor": 2
}
