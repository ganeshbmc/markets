{
 "cells": [
  {
   "cell_type": "code",
   "execution_count": 31,
   "metadata": {},
   "outputs": [],
   "source": [
    "import pandas as pd\n",
    "import numpy as np\n",
    "import datetime as dt\n",
    "import math as m"
   ]
  },
  {
   "cell_type": "code",
   "execution_count": 32,
   "metadata": {},
   "outputs": [
    {
     "data": {
      "text/plain": [
       "'0.2.3'"
      ]
     },
     "execution_count": 32,
     "metadata": {},
     "output_type": "execute_result"
    }
   ],
   "source": [
    "import yfinance as yf\n",
    "yf.__version__"
   ]
  },
  {
   "cell_type": "code",
   "execution_count": 33,
   "metadata": {},
   "outputs": [
    {
     "name": "stdout",
     "output_type": "stream",
     "text": [
      "[*********************100%***********************]  1 of 1 completed\n"
     ]
    },
    {
     "data": {
      "text/html": [
       "<div>\n",
       "<style scoped>\n",
       "    .dataframe tbody tr th:only-of-type {\n",
       "        vertical-align: middle;\n",
       "    }\n",
       "\n",
       "    .dataframe tbody tr th {\n",
       "        vertical-align: top;\n",
       "    }\n",
       "\n",
       "    .dataframe thead th {\n",
       "        text-align: right;\n",
       "    }\n",
       "</style>\n",
       "<table border=\"1\" class=\"dataframe\">\n",
       "  <thead>\n",
       "    <tr style=\"text-align: right;\">\n",
       "      <th></th>\n",
       "      <th>Open</th>\n",
       "      <th>High</th>\n",
       "      <th>Low</th>\n",
       "      <th>Close</th>\n",
       "      <th>Adj Close</th>\n",
       "      <th>Volume</th>\n",
       "    </tr>\n",
       "    <tr>\n",
       "      <th>Date</th>\n",
       "      <th></th>\n",
       "      <th></th>\n",
       "      <th></th>\n",
       "      <th></th>\n",
       "      <th></th>\n",
       "      <th></th>\n",
       "    </tr>\n",
       "  </thead>\n",
       "  <tbody>\n",
       "    <tr>\n",
       "      <th>2021-06-01</th>\n",
       "      <td>15629.650391</td>\n",
       "      <td>17153.500000</td>\n",
       "      <td>15450.900391</td>\n",
       "      <td>17132.199219</td>\n",
       "      <td>17132.199219</td>\n",
       "      <td>20185800</td>\n",
       "    </tr>\n",
       "    <tr>\n",
       "      <th>2021-09-01</th>\n",
       "      <td>17185.599609</td>\n",
       "      <td>18604.449219</td>\n",
       "      <td>16782.400391</td>\n",
       "      <td>16983.199219</td>\n",
       "      <td>16983.199219</td>\n",
       "      <td>20459900</td>\n",
       "    </tr>\n",
       "    <tr>\n",
       "      <th>2021-12-01</th>\n",
       "      <td>17104.400391</td>\n",
       "      <td>18350.949219</td>\n",
       "      <td>16203.250000</td>\n",
       "      <td>16793.900391</td>\n",
       "      <td>16793.900391</td>\n",
       "      <td>16554900</td>\n",
       "    </tr>\n",
       "    <tr>\n",
       "      <th>2022-03-01</th>\n",
       "      <td>16593.099609</td>\n",
       "      <td>18114.650391</td>\n",
       "      <td>15671.450195</td>\n",
       "      <td>16584.550781</td>\n",
       "      <td>16584.550781</td>\n",
       "      <td>19960800</td>\n",
       "    </tr>\n",
       "    <tr>\n",
       "      <th>2022-06-01</th>\n",
       "      <td>16594.400391</td>\n",
       "      <td>17992.199219</td>\n",
       "      <td>15183.400391</td>\n",
       "      <td>17759.300781</td>\n",
       "      <td>17759.300781</td>\n",
       "      <td>16578900</td>\n",
       "    </tr>\n",
       "  </tbody>\n",
       "</table>\n",
       "</div>"
      ],
      "text/plain": [
       "                    Open          High           Low         Close  \\\n",
       "Date                                                                 \n",
       "2021-06-01  15629.650391  17153.500000  15450.900391  17132.199219   \n",
       "2021-09-01  17185.599609  18604.449219  16782.400391  16983.199219   \n",
       "2021-12-01  17104.400391  18350.949219  16203.250000  16793.900391   \n",
       "2022-03-01  16593.099609  18114.650391  15671.450195  16584.550781   \n",
       "2022-06-01  16594.400391  17992.199219  15183.400391  17759.300781   \n",
       "\n",
       "               Adj Close    Volume  \n",
       "Date                                \n",
       "2021-06-01  17132.199219  20185800  \n",
       "2021-09-01  16983.199219  20459900  \n",
       "2021-12-01  16793.900391  16554900  \n",
       "2022-03-01  16584.550781  19960800  \n",
       "2022-06-01  17759.300781  16578900  "
      ]
     },
     "execution_count": 33,
     "metadata": {},
     "output_type": "execute_result"
    }
   ],
   "source": [
    "data = yf.download(\"^NSEI\", period=\"15y\", interval=\"3mo\")\n",
    "data = data.iloc[:-2, :]\n",
    "data.tail()"
   ]
  },
  {
   "cell_type": "code",
   "execution_count": 34,
   "metadata": {},
   "outputs": [
    {
     "data": {
      "text/plain": [
       "(59, 6)"
      ]
     },
     "execution_count": 34,
     "metadata": {},
     "output_type": "execute_result"
    }
   ],
   "source": [
    "data.shape"
   ]
  },
  {
   "cell_type": "code",
   "execution_count": 35,
   "metadata": {},
   "outputs": [
    {
     "data": {
      "text/plain": [
       "Index(['Open', 'High', 'Low', 'Close', 'Adj Close', 'Volume'], dtype='object')"
      ]
     },
     "execution_count": 35,
     "metadata": {},
     "output_type": "execute_result"
    }
   ],
   "source": [
    "data.columns"
   ]
  },
  {
   "cell_type": "code",
   "execution_count": 36,
   "metadata": {},
   "outputs": [
    {
     "data": {
      "text/plain": [
       "(59, 6)"
      ]
     },
     "execution_count": 36,
     "metadata": {},
     "output_type": "execute_result"
    }
   ],
   "source": [
    "data.shape"
   ]
  },
  {
   "cell_type": "code",
   "execution_count": 37,
   "metadata": {},
   "outputs": [
    {
     "data": {
      "text/html": [
       "<div>\n",
       "<style scoped>\n",
       "    .dataframe tbody tr th:only-of-type {\n",
       "        vertical-align: middle;\n",
       "    }\n",
       "\n",
       "    .dataframe tbody tr th {\n",
       "        vertical-align: top;\n",
       "    }\n",
       "\n",
       "    .dataframe thead th {\n",
       "        text-align: right;\n",
       "    }\n",
       "</style>\n",
       "<table border=\"1\" class=\"dataframe\">\n",
       "  <thead>\n",
       "    <tr style=\"text-align: right;\">\n",
       "      <th></th>\n",
       "      <th>Open</th>\n",
       "      <th>High</th>\n",
       "      <th>Low</th>\n",
       "      <th>Close</th>\n",
       "      <th>Adj Close</th>\n",
       "      <th>Volume</th>\n",
       "    </tr>\n",
       "    <tr>\n",
       "      <th>Date</th>\n",
       "      <th></th>\n",
       "      <th></th>\n",
       "      <th></th>\n",
       "      <th></th>\n",
       "      <th></th>\n",
       "      <th></th>\n",
       "    </tr>\n",
       "  </thead>\n",
       "  <tbody>\n",
       "    <tr>\n",
       "      <th>2020-12-01</th>\n",
       "      <td>13062.200195</td>\n",
       "      <td>15431.750000</td>\n",
       "      <td>12962.799805</td>\n",
       "      <td>14529.150391</td>\n",
       "      <td>14529.150391</td>\n",
       "      <td>39511400</td>\n",
       "    </tr>\n",
       "    <tr>\n",
       "      <th>2021-03-01</th>\n",
       "      <td>14702.500000</td>\n",
       "      <td>15606.349609</td>\n",
       "      <td>14151.400391</td>\n",
       "      <td>15582.799805</td>\n",
       "      <td>15582.799805</td>\n",
       "      <td>29091400</td>\n",
       "    </tr>\n",
       "    <tr>\n",
       "      <th>2021-06-01</th>\n",
       "      <td>15629.650391</td>\n",
       "      <td>17153.500000</td>\n",
       "      <td>15450.900391</td>\n",
       "      <td>17132.199219</td>\n",
       "      <td>17132.199219</td>\n",
       "      <td>20185800</td>\n",
       "    </tr>\n",
       "    <tr>\n",
       "      <th>2021-09-01</th>\n",
       "      <td>17185.599609</td>\n",
       "      <td>18604.449219</td>\n",
       "      <td>16782.400391</td>\n",
       "      <td>16983.199219</td>\n",
       "      <td>16983.199219</td>\n",
       "      <td>20459900</td>\n",
       "    </tr>\n",
       "    <tr>\n",
       "      <th>2021-12-01</th>\n",
       "      <td>17104.400391</td>\n",
       "      <td>18350.949219</td>\n",
       "      <td>16203.250000</td>\n",
       "      <td>16793.900391</td>\n",
       "      <td>16793.900391</td>\n",
       "      <td>16554900</td>\n",
       "    </tr>\n",
       "  </tbody>\n",
       "</table>\n",
       "</div>"
      ],
      "text/plain": [
       "                    Open          High           Low         Close  \\\n",
       "Date                                                                 \n",
       "2020-12-01  13062.200195  15431.750000  12962.799805  14529.150391   \n",
       "2021-03-01  14702.500000  15606.349609  14151.400391  15582.799805   \n",
       "2021-06-01  15629.650391  17153.500000  15450.900391  17132.199219   \n",
       "2021-09-01  17185.599609  18604.449219  16782.400391  16983.199219   \n",
       "2021-12-01  17104.400391  18350.949219  16203.250000  16793.900391   \n",
       "\n",
       "               Adj Close    Volume  \n",
       "Date                                \n",
       "2020-12-01  14529.150391  39511400  \n",
       "2021-03-01  15582.799805  29091400  \n",
       "2021-06-01  17132.199219  20185800  \n",
       "2021-09-01  16983.199219  20459900  \n",
       "2021-12-01  16793.900391  16554900  "
      ]
     },
     "execution_count": 37,
     "metadata": {},
     "output_type": "execute_result"
    }
   ],
   "source": [
    "df = data[:-2]\n",
    "df.tail()"
   ]
  },
  {
   "cell_type": "code",
   "execution_count": 38,
   "metadata": {},
   "outputs": [
    {
     "data": {
      "text/plain": [
       "(57, 6)"
      ]
     },
     "execution_count": 38,
     "metadata": {},
     "output_type": "execute_result"
    }
   ],
   "source": [
    "df.shape"
   ]
  },
  {
   "cell_type": "code",
   "execution_count": 39,
   "metadata": {},
   "outputs": [
    {
     "name": "stderr",
     "output_type": "stream",
     "text": [
      "/tmp/ipykernel_18376/78158869.py:1: SettingWithCopyWarning: \n",
      "A value is trying to be set on a copy of a slice from a DataFrame.\n",
      "Try using .loc[row_indexer,col_indexer] = value instead\n",
      "\n",
      "See the caveats in the documentation: https://pandas.pydata.org/pandas-docs/stable/user_guide/indexing.html#returning-a-view-versus-a-copy\n",
      "  df['return'] = df['Close'].pct_change()\n"
     ]
    },
    {
     "data": {
      "text/html": [
       "<div>\n",
       "<style scoped>\n",
       "    .dataframe tbody tr th:only-of-type {\n",
       "        vertical-align: middle;\n",
       "    }\n",
       "\n",
       "    .dataframe tbody tr th {\n",
       "        vertical-align: top;\n",
       "    }\n",
       "\n",
       "    .dataframe thead th {\n",
       "        text-align: right;\n",
       "    }\n",
       "</style>\n",
       "<table border=\"1\" class=\"dataframe\">\n",
       "  <thead>\n",
       "    <tr style=\"text-align: right;\">\n",
       "      <th></th>\n",
       "      <th>Open</th>\n",
       "      <th>High</th>\n",
       "      <th>Low</th>\n",
       "      <th>Close</th>\n",
       "      <th>Adj Close</th>\n",
       "      <th>Volume</th>\n",
       "      <th>return</th>\n",
       "    </tr>\n",
       "    <tr>\n",
       "      <th>Date</th>\n",
       "      <th></th>\n",
       "      <th></th>\n",
       "      <th></th>\n",
       "      <th></th>\n",
       "      <th></th>\n",
       "      <th></th>\n",
       "      <th></th>\n",
       "    </tr>\n",
       "  </thead>\n",
       "  <tbody>\n",
       "    <tr>\n",
       "      <th>2007-12-01</th>\n",
       "      <td>6136.750000</td>\n",
       "      <td>6357.100098</td>\n",
       "      <td>4448.500000</td>\n",
       "      <td>5223.500000</td>\n",
       "      <td>5223.500000</td>\n",
       "      <td>0</td>\n",
       "      <td>NaN</td>\n",
       "    </tr>\n",
       "    <tr>\n",
       "      <th>2008-03-01</th>\n",
       "      <td>5222.799805</td>\n",
       "      <td>5298.850098</td>\n",
       "      <td>4468.549805</td>\n",
       "      <td>4870.100098</td>\n",
       "      <td>4870.100098</td>\n",
       "      <td>0</td>\n",
       "      <td>-0.067656</td>\n",
       "    </tr>\n",
       "    <tr>\n",
       "      <th>2008-06-01</th>\n",
       "      <td>4869.250000</td>\n",
       "      <td>4908.799805</td>\n",
       "      <td>3790.199951</td>\n",
       "      <td>4360.000000</td>\n",
       "      <td>4360.000000</td>\n",
       "      <td>0</td>\n",
       "      <td>-0.104741</td>\n",
       "    </tr>\n",
       "    <tr>\n",
       "      <th>2008-09-01</th>\n",
       "      <td>4356.100098</td>\n",
       "      <td>4558.000000</td>\n",
       "      <td>2252.750000</td>\n",
       "      <td>2755.100098</td>\n",
       "      <td>2755.100098</td>\n",
       "      <td>0</td>\n",
       "      <td>-0.368096</td>\n",
       "    </tr>\n",
       "    <tr>\n",
       "      <th>2008-12-01</th>\n",
       "      <td>2755.149902</td>\n",
       "      <td>3147.199951</td>\n",
       "      <td>2570.699951</td>\n",
       "      <td>2763.649902</td>\n",
       "      <td>2763.649902</td>\n",
       "      <td>0</td>\n",
       "      <td>0.003103</td>\n",
       "    </tr>\n",
       "    <tr>\n",
       "      <th>2009-03-01</th>\n",
       "      <td>2764.600098</td>\n",
       "      <td>4509.399902</td>\n",
       "      <td>2539.449951</td>\n",
       "      <td>4448.950195</td>\n",
       "      <td>4448.950195</td>\n",
       "      <td>0</td>\n",
       "      <td>0.609810</td>\n",
       "    </tr>\n",
       "    <tr>\n",
       "      <th>2009-06-01</th>\n",
       "      <td>4450.399902</td>\n",
       "      <td>4743.750000</td>\n",
       "      <td>3918.750000</td>\n",
       "      <td>4662.100098</td>\n",
       "      <td>4662.100098</td>\n",
       "      <td>0</td>\n",
       "      <td>0.047910</td>\n",
       "    </tr>\n",
       "    <tr>\n",
       "      <th>2009-09-01</th>\n",
       "      <td>4662.200195</td>\n",
       "      <td>5181.950195</td>\n",
       "      <td>4538.500000</td>\n",
       "      <td>5032.700195</td>\n",
       "      <td>5032.700195</td>\n",
       "      <td>0</td>\n",
       "      <td>0.079492</td>\n",
       "    </tr>\n",
       "    <tr>\n",
       "      <th>2009-12-01</th>\n",
       "      <td>5039.700195</td>\n",
       "      <td>5310.850098</td>\n",
       "      <td>4675.399902</td>\n",
       "      <td>4922.299805</td>\n",
       "      <td>4922.299805</td>\n",
       "      <td>0</td>\n",
       "      <td>-0.021937</td>\n",
       "    </tr>\n",
       "    <tr>\n",
       "      <th>2010-03-01</th>\n",
       "      <td>4935.600098</td>\n",
       "      <td>5399.649902</td>\n",
       "      <td>4786.450195</td>\n",
       "      <td>5086.299805</td>\n",
       "      <td>5086.299805</td>\n",
       "      <td>0</td>\n",
       "      <td>0.033318</td>\n",
       "    </tr>\n",
       "  </tbody>\n",
       "</table>\n",
       "</div>"
      ],
      "text/plain": [
       "                   Open         High          Low        Close    Adj Close  \\\n",
       "Date                                                                          \n",
       "2007-12-01  6136.750000  6357.100098  4448.500000  5223.500000  5223.500000   \n",
       "2008-03-01  5222.799805  5298.850098  4468.549805  4870.100098  4870.100098   \n",
       "2008-06-01  4869.250000  4908.799805  3790.199951  4360.000000  4360.000000   \n",
       "2008-09-01  4356.100098  4558.000000  2252.750000  2755.100098  2755.100098   \n",
       "2008-12-01  2755.149902  3147.199951  2570.699951  2763.649902  2763.649902   \n",
       "2009-03-01  2764.600098  4509.399902  2539.449951  4448.950195  4448.950195   \n",
       "2009-06-01  4450.399902  4743.750000  3918.750000  4662.100098  4662.100098   \n",
       "2009-09-01  4662.200195  5181.950195  4538.500000  5032.700195  5032.700195   \n",
       "2009-12-01  5039.700195  5310.850098  4675.399902  4922.299805  4922.299805   \n",
       "2010-03-01  4935.600098  5399.649902  4786.450195  5086.299805  5086.299805   \n",
       "\n",
       "            Volume    return  \n",
       "Date                          \n",
       "2007-12-01       0       NaN  \n",
       "2008-03-01       0 -0.067656  \n",
       "2008-06-01       0 -0.104741  \n",
       "2008-09-01       0 -0.368096  \n",
       "2008-12-01       0  0.003103  \n",
       "2009-03-01       0  0.609810  \n",
       "2009-06-01       0  0.047910  \n",
       "2009-09-01       0  0.079492  \n",
       "2009-12-01       0 -0.021937  \n",
       "2010-03-01       0  0.033318  "
      ]
     },
     "execution_count": 39,
     "metadata": {},
     "output_type": "execute_result"
    }
   ],
   "source": [
    "df['return'] = df['Close'].pct_change()\n",
    "df.head(10)"
   ]
  },
  {
   "cell_type": "code",
   "execution_count": 40,
   "metadata": {},
   "outputs": [],
   "source": [
    "import seaborn as sns"
   ]
  },
  {
   "cell_type": "code",
   "execution_count": 41,
   "metadata": {},
   "outputs": [
    {
     "data": {
      "text/plain": [
       "<AxesSubplot:xlabel='return', ylabel='Count'>"
      ]
     },
     "execution_count": 41,
     "metadata": {},
     "output_type": "execute_result"
    },
    {
     "data": {
      "image/png": "[encoded data removed]",
      "text/plain": [
       "<Figure size 432x288 with 1 Axes>"
      ]
     },
     "metadata": {
      "needs_background": "light"
     },
     "output_type": "display_data"
    }
   ],
   "source": [
    "sns.histplot(data=df[\"return\"],binwidth=0.05, binrange=(-0.3, 0.3), stat='count', kde=True)"
   ]
  },
  {
   "cell_type": "code",
   "execution_count": 42,
   "metadata": {},
   "outputs": [
    {
     "data": {
      "text/plain": [
       "count    56.000000\n",
       "mean      0.028182\n",
       "std       0.124105\n",
       "min      -0.368096\n",
       "25%      -0.048553\n",
       "50%       0.030341\n",
       "75%       0.085892\n",
       "max       0.609810\n",
       "Name: return, dtype: float64"
      ]
     },
     "execution_count": 42,
     "metadata": {},
     "output_type": "execute_result"
    }
   ],
   "source": [
    "df['return'].describe()"
   ]
  },
  {
   "cell_type": "code",
   "execution_count": 61,
   "metadata": {},
   "outputs": [
    {
     "data": {
      "text/plain": [
       "Date\n",
       "2008-03-01   -0.067656\n",
       "2008-06-01   -0.104741\n",
       "2008-09-01   -0.368096\n",
       "2008-12-01    0.003103\n",
       "2009-03-01    0.609810\n",
       "2009-06-01    0.047910\n",
       "2009-09-01    0.079492\n",
       "2009-12-01   -0.021937\n",
       "2010-03-01    0.033318\n",
       "2010-06-01    0.062147\n",
       "Name: return, dtype: float64"
      ]
     },
     "execution_count": 61,
     "metadata": {},
     "output_type": "execute_result"
    }
   ],
   "source": [
    "returns = df[1:]['return']\n",
    "returns.head(10)"
   ]
  },
  {
   "cell_type": "code",
   "execution_count": 44,
   "metadata": {},
   "outputs": [
    {
     "name": "stdout",
     "output_type": "stream",
     "text": [
      "Nifty losing streaks on monthly basis since 2009:\n"
     ]
    },
    {
     "data": {
      "text/plain": [
       "[[-7.000000000000001, -10.0, -37.0],\n",
       " [-9.0, -3.0],\n",
       " [-5.0, -5.0],\n",
       " [-7.000000000000001, -1.0],\n",
       " [-7.000000000000001, -14.000000000000002]]"
      ]
     },
     "execution_count": 44,
     "metadata": {},
     "output_type": "execute_result"
    }
   ],
   "source": [
    "losing_streaks = []\n",
    "\n",
    "losing_streak = []\n",
    "for ret in returns:\n",
    "    ret = round(float(ret), 2)\n",
    "    # print(ret)\n",
    "    if ret < 0:\n",
    "        losing_streak.append(ret*100)\n",
    "    else:\n",
    "        if len(losing_streak) >1:\n",
    "            losing_streaks.append(losing_streak)\n",
    "        losing_streak = []\n",
    "print(f\"Nifty losing streaks on monthly basis since 2009:\")\n",
    "losing_streaks"
   ]
  },
  {
   "cell_type": "code",
   "execution_count": 45,
   "metadata": {},
   "outputs": [
    {
     "name": "stdout",
     "output_type": "stream",
     "text": [
      "Nifty winning streaks on monthly basis since 2009:\n"
     ]
    },
    {
     "data": {
      "text/plain": [
       "[[0.31, 60.98, 4.79, 7.95],\n",
       " [3.33, 6.21, 8.52],\n",
       " [6.79, 11.82],\n",
       " [12.87, 1.63, 15.18, 10.02, 7.97, 2.98],\n",
       " [16.79, 7.67],\n",
       " [7.97, 8.35, 3.08, 3.11, 2.6, 2.32, 8.8],\n",
       " [18.86, 13.89, 12.03, 7.25, 9.94]]"
      ]
     },
     "execution_count": 45,
     "metadata": {},
     "output_type": "execute_result"
    }
   ],
   "source": [
    "winning_streaks = []\n",
    "\n",
    "winning_streak = []\n",
    "for ret in returns:\n",
    "    ret = round(float(ret*100), 2)\n",
    "    # print(ret)\n",
    "    if ret > 0:\n",
    "        winning_streak.append(ret)\n",
    "    else:\n",
    "        if len(winning_streak) > 1: \n",
    "            winning_streaks.append(winning_streak)\n",
    "        winning_streak = []\n",
    "print(f\"Nifty winning streaks on monthly basis since 2009:\")\n",
    "winning_streaks"
   ]
  },
  {
   "cell_type": "markdown",
   "metadata": {},
   "source": [
    "`Average returns on monthly ITM call`  "
   ]
  },
  {
   "cell_type": "code",
   "execution_count": 46,
   "metadata": {},
   "outputs": [
    {
     "data": {
      "text/html": [
       "<div>\n",
       "<style scoped>\n",
       "    .dataframe tbody tr th:only-of-type {\n",
       "        vertical-align: middle;\n",
       "    }\n",
       "\n",
       "    .dataframe tbody tr th {\n",
       "        vertical-align: top;\n",
       "    }\n",
       "\n",
       "    .dataframe thead th {\n",
       "        text-align: right;\n",
       "    }\n",
       "</style>\n",
       "<table border=\"1\" class=\"dataframe\">\n",
       "  <thead>\n",
       "    <tr style=\"text-align: right;\">\n",
       "      <th></th>\n",
       "      <th>Open</th>\n",
       "      <th>High</th>\n",
       "      <th>Low</th>\n",
       "      <th>Close</th>\n",
       "      <th>Adj Close</th>\n",
       "      <th>Volume</th>\n",
       "      <th>return</th>\n",
       "    </tr>\n",
       "    <tr>\n",
       "      <th>Date</th>\n",
       "      <th></th>\n",
       "      <th></th>\n",
       "      <th></th>\n",
       "      <th></th>\n",
       "      <th></th>\n",
       "      <th></th>\n",
       "      <th></th>\n",
       "    </tr>\n",
       "  </thead>\n",
       "  <tbody>\n",
       "    <tr>\n",
       "      <th>2007-12-01</th>\n",
       "      <td>6136.750000</td>\n",
       "      <td>6357.100098</td>\n",
       "      <td>4448.500000</td>\n",
       "      <td>5223.500000</td>\n",
       "      <td>5223.500000</td>\n",
       "      <td>0</td>\n",
       "      <td>NaN</td>\n",
       "    </tr>\n",
       "    <tr>\n",
       "      <th>2008-03-01</th>\n",
       "      <td>5222.799805</td>\n",
       "      <td>5298.850098</td>\n",
       "      <td>4468.549805</td>\n",
       "      <td>4870.100098</td>\n",
       "      <td>4870.100098</td>\n",
       "      <td>0</td>\n",
       "      <td>-0.067656</td>\n",
       "    </tr>\n",
       "    <tr>\n",
       "      <th>2008-06-01</th>\n",
       "      <td>4869.250000</td>\n",
       "      <td>4908.799805</td>\n",
       "      <td>3790.199951</td>\n",
       "      <td>4360.000000</td>\n",
       "      <td>4360.000000</td>\n",
       "      <td>0</td>\n",
       "      <td>-0.104741</td>\n",
       "    </tr>\n",
       "    <tr>\n",
       "      <th>2008-09-01</th>\n",
       "      <td>4356.100098</td>\n",
       "      <td>4558.000000</td>\n",
       "      <td>2252.750000</td>\n",
       "      <td>2755.100098</td>\n",
       "      <td>2755.100098</td>\n",
       "      <td>0</td>\n",
       "      <td>-0.368096</td>\n",
       "    </tr>\n",
       "    <tr>\n",
       "      <th>2008-12-01</th>\n",
       "      <td>2755.149902</td>\n",
       "      <td>3147.199951</td>\n",
       "      <td>2570.699951</td>\n",
       "      <td>2763.649902</td>\n",
       "      <td>2763.649902</td>\n",
       "      <td>0</td>\n",
       "      <td>0.003103</td>\n",
       "    </tr>\n",
       "  </tbody>\n",
       "</table>\n",
       "</div>"
      ],
      "text/plain": [
       "                   Open         High          Low        Close    Adj Close  \\\n",
       "Date                                                                          \n",
       "2007-12-01  6136.750000  6357.100098  4448.500000  5223.500000  5223.500000   \n",
       "2008-03-01  5222.799805  5298.850098  4468.549805  4870.100098  4870.100098   \n",
       "2008-06-01  4869.250000  4908.799805  3790.199951  4360.000000  4360.000000   \n",
       "2008-09-01  4356.100098  4558.000000  2252.750000  2755.100098  2755.100098   \n",
       "2008-12-01  2755.149902  3147.199951  2570.699951  2763.649902  2763.649902   \n",
       "\n",
       "            Volume    return  \n",
       "Date                          \n",
       "2007-12-01       0       NaN  \n",
       "2008-03-01       0 -0.067656  \n",
       "2008-06-01       0 -0.104741  \n",
       "2008-09-01       0 -0.368096  \n",
       "2008-12-01       0  0.003103  "
      ]
     },
     "execution_count": 46,
     "metadata": {},
     "output_type": "execute_result"
    }
   ],
   "source": [
    "itm_call_df = df\n",
    "itm_call_df.head()"
   ]
  },
  {
   "cell_type": "code",
   "execution_count": 47,
   "metadata": {},
   "outputs": [
    {
     "data": {
      "text/plain": [
       "(57, 7)"
      ]
     },
     "execution_count": 47,
     "metadata": {},
     "output_type": "execute_result"
    }
   ],
   "source": [
    "itm_call_df.shape"
   ]
  },
  {
   "cell_type": "code",
   "execution_count": 48,
   "metadata": {},
   "outputs": [
    {
     "name": "stderr",
     "output_type": "stream",
     "text": [
      "/tmp/ipykernel_18376/220690599.py:1: SettingWithCopyWarning: \n",
      "A value is trying to be set on a copy of a slice from a DataFrame.\n",
      "Try using .loc[row_indexer,col_indexer] = value instead\n",
      "\n",
      "See the caveats in the documentation: https://pandas.pydata.org/pandas-docs/stable/user_guide/indexing.html#returning-a-view-versus-a-copy\n",
      "  itm_call_df[\"points_gained\"] = itm_call_df[\"Close\"].diff()\n"
     ]
    },
    {
     "data": {
      "text/html": [
       "<div>\n",
       "<style scoped>\n",
       "    .dataframe tbody tr th:only-of-type {\n",
       "        vertical-align: middle;\n",
       "    }\n",
       "\n",
       "    .dataframe tbody tr th {\n",
       "        vertical-align: top;\n",
       "    }\n",
       "\n",
       "    .dataframe thead th {\n",
       "        text-align: right;\n",
       "    }\n",
       "</style>\n",
       "<table border=\"1\" class=\"dataframe\">\n",
       "  <thead>\n",
       "    <tr style=\"text-align: right;\">\n",
       "      <th></th>\n",
       "      <th>Open</th>\n",
       "      <th>High</th>\n",
       "      <th>Low</th>\n",
       "      <th>Close</th>\n",
       "      <th>Adj Close</th>\n",
       "      <th>Volume</th>\n",
       "      <th>return</th>\n",
       "      <th>points_gained</th>\n",
       "    </tr>\n",
       "    <tr>\n",
       "      <th>Date</th>\n",
       "      <th></th>\n",
       "      <th></th>\n",
       "      <th></th>\n",
       "      <th></th>\n",
       "      <th></th>\n",
       "      <th></th>\n",
       "      <th></th>\n",
       "      <th></th>\n",
       "    </tr>\n",
       "  </thead>\n",
       "  <tbody>\n",
       "    <tr>\n",
       "      <th>2007-12-01</th>\n",
       "      <td>6136.750000</td>\n",
       "      <td>6357.100098</td>\n",
       "      <td>4448.500000</td>\n",
       "      <td>5223.500000</td>\n",
       "      <td>5223.500000</td>\n",
       "      <td>0</td>\n",
       "      <td>NaN</td>\n",
       "      <td>NaN</td>\n",
       "    </tr>\n",
       "    <tr>\n",
       "      <th>2008-03-01</th>\n",
       "      <td>5222.799805</td>\n",
       "      <td>5298.850098</td>\n",
       "      <td>4468.549805</td>\n",
       "      <td>4870.100098</td>\n",
       "      <td>4870.100098</td>\n",
       "      <td>0</td>\n",
       "      <td>-0.067656</td>\n",
       "      <td>-353.399902</td>\n",
       "    </tr>\n",
       "    <tr>\n",
       "      <th>2008-06-01</th>\n",
       "      <td>4869.250000</td>\n",
       "      <td>4908.799805</td>\n",
       "      <td>3790.199951</td>\n",
       "      <td>4360.000000</td>\n",
       "      <td>4360.000000</td>\n",
       "      <td>0</td>\n",
       "      <td>-0.104741</td>\n",
       "      <td>-510.100098</td>\n",
       "    </tr>\n",
       "    <tr>\n",
       "      <th>2008-09-01</th>\n",
       "      <td>4356.100098</td>\n",
       "      <td>4558.000000</td>\n",
       "      <td>2252.750000</td>\n",
       "      <td>2755.100098</td>\n",
       "      <td>2755.100098</td>\n",
       "      <td>0</td>\n",
       "      <td>-0.368096</td>\n",
       "      <td>-1604.899902</td>\n",
       "    </tr>\n",
       "    <tr>\n",
       "      <th>2008-12-01</th>\n",
       "      <td>2755.149902</td>\n",
       "      <td>3147.199951</td>\n",
       "      <td>2570.699951</td>\n",
       "      <td>2763.649902</td>\n",
       "      <td>2763.649902</td>\n",
       "      <td>0</td>\n",
       "      <td>0.003103</td>\n",
       "      <td>8.549805</td>\n",
       "    </tr>\n",
       "    <tr>\n",
       "      <th>2009-03-01</th>\n",
       "      <td>2764.600098</td>\n",
       "      <td>4509.399902</td>\n",
       "      <td>2539.449951</td>\n",
       "      <td>4448.950195</td>\n",
       "      <td>4448.950195</td>\n",
       "      <td>0</td>\n",
       "      <td>0.609810</td>\n",
       "      <td>1685.300293</td>\n",
       "    </tr>\n",
       "    <tr>\n",
       "      <th>2009-06-01</th>\n",
       "      <td>4450.399902</td>\n",
       "      <td>4743.750000</td>\n",
       "      <td>3918.750000</td>\n",
       "      <td>4662.100098</td>\n",
       "      <td>4662.100098</td>\n",
       "      <td>0</td>\n",
       "      <td>0.047910</td>\n",
       "      <td>213.149902</td>\n",
       "    </tr>\n",
       "    <tr>\n",
       "      <th>2009-09-01</th>\n",
       "      <td>4662.200195</td>\n",
       "      <td>5181.950195</td>\n",
       "      <td>4538.500000</td>\n",
       "      <td>5032.700195</td>\n",
       "      <td>5032.700195</td>\n",
       "      <td>0</td>\n",
       "      <td>0.079492</td>\n",
       "      <td>370.600098</td>\n",
       "    </tr>\n",
       "    <tr>\n",
       "      <th>2009-12-01</th>\n",
       "      <td>5039.700195</td>\n",
       "      <td>5310.850098</td>\n",
       "      <td>4675.399902</td>\n",
       "      <td>4922.299805</td>\n",
       "      <td>4922.299805</td>\n",
       "      <td>0</td>\n",
       "      <td>-0.021937</td>\n",
       "      <td>-110.400391</td>\n",
       "    </tr>\n",
       "    <tr>\n",
       "      <th>2010-03-01</th>\n",
       "      <td>4935.600098</td>\n",
       "      <td>5399.649902</td>\n",
       "      <td>4786.450195</td>\n",
       "      <td>5086.299805</td>\n",
       "      <td>5086.299805</td>\n",
       "      <td>0</td>\n",
       "      <td>0.033318</td>\n",
       "      <td>164.000000</td>\n",
       "    </tr>\n",
       "  </tbody>\n",
       "</table>\n",
       "</div>"
      ],
      "text/plain": [
       "                   Open         High          Low        Close    Adj Close  \\\n",
       "Date                                                                          \n",
       "2007-12-01  6136.750000  6357.100098  4448.500000  5223.500000  5223.500000   \n",
       "2008-03-01  5222.799805  5298.850098  4468.549805  4870.100098  4870.100098   \n",
       "2008-06-01  4869.250000  4908.799805  3790.199951  4360.000000  4360.000000   \n",
       "2008-09-01  4356.100098  4558.000000  2252.750000  2755.100098  2755.100098   \n",
       "2008-12-01  2755.149902  3147.199951  2570.699951  2763.649902  2763.649902   \n",
       "2009-03-01  2764.600098  4509.399902  2539.449951  4448.950195  4448.950195   \n",
       "2009-06-01  4450.399902  4743.750000  3918.750000  4662.100098  4662.100098   \n",
       "2009-09-01  4662.200195  5181.950195  4538.500000  5032.700195  5032.700195   \n",
       "2009-12-01  5039.700195  5310.850098  4675.399902  4922.299805  4922.299805   \n",
       "2010-03-01  4935.600098  5399.649902  4786.450195  5086.299805  5086.299805   \n",
       "\n",
       "            Volume    return  points_gained  \n",
       "Date                                         \n",
       "2007-12-01       0       NaN            NaN  \n",
       "2008-03-01       0 -0.067656    -353.399902  \n",
       "2008-06-01       0 -0.104741    -510.100098  \n",
       "2008-09-01       0 -0.368096   -1604.899902  \n",
       "2008-12-01       0  0.003103       8.549805  \n",
       "2009-03-01       0  0.609810    1685.300293  \n",
       "2009-06-01       0  0.047910     213.149902  \n",
       "2009-09-01       0  0.079492     370.600098  \n",
       "2009-12-01       0 -0.021937    -110.400391  \n",
       "2010-03-01       0  0.033318     164.000000  "
      ]
     },
     "execution_count": 48,
     "metadata": {},
     "output_type": "execute_result"
    }
   ],
   "source": [
    "itm_call_df[\"points_gained\"] = itm_call_df[\"Close\"].diff()\n",
    "itm_call_df.head(10)"
   ]
  },
  {
   "cell_type": "code",
   "execution_count": 49,
   "metadata": {},
   "outputs": [
    {
     "name": "stderr",
     "output_type": "stream",
     "text": [
      "/tmp/ipykernel_18376/202879891.py:1: SettingWithCopyWarning: \n",
      "A value is trying to be set on a copy of a slice from a DataFrame.\n",
      "Try using .loc[row_indexer,col_indexer] = value instead\n",
      "\n",
      "See the caveats in the documentation: https://pandas.pydata.org/pandas-docs/stable/user_guide/indexing.html#returning-a-view-versus-a-copy\n",
      "  itm_call_df[\"call_price\"] = itm_call_df[\"Close\"] * 0.066\n"
     ]
    },
    {
     "data": {
      "text/plain": [
       "Date\n",
       "2007-12-01           NaN\n",
       "2008-03-01    344.751000\n",
       "2008-06-01    321.426606\n",
       "2008-09-01    287.760000\n",
       "2008-12-01    181.836606\n",
       "Name: call_price, dtype: float64"
      ]
     },
     "execution_count": 49,
     "metadata": {},
     "output_type": "execute_result"
    }
   ],
   "source": [
    "itm_call_df[\"call_price\"] = itm_call_df[\"Close\"] * 0.066\n",
    "cp = itm_call_df[\"call_price\"].shift(periods=1)\n",
    "cp.head()"
   ]
  },
  {
   "cell_type": "code",
   "execution_count": 50,
   "metadata": {},
   "outputs": [
    {
     "name": "stderr",
     "output_type": "stream",
     "text": [
      "/tmp/ipykernel_18376/358166551.py:1: SettingWithCopyWarning: \n",
      "A value is trying to be set on a copy of a slice from a DataFrame.\n",
      "Try using .loc[row_indexer,col_indexer] = value instead\n",
      "\n",
      "See the caveats in the documentation: https://pandas.pydata.org/pandas-docs/stable/user_guide/indexing.html#returning-a-view-versus-a-copy\n",
      "  itm_call_df[\"call_price\"] = cp\n"
     ]
    },
    {
     "data": {
      "text/html": [
       "<div>\n",
       "<style scoped>\n",
       "    .dataframe tbody tr th:only-of-type {\n",
       "        vertical-align: middle;\n",
       "    }\n",
       "\n",
       "    .dataframe tbody tr th {\n",
       "        vertical-align: top;\n",
       "    }\n",
       "\n",
       "    .dataframe thead th {\n",
       "        text-align: right;\n",
       "    }\n",
       "</style>\n",
       "<table border=\"1\" class=\"dataframe\">\n",
       "  <thead>\n",
       "    <tr style=\"text-align: right;\">\n",
       "      <th></th>\n",
       "      <th>Open</th>\n",
       "      <th>High</th>\n",
       "      <th>Low</th>\n",
       "      <th>Close</th>\n",
       "      <th>Adj Close</th>\n",
       "      <th>Volume</th>\n",
       "      <th>return</th>\n",
       "      <th>points_gained</th>\n",
       "      <th>call_price</th>\n",
       "    </tr>\n",
       "    <tr>\n",
       "      <th>Date</th>\n",
       "      <th></th>\n",
       "      <th></th>\n",
       "      <th></th>\n",
       "      <th></th>\n",
       "      <th></th>\n",
       "      <th></th>\n",
       "      <th></th>\n",
       "      <th></th>\n",
       "      <th></th>\n",
       "    </tr>\n",
       "  </thead>\n",
       "  <tbody>\n",
       "    <tr>\n",
       "      <th>2007-12-01</th>\n",
       "      <td>6136.750000</td>\n",
       "      <td>6357.100098</td>\n",
       "      <td>4448.500000</td>\n",
       "      <td>5223.500000</td>\n",
       "      <td>5223.500000</td>\n",
       "      <td>0</td>\n",
       "      <td>NaN</td>\n",
       "      <td>NaN</td>\n",
       "      <td>NaN</td>\n",
       "    </tr>\n",
       "    <tr>\n",
       "      <th>2008-03-01</th>\n",
       "      <td>5222.799805</td>\n",
       "      <td>5298.850098</td>\n",
       "      <td>4468.549805</td>\n",
       "      <td>4870.100098</td>\n",
       "      <td>4870.100098</td>\n",
       "      <td>0</td>\n",
       "      <td>-0.067656</td>\n",
       "      <td>-353.399902</td>\n",
       "      <td>344.751000</td>\n",
       "    </tr>\n",
       "    <tr>\n",
       "      <th>2008-06-01</th>\n",
       "      <td>4869.250000</td>\n",
       "      <td>4908.799805</td>\n",
       "      <td>3790.199951</td>\n",
       "      <td>4360.000000</td>\n",
       "      <td>4360.000000</td>\n",
       "      <td>0</td>\n",
       "      <td>-0.104741</td>\n",
       "      <td>-510.100098</td>\n",
       "      <td>321.426606</td>\n",
       "    </tr>\n",
       "    <tr>\n",
       "      <th>2008-09-01</th>\n",
       "      <td>4356.100098</td>\n",
       "      <td>4558.000000</td>\n",
       "      <td>2252.750000</td>\n",
       "      <td>2755.100098</td>\n",
       "      <td>2755.100098</td>\n",
       "      <td>0</td>\n",
       "      <td>-0.368096</td>\n",
       "      <td>-1604.899902</td>\n",
       "      <td>287.760000</td>\n",
       "    </tr>\n",
       "    <tr>\n",
       "      <th>2008-12-01</th>\n",
       "      <td>2755.149902</td>\n",
       "      <td>3147.199951</td>\n",
       "      <td>2570.699951</td>\n",
       "      <td>2763.649902</td>\n",
       "      <td>2763.649902</td>\n",
       "      <td>0</td>\n",
       "      <td>0.003103</td>\n",
       "      <td>8.549805</td>\n",
       "      <td>181.836606</td>\n",
       "    </tr>\n",
       "  </tbody>\n",
       "</table>\n",
       "</div>"
      ],
      "text/plain": [
       "                   Open         High          Low        Close    Adj Close  \\\n",
       "Date                                                                          \n",
       "2007-12-01  6136.750000  6357.100098  4448.500000  5223.500000  5223.500000   \n",
       "2008-03-01  5222.799805  5298.850098  4468.549805  4870.100098  4870.100098   \n",
       "2008-06-01  4869.250000  4908.799805  3790.199951  4360.000000  4360.000000   \n",
       "2008-09-01  4356.100098  4558.000000  2252.750000  2755.100098  2755.100098   \n",
       "2008-12-01  2755.149902  3147.199951  2570.699951  2763.649902  2763.649902   \n",
       "\n",
       "            Volume    return  points_gained  call_price  \n",
       "Date                                                     \n",
       "2007-12-01       0       NaN            NaN         NaN  \n",
       "2008-03-01       0 -0.067656    -353.399902  344.751000  \n",
       "2008-06-01       0 -0.104741    -510.100098  321.426606  \n",
       "2008-09-01       0 -0.368096   -1604.899902  287.760000  \n",
       "2008-12-01       0  0.003103       8.549805  181.836606  "
      ]
     },
     "execution_count": 50,
     "metadata": {},
     "output_type": "execute_result"
    }
   ],
   "source": [
    "itm_call_df[\"call_price\"] = cp\n",
    "itm_call_df.head()"
   ]
  },
  {
   "cell_type": "code",
   "execution_count": 51,
   "metadata": {},
   "outputs": [
    {
     "name": "stderr",
     "output_type": "stream",
     "text": [
      "/tmp/ipykernel_18376/2784610436.py:1: SettingWithCopyWarning: \n",
      "A value is trying to be set on a copy of a slice from a DataFrame.\n",
      "Try using .loc[row_indexer,col_indexer] = value instead\n",
      "\n",
      "See the caveats in the documentation: https://pandas.pydata.org/pandas-docs/stable/user_guide/indexing.html#returning-a-view-versus-a-copy\n",
      "  itm_call_df[\"max_loss\"] = itm_call_df[\"call_price\"] * 50 * (-1)\n"
     ]
    },
    {
     "data": {
      "text/html": [
       "<div>\n",
       "<style scoped>\n",
       "    .dataframe tbody tr th:only-of-type {\n",
       "        vertical-align: middle;\n",
       "    }\n",
       "\n",
       "    .dataframe tbody tr th {\n",
       "        vertical-align: top;\n",
       "    }\n",
       "\n",
       "    .dataframe thead th {\n",
       "        text-align: right;\n",
       "    }\n",
       "</style>\n",
       "<table border=\"1\" class=\"dataframe\">\n",
       "  <thead>\n",
       "    <tr style=\"text-align: right;\">\n",
       "      <th></th>\n",
       "      <th>Open</th>\n",
       "      <th>High</th>\n",
       "      <th>Low</th>\n",
       "      <th>Close</th>\n",
       "      <th>Adj Close</th>\n",
       "      <th>Volume</th>\n",
       "      <th>return</th>\n",
       "      <th>points_gained</th>\n",
       "      <th>call_price</th>\n",
       "      <th>max_loss</th>\n",
       "    </tr>\n",
       "    <tr>\n",
       "      <th>Date</th>\n",
       "      <th></th>\n",
       "      <th></th>\n",
       "      <th></th>\n",
       "      <th></th>\n",
       "      <th></th>\n",
       "      <th></th>\n",
       "      <th></th>\n",
       "      <th></th>\n",
       "      <th></th>\n",
       "      <th></th>\n",
       "    </tr>\n",
       "  </thead>\n",
       "  <tbody>\n",
       "    <tr>\n",
       "      <th>2007-12-01</th>\n",
       "      <td>6136.750000</td>\n",
       "      <td>6357.100098</td>\n",
       "      <td>4448.500000</td>\n",
       "      <td>5223.500000</td>\n",
       "      <td>5223.500000</td>\n",
       "      <td>0</td>\n",
       "      <td>NaN</td>\n",
       "      <td>NaN</td>\n",
       "      <td>NaN</td>\n",
       "      <td>NaN</td>\n",
       "    </tr>\n",
       "    <tr>\n",
       "      <th>2008-03-01</th>\n",
       "      <td>5222.799805</td>\n",
       "      <td>5298.850098</td>\n",
       "      <td>4468.549805</td>\n",
       "      <td>4870.100098</td>\n",
       "      <td>4870.100098</td>\n",
       "      <td>0</td>\n",
       "      <td>-0.067656</td>\n",
       "      <td>-353.399902</td>\n",
       "      <td>344.751000</td>\n",
       "      <td>-17237.550000</td>\n",
       "    </tr>\n",
       "    <tr>\n",
       "      <th>2008-06-01</th>\n",
       "      <td>4869.250000</td>\n",
       "      <td>4908.799805</td>\n",
       "      <td>3790.199951</td>\n",
       "      <td>4360.000000</td>\n",
       "      <td>4360.000000</td>\n",
       "      <td>0</td>\n",
       "      <td>-0.104741</td>\n",
       "      <td>-510.100098</td>\n",
       "      <td>321.426606</td>\n",
       "      <td>-16071.330322</td>\n",
       "    </tr>\n",
       "    <tr>\n",
       "      <th>2008-09-01</th>\n",
       "      <td>4356.100098</td>\n",
       "      <td>4558.000000</td>\n",
       "      <td>2252.750000</td>\n",
       "      <td>2755.100098</td>\n",
       "      <td>2755.100098</td>\n",
       "      <td>0</td>\n",
       "      <td>-0.368096</td>\n",
       "      <td>-1604.899902</td>\n",
       "      <td>287.760000</td>\n",
       "      <td>-14388.000000</td>\n",
       "    </tr>\n",
       "    <tr>\n",
       "      <th>2008-12-01</th>\n",
       "      <td>2755.149902</td>\n",
       "      <td>3147.199951</td>\n",
       "      <td>2570.699951</td>\n",
       "      <td>2763.649902</td>\n",
       "      <td>2763.649902</td>\n",
       "      <td>0</td>\n",
       "      <td>0.003103</td>\n",
       "      <td>8.549805</td>\n",
       "      <td>181.836606</td>\n",
       "      <td>-9091.830322</td>\n",
       "    </tr>\n",
       "  </tbody>\n",
       "</table>\n",
       "</div>"
      ],
      "text/plain": [
       "                   Open         High          Low        Close    Adj Close  \\\n",
       "Date                                                                          \n",
       "2007-12-01  6136.750000  6357.100098  4448.500000  5223.500000  5223.500000   \n",
       "2008-03-01  5222.799805  5298.850098  4468.549805  4870.100098  4870.100098   \n",
       "2008-06-01  4869.250000  4908.799805  3790.199951  4360.000000  4360.000000   \n",
       "2008-09-01  4356.100098  4558.000000  2252.750000  2755.100098  2755.100098   \n",
       "2008-12-01  2755.149902  3147.199951  2570.699951  2763.649902  2763.649902   \n",
       "\n",
       "            Volume    return  points_gained  call_price      max_loss  \n",
       "Date                                                                   \n",
       "2007-12-01       0       NaN            NaN         NaN           NaN  \n",
       "2008-03-01       0 -0.067656    -353.399902  344.751000 -17237.550000  \n",
       "2008-06-01       0 -0.104741    -510.100098  321.426606 -16071.330322  \n",
       "2008-09-01       0 -0.368096   -1604.899902  287.760000 -14388.000000  \n",
       "2008-12-01       0  0.003103       8.549805  181.836606  -9091.830322  "
      ]
     },
     "execution_count": 51,
     "metadata": {},
     "output_type": "execute_result"
    }
   ],
   "source": [
    "itm_call_df[\"max_loss\"] = itm_call_df[\"call_price\"] * 50 * (-1)\n",
    "itm_call_df.head()"
   ]
  },
  {
   "cell_type": "code",
   "execution_count": 52,
   "metadata": {},
   "outputs": [
    {
     "name": "stderr",
     "output_type": "stream",
     "text": [
      "/tmp/ipykernel_18376/520889545.py:3: SettingWithCopyWarning: \n",
      "A value is trying to be set on a copy of a slice from a DataFrame.\n",
      "Try using .loc[row_indexer,col_indexer] = value instead\n",
      "\n",
      "See the caveats in the documentation: https://pandas.pydata.org/pandas-docs/stable/user_guide/indexing.html#returning-a-view-versus-a-copy\n",
      "  itm_call_df['price_for_points'] = itm_call_df[\"points_gained\"] * delta * 50 * 0.90\n"
     ]
    },
    {
     "data": {
      "text/html": [
       "<div>\n",
       "<style scoped>\n",
       "    .dataframe tbody tr th:only-of-type {\n",
       "        vertical-align: middle;\n",
       "    }\n",
       "\n",
       "    .dataframe tbody tr th {\n",
       "        vertical-align: top;\n",
       "    }\n",
       "\n",
       "    .dataframe thead th {\n",
       "        text-align: right;\n",
       "    }\n",
       "</style>\n",
       "<table border=\"1\" class=\"dataframe\">\n",
       "  <thead>\n",
       "    <tr style=\"text-align: right;\">\n",
       "      <th></th>\n",
       "      <th>Open</th>\n",
       "      <th>High</th>\n",
       "      <th>Low</th>\n",
       "      <th>Close</th>\n",
       "      <th>Adj Close</th>\n",
       "      <th>Volume</th>\n",
       "      <th>return</th>\n",
       "      <th>points_gained</th>\n",
       "      <th>call_price</th>\n",
       "      <th>max_loss</th>\n",
       "      <th>price_for_points</th>\n",
       "    </tr>\n",
       "    <tr>\n",
       "      <th>Date</th>\n",
       "      <th></th>\n",
       "      <th></th>\n",
       "      <th></th>\n",
       "      <th></th>\n",
       "      <th></th>\n",
       "      <th></th>\n",
       "      <th></th>\n",
       "      <th></th>\n",
       "      <th></th>\n",
       "      <th></th>\n",
       "      <th></th>\n",
       "    </tr>\n",
       "  </thead>\n",
       "  <tbody>\n",
       "    <tr>\n",
       "      <th>2019-09-01</th>\n",
       "      <td>10960.950195</td>\n",
       "      <td>12158.799805</td>\n",
       "      <td>10670.250000</td>\n",
       "      <td>12056.049805</td>\n",
       "      <td>12056.049805</td>\n",
       "      <td>40849000</td>\n",
       "      <td>0.093693</td>\n",
       "      <td>1032.799805</td>\n",
       "      <td>727.534500</td>\n",
       "      <td>-36376.725000</td>\n",
       "      <td>41828.392090</td>\n",
       "    </tr>\n",
       "    <tr>\n",
       "      <th>2019-12-01</th>\n",
       "      <td>12137.049805</td>\n",
       "      <td>12430.500000</td>\n",
       "      <td>11175.049805</td>\n",
       "      <td>11201.750000</td>\n",
       "      <td>11201.750000</td>\n",
       "      <td>33713400</td>\n",
       "      <td>-0.070861</td>\n",
       "      <td>-854.299805</td>\n",
       "      <td>795.699287</td>\n",
       "      <td>-39784.964355</td>\n",
       "      <td>-34599.142090</td>\n",
       "    </tr>\n",
       "    <tr>\n",
       "      <th>2020-03-01</th>\n",
       "      <td>11387.349609</td>\n",
       "      <td>11433.000000</td>\n",
       "      <td>7511.100098</td>\n",
       "      <td>9580.299805</td>\n",
       "      <td>9580.299805</td>\n",
       "      <td>47715200</td>\n",
       "      <td>-0.144750</td>\n",
       "      <td>-1621.450195</td>\n",
       "      <td>739.315500</td>\n",
       "      <td>-36965.775000</td>\n",
       "      <td>-65668.732910</td>\n",
       "    </tr>\n",
       "    <tr>\n",
       "      <th>2020-06-01</th>\n",
       "      <td>9726.849609</td>\n",
       "      <td>11794.250000</td>\n",
       "      <td>9544.349609</td>\n",
       "      <td>11387.500000</td>\n",
       "      <td>11387.500000</td>\n",
       "      <td>45454500</td>\n",
       "      <td>0.188637</td>\n",
       "      <td>1807.200195</td>\n",
       "      <td>632.299787</td>\n",
       "      <td>-31614.989355</td>\n",
       "      <td>73191.607910</td>\n",
       "    </tr>\n",
       "    <tr>\n",
       "      <th>2020-09-01</th>\n",
       "      <td>11464.299805</td>\n",
       "      <td>13145.849609</td>\n",
       "      <td>10790.200195</td>\n",
       "      <td>12968.950195</td>\n",
       "      <td>12968.950195</td>\n",
       "      <td>37535500</td>\n",
       "      <td>0.138876</td>\n",
       "      <td>1581.450195</td>\n",
       "      <td>751.575000</td>\n",
       "      <td>-37578.750000</td>\n",
       "      <td>64048.732910</td>\n",
       "    </tr>\n",
       "    <tr>\n",
       "      <th>2020-12-01</th>\n",
       "      <td>13062.200195</td>\n",
       "      <td>15431.750000</td>\n",
       "      <td>12962.799805</td>\n",
       "      <td>14529.150391</td>\n",
       "      <td>14529.150391</td>\n",
       "      <td>39511400</td>\n",
       "      <td>0.120303</td>\n",
       "      <td>1560.200195</td>\n",
       "      <td>855.950713</td>\n",
       "      <td>-42797.535645</td>\n",
       "      <td>63188.107910</td>\n",
       "    </tr>\n",
       "    <tr>\n",
       "      <th>2021-03-01</th>\n",
       "      <td>14702.500000</td>\n",
       "      <td>15606.349609</td>\n",
       "      <td>14151.400391</td>\n",
       "      <td>15582.799805</td>\n",
       "      <td>15582.799805</td>\n",
       "      <td>29091400</td>\n",
       "      <td>0.072520</td>\n",
       "      <td>1053.649414</td>\n",
       "      <td>958.923926</td>\n",
       "      <td>-47946.196289</td>\n",
       "      <td>42672.801270</td>\n",
       "    </tr>\n",
       "    <tr>\n",
       "      <th>2021-06-01</th>\n",
       "      <td>15629.650391</td>\n",
       "      <td>17153.500000</td>\n",
       "      <td>15450.900391</td>\n",
       "      <td>17132.199219</td>\n",
       "      <td>17132.199219</td>\n",
       "      <td>20185800</td>\n",
       "      <td>0.099430</td>\n",
       "      <td>1549.399414</td>\n",
       "      <td>1028.464787</td>\n",
       "      <td>-51423.239355</td>\n",
       "      <td>62750.676270</td>\n",
       "    </tr>\n",
       "    <tr>\n",
       "      <th>2021-09-01</th>\n",
       "      <td>17185.599609</td>\n",
       "      <td>18604.449219</td>\n",
       "      <td>16782.400391</td>\n",
       "      <td>16983.199219</td>\n",
       "      <td>16983.199219</td>\n",
       "      <td>20459900</td>\n",
       "      <td>-0.008697</td>\n",
       "      <td>-149.000000</td>\n",
       "      <td>1130.725148</td>\n",
       "      <td>-56536.257422</td>\n",
       "      <td>-6034.500000</td>\n",
       "    </tr>\n",
       "    <tr>\n",
       "      <th>2021-12-01</th>\n",
       "      <td>17104.400391</td>\n",
       "      <td>18350.949219</td>\n",
       "      <td>16203.250000</td>\n",
       "      <td>16793.900391</td>\n",
       "      <td>16793.900391</td>\n",
       "      <td>16554900</td>\n",
       "      <td>-0.011146</td>\n",
       "      <td>-189.298828</td>\n",
       "      <td>1120.891148</td>\n",
       "      <td>-56044.557422</td>\n",
       "      <td>-7666.602539</td>\n",
       "    </tr>\n",
       "  </tbody>\n",
       "</table>\n",
       "</div>"
      ],
      "text/plain": [
       "                    Open          High           Low         Close  \\\n",
       "Date                                                                 \n",
       "2019-09-01  10960.950195  12158.799805  10670.250000  12056.049805   \n",
       "2019-12-01  12137.049805  12430.500000  11175.049805  11201.750000   \n",
       "2020-03-01  11387.349609  11433.000000   7511.100098   9580.299805   \n",
       "2020-06-01   9726.849609  11794.250000   9544.349609  11387.500000   \n",
       "2020-09-01  11464.299805  13145.849609  10790.200195  12968.950195   \n",
       "2020-12-01  13062.200195  15431.750000  12962.799805  14529.150391   \n",
       "2021-03-01  14702.500000  15606.349609  14151.400391  15582.799805   \n",
       "2021-06-01  15629.650391  17153.500000  15450.900391  17132.199219   \n",
       "2021-09-01  17185.599609  18604.449219  16782.400391  16983.199219   \n",
       "2021-12-01  17104.400391  18350.949219  16203.250000  16793.900391   \n",
       "\n",
       "               Adj Close    Volume    return  points_gained   call_price  \\\n",
       "Date                                                                       \n",
       "2019-09-01  12056.049805  40849000  0.093693    1032.799805   727.534500   \n",
       "2019-12-01  11201.750000  33713400 -0.070861    -854.299805   795.699287   \n",
       "2020-03-01   9580.299805  47715200 -0.144750   -1621.450195   739.315500   \n",
       "2020-06-01  11387.500000  45454500  0.188637    1807.200195   632.299787   \n",
       "2020-09-01  12968.950195  37535500  0.138876    1581.450195   751.575000   \n",
       "2020-12-01  14529.150391  39511400  0.120303    1560.200195   855.950713   \n",
       "2021-03-01  15582.799805  29091400  0.072520    1053.649414   958.923926   \n",
       "2021-06-01  17132.199219  20185800  0.099430    1549.399414  1028.464787   \n",
       "2021-09-01  16983.199219  20459900 -0.008697    -149.000000  1130.725148   \n",
       "2021-12-01  16793.900391  16554900 -0.011146    -189.298828  1120.891148   \n",
       "\n",
       "                max_loss  price_for_points  \n",
       "Date                                        \n",
       "2019-09-01 -36376.725000      41828.392090  \n",
       "2019-12-01 -39784.964355     -34599.142090  \n",
       "2020-03-01 -36965.775000     -65668.732910  \n",
       "2020-06-01 -31614.989355      73191.607910  \n",
       "2020-09-01 -37578.750000      64048.732910  \n",
       "2020-12-01 -42797.535645      63188.107910  \n",
       "2021-03-01 -47946.196289      42672.801270  \n",
       "2021-06-01 -51423.239355      62750.676270  \n",
       "2021-09-01 -56536.257422      -6034.500000  \n",
       "2021-12-01 -56044.557422      -7666.602539  "
      ]
     },
     "execution_count": 52,
     "metadata": {},
     "output_type": "execute_result"
    }
   ],
   "source": [
    "delta = 0.9\n",
    "gamma = 0.0002\n",
    "itm_call_df['price_for_points'] = itm_call_df[\"points_gained\"] * delta * 50 * 0.90\n",
    "itm_call_df.tail(10)"
   ]
  },
  {
   "cell_type": "code",
   "execution_count": 53,
   "metadata": {},
   "outputs": [
    {
     "name": "stderr",
     "output_type": "stream",
     "text": [
      "/tmp/ipykernel_18376/3854232310.py:1: SettingWithCopyWarning: \n",
      "A value is trying to be set on a copy of a slice from a DataFrame.\n",
      "Try using .loc[row_indexer,col_indexer] = value instead\n",
      "\n",
      "See the caveats in the documentation: https://pandas.pydata.org/pandas-docs/stable/user_guide/indexing.html#returning-a-view-versus-a-copy\n",
      "  itm_call_df[\"profit\"] = itm_call_df[[\"max_loss\", \"price_for_points\"]].max(axis=1)\n"
     ]
    },
    {
     "data": {
      "text/html": [
       "<div>\n",
       "<style scoped>\n",
       "    .dataframe tbody tr th:only-of-type {\n",
       "        vertical-align: middle;\n",
       "    }\n",
       "\n",
       "    .dataframe tbody tr th {\n",
       "        vertical-align: top;\n",
       "    }\n",
       "\n",
       "    .dataframe thead th {\n",
       "        text-align: right;\n",
       "    }\n",
       "</style>\n",
       "<table border=\"1\" class=\"dataframe\">\n",
       "  <thead>\n",
       "    <tr style=\"text-align: right;\">\n",
       "      <th></th>\n",
       "      <th>Open</th>\n",
       "      <th>High</th>\n",
       "      <th>Low</th>\n",
       "      <th>Close</th>\n",
       "      <th>Adj Close</th>\n",
       "      <th>Volume</th>\n",
       "      <th>return</th>\n",
       "      <th>points_gained</th>\n",
       "      <th>call_price</th>\n",
       "      <th>max_loss</th>\n",
       "      <th>price_for_points</th>\n",
       "      <th>profit</th>\n",
       "    </tr>\n",
       "    <tr>\n",
       "      <th>Date</th>\n",
       "      <th></th>\n",
       "      <th></th>\n",
       "      <th></th>\n",
       "      <th></th>\n",
       "      <th></th>\n",
       "      <th></th>\n",
       "      <th></th>\n",
       "      <th></th>\n",
       "      <th></th>\n",
       "      <th></th>\n",
       "      <th></th>\n",
       "      <th></th>\n",
       "    </tr>\n",
       "  </thead>\n",
       "  <tbody>\n",
       "    <tr>\n",
       "      <th>2007-12-01</th>\n",
       "      <td>6136.750000</td>\n",
       "      <td>6357.100098</td>\n",
       "      <td>4448.500000</td>\n",
       "      <td>5223.500000</td>\n",
       "      <td>5223.500000</td>\n",
       "      <td>0</td>\n",
       "      <td>NaN</td>\n",
       "      <td>NaN</td>\n",
       "      <td>NaN</td>\n",
       "      <td>NaN</td>\n",
       "      <td>NaN</td>\n",
       "      <td>NaN</td>\n",
       "    </tr>\n",
       "    <tr>\n",
       "      <th>2008-03-01</th>\n",
       "      <td>5222.799805</td>\n",
       "      <td>5298.850098</td>\n",
       "      <td>4468.549805</td>\n",
       "      <td>4870.100098</td>\n",
       "      <td>4870.100098</td>\n",
       "      <td>0</td>\n",
       "      <td>-0.067656</td>\n",
       "      <td>-353.399902</td>\n",
       "      <td>344.751000</td>\n",
       "      <td>-17237.550000</td>\n",
       "      <td>-14312.696045</td>\n",
       "      <td>-14312.696045</td>\n",
       "    </tr>\n",
       "    <tr>\n",
       "      <th>2008-06-01</th>\n",
       "      <td>4869.250000</td>\n",
       "      <td>4908.799805</td>\n",
       "      <td>3790.199951</td>\n",
       "      <td>4360.000000</td>\n",
       "      <td>4360.000000</td>\n",
       "      <td>0</td>\n",
       "      <td>-0.104741</td>\n",
       "      <td>-510.100098</td>\n",
       "      <td>321.426606</td>\n",
       "      <td>-16071.330322</td>\n",
       "      <td>-20659.053955</td>\n",
       "      <td>-16071.330322</td>\n",
       "    </tr>\n",
       "    <tr>\n",
       "      <th>2008-09-01</th>\n",
       "      <td>4356.100098</td>\n",
       "      <td>4558.000000</td>\n",
       "      <td>2252.750000</td>\n",
       "      <td>2755.100098</td>\n",
       "      <td>2755.100098</td>\n",
       "      <td>0</td>\n",
       "      <td>-0.368096</td>\n",
       "      <td>-1604.899902</td>\n",
       "      <td>287.760000</td>\n",
       "      <td>-14388.000000</td>\n",
       "      <td>-64998.446045</td>\n",
       "      <td>-14388.000000</td>\n",
       "    </tr>\n",
       "    <tr>\n",
       "      <th>2008-12-01</th>\n",
       "      <td>2755.149902</td>\n",
       "      <td>3147.199951</td>\n",
       "      <td>2570.699951</td>\n",
       "      <td>2763.649902</td>\n",
       "      <td>2763.649902</td>\n",
       "      <td>0</td>\n",
       "      <td>0.003103</td>\n",
       "      <td>8.549805</td>\n",
       "      <td>181.836606</td>\n",
       "      <td>-9091.830322</td>\n",
       "      <td>346.267090</td>\n",
       "      <td>346.267090</td>\n",
       "    </tr>\n",
       "  </tbody>\n",
       "</table>\n",
       "</div>"
      ],
      "text/plain": [
       "                   Open         High          Low        Close    Adj Close  \\\n",
       "Date                                                                          \n",
       "2007-12-01  6136.750000  6357.100098  4448.500000  5223.500000  5223.500000   \n",
       "2008-03-01  5222.799805  5298.850098  4468.549805  4870.100098  4870.100098   \n",
       "2008-06-01  4869.250000  4908.799805  3790.199951  4360.000000  4360.000000   \n",
       "2008-09-01  4356.100098  4558.000000  2252.750000  2755.100098  2755.100098   \n",
       "2008-12-01  2755.149902  3147.199951  2570.699951  2763.649902  2763.649902   \n",
       "\n",
       "            Volume    return  points_gained  call_price      max_loss  \\\n",
       "Date                                                                    \n",
       "2007-12-01       0       NaN            NaN         NaN           NaN   \n",
       "2008-03-01       0 -0.067656    -353.399902  344.751000 -17237.550000   \n",
       "2008-06-01       0 -0.104741    -510.100098  321.426606 -16071.330322   \n",
       "2008-09-01       0 -0.368096   -1604.899902  287.760000 -14388.000000   \n",
       "2008-12-01       0  0.003103       8.549805  181.836606  -9091.830322   \n",
       "\n",
       "            price_for_points        profit  \n",
       "Date                                        \n",
       "2007-12-01               NaN           NaN  \n",
       "2008-03-01     -14312.696045 -14312.696045  \n",
       "2008-06-01     -20659.053955 -16071.330322  \n",
       "2008-09-01     -64998.446045 -14388.000000  \n",
       "2008-12-01        346.267090    346.267090  "
      ]
     },
     "execution_count": 53,
     "metadata": {},
     "output_type": "execute_result"
    }
   ],
   "source": [
    "itm_call_df[\"profit\"] = itm_call_df[[\"max_loss\", \"price_for_points\"]].max(axis=1)\n",
    "itm_call_df.head()"
   ]
  },
  {
   "cell_type": "code",
   "execution_count": 54,
   "metadata": {},
   "outputs": [
    {
     "data": {
      "text/plain": [
       "count       56.000000\n",
       "mean     10175.706244\n",
       "std      28214.828700\n",
       "min     -36965.775000\n",
       "25%     -14331.522034\n",
       "50%      10117.920410\n",
       "75%      27029.691101\n",
       "max      73191.607910\n",
       "Name: profit, dtype: float64"
      ]
     },
     "execution_count": 54,
     "metadata": {},
     "output_type": "execute_result"
    }
   ],
   "source": [
    "itm_call_df[\"profit\"].describe()"
   ]
  },
  {
   "cell_type": "code",
   "execution_count": 55,
   "metadata": {},
   "outputs": [],
   "source": [
    "itm_call_df.to_csv(\"itm_monthly_call_strategy_nifty.csv\")"
   ]
  },
  {
   "cell_type": "markdown",
   "metadata": {},
   "source": [
    "`Calculate net profit (approx.)`  "
   ]
  },
  {
   "cell_type": "code",
   "execution_count": 56,
   "metadata": {},
   "outputs": [
    {
     "data": {
      "text/plain": [
       "569839.549658203"
      ]
     },
     "execution_count": 56,
     "metadata": {},
     "output_type": "execute_result"
    }
   ],
   "source": [
    "sum(itm_call_df[\"profit\"][1:])"
   ]
  },
  {
   "cell_type": "code",
   "execution_count": 57,
   "metadata": {},
   "outputs": [
    {
     "data": {
      "text/plain": [
       "DatetimeIndex(['2007-12-01', '2008-03-01', '2008-06-01', '2008-09-01',\n",
       "               '2008-12-01', '2009-03-01', '2009-06-01', '2009-09-01',\n",
       "               '2009-12-01', '2010-03-01', '2010-06-01', '2010-09-01',\n",
       "               '2010-12-01', '2011-03-01', '2011-06-01', '2011-09-01',\n",
       "               '2011-12-01', '2012-03-01', '2012-06-01', '2012-09-01',\n",
       "               '2012-12-01', '2013-03-01', '2013-06-01', '2013-09-01',\n",
       "               '2013-12-01', '2014-03-01', '2014-06-01', '2014-09-01',\n",
       "               '2014-12-01', '2015-03-01', '2015-06-01', '2015-09-01',\n",
       "               '2015-12-01', '2016-03-01', '2016-06-01', '2016-09-01',\n",
       "               '2016-12-01', '2017-03-01', '2017-06-01', '2017-09-01',\n",
       "               '2017-12-01', '2018-03-01', '2018-06-01', '2018-09-01',\n",
       "               '2018-12-01', '2019-03-01', '2019-06-01', '2019-09-01',\n",
       "               '2019-12-01', '2020-03-01', '2020-06-01', '2020-09-01',\n",
       "               '2020-12-01', '2021-03-01', '2021-06-01', '2021-09-01',\n",
       "               '2021-12-01'],\n",
       "              dtype='datetime64[ns]', name='Date', freq=None)"
      ]
     },
     "execution_count": 57,
     "metadata": {},
     "output_type": "execute_result"
    }
   ],
   "source": [
    "itm_call_df.index"
   ]
  },
  {
   "cell_type": "markdown",
   "metadata": {},
   "source": [
    "`Filter by date `  "
   ]
  },
  {
   "cell_type": "code",
   "execution_count": 66,
   "metadata": {},
   "outputs": [
    {
     "data": {
      "text/plain": [
       "375763.6737304687"
      ]
     },
     "execution_count": 66,
     "metadata": {},
     "output_type": "execute_result"
    }
   ],
   "source": [
    "from_date = dt.datetime(year=2016, month=12, day=1)\n",
    "selected_df = itm_call_df.loc[from_date:] \n",
    "sum(selected_df[\"profit\"])\n"
   ]
  },
  {
   "cell_type": "markdown",
   "metadata": {},
   "source": [
    "`Median call price`  "
   ]
  },
  {
   "cell_type": "code",
   "execution_count": 67,
   "metadata": {},
   "outputs": [
    {
     "data": {
      "text/plain": [
       "36376.725"
      ]
     },
     "execution_count": 67,
     "metadata": {},
     "output_type": "execute_result"
    }
   ],
   "source": [
    "import statistics\n",
    "statistics.median(selected_df[\"call_price\"]) * 50"
   ]
  },
  {
   "cell_type": "markdown",
   "metadata": {},
   "source": [
    "`Cumulative profits`  "
   ]
  },
  {
   "cell_type": "code",
   "execution_count": 68,
   "metadata": {},
   "outputs": [],
   "source": [
    "# cum_profits[\"Date\"] = selected_df[\"Date\"]\n",
    "# cum_profits[\"cum_profit\"] = selected_df[\"profit\"].cumsum()\n",
    "# cum_profits.head(10)"
   ]
  }
 ],
 "metadata": {
  "kernelspec": {
   "display_name": "base",
   "language": "python",
   "name": "python3"
  },
  "language_info": {
   "codemirror_mode": {
    "name": "ipython",
    "version": 3
   },
   "file_extension": ".py",
   "mimetype": "text/x-python",
   "name": "python",
   "nbconvert_exporter": "python",
   "pygments_lexer": "ipython3",
   "version": "3.9.7 (default, Sep 16 2021, 13:09:58) \n[GCC 7.5.0]"
  },
  "vscode": {
   "interpreter": {
    "hash": "a9fc4c7d055303a75ac6825ce3e810b1379669e9cb09d6b336d4c18851158a95"
   }
  }
 },
 "nbformat": 4,
 "nbformat_minor": 2
}
