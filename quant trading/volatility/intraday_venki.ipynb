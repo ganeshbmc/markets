{
  "cells": [
    {
      "cell_type": "markdown",
      "metadata": {
        "colab_type": "text",
        "id": "view-in-github"
      },
      "source": [
        "<a href=\"https://colab.research.google.com/github/ganeshbmc/markets/blob/master/quant%20trading/iv_based_stddev_strategy.ipynb\" target=\"_parent\"><img src=\"https://colab.research.google.com/assets/colab-badge.svg\" alt=\"Open In Colab\"/></a>"
      ]
    },
    {
      "cell_type": "markdown",
      "metadata": {
        "id": "0JPoHQ0K2kt-"
      },
      "source": [
        "# Simple strategy based on ATM IV and std deviations"
      ]
    },
    {
      "cell_type": "markdown",
      "metadata": {
        "id": "S4cQPtWI20-O"
      },
      "source": [
        "`Define your input variables here`  "
      ]
    },
    {
      "cell_type": "code",
      "execution_count": 1,
      "metadata": {
        "id": "kwZmFwgz2aKD"
      },
      "outputs": [],
      "source": [
        "# Input\n",
        "underlying = \"nifty_bank\"\n",
        "atm_iv = 12.8\n",
        "spot_prev_close = 43260\n",
        "spot_current = 43350\n",
        "atm_strike = 43300\n",
        "days_to_expiry = 5\n",
        "risk_stddev = 1.5"
      ]
    },
    {
      "cell_type": "markdown",
      "metadata": {
        "id": "xCWh-cqF2zaa"
      },
      "source": [
        "`Import necessary libraries`"
      ]
    },
    {
      "cell_type": "code",
      "execution_count": 2,
      "metadata": {
        "id": "4PQUDaP82aJ_"
      },
      "outputs": [],
      "source": [
        "import math as m\n",
        "import numpy as np\n",
        "import pandas as pd\n",
        "import datetime as dt"
      ]
    },
    {
      "cell_type": "markdown",
      "metadata": {
        "id": "oVnEy53X26aB"
      },
      "source": [
        "`Calculation engine`  "
      ]
    },
    {
      "cell_type": "code",
      "execution_count": 3,
      "metadata": {
        "id": "Mbsx04pd2aKD"
      },
      "outputs": [],
      "source": [
        "def expected_move_pct(atm_iv, days_to_expiry, risk_stddev):\n",
        "    exp_move_pct = (atm_iv/(m.sqrt(256/days_to_expiry)))\n",
        "    exp_move_pct_for_desired_risk = exp_move_pct * risk_stddev\n",
        "    return exp_move_pct, exp_move_pct_for_desired_risk\n",
        "\n",
        "def get_strikes(underlying, atm_iv, spot_prev_close, days_to_expiry, risk_stddev):\n",
        "    mv1, mv2 = expected_move_pct(atm_iv, days_to_expiry, risk_stddev)\n",
        "    points_move = spot_prev_close * (mv2/100)\n",
        "    lower_strike = spot_prev_close - points_move\n",
        "    upper_strike = spot_prev_close + points_move\n",
        "\n",
        "    # output = f\"\"\"\n",
        "    # Underlying: {str.upper(underlying)}\n",
        "    # Period of interest: {days_to_expiry} days\n",
        "    # ATM IV: {atm_iv}\n",
        "\n",
        "    # Percentage move based on IV (for 1 stddev) is: {mv1:.2f}\n",
        "    # Desired risk level: {risk_stddev} std dev\n",
        "    # Percentage move for risk (stdev) desired is: {mv2:.2f}\n",
        "\n",
        "    # Spot price of interest: {spot_prev_close}\n",
        "    # Points to move from spot: {points_move:.0f}\n",
        "\n",
        "    # Lower strike: {lower_strike:.0f}\n",
        "    # Upper strike: {upper_strike:.0f}\n",
        "    # \"\"\"\n",
        "\n",
        "    dict_results = {\n",
        "    \"Underlying\": str.upper(underlying),\n",
        "    \"Spot price of interest\": f\"{spot_prev_close}\",\n",
        "    \"Period of interest\": f\"{days_to_expiry} days\",\n",
        "    \"ATM IV\": f\"{atm_iv}\",\n",
        "    \"Pct move for 1 stddev\": f\"{mv1:.2f}%\",\n",
        "    \"Desired risk level\": f\"{risk_stddev} std dev\",\n",
        "    f\"Pct move for {risk_stddev} std dev\": f\"{mv2:.2f}%\",\n",
        "    \"Points to move from spot\": f\"{points_move:.0f}\",\n",
        "    \"Lower strike\": f\"{lower_strike:.0f}\",\n",
        "    \"Upper strike\": f\"{upper_strike:.0f}\",\n",
        "    }\n",
        "\n",
        "    table = pd.DataFrame([dict_results]).T\n",
        "    return table"
      ]
    },
    {
      "cell_type": "markdown",
      "metadata": {
        "id": "lOUR9rYo3EDq"
      },
      "source": [
        "`Output`  "
      ]
    },
    {
      "cell_type": "code",
      "execution_count": 4,
      "metadata": {
        "colab": {
          "base_uri": "https://localhost:8080/",
          "height": 363
        },
        "id": "RXOi5PDK3BYW",
        "outputId": "b0f27732-421c-4345-dc66-a980645386d1"
      },
      "outputs": [
        {
          "data": {
            "text/html": [
              "<div>\n",
              "<style scoped>\n",
              "    .dataframe tbody tr th:only-of-type {\n",
              "        vertical-align: middle;\n",
              "    }\n",
              "\n",
              "    .dataframe tbody tr th {\n",
              "        vertical-align: top;\n",
              "    }\n",
              "\n",
              "    .dataframe thead th {\n",
              "        text-align: right;\n",
              "    }\n",
              "</style>\n",
              "<table border=\"1\" class=\"dataframe\">\n",
              "  <thead>\n",
              "    <tr style=\"text-align: right;\">\n",
              "      <th></th>\n",
              "      <th>0</th>\n",
              "    </tr>\n",
              "  </thead>\n",
              "  <tbody>\n",
              "    <tr>\n",
              "      <th>Underlying</th>\n",
              "      <td>NIFTY_BANK</td>\n",
              "    </tr>\n",
              "    <tr>\n",
              "      <th>Spot price of interest</th>\n",
              "      <td>43260</td>\n",
              "    </tr>\n",
              "    <tr>\n",
              "      <th>Period of interest</th>\n",
              "      <td>5 days</td>\n",
              "    </tr>\n",
              "    <tr>\n",
              "      <th>ATM IV</th>\n",
              "      <td>12.8</td>\n",
              "    </tr>\n",
              "    <tr>\n",
              "      <th>Pct move for 1 stddev</th>\n",
              "      <td>1.79%</td>\n",
              "    </tr>\n",
              "    <tr>\n",
              "      <th>Desired risk level</th>\n",
              "      <td>1.5 std dev</td>\n",
              "    </tr>\n",
              "    <tr>\n",
              "      <th>Pct move for 1.5 std dev</th>\n",
              "      <td>2.68%</td>\n",
              "    </tr>\n",
              "    <tr>\n",
              "      <th>Points to move from spot</th>\n",
              "      <td>1161</td>\n",
              "    </tr>\n",
              "    <tr>\n",
              "      <th>Lower strike</th>\n",
              "      <td>42099</td>\n",
              "    </tr>\n",
              "    <tr>\n",
              "      <th>Upper strike</th>\n",
              "      <td>44421</td>\n",
              "    </tr>\n",
              "  </tbody>\n",
              "</table>\n",
              "</div>"
            ],
            "text/plain": [
              "                                    0\n",
              "Underlying                 NIFTY_BANK\n",
              "Spot price of interest          43260\n",
              "Period of interest             5 days\n",
              "ATM IV                           12.8\n",
              "Pct move for 1 stddev           1.79%\n",
              "Desired risk level        1.5 std dev\n",
              "Pct move for 1.5 std dev        2.68%\n",
              "Points to move from spot         1161\n",
              "Lower strike                    42099\n",
              "Upper strike                    44421"
            ]
          },
          "execution_count": 4,
          "metadata": {},
          "output_type": "execute_result"
        }
      ],
      "source": [
        "get_strikes(underlying, atm_iv, spot_prev_close, days_to_expiry, risk_stddev)"
      ]
    },
    {
      "cell_type": "code",
      "execution_count": 5,
      "metadata": {},
      "outputs": [
        {
          "data": {
            "text/html": [
              "<div>\n",
              "<style scoped>\n",
              "    .dataframe tbody tr th:only-of-type {\n",
              "        vertical-align: middle;\n",
              "    }\n",
              "\n",
              "    .dataframe tbody tr th {\n",
              "        vertical-align: top;\n",
              "    }\n",
              "\n",
              "    .dataframe thead th {\n",
              "        text-align: right;\n",
              "    }\n",
              "</style>\n",
              "<table border=\"1\" class=\"dataframe\">\n",
              "  <thead>\n",
              "    <tr style=\"text-align: right;\">\n",
              "      <th></th>\n",
              "      <th>Date</th>\n",
              "      <th>series</th>\n",
              "      <th>OPEN</th>\n",
              "      <th>HIGH</th>\n",
              "      <th>LOW</th>\n",
              "      <th>PREV. CLOSE</th>\n",
              "      <th>ltp</th>\n",
              "      <th>close</th>\n",
              "      <th>vwap</th>\n",
              "      <th>52W H</th>\n",
              "      <th>52W L</th>\n",
              "      <th>VOLUME</th>\n",
              "      <th>VALUE</th>\n",
              "      <th>No of trades</th>\n",
              "    </tr>\n",
              "  </thead>\n",
              "  <tbody>\n",
              "    <tr>\n",
              "      <th>0</th>\n",
              "      <td>05-Dec-2022</td>\n",
              "      <td>EQ</td>\n",
              "      <td>85.10</td>\n",
              "      <td>87.5</td>\n",
              "      <td>84.90</td>\n",
              "      <td>84.55</td>\n",
              "      <td>86.30</td>\n",
              "      <td>86.30</td>\n",
              "      <td>86.22</td>\n",
              "      <td>87.5</td>\n",
              "      <td>40.4</td>\n",
              "      <td>16512468</td>\n",
              "      <td>1,423,740,107.00</td>\n",
              "      <td>54690</td>\n",
              "    </tr>\n",
              "    <tr>\n",
              "      <th>1</th>\n",
              "      <td>02-Dec-2022</td>\n",
              "      <td>EQ</td>\n",
              "      <td>82.50</td>\n",
              "      <td>85.7</td>\n",
              "      <td>82.50</td>\n",
              "      <td>83.10</td>\n",
              "      <td>84.80</td>\n",
              "      <td>84.55</td>\n",
              "      <td>84.27</td>\n",
              "      <td>85.7</td>\n",
              "      <td>40.4</td>\n",
              "      <td>19118072</td>\n",
              "      <td>1,611,066,269.95</td>\n",
              "      <td>48147</td>\n",
              "    </tr>\n",
              "    <tr>\n",
              "      <th>2</th>\n",
              "      <td>01-Dec-2022</td>\n",
              "      <td>EQ</td>\n",
              "      <td>82.55</td>\n",
              "      <td>84.0</td>\n",
              "      <td>80.15</td>\n",
              "      <td>82.30</td>\n",
              "      <td>83.10</td>\n",
              "      <td>83.10</td>\n",
              "      <td>82.01</td>\n",
              "      <td>85.5</td>\n",
              "      <td>40.4</td>\n",
              "      <td>16662882</td>\n",
              "      <td>1,366,483,876.00</td>\n",
              "      <td>45243</td>\n",
              "    </tr>\n",
              "    <tr>\n",
              "      <th>3</th>\n",
              "      <td>30-Nov-2022</td>\n",
              "      <td>EQ</td>\n",
              "      <td>84.20</td>\n",
              "      <td>85.0</td>\n",
              "      <td>81.80</td>\n",
              "      <td>83.75</td>\n",
              "      <td>82.05</td>\n",
              "      <td>82.30</td>\n",
              "      <td>83.10</td>\n",
              "      <td>85.5</td>\n",
              "      <td>40.4</td>\n",
              "      <td>10057927</td>\n",
              "      <td>835,846,523.25</td>\n",
              "      <td>30351</td>\n",
              "    </tr>\n",
              "    <tr>\n",
              "      <th>4</th>\n",
              "      <td>29-Nov-2022</td>\n",
              "      <td>EQ</td>\n",
              "      <td>81.60</td>\n",
              "      <td>85.5</td>\n",
              "      <td>81.15</td>\n",
              "      <td>81.25</td>\n",
              "      <td>83.80</td>\n",
              "      <td>83.75</td>\n",
              "      <td>83.64</td>\n",
              "      <td>85.5</td>\n",
              "      <td>40.4</td>\n",
              "      <td>22577829</td>\n",
              "      <td>1,888,402,657.65</td>\n",
              "      <td>54611</td>\n",
              "    </tr>\n",
              "  </tbody>\n",
              "</table>\n",
              "</div>"
            ],
            "text/plain": [
              "         Date  series   OPEN   HIGH    LOW   PREV. CLOSE    ltp   close   \\\n",
              "0  05-Dec-2022      EQ  85.10   87.5  84.90         84.55  86.30   86.30   \n",
              "1  02-Dec-2022      EQ  82.50   85.7  82.50         83.10  84.80   84.55   \n",
              "2  01-Dec-2022      EQ  82.55   84.0  80.15         82.30  83.10   83.10   \n",
              "3  30-Nov-2022      EQ  84.20   85.0  81.80         83.75  82.05   82.30   \n",
              "4  29-Nov-2022      EQ  81.60   85.5  81.15         81.25  83.80   83.75   \n",
              "\n",
              "   vwap   52W H   52W L    VOLUME             VALUE   No of trades   \n",
              "0  86.22    87.5    40.4  16512468  1,423,740,107.00          54690  \n",
              "1  84.27    85.7    40.4  19118072  1,611,066,269.95          48147  \n",
              "2  82.01    85.5    40.4  16662882  1,366,483,876.00          45243  \n",
              "3  83.10    85.5    40.4  10057927    835,846,523.25          30351  \n",
              "4  83.64    85.5    40.4  22577829  1,888,402,657.65          54611  "
            ]
          },
          "execution_count": 5,
          "metadata": {},
          "output_type": "execute_result"
        }
      ],
      "source": [
        "df = pd.read_csv('bankindia_1yr.csv')\n",
        "df.head()"
      ]
    },
    {
      "cell_type": "code",
      "execution_count": 6,
      "metadata": {},
      "outputs": [
        {
          "data": {
            "text/plain": [
              "Index(['Date ', 'series ', 'OPEN ', 'HIGH ', 'LOW ', 'PREV. CLOSE ', 'ltp ',\n",
              "       'close ', 'vwap ', '52W H ', '52W L ', 'VOLUME ', 'VALUE ',\n",
              "       'No of trades '],\n",
              "      dtype='object')"
            ]
          },
          "execution_count": 6,
          "metadata": {},
          "output_type": "execute_result"
        }
      ],
      "source": [
        "df.columns"
      ]
    },
    {
      "cell_type": "code",
      "execution_count": 8,
      "metadata": {},
      "outputs": [
        {
          "data": {
            "text/plain": [
              "(128, 14)"
            ]
          },
          "execution_count": 8,
          "metadata": {},
          "output_type": "execute_result"
        }
      ],
      "source": [
        "df.shape"
      ]
    },
    {
      "cell_type": "code",
      "execution_count": 7,
      "metadata": {},
      "outputs": [
        {
          "data": {
            "text/html": [
              "<div>\n",
              "<style scoped>\n",
              "    .dataframe tbody tr th:only-of-type {\n",
              "        vertical-align: middle;\n",
              "    }\n",
              "\n",
              "    .dataframe tbody tr th {\n",
              "        vertical-align: top;\n",
              "    }\n",
              "\n",
              "    .dataframe thead th {\n",
              "        text-align: right;\n",
              "    }\n",
              "</style>\n",
              "<table border=\"1\" class=\"dataframe\">\n",
              "  <thead>\n",
              "    <tr style=\"text-align: right;\">\n",
              "      <th></th>\n",
              "      <th>Date</th>\n",
              "      <th>series</th>\n",
              "      <th>OPEN</th>\n",
              "      <th>HIGH</th>\n",
              "      <th>LOW</th>\n",
              "      <th>PREV. CLOSE</th>\n",
              "      <th>ltp</th>\n",
              "      <th>close</th>\n",
              "    </tr>\n",
              "  </thead>\n",
              "  <tbody>\n",
              "    <tr>\n",
              "      <th>0</th>\n",
              "      <td>05-Dec-2022</td>\n",
              "      <td>EQ</td>\n",
              "      <td>85.10</td>\n",
              "      <td>87.5</td>\n",
              "      <td>84.90</td>\n",
              "      <td>84.55</td>\n",
              "      <td>86.30</td>\n",
              "      <td>86.30</td>\n",
              "    </tr>\n",
              "    <tr>\n",
              "      <th>1</th>\n",
              "      <td>02-Dec-2022</td>\n",
              "      <td>EQ</td>\n",
              "      <td>82.50</td>\n",
              "      <td>85.7</td>\n",
              "      <td>82.50</td>\n",
              "      <td>83.10</td>\n",
              "      <td>84.80</td>\n",
              "      <td>84.55</td>\n",
              "    </tr>\n",
              "    <tr>\n",
              "      <th>2</th>\n",
              "      <td>01-Dec-2022</td>\n",
              "      <td>EQ</td>\n",
              "      <td>82.55</td>\n",
              "      <td>84.0</td>\n",
              "      <td>80.15</td>\n",
              "      <td>82.30</td>\n",
              "      <td>83.10</td>\n",
              "      <td>83.10</td>\n",
              "    </tr>\n",
              "    <tr>\n",
              "      <th>3</th>\n",
              "      <td>30-Nov-2022</td>\n",
              "      <td>EQ</td>\n",
              "      <td>84.20</td>\n",
              "      <td>85.0</td>\n",
              "      <td>81.80</td>\n",
              "      <td>83.75</td>\n",
              "      <td>82.05</td>\n",
              "      <td>82.30</td>\n",
              "    </tr>\n",
              "    <tr>\n",
              "      <th>4</th>\n",
              "      <td>29-Nov-2022</td>\n",
              "      <td>EQ</td>\n",
              "      <td>81.60</td>\n",
              "      <td>85.5</td>\n",
              "      <td>81.15</td>\n",
              "      <td>81.25</td>\n",
              "      <td>83.80</td>\n",
              "      <td>83.75</td>\n",
              "    </tr>\n",
              "  </tbody>\n",
              "</table>\n",
              "</div>"
            ],
            "text/plain": [
              "         Date  series   OPEN   HIGH    LOW   PREV. CLOSE    ltp   close \n",
              "0  05-Dec-2022      EQ  85.10   87.5  84.90         84.55  86.30   86.30\n",
              "1  02-Dec-2022      EQ  82.50   85.7  82.50         83.10  84.80   84.55\n",
              "2  01-Dec-2022      EQ  82.55   84.0  80.15         82.30  83.10   83.10\n",
              "3  30-Nov-2022      EQ  84.20   85.0  81.80         83.75  82.05   82.30\n",
              "4  29-Nov-2022      EQ  81.60   85.5  81.15         81.25  83.80   83.75"
            ]
          },
          "execution_count": 7,
          "metadata": {},
          "output_type": "execute_result"
        }
      ],
      "source": [
        "bi = df[['Date ', 'series ', 'OPEN ', 'HIGH ', 'LOW ', 'PREV. CLOSE ', 'ltp ',\n",
        "       'close ']]\n",
        "       \n",
        "bi.head()"
      ]
    },
    {
      "cell_type": "code",
      "execution_count": 10,
      "metadata": {},
      "outputs": [
        {
          "data": {
            "text/plain": [
              "(128, 8)"
            ]
          },
          "execution_count": 10,
          "metadata": {},
          "output_type": "execute_result"
        }
      ],
      "source": [
        "bi.shape"
      ]
    },
    {
      "cell_type": "code",
      "execution_count": 11,
      "metadata": {},
      "outputs": [
        {
          "data": {
            "text/html": [
              "<div>\n",
              "<style scoped>\n",
              "    .dataframe tbody tr th:only-of-type {\n",
              "        vertical-align: middle;\n",
              "    }\n",
              "\n",
              "    .dataframe tbody tr th {\n",
              "        vertical-align: top;\n",
              "    }\n",
              "\n",
              "    .dataframe thead th {\n",
              "        text-align: right;\n",
              "    }\n",
              "</style>\n",
              "<table border=\"1\" class=\"dataframe\">\n",
              "  <thead>\n",
              "    <tr style=\"text-align: right;\">\n",
              "      <th></th>\n",
              "      <th>OPEN</th>\n",
              "      <th>HIGH</th>\n",
              "      <th>LOW</th>\n",
              "      <th>PREV. CLOSE</th>\n",
              "      <th>ltp</th>\n",
              "      <th>close</th>\n",
              "    </tr>\n",
              "  </thead>\n",
              "  <tbody>\n",
              "    <tr>\n",
              "      <th>count</th>\n",
              "      <td>128.000000</td>\n",
              "      <td>128.000000</td>\n",
              "      <td>128.000000</td>\n",
              "      <td>128.000000</td>\n",
              "      <td>128.000000</td>\n",
              "      <td>128.000000</td>\n",
              "    </tr>\n",
              "    <tr>\n",
              "      <th>mean</th>\n",
              "      <td>53.455859</td>\n",
              "      <td>54.549219</td>\n",
              "      <td>52.682813</td>\n",
              "      <td>53.337109</td>\n",
              "      <td>53.615625</td>\n",
              "      <td>53.636719</td>\n",
              "    </tr>\n",
              "    <tr>\n",
              "      <th>std</th>\n",
              "      <td>11.321008</td>\n",
              "      <td>11.872648</td>\n",
              "      <td>11.118691</td>\n",
              "      <td>11.214888</td>\n",
              "      <td>11.572280</td>\n",
              "      <td>11.576280</td>\n",
              "    </tr>\n",
              "    <tr>\n",
              "      <th>min</th>\n",
              "      <td>41.500000</td>\n",
              "      <td>42.100000</td>\n",
              "      <td>40.400000</td>\n",
              "      <td>41.050000</td>\n",
              "      <td>41.300000</td>\n",
              "      <td>41.050000</td>\n",
              "    </tr>\n",
              "    <tr>\n",
              "      <th>25%</th>\n",
              "      <td>46.862500</td>\n",
              "      <td>47.412500</td>\n",
              "      <td>46.187500</td>\n",
              "      <td>46.750000</td>\n",
              "      <td>46.800000</td>\n",
              "      <td>46.750000</td>\n",
              "    </tr>\n",
              "    <tr>\n",
              "      <th>50%</th>\n",
              "      <td>48.925000</td>\n",
              "      <td>49.700000</td>\n",
              "      <td>48.300000</td>\n",
              "      <td>48.925000</td>\n",
              "      <td>48.925000</td>\n",
              "      <td>49.025000</td>\n",
              "    </tr>\n",
              "    <tr>\n",
              "      <th>75%</th>\n",
              "      <td>52.525000</td>\n",
              "      <td>53.287500</td>\n",
              "      <td>51.625000</td>\n",
              "      <td>52.475000</td>\n",
              "      <td>52.512500</td>\n",
              "      <td>52.562500</td>\n",
              "    </tr>\n",
              "    <tr>\n",
              "      <th>max</th>\n",
              "      <td>85.100000</td>\n",
              "      <td>87.500000</td>\n",
              "      <td>84.900000</td>\n",
              "      <td>84.550000</td>\n",
              "      <td>86.300000</td>\n",
              "      <td>86.300000</td>\n",
              "    </tr>\n",
              "  </tbody>\n",
              "</table>\n",
              "</div>"
            ],
            "text/plain": [
              "            OPEN        HIGH         LOW   PREV. CLOSE         ltp   \\\n",
              "count  128.000000  128.000000  128.000000    128.000000  128.000000   \n",
              "mean    53.455859   54.549219   52.682813     53.337109   53.615625   \n",
              "std     11.321008   11.872648   11.118691     11.214888   11.572280   \n",
              "min     41.500000   42.100000   40.400000     41.050000   41.300000   \n",
              "25%     46.862500   47.412500   46.187500     46.750000   46.800000   \n",
              "50%     48.925000   49.700000   48.300000     48.925000   48.925000   \n",
              "75%     52.525000   53.287500   51.625000     52.475000   52.512500   \n",
              "max     85.100000   87.500000   84.900000     84.550000   86.300000   \n",
              "\n",
              "           close   \n",
              "count  128.000000  \n",
              "mean    53.636719  \n",
              "std     11.576280  \n",
              "min     41.050000  \n",
              "25%     46.750000  \n",
              "50%     49.025000  \n",
              "75%     52.562500  \n",
              "max     86.300000  "
            ]
          },
          "execution_count": 11,
          "metadata": {},
          "output_type": "execute_result"
        }
      ],
      "source": [
        "bi.describe()"
      ]
    },
    {
      "cell_type": "code",
      "execution_count": 16,
      "metadata": {},
      "outputs": [
        {
          "data": {
            "text/plain": [
              "<AxesSubplot:>"
            ]
          },
          "execution_count": 16,
          "metadata": {},
          "output_type": "execute_result"
        },
        {
          "data": {
            "image/png": "[encoded data removed]",
            "text/plain": [
              "<Figure size 432x288 with 1 Axes>"
            ]
          },
          "metadata": {
            "needs_background": "light"
          },
          "output_type": "display_data"
        }
      ],
      "source": [
        "bi['close '].hist()"
      ]
    },
    {
      "cell_type": "code",
      "execution_count": 17,
      "metadata": {},
      "outputs": [
        {
          "name": "stderr",
          "output_type": "stream",
          "text": [
            "/tmp/ipykernel_5987/1475387270.py:1: SettingWithCopyWarning: \n",
            "A value is trying to be set on a copy of a slice from a DataFrame.\n",
            "Try using .loc[row_indexer,col_indexer] = value instead\n",
            "\n",
            "See the caveats in the documentation: https://pandas.pydata.org/pandas-docs/stable/user_guide/indexing.html#returning-a-view-versus-a-copy\n",
            "  bi['pc'] = bi['close '].pct_change()\n"
          ]
        },
        {
          "data": {
            "text/html": [
              "<div>\n",
              "<style scoped>\n",
              "    .dataframe tbody tr th:only-of-type {\n",
              "        vertical-align: middle;\n",
              "    }\n",
              "\n",
              "    .dataframe tbody tr th {\n",
              "        vertical-align: top;\n",
              "    }\n",
              "\n",
              "    .dataframe thead th {\n",
              "        text-align: right;\n",
              "    }\n",
              "</style>\n",
              "<table border=\"1\" class=\"dataframe\">\n",
              "  <thead>\n",
              "    <tr style=\"text-align: right;\">\n",
              "      <th></th>\n",
              "      <th>Date</th>\n",
              "      <th>series</th>\n",
              "      <th>OPEN</th>\n",
              "      <th>HIGH</th>\n",
              "      <th>LOW</th>\n",
              "      <th>PREV. CLOSE</th>\n",
              "      <th>ltp</th>\n",
              "      <th>close</th>\n",
              "      <th>pc</th>\n",
              "    </tr>\n",
              "  </thead>\n",
              "  <tbody>\n",
              "    <tr>\n",
              "      <th>0</th>\n",
              "      <td>05-Dec-2022</td>\n",
              "      <td>EQ</td>\n",
              "      <td>85.10</td>\n",
              "      <td>87.5</td>\n",
              "      <td>84.90</td>\n",
              "      <td>84.55</td>\n",
              "      <td>86.30</td>\n",
              "      <td>86.30</td>\n",
              "      <td>NaN</td>\n",
              "    </tr>\n",
              "    <tr>\n",
              "      <th>1</th>\n",
              "      <td>02-Dec-2022</td>\n",
              "      <td>EQ</td>\n",
              "      <td>82.50</td>\n",
              "      <td>85.7</td>\n",
              "      <td>82.50</td>\n",
              "      <td>83.10</td>\n",
              "      <td>84.80</td>\n",
              "      <td>84.55</td>\n",
              "      <td>-0.020278</td>\n",
              "    </tr>\n",
              "    <tr>\n",
              "      <th>2</th>\n",
              "      <td>01-Dec-2022</td>\n",
              "      <td>EQ</td>\n",
              "      <td>82.55</td>\n",
              "      <td>84.0</td>\n",
              "      <td>80.15</td>\n",
              "      <td>82.30</td>\n",
              "      <td>83.10</td>\n",
              "      <td>83.10</td>\n",
              "      <td>-0.017150</td>\n",
              "    </tr>\n",
              "    <tr>\n",
              "      <th>3</th>\n",
              "      <td>30-Nov-2022</td>\n",
              "      <td>EQ</td>\n",
              "      <td>84.20</td>\n",
              "      <td>85.0</td>\n",
              "      <td>81.80</td>\n",
              "      <td>83.75</td>\n",
              "      <td>82.05</td>\n",
              "      <td>82.30</td>\n",
              "      <td>-0.009627</td>\n",
              "    </tr>\n",
              "    <tr>\n",
              "      <th>4</th>\n",
              "      <td>29-Nov-2022</td>\n",
              "      <td>EQ</td>\n",
              "      <td>81.60</td>\n",
              "      <td>85.5</td>\n",
              "      <td>81.15</td>\n",
              "      <td>81.25</td>\n",
              "      <td>83.80</td>\n",
              "      <td>83.75</td>\n",
              "      <td>0.017618</td>\n",
              "    </tr>\n",
              "  </tbody>\n",
              "</table>\n",
              "</div>"
            ],
            "text/plain": [
              "         Date  series   OPEN   HIGH    LOW   PREV. CLOSE    ltp   close   \\\n",
              "0  05-Dec-2022      EQ  85.10   87.5  84.90         84.55  86.30   86.30   \n",
              "1  02-Dec-2022      EQ  82.50   85.7  82.50         83.10  84.80   84.55   \n",
              "2  01-Dec-2022      EQ  82.55   84.0  80.15         82.30  83.10   83.10   \n",
              "3  30-Nov-2022      EQ  84.20   85.0  81.80         83.75  82.05   82.30   \n",
              "4  29-Nov-2022      EQ  81.60   85.5  81.15         81.25  83.80   83.75   \n",
              "\n",
              "         pc  \n",
              "0       NaN  \n",
              "1 -0.020278  \n",
              "2 -0.017150  \n",
              "3 -0.009627  \n",
              "4  0.017618  "
            ]
          },
          "execution_count": 17,
          "metadata": {},
          "output_type": "execute_result"
        }
      ],
      "source": [
        "bi['pc'] = bi['close '].pct_change()\n",
        "bi.head()"
      ]
    },
    {
      "cell_type": "code",
      "execution_count": 18,
      "metadata": {},
      "outputs": [
        {
          "data": {
            "text/plain": [
              "<AxesSubplot:>"
            ]
          },
          "execution_count": 18,
          "metadata": {},
          "output_type": "execute_result"
        },
        {
          "data": {
            "image/png": "[encoded data removed]",
            "text/plain": [
              "<Figure size 432x288 with 1 Axes>"
            ]
          },
          "metadata": {
            "needs_background": "light"
          },
          "output_type": "display_data"
        }
      ],
      "source": [
        "bi['pc'].hist()"
      ]
    },
    {
      "cell_type": "code",
      "execution_count": 19,
      "metadata": {},
      "outputs": [
        {
          "data": {
            "text/html": [
              "<div>\n",
              "<style scoped>\n",
              "    .dataframe tbody tr th:only-of-type {\n",
              "        vertical-align: middle;\n",
              "    }\n",
              "\n",
              "    .dataframe tbody tr th {\n",
              "        vertical-align: top;\n",
              "    }\n",
              "\n",
              "    .dataframe thead th {\n",
              "        text-align: right;\n",
              "    }\n",
              "</style>\n",
              "<table border=\"1\" class=\"dataframe\">\n",
              "  <thead>\n",
              "    <tr style=\"text-align: right;\">\n",
              "      <th></th>\n",
              "      <th>OPEN</th>\n",
              "      <th>HIGH</th>\n",
              "      <th>LOW</th>\n",
              "      <th>PREV. CLOSE</th>\n",
              "      <th>ltp</th>\n",
              "      <th>close</th>\n",
              "      <th>pc</th>\n",
              "    </tr>\n",
              "  </thead>\n",
              "  <tbody>\n",
              "    <tr>\n",
              "      <th>count</th>\n",
              "      <td>128.000000</td>\n",
              "      <td>128.000000</td>\n",
              "      <td>128.000000</td>\n",
              "      <td>128.000000</td>\n",
              "      <td>128.000000</td>\n",
              "      <td>128.000000</td>\n",
              "      <td>127.000000</td>\n",
              "    </tr>\n",
              "    <tr>\n",
              "      <th>mean</th>\n",
              "      <td>53.455859</td>\n",
              "      <td>54.549219</td>\n",
              "      <td>52.682813</td>\n",
              "      <td>53.337109</td>\n",
              "      <td>53.615625</td>\n",
              "      <td>53.636719</td>\n",
              "      <td>-0.004360</td>\n",
              "    </tr>\n",
              "    <tr>\n",
              "      <th>std</th>\n",
              "      <td>11.321008</td>\n",
              "      <td>11.872648</td>\n",
              "      <td>11.118691</td>\n",
              "      <td>11.214888</td>\n",
              "      <td>11.572280</td>\n",
              "      <td>11.576280</td>\n",
              "      <td>0.022579</td>\n",
              "    </tr>\n",
              "    <tr>\n",
              "      <th>min</th>\n",
              "      <td>41.500000</td>\n",
              "      <td>42.100000</td>\n",
              "      <td>40.400000</td>\n",
              "      <td>41.050000</td>\n",
              "      <td>41.300000</td>\n",
              "      <td>41.050000</td>\n",
              "      <td>-0.092117</td>\n",
              "    </tr>\n",
              "    <tr>\n",
              "      <th>25%</th>\n",
              "      <td>46.862500</td>\n",
              "      <td>47.412500</td>\n",
              "      <td>46.187500</td>\n",
              "      <td>46.750000</td>\n",
              "      <td>46.800000</td>\n",
              "      <td>46.750000</td>\n",
              "      <td>-0.016721</td>\n",
              "    </tr>\n",
              "    <tr>\n",
              "      <th>50%</th>\n",
              "      <td>48.925000</td>\n",
              "      <td>49.700000</td>\n",
              "      <td>48.300000</td>\n",
              "      <td>48.925000</td>\n",
              "      <td>48.925000</td>\n",
              "      <td>49.025000</td>\n",
              "      <td>-0.003799</td>\n",
              "    </tr>\n",
              "    <tr>\n",
              "      <th>75%</th>\n",
              "      <td>52.525000</td>\n",
              "      <td>53.287500</td>\n",
              "      <td>51.625000</td>\n",
              "      <td>52.475000</td>\n",
              "      <td>52.512500</td>\n",
              "      <td>52.562500</td>\n",
              "      <td>0.010758</td>\n",
              "    </tr>\n",
              "    <tr>\n",
              "      <th>max</th>\n",
              "      <td>85.100000</td>\n",
              "      <td>87.500000</td>\n",
              "      <td>84.900000</td>\n",
              "      <td>84.550000</td>\n",
              "      <td>86.300000</td>\n",
              "      <td>86.300000</td>\n",
              "      <td>0.053797</td>\n",
              "    </tr>\n",
              "  </tbody>\n",
              "</table>\n",
              "</div>"
            ],
            "text/plain": [
              "            OPEN        HIGH         LOW   PREV. CLOSE         ltp   \\\n",
              "count  128.000000  128.000000  128.000000    128.000000  128.000000   \n",
              "mean    53.455859   54.549219   52.682813     53.337109   53.615625   \n",
              "std     11.321008   11.872648   11.118691     11.214888   11.572280   \n",
              "min     41.500000   42.100000   40.400000     41.050000   41.300000   \n",
              "25%     46.862500   47.412500   46.187500     46.750000   46.800000   \n",
              "50%     48.925000   49.700000   48.300000     48.925000   48.925000   \n",
              "75%     52.525000   53.287500   51.625000     52.475000   52.512500   \n",
              "max     85.100000   87.500000   84.900000     84.550000   86.300000   \n",
              "\n",
              "           close           pc  \n",
              "count  128.000000  127.000000  \n",
              "mean    53.636719   -0.004360  \n",
              "std     11.576280    0.022579  \n",
              "min     41.050000   -0.092117  \n",
              "25%     46.750000   -0.016721  \n",
              "50%     49.025000   -0.003799  \n",
              "75%     52.562500    0.010758  \n",
              "max     86.300000    0.053797  "
            ]
          },
          "execution_count": 19,
          "metadata": {},
          "output_type": "execute_result"
        }
      ],
      "source": [
        "bi.describe()"
      ]
    }
  ],
  "metadata": {
    "colab": {
      "include_colab_link": true,
      "provenance": []
    },
    "kernelspec": {
      "display_name": "Python 3.10.4 ('sklearn-env')",
      "language": "python",
      "name": "python3"
    },
    "language_info": {
      "codemirror_mode": {
        "name": "ipython",
        "version": 3
      },
      "file_extension": ".py",
      "mimetype": "text/x-python",
      "name": "python",
      "nbconvert_exporter": "python",
      "pygments_lexer": "ipython3",
      "version": "3.10.4 (main, Mar 31 2022, 08:41:55) [GCC 7.5.0]"
    },
    "orig_nbformat": 4,
    "vscode": {
      "interpreter": {
        "hash": "35cc10d06dff50909df378e658975880e74f861b57b2a02715eced7b81e2ffbe"
      }
    }
  },
  "nbformat": 4,
  "nbformat_minor": 0
}
