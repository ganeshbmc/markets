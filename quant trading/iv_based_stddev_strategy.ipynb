{
 "cells": [
  {
   "cell_type": "markdown",
   "metadata": {
    "colab_type": "text",
    "id": "view-in-github"
   },
   "source": [
    "<a href=\"https://colab.research.google.com/github/ganeshbmc/markets/blob/master/quant%20trading/iv_based_stddev_strategy.ipynb\" target=\"_parent\"><img src=\"https://colab.research.google.com/assets/colab-badge.svg\" alt=\"Open In Colab\"/></a>"
   ]
  },
  {
   "cell_type": "markdown",
   "metadata": {
    "id": "0JPoHQ0K2kt-"
   },
   "source": [
    "# Simple strategy based on ATM IV and std deviations"
   ]
  },
  {
   "cell_type": "markdown",
   "metadata": {
    "id": "S4cQPtWI20-O"
   },
   "source": [
    "`Define your input variables here`  "
   ]
  },
  {
   "cell_type": "code",
   "execution_count": 1,
   "metadata": {
    "id": "kwZmFwgz2aKD"
   },
   "outputs": [],
   "source": [
    "# Input\n",
    "underlying = \"nifty\"\n",
    "spot_prev_close = 18190\n",
    "days_to_expiry = 3\n",
    "atm_iv = 11.8"
   ]
  },
  {
   "cell_type": "markdown",
   "metadata": {
    "id": "xCWh-cqF2zaa"
   },
   "source": [
    "`Import necessary libraries`"
   ]
  },
  {
   "cell_type": "code",
   "execution_count": 2,
   "metadata": {
    "id": "4PQUDaP82aJ_"
   },
   "outputs": [],
   "source": [
    "import math as m\n",
    "import numpy as np\n",
    "import pandas as pd\n",
    "import datetime as dt"
   ]
  },
  {
   "cell_type": "markdown",
   "metadata": {
    "id": "oVnEy53X26aB"
   },
   "source": [
    "`Calculation engine`  "
   ]
  },
  {
   "cell_type": "code",
   "execution_count": 3,
   "metadata": {
    "id": "Mbsx04pd2aKD"
   },
   "outputs": [],
   "source": [
    "def expected_move_pct(atm_iv, days_to_expiry, risk_stddev):\n",
    "    exp_move_pct = (atm_iv/(m.sqrt(256/days_to_expiry)))\n",
    "    exp_move_pct_for_desired_risk = exp_move_pct * risk_stddev\n",
    "    return exp_move_pct, exp_move_pct_for_desired_risk\n",
    "\n",
    "def get_strikes(underlying, atm_iv, spot_prev_close, days_to_expiry):\n",
    "\n",
    "    heads = [\"Percentage move\", \"Points to move from spot\", \"Lower strike\", \"Upper strike\"]\n",
    "    df = pd.DataFrame(index=heads)\n",
    "\n",
    "    std_devs = [0.75, 1, 1.25, 1.5, 1.75, 2, 2.5]\n",
    "    for risk_stddev in std_devs:\n",
    "        mv1, mv2 = expected_move_pct(atm_iv, days_to_expiry, risk_stddev)\n",
    "        points_move = spot_prev_close * (mv2/100)\n",
    "        lower_strike = spot_prev_close - points_move\n",
    "        upper_strike = spot_prev_close + points_move\n",
    "\n",
    "        temp = [f\"{round(mv2, 2)}%\", \n",
    "                f\"{int(points_move)}\", f\"{int(lower_strike)}\", f\"{int(upper_strike)}\"]\n",
    "        df[f\"{risk_stddev} SD\"] = temp\n",
    "\n",
    "    statement = f\"Underlying: {underlying.upper()}\\nSpot price of interest: {spot_prev_close}\\nPeriod of interest: {days_to_expiry}\\nATM IV: {atm_iv}\\n\\n\"\n",
    "    print(statement)\n",
    "    return df"
   ]
  },
  {
   "cell_type": "markdown",
   "metadata": {
    "id": "lOUR9rYo3EDq"
   },
   "source": [
    "`Output`  "
   ]
  },
  {
   "cell_type": "code",
   "execution_count": 4,
   "metadata": {
    "colab": {
     "base_uri": "https://localhost:8080/",
     "height": 279
    },
    "id": "RXOi5PDK3BYW",
    "outputId": "15639669-eefa-4ef4-ab05-7ccde4d667db",
    "scrolled": true
   },
   "outputs": [
    {
     "name": "stdout",
     "output_type": "stream",
     "text": [
      "Underlying: NIFTY\n",
      "Spot price of interest: 18190\n",
      "Period of interest: 3\n",
      "ATM IV: 11.8\n",
      "\n",
      "\n"
     ]
    },
    {
     "data": {
      "text/html": [
       "<div>\n",
       "<style scoped>\n",
       "    .dataframe tbody tr th:only-of-type {\n",
       "        vertical-align: middle;\n",
       "    }\n",
       "\n",
       "    .dataframe tbody tr th {\n",
       "        vertical-align: top;\n",
       "    }\n",
       "\n",
       "    .dataframe thead th {\n",
       "        text-align: right;\n",
       "    }\n",
       "</style>\n",
       "<table border=\"1\" class=\"dataframe\">\n",
       "  <thead>\n",
       "    <tr style=\"text-align: right;\">\n",
       "      <th></th>\n",
       "      <th>0.75 SD</th>\n",
       "      <th>1 SD</th>\n",
       "      <th>1.25 SD</th>\n",
       "      <th>1.5 SD</th>\n",
       "      <th>1.75 SD</th>\n",
       "      <th>2 SD</th>\n",
       "      <th>2.5 SD</th>\n",
       "    </tr>\n",
       "  </thead>\n",
       "  <tbody>\n",
       "    <tr>\n",
       "      <th>Percentage move</th>\n",
       "      <td>0.96%</td>\n",
       "      <td>1.28%</td>\n",
       "      <td>1.6%</td>\n",
       "      <td>1.92%</td>\n",
       "      <td>2.24%</td>\n",
       "      <td>2.55%</td>\n",
       "      <td>3.19%</td>\n",
       "    </tr>\n",
       "    <tr>\n",
       "      <th>Points to move from spot</th>\n",
       "      <td>174</td>\n",
       "      <td>232</td>\n",
       "      <td>290</td>\n",
       "      <td>348</td>\n",
       "      <td>406</td>\n",
       "      <td>464</td>\n",
       "      <td>580</td>\n",
       "    </tr>\n",
       "    <tr>\n",
       "      <th>Lower strike</th>\n",
       "      <td>18015</td>\n",
       "      <td>17957</td>\n",
       "      <td>17899</td>\n",
       "      <td>17841</td>\n",
       "      <td>17783</td>\n",
       "      <td>17725</td>\n",
       "      <td>17609</td>\n",
       "    </tr>\n",
       "    <tr>\n",
       "      <th>Upper strike</th>\n",
       "      <td>18364</td>\n",
       "      <td>18422</td>\n",
       "      <td>18480</td>\n",
       "      <td>18538</td>\n",
       "      <td>18596</td>\n",
       "      <td>18654</td>\n",
       "      <td>18770</td>\n",
       "    </tr>\n",
       "  </tbody>\n",
       "</table>\n",
       "</div>"
      ],
      "text/plain": [
       "                         0.75 SD   1 SD 1.25 SD 1.5 SD 1.75 SD   2 SD 2.5 SD\n",
       "Percentage move            0.96%  1.28%    1.6%  1.92%   2.24%  2.55%  3.19%\n",
       "Points to move from spot     174    232     290    348     406    464    580\n",
       "Lower strike               18015  17957   17899  17841   17783  17725  17609\n",
       "Upper strike               18364  18422   18480  18538   18596  18654  18770"
      ]
     },
     "execution_count": 4,
     "metadata": {},
     "output_type": "execute_result"
    }
   ],
   "source": [
    "get_strikes(underlying, atm_iv, spot_prev_close, days_to_expiry)"
   ]
  }
 ],
 "metadata": {
  "colab": {
   "include_colab_link": true,
   "provenance": []
  },
  "kernelspec": {
   "display_name": "Python 3 (ipykernel)",
   "language": "python",
   "name": "python3"
  },
  "language_info": {
   "codemirror_mode": {
    "name": "ipython",
    "version": 3
   },
   "file_extension": ".py",
   "mimetype": "text/x-python",
   "name": "python",
   "nbconvert_exporter": "python",
   "pygments_lexer": "ipython3",
   "version": "3.9.7"
  },
  "vscode": {
   "interpreter": {
    "hash": "a9fc4c7d055303a75ac6825ce3e810b1379669e9cb09d6b336d4c18851158a95"
   }
  }
 },
 "nbformat": 4,
 "nbformat_minor": 1
}
