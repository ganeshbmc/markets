{
  "cells": [
    {
      "cell_type": "markdown",
      "metadata": {
        "colab_type": "text",
        "id": "view-in-github"
      },
      "source": [
        "<a href=\"https://colab.research.google.com/github/ganeshbmc/markets/blob/master/quant%20trading/iv_based_stddev_strategy.ipynb\" target=\"_parent\"><img src=\"https://colab.research.google.com/assets/colab-badge.svg\" alt=\"Open In Colab\"/></a>"
      ]
    },
    {
      "cell_type": "markdown",
      "metadata": {
        "id": "0JPoHQ0K2kt-"
      },
      "source": [
        "# Simple strategy based on ATM IV and std deviations"
      ]
    },
    {
      "cell_type": "markdown",
      "metadata": {
        "id": "S4cQPtWI20-O"
      },
      "source": [
        "`Define your input variables here`  "
      ]
    },
    {
      "cell_type": "code",
      "execution_count": 146,
      "metadata": {
        "id": "kwZmFwgz2aKD"
      },
      "outputs": [],
      "source": [
        "# Input\n",
        "underlying = \"nifty\"\n",
        "spot_prev_close =18269\n",
        "days_to_expiry = 4\n",
        "atm_iv = 14.1"
      ]
    },
    {
      "cell_type": "markdown",
      "metadata": {
        "id": "xCWh-cqF2zaa"
      },
      "source": [
        "`Import necessary libraries`"
      ]
    },
    {
      "cell_type": "code",
      "execution_count": 147,
      "metadata": {
        "id": "4PQUDaP82aJ_"
      },
      "outputs": [],
      "source": [
        "import math as m\n",
        "import numpy as np\n",
        "import pandas as pd\n",
        "import datetime as dt"
      ]
    },
    {
      "cell_type": "markdown",
      "metadata": {
        "id": "oVnEy53X26aB"
      },
      "source": [
        "`Calculation engine`  "
      ]
    },
    {
      "cell_type": "code",
      "execution_count": 13,
      "metadata": {
        "id": "Mbsx04pd2aKD"
      },
      "outputs": [],
      "source": [
        "def expected_move_pct(atm_iv, days_to_expiry, risk_stddev):\n",
        "    exp_move_pct = (atm_iv/(m.sqrt(256/days_to_expiry)))\n",
        "    exp_move_pct_for_desired_risk = exp_move_pct * risk_stddev\n",
        "    return exp_move_pct, exp_move_pct_for_desired_risk\n",
        "\n",
        "def get_strikes(underlying, atm_iv, spot_prev_close, days_to_expiry):\n",
        "\n",
        "    heads = [\"Pct move\", \"Points to move from spot\", \"Lower strike\", \"Upper strike\"]\n",
        "    df = pd.DataFrame(index=heads)\n",
        "\n",
        "    std_devs = [1, 1.5, 2, 2.5]\n",
        "    for risk_stddev in std_devs:\n",
        "        mv1, mv2 = expected_move_pct(atm_iv, days_to_expiry, risk_stddev)\n",
        "        points_move = spot_prev_close * (mv2/100)\n",
        "        lower_strike = spot_prev_close - points_move\n",
        "        upper_strike = spot_prev_close + points_move\n",
        "\n",
        "        temp = [f\"{round(mv2, 2)}\", \n",
        "                f\"{int(points_move)}\", f\"{int(lower_strike)}\", f\"{int(upper_strike)}\"]\n",
        "        df[f\"{risk_stddev} SD\"] = temp\n",
        "\n",
        "    statement = f\"Underlying: {underlying.upper()}\\nSpot price of interest: {spot_prev_close}\\nPeriod of interest: {days_to_expiry}\\nATM IV: {atm_iv}\\n\\n\"\n",
        "    print(statement)\n",
        "    return df"
      ]
    },
    {
      "cell_type": "markdown",
      "metadata": {
        "id": "lOUR9rYo3EDq"
      },
      "source": [
        "`Output`  "
      ]
    },
    {
      "cell_type": "code",
      "execution_count": 14,
      "metadata": {
        "colab": {
          "base_uri": "https://localhost:8080/",
          "height": 363
        },
        "id": "RXOi5PDK3BYW",
        "outputId": "b0f27732-421c-4345-dc66-a980645386d1"
      },
      "outputs": [
        {
          "name": "stdout",
          "output_type": "stream",
          "text": [
            "Underlying: NIFTY\n",
            "Spot price of interest: 18269\n",
            "Period of interest: 4\n",
            "ATM IV: 14.1\n",
            "\n",
            "\n"
          ]
        },
        {
          "data": {
            "text/html": [
              "<div>\n",
              "<style scoped>\n",
              "    .dataframe tbody tr th:only-of-type {\n",
              "        vertical-align: middle;\n",
              "    }\n",
              "\n",
              "    .dataframe tbody tr th {\n",
              "        vertical-align: top;\n",
              "    }\n",
              "\n",
              "    .dataframe thead th {\n",
              "        text-align: right;\n",
              "    }\n",
              "</style>\n",
              "<table border=\"1\" class=\"dataframe\">\n",
              "  <thead>\n",
              "    <tr style=\"text-align: right;\">\n",
              "      <th></th>\n",
              "      <th>1 SD</th>\n",
              "      <th>1.5 SD</th>\n",
              "      <th>2 SD</th>\n",
              "      <th>2.5 SD</th>\n",
              "    </tr>\n",
              "  </thead>\n",
              "  <tbody>\n",
              "    <tr>\n",
              "      <th>Pct move</th>\n",
              "      <td>1.76</td>\n",
              "      <td>2.64</td>\n",
              "      <td>3.52</td>\n",
              "      <td>4.41</td>\n",
              "    </tr>\n",
              "    <tr>\n",
              "      <th>Points to move from spot</th>\n",
              "      <td>321</td>\n",
              "      <td>482</td>\n",
              "      <td>643</td>\n",
              "      <td>804</td>\n",
              "    </tr>\n",
              "    <tr>\n",
              "      <th>Lower strike</th>\n",
              "      <td>17947</td>\n",
              "      <td>17786</td>\n",
              "      <td>17625</td>\n",
              "      <td>17464</td>\n",
              "    </tr>\n",
              "    <tr>\n",
              "      <th>Upper strike</th>\n",
              "      <td>18590</td>\n",
              "      <td>18751</td>\n",
              "      <td>18912</td>\n",
              "      <td>19073</td>\n",
              "    </tr>\n",
              "  </tbody>\n",
              "</table>\n",
              "</div>"
            ],
            "text/plain": [
              "                           1 SD 1.5 SD   2 SD 2.5 SD\n",
              "Pct move                   1.76   2.64   3.52   4.41\n",
              "Points to move from spot    321    482    643    804\n",
              "Lower strike              17947  17786  17625  17464\n",
              "Upper strike              18590  18751  18912  19073"
            ]
          },
          "execution_count": 14,
          "metadata": {},
          "output_type": "execute_result"
        }
      ],
      "source": [
        "get_strikes(underlying, atm_iv, spot_prev_close, days_to_expiry)"
      ]
    }
  ],
  "metadata": {
    "colab": {
      "include_colab_link": true,
      "provenance": []
    },
    "kernelspec": {
      "display_name": "Python 3.9.7 ('base')",
      "language": "python",
      "name": "python3"
    },
    "language_info": {
      "codemirror_mode": {
        "name": "ipython",
        "version": 3
      },
      "file_extension": ".py",
      "mimetype": "text/x-python",
      "name": "python",
      "nbconvert_exporter": "python",
      "pygments_lexer": "ipython3",
      "version": "3.9.7"
    },
    "orig_nbformat": 4,
    "vscode": {
      "interpreter": {
        "hash": "a9fc4c7d055303a75ac6825ce3e810b1379669e9cb09d6b336d4c18851158a95"
      }
    }
  },
  "nbformat": 4,
  "nbformat_minor": 0
}
