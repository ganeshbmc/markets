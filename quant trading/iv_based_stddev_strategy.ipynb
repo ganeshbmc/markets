{
  "cells": [
    {
      "cell_type": "markdown",
      "metadata": {
        "id": "view-in-github",
        "colab_type": "text"
      },
      "source": [
        "<a href=\"https://colab.research.google.com/github/ganeshbmc/markets/blob/master/quant%20trading/iv_based_stddev_strategy.ipynb\" target=\"_parent\"><img src=\"https://colab.research.google.com/assets/colab-badge.svg\" alt=\"Open In Colab\"/></a>"
      ]
    },
    {
      "cell_type": "markdown",
      "metadata": {
        "id": "0JPoHQ0K2kt-"
      },
      "source": [
        "# Simple strategy based on ATM IV and std deviations"
      ]
    },
    {
      "cell_type": "markdown",
      "metadata": {
        "id": "S4cQPtWI20-O"
      },
      "source": [
        "`Define your input variables here`  "
      ]
    },
    {
      "cell_type": "code",
      "execution_count": 17,
      "metadata": {
        "id": "kwZmFwgz2aKD"
      },
      "outputs": [],
      "source": [
        "# Input\n",
        "underlying = \"nifty_bank\"\n",
        "spot_prev_close = 43413\n",
        "days_to_expiry = 3\n",
        "atm_iv = 12.8"
      ]
    },
    {
      "cell_type": "markdown",
      "metadata": {
        "id": "xCWh-cqF2zaa"
      },
      "source": [
        "`Import necessary libraries`"
      ]
    },
    {
      "cell_type": "code",
      "execution_count": 18,
      "metadata": {
        "id": "4PQUDaP82aJ_"
      },
      "outputs": [],
      "source": [
        "import math as m\n",
        "import numpy as np\n",
        "import pandas as pd\n",
        "import datetime as dt"
      ]
    },
    {
      "cell_type": "markdown",
      "metadata": {
        "id": "oVnEy53X26aB"
      },
      "source": [
        "`Calculation engine`  "
      ]
    },
    {
      "cell_type": "code",
      "execution_count": 19,
      "metadata": {
        "id": "Mbsx04pd2aKD"
      },
      "outputs": [],
      "source": [
        "def expected_move_pct(atm_iv, days_to_expiry, risk_stddev):\n",
        "    exp_move_pct = (atm_iv/(m.sqrt(256/days_to_expiry)))\n",
        "    exp_move_pct_for_desired_risk = exp_move_pct * risk_stddev\n",
        "    return exp_move_pct, exp_move_pct_for_desired_risk\n",
        "\n",
        "def get_strikes(underlying, atm_iv, spot_prev_close, days_to_expiry):\n",
        "\n",
        "    heads = [\"Pct move\", \"Points to move from spot\", \"Lower strike\", \"Upper strike\"]\n",
        "    df = pd.DataFrame(index=heads)\n",
        "\n",
        "    std_devs = [0.75, 1, 1.5, 2, 2.5]\n",
        "    for risk_stddev in std_devs:\n",
        "        mv1, mv2 = expected_move_pct(atm_iv, days_to_expiry, risk_stddev)\n",
        "        points_move = spot_prev_close * (mv2/100)\n",
        "        lower_strike = spot_prev_close - points_move\n",
        "        upper_strike = spot_prev_close + points_move\n",
        "\n",
        "        temp = [f\"{round(mv2, 2)}\", \n",
        "                f\"{int(points_move)}\", f\"{int(lower_strike)}\", f\"{int(upper_strike)}\"]\n",
        "        df[f\"{risk_stddev} SD\"] = temp\n",
        "\n",
        "    statement = f\"Underlying: {underlying.upper()}\\nSpot price of interest: {spot_prev_close}\\nPeriod of interest: {days_to_expiry}\\nATM IV: {atm_iv}\\n\\n\"\n",
        "    print(statement)\n",
        "    return df"
      ]
    },
    {
      "cell_type": "markdown",
      "metadata": {
        "id": "lOUR9rYo3EDq"
      },
      "source": [
        "`Output`  "
      ]
    },
    {
      "cell_type": "code",
      "execution_count": 20,
      "metadata": {
        "colab": {
          "base_uri": "https://localhost:8080/",
          "height": 279
        },
        "id": "RXOi5PDK3BYW",
        "outputId": "15639669-eefa-4ef4-ab05-7ccde4d667db"
      },
      "outputs": [
        {
          "output_type": "stream",
          "name": "stdout",
          "text": [
            "Underlying: NIFTY_BANK\n",
            "Spot price of interest: 43413\n",
            "Period of interest: 3\n",
            "ATM IV: 12.8\n",
            "\n",
            "\n"
          ]
        },
        {
          "output_type": "execute_result",
          "data": {
            "text/plain": [
              "                         0.75 SD   1 SD 1.5 SD   2 SD 2.5 SD\n",
              "Pct move                    1.04   1.39   2.08   2.77   3.46\n",
              "Points to move from spot     451    601    902   1203   1503\n",
              "Lower strike               42961  42811  42510  42209  41909\n",
              "Upper strike               43864  44014  44315  44616  44916"
            ],
            "text/html": [
              "\n",
              "  <div id=\"df-1e3aeb29-3726-4e4c-8f08-a6e26dd6c773\">\n",
              "    <div class=\"colab-df-container\">\n",
              "      <div>\n",
              "<style scoped>\n",
              "    .dataframe tbody tr th:only-of-type {\n",
              "        vertical-align: middle;\n",
              "    }\n",
              "\n",
              "    .dataframe tbody tr th {\n",
              "        vertical-align: top;\n",
              "    }\n",
              "\n",
              "    .dataframe thead th {\n",
              "        text-align: right;\n",
              "    }\n",
              "</style>\n",
              "<table border=\"1\" class=\"dataframe\">\n",
              "  <thead>\n",
              "    <tr style=\"text-align: right;\">\n",
              "      <th></th>\n",
              "      <th>0.75 SD</th>\n",
              "      <th>1 SD</th>\n",
              "      <th>1.5 SD</th>\n",
              "      <th>2 SD</th>\n",
              "      <th>2.5 SD</th>\n",
              "    </tr>\n",
              "  </thead>\n",
              "  <tbody>\n",
              "    <tr>\n",
              "      <th>Pct move</th>\n",
              "      <td>1.04</td>\n",
              "      <td>1.39</td>\n",
              "      <td>2.08</td>\n",
              "      <td>2.77</td>\n",
              "      <td>3.46</td>\n",
              "    </tr>\n",
              "    <tr>\n",
              "      <th>Points to move from spot</th>\n",
              "      <td>451</td>\n",
              "      <td>601</td>\n",
              "      <td>902</td>\n",
              "      <td>1203</td>\n",
              "      <td>1503</td>\n",
              "    </tr>\n",
              "    <tr>\n",
              "      <th>Lower strike</th>\n",
              "      <td>42961</td>\n",
              "      <td>42811</td>\n",
              "      <td>42510</td>\n",
              "      <td>42209</td>\n",
              "      <td>41909</td>\n",
              "    </tr>\n",
              "    <tr>\n",
              "      <th>Upper strike</th>\n",
              "      <td>43864</td>\n",
              "      <td>44014</td>\n",
              "      <td>44315</td>\n",
              "      <td>44616</td>\n",
              "      <td>44916</td>\n",
              "    </tr>\n",
              "  </tbody>\n",
              "</table>\n",
              "</div>\n",
              "      <button class=\"colab-df-convert\" onclick=\"convertToInteractive('df-1e3aeb29-3726-4e4c-8f08-a6e26dd6c773')\"\n",
              "              title=\"Convert this dataframe to an interactive table.\"\n",
              "              style=\"display:none;\">\n",
              "        \n",
              "  <svg xmlns=\"http://www.w3.org/2000/svg\" height=\"24px\"viewBox=\"0 0 24 24\"\n",
              "       width=\"24px\">\n",
              "    <path d=\"M0 0h24v24H0V0z\" fill=\"none\"/>\n",
              "    <path d=\"M18.56 5.44l.94 2.06.94-2.06 2.06-.94-2.06-.94-.94-2.06-.94 2.06-2.06.94zm-11 1L8.5 8.5l.94-2.06 2.06-.94-2.06-.94L8.5 2.5l-.94 2.06-2.06.94zm10 10l.94 2.06.94-2.06 2.06-.94-2.06-.94-.94-2.06-.94 2.06-2.06.94z\"/><path d=\"M17.41 7.96l-1.37-1.37c-.4-.4-.92-.59-1.43-.59-.52 0-1.04.2-1.43.59L10.3 9.45l-7.72 7.72c-.78.78-.78 2.05 0 2.83L4 21.41c.39.39.9.59 1.41.59.51 0 1.02-.2 1.41-.59l7.78-7.78 2.81-2.81c.8-.78.8-2.07 0-2.86zM5.41 20L4 18.59l7.72-7.72 1.47 1.35L5.41 20z\"/>\n",
              "  </svg>\n",
              "      </button>\n",
              "      \n",
              "  <style>\n",
              "    .colab-df-container {\n",
              "      display:flex;\n",
              "      flex-wrap:wrap;\n",
              "      gap: 12px;\n",
              "    }\n",
              "\n",
              "    .colab-df-convert {\n",
              "      background-color: #E8F0FE;\n",
              "      border: none;\n",
              "      border-radius: 50%;\n",
              "      cursor: pointer;\n",
              "      display: none;\n",
              "      fill: #1967D2;\n",
              "      height: 32px;\n",
              "      padding: 0 0 0 0;\n",
              "      width: 32px;\n",
              "    }\n",
              "\n",
              "    .colab-df-convert:hover {\n",
              "      background-color: #E2EBFA;\n",
              "      box-shadow: 0px 1px 2px rgba(60, 64, 67, 0.3), 0px 1px 3px 1px rgba(60, 64, 67, 0.15);\n",
              "      fill: #174EA6;\n",
              "    }\n",
              "\n",
              "    [theme=dark] .colab-df-convert {\n",
              "      background-color: #3B4455;\n",
              "      fill: #D2E3FC;\n",
              "    }\n",
              "\n",
              "    [theme=dark] .colab-df-convert:hover {\n",
              "      background-color: #434B5C;\n",
              "      box-shadow: 0px 1px 3px 1px rgba(0, 0, 0, 0.15);\n",
              "      filter: drop-shadow(0px 1px 2px rgba(0, 0, 0, 0.3));\n",
              "      fill: #FFFFFF;\n",
              "    }\n",
              "  </style>\n",
              "\n",
              "      <script>\n",
              "        const buttonEl =\n",
              "          document.querySelector('#df-1e3aeb29-3726-4e4c-8f08-a6e26dd6c773 button.colab-df-convert');\n",
              "        buttonEl.style.display =\n",
              "          google.colab.kernel.accessAllowed ? 'block' : 'none';\n",
              "\n",
              "        async function convertToInteractive(key) {\n",
              "          const element = document.querySelector('#df-1e3aeb29-3726-4e4c-8f08-a6e26dd6c773');\n",
              "          const dataTable =\n",
              "            await google.colab.kernel.invokeFunction('convertToInteractive',\n",
              "                                                     [key], {});\n",
              "          if (!dataTable) return;\n",
              "\n",
              "          const docLinkHtml = 'Like what you see? Visit the ' +\n",
              "            '<a target=\"_blank\" href=https://colab.research.google.com/notebooks/data_table.ipynb>data table notebook</a>'\n",
              "            + ' to learn more about interactive tables.';\n",
              "          element.innerHTML = '';\n",
              "          dataTable['output_type'] = 'display_data';\n",
              "          await google.colab.output.renderOutput(dataTable, element);\n",
              "          const docLink = document.createElement('div');\n",
              "          docLink.innerHTML = docLinkHtml;\n",
              "          element.appendChild(docLink);\n",
              "        }\n",
              "      </script>\n",
              "    </div>\n",
              "  </div>\n",
              "  "
            ]
          },
          "metadata": {},
          "execution_count": 20
        }
      ],
      "source": [
        "get_strikes(underlying, atm_iv, spot_prev_close, days_to_expiry)"
      ]
    }
  ],
  "metadata": {
    "colab": {
      "provenance": [],
      "include_colab_link": true
    },
    "kernelspec": {
      "display_name": "Python 3.9.7 ('base')",
      "language": "python",
      "name": "python3"
    },
    "language_info": {
      "codemirror_mode": {
        "name": "ipython",
        "version": 3
      },
      "file_extension": ".py",
      "mimetype": "text/x-python",
      "name": "python",
      "nbconvert_exporter": "python",
      "pygments_lexer": "ipython3",
      "version": "3.9.7"
    },
    "orig_nbformat": 4,
    "vscode": {
      "interpreter": {
        "hash": "a9fc4c7d055303a75ac6825ce3e810b1379669e9cb09d6b336d4c18851158a95"
      }
    }
  },
  "nbformat": 4,
  "nbformat_minor": 0
}