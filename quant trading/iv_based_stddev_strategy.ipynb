{
  "cells": [
    {
      "cell_type": "markdown",
      "metadata": {
        "id": "view-in-github",
        "colab_type": "text"
      },
      "source": [
        "<a href=\"https://colab.research.google.com/github/ganeshbmc/markets/blob/master/quant%20trading/iv_based_stddev_strategy.ipynb\" target=\"_parent\"><img src=\"https://colab.research.google.com/assets/colab-badge.svg\" alt=\"Open In Colab\"/></a>"
      ]
    },
    {
      "cell_type": "markdown",
      "source": [
        "# Simple strategy based on ATM IV and std deviations"
      ],
      "metadata": {
        "id": "0JPoHQ0K2kt-"
      }
    },
    {
      "cell_type": "markdown",
      "source": [
        "`Define your input variables here`  "
      ],
      "metadata": {
        "id": "S4cQPtWI20-O"
      }
    },
    {
      "cell_type": "code",
      "execution_count": 5,
      "metadata": {
        "id": "kwZmFwgz2aKD"
      },
      "outputs": [],
      "source": [
        "# Input\n",
        "underlying = \"nifty_bank\"\n",
        "atm_iv = 12.8\n",
        "spot_prev_close = 43260\n",
        "spot_current = 43350\n",
        "atm_strike = 43300\n",
        "days_to_expiry = 5\n",
        "risk_stddev = 1.5"
      ]
    },
    {
      "cell_type": "markdown",
      "source": [
        "`Import necessary libraries`"
      ],
      "metadata": {
        "id": "xCWh-cqF2zaa"
      }
    },
    {
      "cell_type": "code",
      "execution_count": 4,
      "metadata": {
        "id": "4PQUDaP82aJ_"
      },
      "outputs": [],
      "source": [
        "import math as m\n",
        "import numpy as np\n",
        "import pandas as pd\n",
        "import datetime as dt"
      ]
    },
    {
      "cell_type": "markdown",
      "source": [
        "`Calculation engine`  "
      ],
      "metadata": {
        "id": "oVnEy53X26aB"
      }
    },
    {
      "cell_type": "code",
      "execution_count": 6,
      "metadata": {
        "id": "Mbsx04pd2aKD"
      },
      "outputs": [],
      "source": [
        "def expected_move_pct(atm_iv, days_to_expiry, risk_stddev):\n",
        "    exp_move_pct = (atm_iv/(m.sqrt(256/days_to_expiry)))\n",
        "    exp_move_pct_for_desired_risk = exp_move_pct * risk_stddev\n",
        "    return exp_move_pct, exp_move_pct_for_desired_risk\n",
        "\n",
        "def get_strikes(underlying, atm_iv, spot_prev_close, days_to_expiry, risk_stddev):\n",
        "    mv1, mv2 = expected_move_pct(atm_iv, days_to_expiry, risk_stddev)\n",
        "    points_move = spot_prev_close * (mv2/100)\n",
        "    lower_strike = spot_prev_close - points_move\n",
        "    upper_strike = spot_prev_close + points_move\n",
        "\n",
        "    # output = f\"\"\"\n",
        "    # Underlying: {str.upper(underlying)}\n",
        "    # Period of interest: {days_to_expiry} days\n",
        "    # ATM IV: {atm_iv}\n",
        "\n",
        "    # Percentage move based on IV (for 1 stddev) is: {mv1:.2f}\n",
        "    # Desired risk level: {risk_stddev} std dev\n",
        "    # Percentage move for risk (stdev) desired is: {mv2:.2f}\n",
        "\n",
        "    # Spot price of interest: {spot_prev_close}\n",
        "    # Points to move from spot: {points_move:.0f}\n",
        "\n",
        "    # Lower strike: {lower_strike:.0f}\n",
        "    # Upper strike: {upper_strike:.0f}\n",
        "    # \"\"\"\n",
        "\n",
        "    dict_results = {\n",
        "    \"Underlying\": str.upper(underlying),\n",
        "    \"Spot price of interest\": f\"{spot_prev_close}\",\n",
        "    \"Period of interest\": f\"{days_to_expiry} days\",\n",
        "    \"ATM IV\": f\"{atm_iv}\",\n",
        "    \"Pct move for 1 stddev\": f\"{mv1:.2f}%\",\n",
        "    \"Desired risk level\": f\"{risk_stddev} std dev\",\n",
        "    f\"Pct move for {risk_stddev} std dev\": f\"{mv2:.2f}%\",\n",
        "    \"Points to move from spot\": f\"{points_move:.0f}\",\n",
        "    \"Lower strike\": f\"{lower_strike:.0f}\",\n",
        "    \"Upper strike\": f\"{upper_strike:.0f}\",\n",
        "    }\n",
        "\n",
        "    table = pd.DataFrame([dict_results]).T\n",
        "    return table"
      ]
    },
    {
      "cell_type": "markdown",
      "source": [
        "`Output`  "
      ],
      "metadata": {
        "id": "lOUR9rYo3EDq"
      }
    },
    {
      "cell_type": "code",
      "source": [
        "get_strikes(underlying, atm_iv, spot_prev_close, days_to_expiry, risk_stddev)"
      ],
      "metadata": {
        "id": "RXOi5PDK3BYW",
        "outputId": "b0f27732-421c-4345-dc66-a980645386d1",
        "colab": {
          "base_uri": "https://localhost:8080/",
          "height": 363
        }
      },
      "execution_count": 7,
      "outputs": [
        {
          "output_type": "execute_result",
          "data": {
            "text/plain": [
              "                                    0\n",
              "Underlying                 NIFTY_BANK\n",
              "Spot price of interest          43260\n",
              "Period of interest             5 days\n",
              "ATM IV                           12.8\n",
              "Pct move for 1 stddev           1.79%\n",
              "Desired risk level        1.5 std dev\n",
              "Pct move for 1.5 std dev        2.68%\n",
              "Points to move from spot         1161\n",
              "Lower strike                    42099\n",
              "Upper strike                    44421"
            ],
            "text/html": [
              "\n",
              "  <div id=\"df-8b758ff6-5e07-4ab1-a840-ab69b66a00a2\">\n",
              "    <div class=\"colab-df-container\">\n",
              "      <div>\n",
              "<style scoped>\n",
              "    .dataframe tbody tr th:only-of-type {\n",
              "        vertical-align: middle;\n",
              "    }\n",
              "\n",
              "    .dataframe tbody tr th {\n",
              "        vertical-align: top;\n",
              "    }\n",
              "\n",
              "    .dataframe thead th {\n",
              "        text-align: right;\n",
              "    }\n",
              "</style>\n",
              "<table border=\"1\" class=\"dataframe\">\n",
              "  <thead>\n",
              "    <tr style=\"text-align: right;\">\n",
              "      <th></th>\n",
              "      <th>0</th>\n",
              "    </tr>\n",
              "  </thead>\n",
              "  <tbody>\n",
              "    <tr>\n",
              "      <th>Underlying</th>\n",
              "      <td>NIFTY_BANK</td>\n",
              "    </tr>\n",
              "    <tr>\n",
              "      <th>Spot price of interest</th>\n",
              "      <td>43260</td>\n",
              "    </tr>\n",
              "    <tr>\n",
              "      <th>Period of interest</th>\n",
              "      <td>5 days</td>\n",
              "    </tr>\n",
              "    <tr>\n",
              "      <th>ATM IV</th>\n",
              "      <td>12.8</td>\n",
              "    </tr>\n",
              "    <tr>\n",
              "      <th>Pct move for 1 stddev</th>\n",
              "      <td>1.79%</td>\n",
              "    </tr>\n",
              "    <tr>\n",
              "      <th>Desired risk level</th>\n",
              "      <td>1.5 std dev</td>\n",
              "    </tr>\n",
              "    <tr>\n",
              "      <th>Pct move for 1.5 std dev</th>\n",
              "      <td>2.68%</td>\n",
              "    </tr>\n",
              "    <tr>\n",
              "      <th>Points to move from spot</th>\n",
              "      <td>1161</td>\n",
              "    </tr>\n",
              "    <tr>\n",
              "      <th>Lower strike</th>\n",
              "      <td>42099</td>\n",
              "    </tr>\n",
              "    <tr>\n",
              "      <th>Upper strike</th>\n",
              "      <td>44421</td>\n",
              "    </tr>\n",
              "  </tbody>\n",
              "</table>\n",
              "</div>\n",
              "      <button class=\"colab-df-convert\" onclick=\"convertToInteractive('df-8b758ff6-5e07-4ab1-a840-ab69b66a00a2')\"\n",
              "              title=\"Convert this dataframe to an interactive table.\"\n",
              "              style=\"display:none;\">\n",
              "        \n",
              "  <svg xmlns=\"http://www.w3.org/2000/svg\" height=\"24px\"viewBox=\"0 0 24 24\"\n",
              "       width=\"24px\">\n",
              "    <path d=\"M0 0h24v24H0V0z\" fill=\"none\"/>\n",
              "    <path d=\"M18.56 5.44l.94 2.06.94-2.06 2.06-.94-2.06-.94-.94-2.06-.94 2.06-2.06.94zm-11 1L8.5 8.5l.94-2.06 2.06-.94-2.06-.94L8.5 2.5l-.94 2.06-2.06.94zm10 10l.94 2.06.94-2.06 2.06-.94-2.06-.94-.94-2.06-.94 2.06-2.06.94z\"/><path d=\"M17.41 7.96l-1.37-1.37c-.4-.4-.92-.59-1.43-.59-.52 0-1.04.2-1.43.59L10.3 9.45l-7.72 7.72c-.78.78-.78 2.05 0 2.83L4 21.41c.39.39.9.59 1.41.59.51 0 1.02-.2 1.41-.59l7.78-7.78 2.81-2.81c.8-.78.8-2.07 0-2.86zM5.41 20L4 18.59l7.72-7.72 1.47 1.35L5.41 20z\"/>\n",
              "  </svg>\n",
              "      </button>\n",
              "      \n",
              "  <style>\n",
              "    .colab-df-container {\n",
              "      display:flex;\n",
              "      flex-wrap:wrap;\n",
              "      gap: 12px;\n",
              "    }\n",
              "\n",
              "    .colab-df-convert {\n",
              "      background-color: #E8F0FE;\n",
              "      border: none;\n",
              "      border-radius: 50%;\n",
              "      cursor: pointer;\n",
              "      display: none;\n",
              "      fill: #1967D2;\n",
              "      height: 32px;\n",
              "      padding: 0 0 0 0;\n",
              "      width: 32px;\n",
              "    }\n",
              "\n",
              "    .colab-df-convert:hover {\n",
              "      background-color: #E2EBFA;\n",
              "      box-shadow: 0px 1px 2px rgba(60, 64, 67, 0.3), 0px 1px 3px 1px rgba(60, 64, 67, 0.15);\n",
              "      fill: #174EA6;\n",
              "    }\n",
              "\n",
              "    [theme=dark] .colab-df-convert {\n",
              "      background-color: #3B4455;\n",
              "      fill: #D2E3FC;\n",
              "    }\n",
              "\n",
              "    [theme=dark] .colab-df-convert:hover {\n",
              "      background-color: #434B5C;\n",
              "      box-shadow: 0px 1px 3px 1px rgba(0, 0, 0, 0.15);\n",
              "      filter: drop-shadow(0px 1px 2px rgba(0, 0, 0, 0.3));\n",
              "      fill: #FFFFFF;\n",
              "    }\n",
              "  </style>\n",
              "\n",
              "      <script>\n",
              "        const buttonEl =\n",
              "          document.querySelector('#df-8b758ff6-5e07-4ab1-a840-ab69b66a00a2 button.colab-df-convert');\n",
              "        buttonEl.style.display =\n",
              "          google.colab.kernel.accessAllowed ? 'block' : 'none';\n",
              "\n",
              "        async function convertToInteractive(key) {\n",
              "          const element = document.querySelector('#df-8b758ff6-5e07-4ab1-a840-ab69b66a00a2');\n",
              "          const dataTable =\n",
              "            await google.colab.kernel.invokeFunction('convertToInteractive',\n",
              "                                                     [key], {});\n",
              "          if (!dataTable) return;\n",
              "\n",
              "          const docLinkHtml = 'Like what you see? Visit the ' +\n",
              "            '<a target=\"_blank\" href=https://colab.research.google.com/notebooks/data_table.ipynb>data table notebook</a>'\n",
              "            + ' to learn more about interactive tables.';\n",
              "          element.innerHTML = '';\n",
              "          dataTable['output_type'] = 'display_data';\n",
              "          await google.colab.output.renderOutput(dataTable, element);\n",
              "          const docLink = document.createElement('div');\n",
              "          docLink.innerHTML = docLinkHtml;\n",
              "          element.appendChild(docLink);\n",
              "        }\n",
              "      </script>\n",
              "    </div>\n",
              "  </div>\n",
              "  "
            ]
          },
          "metadata": {},
          "execution_count": 7
        }
      ]
    }
  ],
  "metadata": {
    "kernelspec": {
      "display_name": "Python 3.9.7 ('base')",
      "language": "python",
      "name": "python3"
    },
    "language_info": {
      "codemirror_mode": {
        "name": "ipython",
        "version": 3
      },
      "file_extension": ".py",
      "mimetype": "text/x-python",
      "name": "python",
      "nbconvert_exporter": "python",
      "pygments_lexer": "ipython3",
      "version": "3.9.7"
    },
    "orig_nbformat": 4,
    "vscode": {
      "interpreter": {
        "hash": "a9fc4c7d055303a75ac6825ce3e810b1379669e9cb09d6b336d4c18851158a95"
      }
    },
    "colab": {
      "provenance": [],
      "include_colab_link": true
    }
  },
  "nbformat": 4,
  "nbformat_minor": 0
}