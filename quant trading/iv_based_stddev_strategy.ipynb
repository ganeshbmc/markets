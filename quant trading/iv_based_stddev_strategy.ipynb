{
 "cells": [
  {
   "cell_type": "markdown",
   "metadata": {
    "colab_type": "text",
    "id": "view-in-github"
   },
   "source": [
    "<a href=\"https://colab.research.google.com/github/ganeshbmc/markets/blob/master/quant%20trading/iv_based_stddev_strategy.ipynb\" target=\"_parent\"><img src=\"https://colab.research.google.com/assets/colab-badge.svg\" alt=\"Open In Colab\"/></a>"
   ]
  },
  {
   "cell_type": "markdown",
   "metadata": {
    "id": "0JPoHQ0K2kt-"
   },
   "source": [
    "# Simple strategy based on ATM IV and std deviations"
   ]
  },
  {
   "cell_type": "markdown",
   "metadata": {
    "id": "S4cQPtWI20-O"
   },
   "source": [
    "`Define your input variables here`  "
   ]
  },
  {
   "cell_type": "code",
   "execution_count": 1,
   "metadata": {
    "id": "kwZmFwgz2aKD"
   },
   "outputs": [],
   "source": [
    "# Input\n",
    "underlying = \"nifty\"\n",
    "spot_prev_close = 18000\n",
    "days_to_expiry = 3\n",
    "atm_iv = 16"
   ]
  },
  {
   "cell_type": "markdown",
   "metadata": {
    "id": "xCWh-cqF2zaa"
   },
   "source": [
    "`Import necessary libraries`"
   ]
  },
  {
   "cell_type": "code",
   "execution_count": 2,
   "metadata": {
    "id": "4PQUDaP82aJ_"
   },
   "outputs": [],
   "source": [
    "import math as m\n",
    "import numpy as np\n",
    "import pandas as pd\n",
    "import datetime as dt"
   ]
  },
  {
   "cell_type": "markdown",
   "metadata": {
    "id": "oVnEy53X26aB"
   },
   "source": [
    "`Calculation engine`  "
   ]
  },
  {
   "cell_type": "code",
   "execution_count": 3,
   "metadata": {
    "id": "Mbsx04pd2aKD"
   },
   "outputs": [],
   "source": [
    "def expected_move_pct(atm_iv, days_to_expiry, risk_stddev):\n",
    "    exp_move_pct = (atm_iv/(m.sqrt(256/days_to_expiry)))\n",
    "    exp_move_pct_for_desired_risk = exp_move_pct * risk_stddev\n",
    "    return exp_move_pct, exp_move_pct_for_desired_risk\n",
    "\n",
    "def get_strikes(underlying, atm_iv, spot_prev_close, days_to_expiry):\n",
    "\n",
    "    heads = [\"Percentage move\", \"Points to move from spot\", \"Lower strike\", \"Upper strike\"]\n",
    "    df = pd.DataFrame(index=heads)\n",
    "\n",
    "    std_devs = [0.75, 1, 1.25, 1.5, 1.75, 2, 2.5]\n",
    "    for risk_stddev in std_devs:\n",
    "        mv1, mv2 = expected_move_pct(atm_iv, days_to_expiry, risk_stddev)\n",
    "        points_move = spot_prev_close * (mv2/100)\n",
    "        lower_strike = spot_prev_close - points_move\n",
    "        upper_strike = spot_prev_close + points_move\n",
    "\n",
    "        temp = [f\"{round(mv2, 2)}%\", \n",
    "                f\"{int(points_move)}\", f\"{int(lower_strike)}\", f\"{int(upper_strike)}\"]\n",
    "        df[f\"{risk_stddev} SD\"] = temp\n",
    "\n",
    "    statement = f\"Underlying: {underlying.upper()}\\nSpot price of interest: {spot_prev_close}\\nPeriod of interest: {days_to_expiry}\\nATM IV: {atm_iv}\\n\\n\"\n",
    "    print(statement)\n",
    "    return df"
   ]
  },
  {
   "cell_type": "markdown",
   "metadata": {
    "id": "lOUR9rYo3EDq"
   },
   "source": [
    "`Output`  "
   ]
  },
  {
   "cell_type": "code",
   "execution_count": 4,
   "metadata": {
    "colab": {
     "base_uri": "https://localhost:8080/",
     "height": 279
    },
    "id": "RXOi5PDK3BYW",
    "outputId": "15639669-eefa-4ef4-ab05-7ccde4d667db",
    "scrolled": true
   },
   "outputs": [
    {
     "name": "stdout",
     "output_type": "stream",
     "text": [
      "Underlying: NIFTY\n",
      "Spot price of interest: 18000\n",
      "Period of interest: 3\n",
      "ATM IV: 16\n",
      "\n",
      "\n"
     ]
    },
    {
     "data": {
      "text/html": [
       "<div>\n",
       "<style scoped>\n",
       "    .dataframe tbody tr th:only-of-type {\n",
       "        vertical-align: middle;\n",
       "    }\n",
       "\n",
       "    .dataframe tbody tr th {\n",
       "        vertical-align: top;\n",
       "    }\n",
       "\n",
       "    .dataframe thead th {\n",
       "        text-align: right;\n",
       "    }\n",
       "</style>\n",
       "<table border=\"1\" class=\"dataframe\">\n",
       "  <thead>\n",
       "    <tr style=\"text-align: right;\">\n",
       "      <th></th>\n",
       "      <th>0.75 SD</th>\n",
       "      <th>1 SD</th>\n",
       "      <th>1.25 SD</th>\n",
       "      <th>1.5 SD</th>\n",
       "      <th>1.75 SD</th>\n",
       "      <th>2 SD</th>\n",
       "      <th>2.5 SD</th>\n",
       "    </tr>\n",
       "  </thead>\n",
       "  <tbody>\n",
       "    <tr>\n",
       "      <th>Percentage move</th>\n",
       "      <td>1.3%</td>\n",
       "      <td>1.73%</td>\n",
       "      <td>2.17%</td>\n",
       "      <td>2.6%</td>\n",
       "      <td>3.03%</td>\n",
       "      <td>3.46%</td>\n",
       "      <td>4.33%</td>\n",
       "    </tr>\n",
       "    <tr>\n",
       "      <th>Points to move from spot</th>\n",
       "      <td>233</td>\n",
       "      <td>311</td>\n",
       "      <td>389</td>\n",
       "      <td>467</td>\n",
       "      <td>545</td>\n",
       "      <td>623</td>\n",
       "      <td>779</td>\n",
       "    </tr>\n",
       "    <tr>\n",
       "      <th>Lower strike</th>\n",
       "      <td>17766</td>\n",
       "      <td>17688</td>\n",
       "      <td>17610</td>\n",
       "      <td>17532</td>\n",
       "      <td>17454</td>\n",
       "      <td>17376</td>\n",
       "      <td>17220</td>\n",
       "    </tr>\n",
       "    <tr>\n",
       "      <th>Upper strike</th>\n",
       "      <td>18233</td>\n",
       "      <td>18311</td>\n",
       "      <td>18389</td>\n",
       "      <td>18467</td>\n",
       "      <td>18545</td>\n",
       "      <td>18623</td>\n",
       "      <td>18779</td>\n",
       "    </tr>\n",
       "  </tbody>\n",
       "</table>\n",
       "</div>"
      ],
      "text/plain": [
       "                         0.75 SD   1 SD 1.25 SD 1.5 SD 1.75 SD   2 SD 2.5 SD\n",
       "Percentage move             1.3%  1.73%   2.17%   2.6%   3.03%  3.46%  4.33%\n",
       "Points to move from spot     233    311     389    467     545    623    779\n",
       "Lower strike               17766  17688   17610  17532   17454  17376  17220\n",
       "Upper strike               18233  18311   18389  18467   18545  18623  18779"
      ]
     },
     "execution_count": 4,
     "metadata": {},
     "output_type": "execute_result"
    }
   ],
   "source": [
    "get_strikes(underlying, atm_iv, spot_prev_close, days_to_expiry)"
   ]
  }
 ],
 "metadata": {
  "colab": {
   "include_colab_link": true,
   "provenance": []
  },
  "kernelspec": {
   "display_name": "Python 3 (ipykernel)",
   "language": "python",
   "name": "python3"
  },
  "language_info": {
   "codemirror_mode": {
    "name": "ipython",
    "version": 3
   },
   "file_extension": ".py",
   "mimetype": "text/x-python",
   "name": "python",
   "nbconvert_exporter": "python",
   "pygments_lexer": "ipython3",
   "version": "3.9.7"
  },
  "vscode": {
   "interpreter": {
    "hash": "a9fc4c7d055303a75ac6825ce3e810b1379669e9cb09d6b336d4c18851158a95"
   }
  }
 },
 "nbformat": 4,
 "nbformat_minor": 1
}
