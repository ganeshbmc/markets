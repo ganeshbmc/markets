{
 "cells": [
  {
   "cell_type": "code",
   "execution_count": 1,
   "metadata": {},
   "outputs": [],
   "source": [
    "import math as m\n",
    "import numpy as np\n",
    "import pandas as pd\n",
    "import datetime as dt"
   ]
  },
  {
   "cell_type": "code",
   "execution_count": 5,
   "metadata": {},
   "outputs": [],
   "source": [
    "# Input\n",
    "underlying = \"nifty_bank\"\n",
    "atm_iv = 12.8\n",
    "spot_prev_close = 43260\n",
    "spot_current = 43350\n",
    "atm_strike = 43300\n",
    "days_to_expiry = 5\n",
    "risk_stddev = 1"
   ]
  },
  {
   "cell_type": "code",
   "execution_count": 6,
   "metadata": {},
   "outputs": [
    {
     "data": {
      "text/html": [
       "<div>\n",
       "<style scoped>\n",
       "    .dataframe tbody tr th:only-of-type {\n",
       "        vertical-align: middle;\n",
       "    }\n",
       "\n",
       "    .dataframe tbody tr th {\n",
       "        vertical-align: top;\n",
       "    }\n",
       "\n",
       "    .dataframe thead th {\n",
       "        text-align: right;\n",
       "    }\n",
       "</style>\n",
       "<table border=\"1\" class=\"dataframe\">\n",
       "  <thead>\n",
       "    <tr style=\"text-align: right;\">\n",
       "      <th></th>\n",
       "      <th>0</th>\n",
       "    </tr>\n",
       "  </thead>\n",
       "  <tbody>\n",
       "    <tr>\n",
       "      <th>Underlying</th>\n",
       "      <td>NIFTY_BANK</td>\n",
       "    </tr>\n",
       "    <tr>\n",
       "      <th>Spot price of interest</th>\n",
       "      <td>43260</td>\n",
       "    </tr>\n",
       "    <tr>\n",
       "      <th>Period of interest</th>\n",
       "      <td>5 days</td>\n",
       "    </tr>\n",
       "    <tr>\n",
       "      <th>ATM IV</th>\n",
       "      <td>12.8</td>\n",
       "    </tr>\n",
       "    <tr>\n",
       "      <th>Pct move for 1 stddev</th>\n",
       "      <td>1.79%</td>\n",
       "    </tr>\n",
       "    <tr>\n",
       "      <th>Desired risk level</th>\n",
       "      <td>1 std dev</td>\n",
       "    </tr>\n",
       "    <tr>\n",
       "      <th>Pct move for 1 std dev</th>\n",
       "      <td>1.79%</td>\n",
       "    </tr>\n",
       "    <tr>\n",
       "      <th>Points to move from spot</th>\n",
       "      <td>774</td>\n",
       "    </tr>\n",
       "    <tr>\n",
       "      <th>Lower strike</th>\n",
       "      <td>42486</td>\n",
       "    </tr>\n",
       "    <tr>\n",
       "      <th>Upper strike</th>\n",
       "      <td>44034</td>\n",
       "    </tr>\n",
       "  </tbody>\n",
       "</table>\n",
       "</div>"
      ],
      "text/plain": [
       "                                   0\n",
       "Underlying                NIFTY_BANK\n",
       "Spot price of interest         43260\n",
       "Period of interest            5 days\n",
       "ATM IV                          12.8\n",
       "Pct move for 1 stddev          1.79%\n",
       "Desired risk level         1 std dev\n",
       "Pct move for 1 std dev         1.79%\n",
       "Points to move from spot         774\n",
       "Lower strike                   42486\n",
       "Upper strike                   44034"
      ]
     },
     "execution_count": 6,
     "metadata": {},
     "output_type": "execute_result"
    }
   ],
   "source": [
    "def expected_move_pct(atm_iv, days_to_expiry, risk_stddev):\n",
    "    exp_move_pct = (atm_iv/(m.sqrt(256/days_to_expiry)))\n",
    "    exp_move_pct_for_desired_risk = exp_move_pct * risk_stddev\n",
    "    return exp_move_pct, exp_move_pct_for_desired_risk\n",
    "\n",
    "def get_strikes(underlying, atm_iv, spot_prev_close, days_to_expiry, risk_stddev):\n",
    "    mv1, mv2 = expected_move_pct(atm_iv, days_to_expiry, risk_stddev)\n",
    "    points_move = spot_prev_close * (mv2/100)\n",
    "    lower_strike = spot_prev_close - points_move\n",
    "    upper_strike = spot_prev_close + points_move\n",
    "\n",
    "    output = f\"\"\"\n",
    "    Underlying: {str.upper(underlying)}\n",
    "    Period of interest: {days_to_expiry} days\n",
    "    ATM IV: {atm_iv}\n",
    "\n",
    "    Percentage move based on IV (for 1 stddev) is: {mv1:.2f}\n",
    "    Desired risk level: {risk_stddev} std dev\n",
    "    Percentage move for risk (stdev) desired is: {mv2:.2f}\n",
    "\n",
    "    Spot price of interest: {spot_prev_close}\n",
    "    Points to move from spot: {points_move:.0f}\n",
    "\n",
    "    Lower strike: {lower_strike:.0f}\n",
    "    Upper strike: {upper_strike:.0f}\n",
    "    \"\"\"\n",
    "\n",
    "    dict_results = {\n",
    "    \"Underlying\": str.upper(underlying),\n",
    "    \"Spot price of interest\": f\"{spot_prev_close}\",\n",
    "    \"Period of interest\": f\"{days_to_expiry} days\",\n",
    "    \"ATM IV\": f\"{atm_iv}\",\n",
    "    \"Pct move for 1 stddev\": f\"{mv1:.2f}%\",\n",
    "    \"Desired risk level\": f\"{risk_stddev} std dev\",\n",
    "    f\"Pct move for {risk_stddev} std dev\": f\"{mv2:.2f}%\",\n",
    "    \"Points to move from spot\": f\"{points_move:.0f}\",\n",
    "    \"Lower strike\": f\"{lower_strike:.0f}\",\n",
    "    \"Upper strike\": f\"{upper_strike:.0f}\",\n",
    "    }\n",
    "\n",
    "    table = pd.DataFrame([dict_results]).T\n",
    "    return table\n",
    "\n",
    "get_strikes(underlying, atm_iv, spot_prev_close, days_to_expiry, risk_stddev)"
   ]
  }
 ],
 "metadata": {
  "kernelspec": {
   "display_name": "Python 3.9.7 ('base')",
   "language": "python",
   "name": "python3"
  },
  "language_info": {
   "codemirror_mode": {
    "name": "ipython",
    "version": 3
   },
   "file_extension": ".py",
   "mimetype": "text/x-python",
   "name": "python",
   "nbconvert_exporter": "python",
   "pygments_lexer": "ipython3",
   "version": "3.9.7"
  },
  "orig_nbformat": 4,
  "vscode": {
   "interpreter": {
    "hash": "a9fc4c7d055303a75ac6825ce3e810b1379669e9cb09d6b336d4c18851158a95"
   }
  }
 },
 "nbformat": 4,
 "nbformat_minor": 2
}
