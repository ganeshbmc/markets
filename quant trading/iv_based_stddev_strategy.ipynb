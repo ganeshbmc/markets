{
  "cells": [
    {
      "cell_type": "markdown",
      "metadata": {
        "colab_type": "text",
        "id": "view-in-github"
      },
      "source": [
        "<a href=\"https://colab.research.google.com/github/ganeshbmc/markets/blob/master/quant%20trading/iv_based_stddev_strategy.ipynb\" target=\"_parent\"><img src=\"https://colab.research.google.com/assets/colab-badge.svg\" alt=\"Open In Colab\"/></a>"
      ]
    },
    {
      "cell_type": "markdown",
      "metadata": {
        "id": "0JPoHQ0K2kt-"
      },
      "source": [
        "# Simple strategy based on ATM IV and std deviations"
      ]
    },
    {
      "cell_type": "markdown",
      "metadata": {
        "id": "S4cQPtWI20-O"
      },
      "source": [
        "`Define your input variables here`  "
      ]
    },
    {
      "cell_type": "code",
      "execution_count": 1,
      "metadata": {
        "id": "kwZmFwgz2aKD"
      },
      "outputs": [],
      "source": [
        "# Input\n",
        "underlying = \"nifty_bank\"\n",
        "atm_iv = 16.2\n",
        "spot_prev_close = 43140\n",
        "spot_current = 43140\n",
        "atm_strike = 43140\n",
        "days_to_expiry = 2\n",
        "risk_stddev = 1.5"
      ]
    },
    {
      "cell_type": "markdown",
      "metadata": {
        "id": "xCWh-cqF2zaa"
      },
      "source": [
        "`Import necessary libraries`"
      ]
    },
    {
      "cell_type": "code",
      "execution_count": 2,
      "metadata": {
        "id": "4PQUDaP82aJ_"
      },
      "outputs": [],
      "source": [
        "import math as m\n",
        "import numpy as np\n",
        "import pandas as pd\n",
        "import datetime as dt"
      ]
    },
    {
      "cell_type": "markdown",
      "metadata": {
        "id": "oVnEy53X26aB"
      },
      "source": [
        "`Calculation engine`  "
      ]
    },
    {
      "cell_type": "code",
      "execution_count": 3,
      "metadata": {
        "id": "Mbsx04pd2aKD"
      },
      "outputs": [],
      "source": [
        "def expected_move_pct(atm_iv, days_to_expiry, risk_stddev):\n",
        "    exp_move_pct = (atm_iv/(m.sqrt(256/days_to_expiry)))\n",
        "    exp_move_pct_for_desired_risk = exp_move_pct * risk_stddev\n",
        "    return exp_move_pct, exp_move_pct_for_desired_risk\n",
        "\n",
        "def get_strikes(underlying, atm_iv, spot_prev_close, days_to_expiry, risk_stddev):\n",
        "    mv1, mv2 = expected_move_pct(atm_iv, days_to_expiry, risk_stddev)\n",
        "    points_move = spot_prev_close * (mv2/100)\n",
        "    lower_strike = spot_prev_close - points_move\n",
        "    upper_strike = spot_prev_close + points_move\n",
        "\n",
        "    # output = f\"\"\"\n",
        "    # Underlying: {str.upper(underlying)}\n",
        "    # Period of interest: {days_to_expiry} days\n",
        "    # ATM IV: {atm_iv}\n",
        "\n",
        "    # Percentage move based on IV (for 1 stddev) is: {mv1:.2f}\n",
        "    # Desired risk level: {risk_stddev} std dev\n",
        "    # Percentage move for risk (stdev) desired is: {mv2:.2f}\n",
        "\n",
        "    # Spot price of interest: {spot_prev_close}\n",
        "    # Points to move from spot: {points_move:.0f}\n",
        "\n",
        "    # Lower strike: {lower_strike:.0f}\n",
        "    # Upper strike: {upper_strike:.0f}\n",
        "    # \"\"\"\n",
        "\n",
        "    dict_results = {\n",
        "    \"Underlying\": str.upper(underlying),\n",
        "    \"Spot price of interest\": f\"{spot_prev_close}\",\n",
        "    \"Period of interest\": f\"{days_to_expiry} days\",\n",
        "    \"ATM IV\": f\"{atm_iv}\",\n",
        "    \"Pct move for 1 stddev\": f\"{mv1:.2f}%\",\n",
        "    \"Desired risk level\": f\"{risk_stddev} std dev\",\n",
        "    f\"Pct move for {risk_stddev} std dev\": f\"{mv2:.2f}%\",\n",
        "    \"Points to move from spot\": f\"{points_move:.0f}\",\n",
        "    \"Lower strike\": f\"{lower_strike:.0f}\",\n",
        "    \"Upper strike\": f\"{upper_strike:.0f}\",\n",
        "    }\n",
        "\n",
        "    table = pd.DataFrame([dict_results]).T\n",
        "    return table"
      ]
    },
    {
      "cell_type": "markdown",
      "metadata": {
        "id": "lOUR9rYo3EDq"
      },
      "source": [
        "`Output`  "
      ]
    },
    {
      "cell_type": "code",
      "execution_count": 4,
      "metadata": {
        "colab": {
          "base_uri": "https://localhost:8080/",
          "height": 363
        },
        "id": "RXOi5PDK3BYW",
        "outputId": "b0f27732-421c-4345-dc66-a980645386d1"
      },
      "outputs": [
        {
          "data": {
            "text/html": [
              "<div>\n",
              "<style scoped>\n",
              "    .dataframe tbody tr th:only-of-type {\n",
              "        vertical-align: middle;\n",
              "    }\n",
              "\n",
              "    .dataframe tbody tr th {\n",
              "        vertical-align: top;\n",
              "    }\n",
              "\n",
              "    .dataframe thead th {\n",
              "        text-align: right;\n",
              "    }\n",
              "</style>\n",
              "<table border=\"1\" class=\"dataframe\">\n",
              "  <thead>\n",
              "    <tr style=\"text-align: right;\">\n",
              "      <th></th>\n",
              "      <th>0</th>\n",
              "    </tr>\n",
              "  </thead>\n",
              "  <tbody>\n",
              "    <tr>\n",
              "      <th>Underlying</th>\n",
              "      <td>NIFTY_BANK</td>\n",
              "    </tr>\n",
              "    <tr>\n",
              "      <th>Spot price of interest</th>\n",
              "      <td>43140</td>\n",
              "    </tr>\n",
              "    <tr>\n",
              "      <th>Period of interest</th>\n",
              "      <td>2 days</td>\n",
              "    </tr>\n",
              "    <tr>\n",
              "      <th>ATM IV</th>\n",
              "      <td>16.2</td>\n",
              "    </tr>\n",
              "    <tr>\n",
              "      <th>Pct move for 1 stddev</th>\n",
              "      <td>1.43%</td>\n",
              "    </tr>\n",
              "    <tr>\n",
              "      <th>Desired risk level</th>\n",
              "      <td>1.5 std dev</td>\n",
              "    </tr>\n",
              "    <tr>\n",
              "      <th>Pct move for 1.5 std dev</th>\n",
              "      <td>2.15%</td>\n",
              "    </tr>\n",
              "    <tr>\n",
              "      <th>Points to move from spot</th>\n",
              "      <td>927</td>\n",
              "    </tr>\n",
              "    <tr>\n",
              "      <th>Lower strike</th>\n",
              "      <td>42213</td>\n",
              "    </tr>\n",
              "    <tr>\n",
              "      <th>Upper strike</th>\n",
              "      <td>44067</td>\n",
              "    </tr>\n",
              "  </tbody>\n",
              "</table>\n",
              "</div>"
            ],
            "text/plain": [
              "                                    0\n",
              "Underlying                 NIFTY_BANK\n",
              "Spot price of interest          43140\n",
              "Period of interest             2 days\n",
              "ATM IV                           16.2\n",
              "Pct move for 1 stddev           1.43%\n",
              "Desired risk level        1.5 std dev\n",
              "Pct move for 1.5 std dev        2.15%\n",
              "Points to move from spot          927\n",
              "Lower strike                    42213\n",
              "Upper strike                    44067"
            ]
          },
          "execution_count": 4,
          "metadata": {},
          "output_type": "execute_result"
        }
      ],
      "source": [
        "get_strikes(underlying, atm_iv, spot_prev_close, days_to_expiry, risk_stddev)"
      ]
    }
  ],
  "metadata": {
    "colab": {
      "include_colab_link": true,
      "provenance": []
    },
    "kernelspec": {
      "display_name": "Python 3.9.7 ('base')",
      "language": "python",
      "name": "python3"
    },
    "language_info": {
      "codemirror_mode": {
        "name": "ipython",
        "version": 3
      },
      "file_extension": ".py",
      "mimetype": "text/x-python",
      "name": "python",
      "nbconvert_exporter": "python",
      "pygments_lexer": "ipython3",
      "version": "3.9.7"
    },
    "orig_nbformat": 4,
    "vscode": {
      "interpreter": {
        "hash": "a9fc4c7d055303a75ac6825ce3e810b1379669e9cb09d6b336d4c18851158a95"
      }
    }
  },
  "nbformat": 4,
  "nbformat_minor": 0
}
