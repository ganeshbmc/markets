{
 "cells": [
  {
   "cell_type": "code",
   "execution_count": 2,
   "metadata": {},
   "outputs": [],
   "source": [
    "import breeze_connect\n",
    "from breeze_connect import BreezeConnect"
   ]
  },
  {
   "cell_type": "code",
   "execution_count": 3,
   "metadata": {},
   "outputs": [],
   "source": [
    "# Generate session token for each day  \n",
    "# Log into this site while the 'developer tools -> network' tab is open  (https://api.icicidirect.com/apiuser/login?api_key=06890j43os6a521A7b7241i934KQ9S56)\n",
    "# Copy 'API_session' key for 'payload' section in 127.0.0.1  \n",
    "\n",
    "fresh_token = 2060751"
   ]
  },
  {
   "cell_type": "code",
   "execution_count": 4,
   "metadata": {},
   "outputs": [],
   "source": [
    "isec = BreezeConnect(api_key=\"06890j43os6a521A7b7241i934KQ9S56\")\n",
    "isec.generate_session(\n",
    "    api_secret=\"$42367K2z98758S712349896J6i^64Mx\",\n",
    "    session_token=fresh_token)"
   ]
  },
  {
   "cell_type": "markdown",
   "metadata": {},
   "source": [
    "## Historical data  "
   ]
  },
  {
   "cell_type": "code",
   "execution_count": 106,
   "metadata": {},
   "outputs": [
    {
     "data": {
      "text/plain": [
       "('2022-11-25 01:16:45.626069', '2022-10-20 01:16:45.626121')"
      ]
     },
     "execution_count": 106,
     "metadata": {},
     "output_type": "execute_result"
    }
   ],
   "source": [
    "import datetime\n",
    "period = 36\n",
    "current_date = str(datetime.datetime.today())\n",
    "previous_date = str(datetime.datetime.today() - datetime.timedelta(days=period))\n",
    "current_date, previous_date"
   ]
  },
  {
   "cell_type": "markdown",
   "metadata": {},
   "source": [
    "`Daily data nifty`  "
   ]
  },
  {
   "cell_type": "code",
   "execution_count": 96,
   "metadata": {},
   "outputs": [],
   "source": [
    "nifty_daily = isec.get_historical_data(\n",
    "    interval=\"1day\", \n",
    "    from_date=previous_date, \n",
    "    to_date=current_date,\n",
    "    stock_code=\"NIFTY\",\n",
    "    exchange_code=\"NSE\",\n",
    "    product_type=\"\",\n",
    "    expiry_date=\"\")\n",
    "\n",
    "# nifty_daily"
   ]
  },
  {
   "cell_type": "code",
   "execution_count": 97,
   "metadata": {},
   "outputs": [
    {
     "name": "stdout",
     "output_type": "stream",
     "text": [
      "24\n"
     ]
    },
    {
     "data": {
      "text/html": [
       "<div>\n",
       "<style scoped>\n",
       "    .dataframe tbody tr th:only-of-type {\n",
       "        vertical-align: middle;\n",
       "    }\n",
       "\n",
       "    .dataframe tbody tr th {\n",
       "        vertical-align: top;\n",
       "    }\n",
       "\n",
       "    .dataframe thead th {\n",
       "        text-align: right;\n",
       "    }\n",
       "</style>\n",
       "<table border=\"1\" class=\"dataframe\">\n",
       "  <thead>\n",
       "    <tr style=\"text-align: right;\">\n",
       "      <th></th>\n",
       "      <th>datetime</th>\n",
       "      <th>stock_code</th>\n",
       "      <th>exchange_code</th>\n",
       "      <th>product_type</th>\n",
       "      <th>expiry_date</th>\n",
       "      <th>right</th>\n",
       "      <th>strike_price</th>\n",
       "      <th>open</th>\n",
       "      <th>high</th>\n",
       "      <th>low</th>\n",
       "      <th>close</th>\n",
       "      <th>volume</th>\n",
       "      <th>open_interest</th>\n",
       "      <th>count</th>\n",
       "    </tr>\n",
       "  </thead>\n",
       "  <tbody>\n",
       "    <tr>\n",
       "      <th>19</th>\n",
       "      <td>2022-11-18 12:11:00</td>\n",
       "      <td>NIFTY</td>\n",
       "      <td>NSE</td>\n",
       "      <td>None</td>\n",
       "      <td>None</td>\n",
       "      <td>None</td>\n",
       "      <td>None</td>\n",
       "      <td>18382.95</td>\n",
       "      <td>18394.6</td>\n",
       "      <td>18209.8</td>\n",
       "      <td>18307.65</td>\n",
       "      <td>256012925</td>\n",
       "      <td>None</td>\n",
       "      <td>19</td>\n",
       "    </tr>\n",
       "    <tr>\n",
       "      <th>20</th>\n",
       "      <td>2022-11-21 12:11:00</td>\n",
       "      <td>NIFTY</td>\n",
       "      <td>NSE</td>\n",
       "      <td>None</td>\n",
       "      <td>None</td>\n",
       "      <td>None</td>\n",
       "      <td>None</td>\n",
       "      <td>18246.4</td>\n",
       "      <td>18262.3</td>\n",
       "      <td>18133.35</td>\n",
       "      <td>18159.95</td>\n",
       "      <td>277939499</td>\n",
       "      <td>None</td>\n",
       "      <td>20</td>\n",
       "    </tr>\n",
       "    <tr>\n",
       "      <th>21</th>\n",
       "      <td>2022-11-22 12:11:00</td>\n",
       "      <td>NIFTY</td>\n",
       "      <td>NSE</td>\n",
       "      <td>None</td>\n",
       "      <td>None</td>\n",
       "      <td>None</td>\n",
       "      <td>None</td>\n",
       "      <td>18179.15</td>\n",
       "      <td>18261.85</td>\n",
       "      <td>18137.7</td>\n",
       "      <td>18244.2</td>\n",
       "      <td>289964443</td>\n",
       "      <td>None</td>\n",
       "      <td>21</td>\n",
       "    </tr>\n",
       "    <tr>\n",
       "      <th>22</th>\n",
       "      <td>2022-11-23 12:11:00</td>\n",
       "      <td>NIFTY</td>\n",
       "      <td>NSE</td>\n",
       "      <td>None</td>\n",
       "      <td>None</td>\n",
       "      <td>None</td>\n",
       "      <td>None</td>\n",
       "      <td>18325.2</td>\n",
       "      <td>18325.4</td>\n",
       "      <td>18246</td>\n",
       "      <td>18267.25</td>\n",
       "      <td>281177143</td>\n",
       "      <td>None</td>\n",
       "      <td>22</td>\n",
       "    </tr>\n",
       "    <tr>\n",
       "      <th>23</th>\n",
       "      <td>2022-11-24 12:11:00</td>\n",
       "      <td>NIFTY</td>\n",
       "      <td>NSE</td>\n",
       "      <td>None</td>\n",
       "      <td>None</td>\n",
       "      <td>None</td>\n",
       "      <td>None</td>\n",
       "      <td>18326.1</td>\n",
       "      <td>18529.7</td>\n",
       "      <td>18294.25</td>\n",
       "      <td>18484.1</td>\n",
       "      <td>285159319</td>\n",
       "      <td>None</td>\n",
       "      <td>23</td>\n",
       "    </tr>\n",
       "  </tbody>\n",
       "</table>\n",
       "</div>"
      ],
      "text/plain": [
       "               datetime stock_code exchange_code product_type expiry_date  \\\n",
       "19  2022-11-18 12:11:00      NIFTY           NSE         None        None   \n",
       "20  2022-11-21 12:11:00      NIFTY           NSE         None        None   \n",
       "21  2022-11-22 12:11:00      NIFTY           NSE         None        None   \n",
       "22  2022-11-23 12:11:00      NIFTY           NSE         None        None   \n",
       "23  2022-11-24 12:11:00      NIFTY           NSE         None        None   \n",
       "\n",
       "   right strike_price      open      high       low     close     volume  \\\n",
       "19  None         None  18382.95   18394.6   18209.8  18307.65  256012925   \n",
       "20  None         None   18246.4   18262.3  18133.35  18159.95  277939499   \n",
       "21  None         None  18179.15  18261.85   18137.7   18244.2  289964443   \n",
       "22  None         None   18325.2   18325.4     18246  18267.25  281177143   \n",
       "23  None         None   18326.1   18529.7  18294.25   18484.1  285159319   \n",
       "\n",
       "   open_interest  count  \n",
       "19          None     19  \n",
       "20          None     20  \n",
       "21          None     21  \n",
       "22          None     22  \n",
       "23          None     23  "
      ]
     },
     "execution_count": 97,
     "metadata": {},
     "output_type": "execute_result"
    }
   ],
   "source": [
    "import pandas as pd\n",
    "df = pd.DataFrame(nifty_daily['Success'])\n",
    "print(len(df))\n",
    "df.tail()"
   ]
  },
  {
   "cell_type": "code",
   "execution_count": 98,
   "metadata": {},
   "outputs": [],
   "source": [
    "# df.to_csv('datasets/nifty_daily.csv')"
   ]
  },
  {
   "cell_type": "code",
   "execution_count": 99,
   "metadata": {},
   "outputs": [
    {
     "name": "stdout",
     "output_type": "stream",
     "text": [
      "<class 'pandas.core.frame.DataFrame'>\n",
      "RangeIndex: 24 entries, 0 to 23\n",
      "Data columns (total 14 columns):\n",
      " #   Column         Non-Null Count  Dtype \n",
      "---  ------         --------------  ----- \n",
      " 0   datetime       24 non-null     object\n",
      " 1   stock_code     24 non-null     object\n",
      " 2   exchange_code  24 non-null     object\n",
      " 3   product_type   0 non-null      object\n",
      " 4   expiry_date    0 non-null      object\n",
      " 5   right          0 non-null      object\n",
      " 6   strike_price   0 non-null      object\n",
      " 7   open           24 non-null     object\n",
      " 8   high           24 non-null     object\n",
      " 9   low            24 non-null     object\n",
      " 10  close          24 non-null     object\n",
      " 11  volume         24 non-null     object\n",
      " 12  open_interest  0 non-null      object\n",
      " 13  count          24 non-null     int64 \n",
      "dtypes: int64(1), object(13)\n",
      "memory usage: 2.8+ KB\n"
     ]
    }
   ],
   "source": [
    "df.info()"
   ]
  },
  {
   "cell_type": "code",
   "execution_count": 100,
   "metadata": {},
   "outputs": [
    {
     "data": {
      "text/plain": [
       "Index(['datetime', 'stock_code', 'exchange_code', 'product_type',\n",
       "       'expiry_date', 'right', 'strike_price', 'open', 'high', 'low', 'close',\n",
       "       'volume', 'open_interest', 'count'],\n",
       "      dtype='object')"
      ]
     },
     "execution_count": 100,
     "metadata": {},
     "output_type": "execute_result"
    }
   ],
   "source": [
    "df.columns"
   ]
  },
  {
   "cell_type": "code",
   "execution_count": 101,
   "metadata": {},
   "outputs": [
    {
     "name": "stdout",
     "output_type": "stream",
     "text": [
      "<class 'pandas.core.frame.DataFrame'>\n",
      "RangeIndex: 24 entries, 0 to 23\n",
      "Data columns (total 14 columns):\n",
      " #   Column         Non-Null Count  Dtype  \n",
      "---  ------         --------------  -----  \n",
      " 0   datetime       24 non-null     object \n",
      " 1   stock_code     24 non-null     object \n",
      " 2   exchange_code  24 non-null     object \n",
      " 3   product_type   0 non-null      object \n",
      " 4   expiry_date    0 non-null      object \n",
      " 5   right          0 non-null      object \n",
      " 6   strike_price   0 non-null      object \n",
      " 7   open           24 non-null     float64\n",
      " 8   high           24 non-null     float64\n",
      " 9   low            24 non-null     float64\n",
      " 10  close          24 non-null     float64\n",
      " 11  volume         24 non-null     float64\n",
      " 12  open_interest  0 non-null      object \n",
      " 13  count          24 non-null     int64  \n",
      "dtypes: float64(5), int64(1), object(8)\n",
      "memory usage: 2.8+ KB\n"
     ]
    }
   ],
   "source": [
    "df[['open', 'high', 'low', 'close',\n",
    "       'volume']] = df[['open', 'high', 'low', 'close',\n",
    "       'volume']].astype('float64')\n",
    "df[['count']] = df[['count']].astype('int')\n",
    "df.info()"
   ]
  },
  {
   "cell_type": "code",
   "execution_count": 102,
   "metadata": {},
   "outputs": [
    {
     "data": {
      "text/html": [
       "<div>\n",
       "<style scoped>\n",
       "    .dataframe tbody tr th:only-of-type {\n",
       "        vertical-align: middle;\n",
       "    }\n",
       "\n",
       "    .dataframe tbody tr th {\n",
       "        vertical-align: top;\n",
       "    }\n",
       "\n",
       "    .dataframe thead th {\n",
       "        text-align: right;\n",
       "    }\n",
       "</style>\n",
       "<table border=\"1\" class=\"dataframe\">\n",
       "  <thead>\n",
       "    <tr style=\"text-align: right;\">\n",
       "      <th></th>\n",
       "      <th>datetime</th>\n",
       "      <th>stock_code</th>\n",
       "      <th>exchange_code</th>\n",
       "      <th>product_type</th>\n",
       "      <th>expiry_date</th>\n",
       "      <th>right</th>\n",
       "      <th>strike_price</th>\n",
       "      <th>open</th>\n",
       "      <th>high</th>\n",
       "      <th>low</th>\n",
       "      <th>close</th>\n",
       "      <th>volume</th>\n",
       "      <th>open_interest</th>\n",
       "      <th>count</th>\n",
       "      <th>return</th>\n",
       "    </tr>\n",
       "  </thead>\n",
       "  <tbody>\n",
       "    <tr>\n",
       "      <th>19</th>\n",
       "      <td>2022-11-18 12:11:00</td>\n",
       "      <td>NIFTY</td>\n",
       "      <td>NSE</td>\n",
       "      <td>None</td>\n",
       "      <td>None</td>\n",
       "      <td>None</td>\n",
       "      <td>None</td>\n",
       "      <td>18382.95</td>\n",
       "      <td>18394.60</td>\n",
       "      <td>18209.80</td>\n",
       "      <td>18307.65</td>\n",
       "      <td>256012925.0</td>\n",
       "      <td>None</td>\n",
       "      <td>19</td>\n",
       "      <td>-0.001976</td>\n",
       "    </tr>\n",
       "    <tr>\n",
       "      <th>20</th>\n",
       "      <td>2022-11-21 12:11:00</td>\n",
       "      <td>NIFTY</td>\n",
       "      <td>NSE</td>\n",
       "      <td>None</td>\n",
       "      <td>None</td>\n",
       "      <td>None</td>\n",
       "      <td>None</td>\n",
       "      <td>18246.40</td>\n",
       "      <td>18262.30</td>\n",
       "      <td>18133.35</td>\n",
       "      <td>18159.95</td>\n",
       "      <td>277939499.0</td>\n",
       "      <td>None</td>\n",
       "      <td>20</td>\n",
       "      <td>-0.008068</td>\n",
       "    </tr>\n",
       "    <tr>\n",
       "      <th>21</th>\n",
       "      <td>2022-11-22 12:11:00</td>\n",
       "      <td>NIFTY</td>\n",
       "      <td>NSE</td>\n",
       "      <td>None</td>\n",
       "      <td>None</td>\n",
       "      <td>None</td>\n",
       "      <td>None</td>\n",
       "      <td>18179.15</td>\n",
       "      <td>18261.85</td>\n",
       "      <td>18137.70</td>\n",
       "      <td>18244.20</td>\n",
       "      <td>289964443.0</td>\n",
       "      <td>None</td>\n",
       "      <td>21</td>\n",
       "      <td>0.004639</td>\n",
       "    </tr>\n",
       "    <tr>\n",
       "      <th>22</th>\n",
       "      <td>2022-11-23 12:11:00</td>\n",
       "      <td>NIFTY</td>\n",
       "      <td>NSE</td>\n",
       "      <td>None</td>\n",
       "      <td>None</td>\n",
       "      <td>None</td>\n",
       "      <td>None</td>\n",
       "      <td>18325.20</td>\n",
       "      <td>18325.40</td>\n",
       "      <td>18246.00</td>\n",
       "      <td>18267.25</td>\n",
       "      <td>281177143.0</td>\n",
       "      <td>None</td>\n",
       "      <td>22</td>\n",
       "      <td>0.001263</td>\n",
       "    </tr>\n",
       "    <tr>\n",
       "      <th>23</th>\n",
       "      <td>2022-11-24 12:11:00</td>\n",
       "      <td>NIFTY</td>\n",
       "      <td>NSE</td>\n",
       "      <td>None</td>\n",
       "      <td>None</td>\n",
       "      <td>None</td>\n",
       "      <td>None</td>\n",
       "      <td>18326.10</td>\n",
       "      <td>18529.70</td>\n",
       "      <td>18294.25</td>\n",
       "      <td>18484.10</td>\n",
       "      <td>285159319.0</td>\n",
       "      <td>None</td>\n",
       "      <td>23</td>\n",
       "      <td>0.011871</td>\n",
       "    </tr>\n",
       "  </tbody>\n",
       "</table>\n",
       "</div>"
      ],
      "text/plain": [
       "               datetime stock_code exchange_code product_type expiry_date  \\\n",
       "19  2022-11-18 12:11:00      NIFTY           NSE         None        None   \n",
       "20  2022-11-21 12:11:00      NIFTY           NSE         None        None   \n",
       "21  2022-11-22 12:11:00      NIFTY           NSE         None        None   \n",
       "22  2022-11-23 12:11:00      NIFTY           NSE         None        None   \n",
       "23  2022-11-24 12:11:00      NIFTY           NSE         None        None   \n",
       "\n",
       "   right strike_price      open      high       low     close       volume  \\\n",
       "19  None         None  18382.95  18394.60  18209.80  18307.65  256012925.0   \n",
       "20  None         None  18246.40  18262.30  18133.35  18159.95  277939499.0   \n",
       "21  None         None  18179.15  18261.85  18137.70  18244.20  289964443.0   \n",
       "22  None         None  18325.20  18325.40  18246.00  18267.25  281177143.0   \n",
       "23  None         None  18326.10  18529.70  18294.25  18484.10  285159319.0   \n",
       "\n",
       "   open_interest  count    return  \n",
       "19          None     19 -0.001976  \n",
       "20          None     20 -0.008068  \n",
       "21          None     21  0.004639  \n",
       "22          None     22  0.001263  \n",
       "23          None     23  0.011871  "
      ]
     },
     "execution_count": 102,
     "metadata": {},
     "output_type": "execute_result"
    }
   ],
   "source": [
    "df['return'] = df['close'].pct_change()\n",
    "df.tail()"
   ]
  },
  {
   "cell_type": "code",
   "execution_count": 103,
   "metadata": {},
   "outputs": [
    {
     "data": {
      "text/plain": [
       "count    23.000000\n",
       "mean      0.002242\n",
       "std       0.006437\n",
       "min      -0.008068\n",
       "25%      -0.002246\n",
       "50%       0.001263\n",
       "75%       0.004683\n",
       "max       0.017833\n",
       "Name: return, dtype: float64"
      ]
     },
     "execution_count": 103,
     "metadata": {},
     "output_type": "execute_result"
    }
   ],
   "source": [
    "df['return'].describe()"
   ]
  },
  {
   "cell_type": "code",
   "execution_count": 104,
   "metadata": {},
   "outputs": [
    {
     "data": {
      "text/plain": [
       "(24, 15)"
      ]
     },
     "execution_count": 104,
     "metadata": {},
     "output_type": "execute_result"
    }
   ],
   "source": [
    "df.shape"
   ]
  },
  {
   "cell_type": "code",
   "execution_count": 105,
   "metadata": {},
   "outputs": [
    {
     "data": {
      "text/plain": [
       "<AxesSubplot:xlabel='return', ylabel='Count'>"
      ]
     },
     "execution_count": 105,
     "metadata": {},
     "output_type": "execute_result"
    },
    {
     "data": {
      "image/png": "[encoded data removed]",
      "text/plain": [
       "<Figure size 432x288 with 1 Axes>"
      ]
     },
     "metadata": {
      "needs_background": "light"
     },
     "output_type": "display_data"
    }
   ],
   "source": [
    "import seaborn as sns\n",
    "sns.histplot(df['return'])"
   ]
  },
  {
   "cell_type": "markdown",
   "metadata": {},
   "source": [
    "## Volatility comparison"
   ]
  },
  {
   "cell_type": "code",
   "execution_count": 112,
   "metadata": {},
   "outputs": [
    {
     "data": {
      "text/plain": [
       "(36, '2022-11-25 01:16:45.626069', '2022-10-20 01:16:45.626121')"
      ]
     },
     "execution_count": 112,
     "metadata": {},
     "output_type": "execute_result"
    }
   ],
   "source": [
    "period, current_date, previous_date"
   ]
  },
  {
   "cell_type": "code",
   "execution_count": 137,
   "metadata": {},
   "outputs": [
    {
     "data": {
      "text/plain": [
       "(17830, 173.8425, 17656.1575, 18003.8425)"
      ]
     },
     "execution_count": 137,
     "metadata": {},
     "output_type": "execute_result"
    }
   ],
   "source": [
    "def predicted_range(spot, hv, sd_safety):\n",
    "    movt = spot * hv/100 * sd_safety\n",
    "    upper = spot + movt\n",
    "    lower = spot - movt\n",
    "    return spot, movt, lower, upper\n",
    "\n",
    "predicted_range(17830, 0.65, 1.5)"
   ]
  },
  {
   "cell_type": "code",
   "execution_count": 152,
   "metadata": {},
   "outputs": [
    {
     "name": "stdout",
     "output_type": "stream",
     "text": [
      "1.45629128738913\n",
      "(18484, 269.1808815610068, 18214.819118438994, 18753.180881561006)\n",
      "(18484, 403.7713223415102, 18080.22867765849, 18887.77132234151)\n"
     ]
    }
   ],
   "source": [
    "hv_wk = 10.4/(51**0.5)\n",
    "print(hv_wk)\n",
    "print(predicted_range(18484, hv_wk, 1))\n",
    "print(predicted_range(18484, hv_wk, 1.5))"
   ]
  }
 ],
 "metadata": {
  "kernelspec": {
   "display_name": "Python 3.9.7 ('base')",
   "language": "python",
   "name": "python3"
  },
  "language_info": {
   "codemirror_mode": {
    "name": "ipython",
    "version": 3
   },
   "file_extension": ".py",
   "mimetype": "text/x-python",
   "name": "python",
   "nbconvert_exporter": "python",
   "pygments_lexer": "ipython3",
   "version": "3.9.7 (default, Sep 16 2021, 13:09:58) \n[GCC 7.5.0]"
  },
  "orig_nbformat": 4,
  "vscode": {
   "interpreter": {
    "hash": "a9fc4c7d055303a75ac6825ce3e810b1379669e9cb09d6b336d4c18851158a95"
   }
  }
 },
 "nbformat": 4,
 "nbformat_minor": 2
}
