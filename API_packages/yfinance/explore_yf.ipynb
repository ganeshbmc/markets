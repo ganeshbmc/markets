{
 "cells": [
  {
   "cell_type": "markdown",
   "metadata": {},
   "source": [
    "## Yfinance library  \n",
    "\n",
    "[Github link](https://github.com/ranaroussi/yfinance/blob/main/README.md)  "
   ]
  },
  {
   "cell_type": "markdown",
   "metadata": {},
   "source": [
    "`Get complete list of symbols at:`  \n",
    "\n",
    "https://finance.yahoo.com/  "
   ]
  },
  {
   "cell_type": "code",
   "execution_count": 1,
   "metadata": {},
   "outputs": [],
   "source": [
    "import yfinance as yf\n",
    "from datetime import datetime \n",
    "import pandas as pd \n",
    "import matplotlib.pyplot as plt \n",
    "import numpy as np "
   ]
  },
  {
   "cell_type": "markdown",
   "metadata": {},
   "source": [
    "### Get NIFTY data  \n",
    "\n",
    "**Symbol:** `^NSEI`  "
   ]
  },
  {
   "cell_type": "code",
   "execution_count": 23,
   "metadata": {},
   "outputs": [
    {
     "name": "stdout",
     "output_type": "stream",
     "text": [
      "[*********************100%***********************]  1 of 1 completed\n"
     ]
    },
    {
     "data": {
      "text/html": [
       "<div>\n",
       "<style scoped>\n",
       "    .dataframe tbody tr th:only-of-type {\n",
       "        vertical-align: middle;\n",
       "    }\n",
       "\n",
       "    .dataframe tbody tr th {\n",
       "        vertical-align: top;\n",
       "    }\n",
       "\n",
       "    .dataframe thead th {\n",
       "        text-align: right;\n",
       "    }\n",
       "</style>\n",
       "<table border=\"1\" class=\"dataframe\">\n",
       "  <thead>\n",
       "    <tr style=\"text-align: right;\">\n",
       "      <th></th>\n",
       "      <th>Open</th>\n",
       "      <th>High</th>\n",
       "      <th>Low</th>\n",
       "      <th>Close</th>\n",
       "      <th>Adj Close</th>\n",
       "      <th>Volume</th>\n",
       "    </tr>\n",
       "    <tr>\n",
       "      <th>Date</th>\n",
       "      <th></th>\n",
       "      <th></th>\n",
       "      <th></th>\n",
       "      <th></th>\n",
       "      <th></th>\n",
       "      <th></th>\n",
       "    </tr>\n",
       "  </thead>\n",
       "  <tbody>\n",
       "    <tr>\n",
       "      <th>2022-08-12</th>\n",
       "      <td>17659.650391</td>\n",
       "      <td>17724.650391</td>\n",
       "      <td>17597.849609</td>\n",
       "      <td>17698.150391</td>\n",
       "      <td>17698.150391</td>\n",
       "      <td>303900</td>\n",
       "    </tr>\n",
       "    <tr>\n",
       "      <th>2022-08-16</th>\n",
       "      <td>17797.199219</td>\n",
       "      <td>17839.099609</td>\n",
       "      <td>17764.050781</td>\n",
       "      <td>17825.250000</td>\n",
       "      <td>17825.250000</td>\n",
       "      <td>0</td>\n",
       "    </tr>\n",
       "    <tr>\n",
       "      <th>2022-08-17</th>\n",
       "      <td>17868.150391</td>\n",
       "      <td>17965.949219</td>\n",
       "      <td>17833.349609</td>\n",
       "      <td>17944.250000</td>\n",
       "      <td>17944.250000</td>\n",
       "      <td>262800</td>\n",
       "    </tr>\n",
       "    <tr>\n",
       "      <th>2022-08-18</th>\n",
       "      <td>17898.650391</td>\n",
       "      <td>17968.449219</td>\n",
       "      <td>17852.050781</td>\n",
       "      <td>17956.500000</td>\n",
       "      <td>17956.500000</td>\n",
       "      <td>263900</td>\n",
       "    </tr>\n",
       "    <tr>\n",
       "      <th>2022-08-19</th>\n",
       "      <td>17966.550781</td>\n",
       "      <td>17992.199219</td>\n",
       "      <td>17710.750000</td>\n",
       "      <td>17758.449219</td>\n",
       "      <td>17758.449219</td>\n",
       "      <td>0</td>\n",
       "    </tr>\n",
       "  </tbody>\n",
       "</table>\n",
       "</div>"
      ],
      "text/plain": [
       "                    Open          High           Low         Close  \\\n",
       "Date                                                                 \n",
       "2022-08-12  17659.650391  17724.650391  17597.849609  17698.150391   \n",
       "2022-08-16  17797.199219  17839.099609  17764.050781  17825.250000   \n",
       "2022-08-17  17868.150391  17965.949219  17833.349609  17944.250000   \n",
       "2022-08-18  17898.650391  17968.449219  17852.050781  17956.500000   \n",
       "2022-08-19  17966.550781  17992.199219  17710.750000  17758.449219   \n",
       "\n",
       "               Adj Close  Volume  \n",
       "Date                              \n",
       "2022-08-12  17698.150391  303900  \n",
       "2022-08-16  17825.250000       0  \n",
       "2022-08-17  17944.250000  262800  \n",
       "2022-08-18  17956.500000  263900  \n",
       "2022-08-19  17758.449219       0  "
      ]
     },
     "execution_count": 23,
     "metadata": {},
     "output_type": "execute_result"
    }
   ],
   "source": [
    "# data = yf.download(\"NIFTY\", start=\"2022-01-01\", end=\"2022-08-19\")\n",
    "data = yf.download(\"^NSEI\", period=\"5y\", interval=\"1d\")\n",
    "data.tail()"
   ]
  },
  {
   "cell_type": "code",
   "execution_count": 22,
   "metadata": {},
   "outputs": [
    {
     "data": {
      "text/plain": [
       "1232"
      ]
     },
     "execution_count": 22,
     "metadata": {},
     "output_type": "execute_result"
    }
   ],
   "source": [
    "len(data)"
   ]
  },
  {
   "cell_type": "code",
   "execution_count": 24,
   "metadata": {},
   "outputs": [
    {
     "data": {
      "text/plain": [
       "<AxesSubplot:xlabel='Date'>"
      ]
     },
     "execution_count": 24,
     "metadata": {},
     "output_type": "execute_result"
    },
    {
     "data": {
      "image/png": "[encoded data removed]",
      "text/plain": [
       "<Figure size 432x288 with 1 Axes>"
      ]
     },
     "metadata": {
      "needs_background": "light"
     },
     "output_type": "display_data"
    }
   ],
   "source": [
    "    data.Close.plot()"
   ]
  },
  {
   "cell_type": "code",
   "execution_count": 25,
   "metadata": {},
   "outputs": [
    {
     "name": "stdout",
     "output_type": "stream",
     "text": [
      "[*********************100%***********************]  1 of 1 completed\n"
     ]
    },
    {
     "data": {
      "text/html": [
       "<div>\n",
       "<style scoped>\n",
       "    .dataframe tbody tr th:only-of-type {\n",
       "        vertical-align: middle;\n",
       "    }\n",
       "\n",
       "    .dataframe tbody tr th {\n",
       "        vertical-align: top;\n",
       "    }\n",
       "\n",
       "    .dataframe thead th {\n",
       "        text-align: right;\n",
       "    }\n",
       "</style>\n",
       "<table border=\"1\" class=\"dataframe\">\n",
       "  <thead>\n",
       "    <tr style=\"text-align: right;\">\n",
       "      <th></th>\n",
       "      <th>Open</th>\n",
       "      <th>High</th>\n",
       "      <th>Low</th>\n",
       "      <th>Close</th>\n",
       "      <th>Adj Close</th>\n",
       "      <th>Volume</th>\n",
       "    </tr>\n",
       "    <tr>\n",
       "      <th>Datetime</th>\n",
       "      <th></th>\n",
       "      <th></th>\n",
       "      <th></th>\n",
       "      <th></th>\n",
       "      <th></th>\n",
       "      <th></th>\n",
       "    </tr>\n",
       "  </thead>\n",
       "  <tbody>\n",
       "    <tr>\n",
       "      <th>2022-08-19 15:26:00+05:30</th>\n",
       "      <td>17732.550781</td>\n",
       "      <td>17735.849609</td>\n",
       "      <td>17732.300781</td>\n",
       "      <td>17732.300781</td>\n",
       "      <td>17732.300781</td>\n",
       "      <td>0</td>\n",
       "    </tr>\n",
       "    <tr>\n",
       "      <th>2022-08-19 15:27:00+05:30</th>\n",
       "      <td>17732.650391</td>\n",
       "      <td>17734.550781</td>\n",
       "      <td>17730.099609</td>\n",
       "      <td>17730.449219</td>\n",
       "      <td>17730.449219</td>\n",
       "      <td>0</td>\n",
       "    </tr>\n",
       "    <tr>\n",
       "      <th>2022-08-19 15:28:00+05:30</th>\n",
       "      <td>17731.900391</td>\n",
       "      <td>17734.000000</td>\n",
       "      <td>17730.199219</td>\n",
       "      <td>17730.300781</td>\n",
       "      <td>17730.300781</td>\n",
       "      <td>0</td>\n",
       "    </tr>\n",
       "    <tr>\n",
       "      <th>2022-08-19 15:29:00+05:30</th>\n",
       "      <td>17731.599609</td>\n",
       "      <td>17733.050781</td>\n",
       "      <td>17725.699219</td>\n",
       "      <td>17726.949219</td>\n",
       "      <td>17726.949219</td>\n",
       "      <td>0</td>\n",
       "    </tr>\n",
       "    <tr>\n",
       "      <th>2022-08-19 15:30:00+05:30</th>\n",
       "      <td>17758.449219</td>\n",
       "      <td>17758.449219</td>\n",
       "      <td>17758.449219</td>\n",
       "      <td>17758.449219</td>\n",
       "      <td>17758.449219</td>\n",
       "      <td>0</td>\n",
       "    </tr>\n",
       "  </tbody>\n",
       "</table>\n",
       "</div>"
      ],
      "text/plain": [
       "                                   Open          High           Low  \\\n",
       "Datetime                                                              \n",
       "2022-08-19 15:26:00+05:30  17732.550781  17735.849609  17732.300781   \n",
       "2022-08-19 15:27:00+05:30  17732.650391  17734.550781  17730.099609   \n",
       "2022-08-19 15:28:00+05:30  17731.900391  17734.000000  17730.199219   \n",
       "2022-08-19 15:29:00+05:30  17731.599609  17733.050781  17725.699219   \n",
       "2022-08-19 15:30:00+05:30  17758.449219  17758.449219  17758.449219   \n",
       "\n",
       "                                  Close     Adj Close  Volume  \n",
       "Datetime                                                       \n",
       "2022-08-19 15:26:00+05:30  17732.300781  17732.300781       0  \n",
       "2022-08-19 15:27:00+05:30  17730.449219  17730.449219       0  \n",
       "2022-08-19 15:28:00+05:30  17730.300781  17730.300781       0  \n",
       "2022-08-19 15:29:00+05:30  17726.949219  17726.949219       0  \n",
       "2022-08-19 15:30:00+05:30  17758.449219  17758.449219       0  "
      ]
     },
     "execution_count": 25,
     "metadata": {},
     "output_type": "execute_result"
    }
   ],
   "source": [
    "minute_data = yf.download(\"^NSEI\", period=\"1d\", interval=\"1m\")\n",
    "minute_data.tail()"
   ]
  },
  {
   "cell_type": "code",
   "execution_count": 26,
   "metadata": {},
   "outputs": [
    {
     "data": {
      "text/plain": [
       "<AxesSubplot:xlabel='Datetime'>"
      ]
     },
     "execution_count": 26,
     "metadata": {},
     "output_type": "execute_result"
    },
    {
     "data": {
      "image/png": "[encoded data removed]",
      "text/plain": [
       "<Figure size 432x288 with 1 Axes>"
      ]
     },
     "metadata": {
      "needs_background": "light"
     },
     "output_type": "display_data"
    }
   ],
   "source": [
    " minute_data.Close.plot()"
   ]
  }
 ],
 "metadata": {
  "kernelspec": {
   "display_name": "Python 3.9.7 ('base')",
   "language": "python",
   "name": "python3"
  },
  "language_info": {
   "codemirror_mode": {
    "name": "ipython",
    "version": 3
   },
   "file_extension": ".py",
   "mimetype": "text/x-python",
   "name": "python",
   "nbconvert_exporter": "python",
   "pygments_lexer": "ipython3",
   "version": "3.9.7"
  },
  "orig_nbformat": 4,
  "vscode": {
   "interpreter": {
    "hash": "ad2bdc8ecc057115af97d19610ffacc2b4e99fae6737bb82f5d7fb13d2f2c186"
   }
  }
 },
 "nbformat": 4,
 "nbformat_minor": 2
}
