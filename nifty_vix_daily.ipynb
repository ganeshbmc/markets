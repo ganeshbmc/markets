{
  "nbformat": 4,
  "nbformat_minor": 0,
  "metadata": {
    "colab": {
      "provenance": [],
      "authorship_tag": "ABX9TyOpTz7KanY4AlBFHpGmiigi",
      "include_colab_link": true
    },
    "kernelspec": {
      "name": "python3",
      "display_name": "Python 3"
    },
    "language_info": {
      "name": "python"
    }
  },
  "cells": [
    {
      "cell_type": "markdown",
      "metadata": {
        "id": "view-in-github",
        "colab_type": "text"
      },
      "source": [
        "<a href=\"https://colab.research.google.com/github/ganeshbmc/markets/blob/master/nifty_vix_daily.ipynb\" target=\"_parent\"><img src=\"https://colab.research.google.com/assets/colab-badge.svg\" alt=\"Open In Colab\"/></a>"
      ]
    },
    {
      "cell_type": "code",
      "execution_count": 1,
      "metadata": {
        "colab": {
          "base_uri": "https://localhost:8080/"
        },
        "id": "ZyjLMYZ5W5F0",
        "outputId": "69eeda76-2dd2-411b-93ec-e2bbf7f88ee5"
      },
      "outputs": [
        {
          "output_type": "stream",
          "name": "stdout",
          "text": [
            "Looking in indexes: https://pypi.org/simple, https://us-python.pkg.dev/colab-wheels/public/simple/\n",
            "Collecting pandas_ta\n",
            "  Downloading pandas_ta-0.3.14b.tar.gz (115 kB)\n",
            "\u001b[2K     \u001b[90m━━━━━━━━━━━━━━━━━━━━━━━━━━━━━━━━━━━━━━━\u001b[0m \u001b[32m115.1/115.1 KB\u001b[0m \u001b[31m3.7 MB/s\u001b[0m eta \u001b[36m0:00:00\u001b[0m\n",
            "\u001b[?25h  Preparing metadata (setup.py) ... \u001b[?25l\u001b[?25hdone\n",
            "Requirement already satisfied: pandas in /usr/local/lib/python3.9/dist-packages (from pandas_ta) (1.4.4)\n",
            "Requirement already satisfied: python-dateutil>=2.8.1 in /usr/local/lib/python3.9/dist-packages (from pandas->pandas_ta) (2.8.2)\n",
            "Requirement already satisfied: pytz>=2020.1 in /usr/local/lib/python3.9/dist-packages (from pandas->pandas_ta) (2022.7.1)\n",
            "Requirement already satisfied: numpy>=1.18.5 in /usr/local/lib/python3.9/dist-packages (from pandas->pandas_ta) (1.22.4)\n",
            "Requirement already satisfied: six>=1.5 in /usr/local/lib/python3.9/dist-packages (from python-dateutil>=2.8.1->pandas->pandas_ta) (1.16.0)\n",
            "Building wheels for collected packages: pandas_ta\n",
            "  Building wheel for pandas_ta (setup.py) ... \u001b[?25l\u001b[?25hdone\n",
            "  Created wheel for pandas_ta: filename=pandas_ta-0.3.14b0-py3-none-any.whl size=218921 sha256=f86165d142e5e5079a88e1b2d87211f91039584eeba36860cb7a5ba4b3f85952\n",
            "  Stored in directory: /root/.cache/pip/wheels/1e/5c/47/759b32beb377aee150eb4c1f1b2b7635032cc19ea09ce076fd\n",
            "Successfully built pandas_ta\n",
            "Installing collected packages: pandas_ta\n",
            "Successfully installed pandas_ta-0.3.14b0\n",
            "Looking in indexes: https://pypi.org/simple, https://us-python.pkg.dev/colab-wheels/public/simple/\n",
            "Requirement already satisfied: yfinance in /usr/local/lib/python3.9/dist-packages (0.2.14)\n",
            "Requirement already satisfied: numpy>=1.16.5 in /usr/local/lib/python3.9/dist-packages (from yfinance) (1.22.4)\n",
            "Requirement already satisfied: pandas>=1.3.0 in /usr/local/lib/python3.9/dist-packages (from yfinance) (1.4.4)\n",
            "Requirement already satisfied: pytz>=2022.5 in /usr/local/lib/python3.9/dist-packages (from yfinance) (2022.7.1)\n",
            "Requirement already satisfied: cryptography>=3.3.2 in /usr/local/lib/python3.9/dist-packages (from yfinance) (40.0.1)\n",
            "Requirement already satisfied: lxml>=4.9.1 in /usr/local/lib/python3.9/dist-packages (from yfinance) (4.9.2)\n",
            "Requirement already satisfied: requests>=2.26 in /usr/local/lib/python3.9/dist-packages (from yfinance) (2.27.1)\n",
            "Requirement already satisfied: multitasking>=0.0.7 in /usr/local/lib/python3.9/dist-packages (from yfinance) (0.0.11)\n",
            "Requirement already satisfied: beautifulsoup4>=4.11.1 in /usr/local/lib/python3.9/dist-packages (from yfinance) (4.11.2)\n",
            "Requirement already satisfied: html5lib>=1.1 in /usr/local/lib/python3.9/dist-packages (from yfinance) (1.1)\n",
            "Requirement already satisfied: appdirs>=1.4.4 in /usr/local/lib/python3.9/dist-packages (from yfinance) (1.4.4)\n",
            "Requirement already satisfied: frozendict>=2.3.4 in /usr/local/lib/python3.9/dist-packages (from yfinance) (2.3.6)\n",
            "Requirement already satisfied: soupsieve>1.2 in /usr/local/lib/python3.9/dist-packages (from beautifulsoup4>=4.11.1->yfinance) (2.4)\n",
            "Requirement already satisfied: cffi>=1.12 in /usr/local/lib/python3.9/dist-packages (from cryptography>=3.3.2->yfinance) (1.15.1)\n",
            "Requirement already satisfied: six>=1.9 in /usr/local/lib/python3.9/dist-packages (from html5lib>=1.1->yfinance) (1.16.0)\n",
            "Requirement already satisfied: webencodings in /usr/local/lib/python3.9/dist-packages (from html5lib>=1.1->yfinance) (0.5.1)\n",
            "Requirement already satisfied: python-dateutil>=2.8.1 in /usr/local/lib/python3.9/dist-packages (from pandas>=1.3.0->yfinance) (2.8.2)\n",
            "Requirement already satisfied: certifi>=2017.4.17 in /usr/local/lib/python3.9/dist-packages (from requests>=2.26->yfinance) (2022.12.7)\n",
            "Requirement already satisfied: urllib3<1.27,>=1.21.1 in /usr/local/lib/python3.9/dist-packages (from requests>=2.26->yfinance) (1.26.15)\n",
            "Requirement already satisfied: idna<4,>=2.5 in /usr/local/lib/python3.9/dist-packages (from requests>=2.26->yfinance) (3.4)\n",
            "Requirement already satisfied: charset-normalizer~=2.0.0 in /usr/local/lib/python3.9/dist-packages (from requests>=2.26->yfinance) (2.0.12)\n",
            "Requirement already satisfied: pycparser in /usr/local/lib/python3.9/dist-packages (from cffi>=1.12->cryptography>=3.3.2->yfinance) (2.21)\n"
          ]
        }
      ],
      "source": [
        "!pip install pandas_ta\n",
        "!pip install yfinance"
      ]
    },
    {
      "cell_type": "code",
      "source": [
        "import pandas as pd\n",
        "import numpy as np\n",
        "import pandas_ta as ta\n",
        "# import talib\n",
        "import yfinance as yf\n",
        "import matplotlib.pyplot as plt\n",
        "import seaborn as sns\n",
        "import datetime as dt\n",
        "import math as m\n",
        "\n",
        "print(\"Imported necessary libraries\")"
      ],
      "metadata": {
        "colab": {
          "base_uri": "https://localhost:8080/"
        },
        "id": "b0Z2c0UJW9wW",
        "outputId": "2c7f9ed8-37cc-417c-9b80-b2090eb12371"
      },
      "execution_count": 2,
      "outputs": [
        {
          "output_type": "stream",
          "name": "stdout",
          "text": [
            "Imported necessary libraries\n"
          ]
        }
      ]
    },
    {
      "cell_type": "code",
      "source": [
        "dfd = pd.read_excel('/content/nifty_vix_daily_fy_22_23.xlsx').iloc[:, 1:]\n",
        "dfw = pd.read_excel('/content/nifty_vix_weekly_fy_18_23.xlsx').iloc[:, 1:]\n",
        "dfd.shape, dfw.shape"
      ],
      "metadata": {
        "colab": {
          "base_uri": "https://localhost:8080/"
        },
        "id": "tFfetYVNXJyw",
        "outputId": "38805bdf-4c5d-47ca-d1c6-ec3e6f788523"
      },
      "execution_count": 20,
      "outputs": [
        {
          "output_type": "execute_result",
          "data": {
            "text/plain": [
              "((249, 18), (261, 18))"
            ]
          },
          "metadata": {},
          "execution_count": 20
        }
      ]
    },
    {
      "cell_type": "code",
      "source": [
        "dfd.tail()"
      ],
      "metadata": {
        "colab": {
          "base_uri": "https://localhost:8080/",
          "height": 357
        },
        "id": "bICZj_GpZAWp",
        "outputId": "52aca646-5db9-4cb9-a82f-d065e581883b"
      },
      "execution_count": 21,
      "outputs": [
        {
          "output_type": "execute_result",
          "data": {
            "text/plain": [
              "          Date          Open          High           Low         Close  \\\n",
              "244 2023-03-24  17076.199219  17109.449219  16917.349609  16945.050781   \n",
              "245 2023-03-27  16984.300781  17091.000000  16918.550781  16985.699219   \n",
              "246 2023-03-28  17031.750000  17061.750000  16913.750000  16951.699219   \n",
              "247 2023-03-29  16977.300781  17126.150391  16940.599609  17080.699219   \n",
              "248 2023-03-31  17210.349609  17381.599609  17204.650391  17359.750000   \n",
              "\n",
              "        Adj Close  Volume  points_move  abs_points_move   returns  indiavix  \\\n",
              "244  16945.050781  228000       -132.0            132.0 -0.007721   15.2400   \n",
              "245  16985.699219  218400         41.0             41.0  0.002399   15.4450   \n",
              "246  16951.699219  238800        -34.0             34.0 -0.002002   15.1000   \n",
              "247  17080.699219  345900        129.0            129.0  0.007610   13.6275   \n",
              "248  17359.750000  263900        279.0            279.0  0.016337       NaN   \n",
              "\n",
              "    vix_chg  vix_change  exp_move_pct  exp_points_move    lower    upper  \\\n",
              "244   1.35%    0.051760      1.132031            193.0  16884.0  17270.0   \n",
              "245  -2.23%    0.013451      1.190625            202.0  16743.0  17147.0   \n",
              "246  -9.75%   -0.022337      1.206641            205.0  16781.0  17191.0   \n",
              "247  -5.08%   -0.097517      1.179688            200.0  16752.0  17152.0   \n",
              "248     NaN    0.000000      1.064648            182.0  16899.0  17263.0   \n",
              "\n",
              "     overshoot  \n",
              "244      False  \n",
              "245      False  \n",
              "246      False  \n",
              "247      False  \n",
              "248       True  "
            ],
            "text/html": [
              "\n",
              "  <div id=\"df-caa4c20a-fc7a-4581-a1a3-304e9cd5630b\">\n",
              "    <div class=\"colab-df-container\">\n",
              "      <div>\n",
              "<style scoped>\n",
              "    .dataframe tbody tr th:only-of-type {\n",
              "        vertical-align: middle;\n",
              "    }\n",
              "\n",
              "    .dataframe tbody tr th {\n",
              "        vertical-align: top;\n",
              "    }\n",
              "\n",
              "    .dataframe thead th {\n",
              "        text-align: right;\n",
              "    }\n",
              "</style>\n",
              "<table border=\"1\" class=\"dataframe\">\n",
              "  <thead>\n",
              "    <tr style=\"text-align: right;\">\n",
              "      <th></th>\n",
              "      <th>Date</th>\n",
              "      <th>Open</th>\n",
              "      <th>High</th>\n",
              "      <th>Low</th>\n",
              "      <th>Close</th>\n",
              "      <th>Adj Close</th>\n",
              "      <th>Volume</th>\n",
              "      <th>points_move</th>\n",
              "      <th>abs_points_move</th>\n",
              "      <th>returns</th>\n",
              "      <th>indiavix</th>\n",
              "      <th>vix_chg</th>\n",
              "      <th>vix_change</th>\n",
              "      <th>exp_move_pct</th>\n",
              "      <th>exp_points_move</th>\n",
              "      <th>lower</th>\n",
              "      <th>upper</th>\n",
              "      <th>overshoot</th>\n",
              "    </tr>\n",
              "  </thead>\n",
              "  <tbody>\n",
              "    <tr>\n",
              "      <th>244</th>\n",
              "      <td>2023-03-24</td>\n",
              "      <td>17076.199219</td>\n",
              "      <td>17109.449219</td>\n",
              "      <td>16917.349609</td>\n",
              "      <td>16945.050781</td>\n",
              "      <td>16945.050781</td>\n",
              "      <td>228000</td>\n",
              "      <td>-132.0</td>\n",
              "      <td>132.0</td>\n",
              "      <td>-0.007721</td>\n",
              "      <td>15.2400</td>\n",
              "      <td>1.35%</td>\n",
              "      <td>0.051760</td>\n",
              "      <td>1.132031</td>\n",
              "      <td>193.0</td>\n",
              "      <td>16884.0</td>\n",
              "      <td>17270.0</td>\n",
              "      <td>False</td>\n",
              "    </tr>\n",
              "    <tr>\n",
              "      <th>245</th>\n",
              "      <td>2023-03-27</td>\n",
              "      <td>16984.300781</td>\n",
              "      <td>17091.000000</td>\n",
              "      <td>16918.550781</td>\n",
              "      <td>16985.699219</td>\n",
              "      <td>16985.699219</td>\n",
              "      <td>218400</td>\n",
              "      <td>41.0</td>\n",
              "      <td>41.0</td>\n",
              "      <td>0.002399</td>\n",
              "      <td>15.4450</td>\n",
              "      <td>-2.23%</td>\n",
              "      <td>0.013451</td>\n",
              "      <td>1.190625</td>\n",
              "      <td>202.0</td>\n",
              "      <td>16743.0</td>\n",
              "      <td>17147.0</td>\n",
              "      <td>False</td>\n",
              "    </tr>\n",
              "    <tr>\n",
              "      <th>246</th>\n",
              "      <td>2023-03-28</td>\n",
              "      <td>17031.750000</td>\n",
              "      <td>17061.750000</td>\n",
              "      <td>16913.750000</td>\n",
              "      <td>16951.699219</td>\n",
              "      <td>16951.699219</td>\n",
              "      <td>238800</td>\n",
              "      <td>-34.0</td>\n",
              "      <td>34.0</td>\n",
              "      <td>-0.002002</td>\n",
              "      <td>15.1000</td>\n",
              "      <td>-9.75%</td>\n",
              "      <td>-0.022337</td>\n",
              "      <td>1.206641</td>\n",
              "      <td>205.0</td>\n",
              "      <td>16781.0</td>\n",
              "      <td>17191.0</td>\n",
              "      <td>False</td>\n",
              "    </tr>\n",
              "    <tr>\n",
              "      <th>247</th>\n",
              "      <td>2023-03-29</td>\n",
              "      <td>16977.300781</td>\n",
              "      <td>17126.150391</td>\n",
              "      <td>16940.599609</td>\n",
              "      <td>17080.699219</td>\n",
              "      <td>17080.699219</td>\n",
              "      <td>345900</td>\n",
              "      <td>129.0</td>\n",
              "      <td>129.0</td>\n",
              "      <td>0.007610</td>\n",
              "      <td>13.6275</td>\n",
              "      <td>-5.08%</td>\n",
              "      <td>-0.097517</td>\n",
              "      <td>1.179688</td>\n",
              "      <td>200.0</td>\n",
              "      <td>16752.0</td>\n",
              "      <td>17152.0</td>\n",
              "      <td>False</td>\n",
              "    </tr>\n",
              "    <tr>\n",
              "      <th>248</th>\n",
              "      <td>2023-03-31</td>\n",
              "      <td>17210.349609</td>\n",
              "      <td>17381.599609</td>\n",
              "      <td>17204.650391</td>\n",
              "      <td>17359.750000</td>\n",
              "      <td>17359.750000</td>\n",
              "      <td>263900</td>\n",
              "      <td>279.0</td>\n",
              "      <td>279.0</td>\n",
              "      <td>0.016337</td>\n",
              "      <td>NaN</td>\n",
              "      <td>NaN</td>\n",
              "      <td>0.000000</td>\n",
              "      <td>1.064648</td>\n",
              "      <td>182.0</td>\n",
              "      <td>16899.0</td>\n",
              "      <td>17263.0</td>\n",
              "      <td>True</td>\n",
              "    </tr>\n",
              "  </tbody>\n",
              "</table>\n",
              "</div>\n",
              "      <button class=\"colab-df-convert\" onclick=\"convertToInteractive('df-caa4c20a-fc7a-4581-a1a3-304e9cd5630b')\"\n",
              "              title=\"Convert this dataframe to an interactive table.\"\n",
              "              style=\"display:none;\">\n",
              "        \n",
              "  <svg xmlns=\"http://www.w3.org/2000/svg\" height=\"24px\"viewBox=\"0 0 24 24\"\n",
              "       width=\"24px\">\n",
              "    <path d=\"M0 0h24v24H0V0z\" fill=\"none\"/>\n",
              "    <path d=\"M18.56 5.44l.94 2.06.94-2.06 2.06-.94-2.06-.94-.94-2.06-.94 2.06-2.06.94zm-11 1L8.5 8.5l.94-2.06 2.06-.94-2.06-.94L8.5 2.5l-.94 2.06-2.06.94zm10 10l.94 2.06.94-2.06 2.06-.94-2.06-.94-.94-2.06-.94 2.06-2.06.94z\"/><path d=\"M17.41 7.96l-1.37-1.37c-.4-.4-.92-.59-1.43-.59-.52 0-1.04.2-1.43.59L10.3 9.45l-7.72 7.72c-.78.78-.78 2.05 0 2.83L4 21.41c.39.39.9.59 1.41.59.51 0 1.02-.2 1.41-.59l7.78-7.78 2.81-2.81c.8-.78.8-2.07 0-2.86zM5.41 20L4 18.59l7.72-7.72 1.47 1.35L5.41 20z\"/>\n",
              "  </svg>\n",
              "      </button>\n",
              "      \n",
              "  <style>\n",
              "    .colab-df-container {\n",
              "      display:flex;\n",
              "      flex-wrap:wrap;\n",
              "      gap: 12px;\n",
              "    }\n",
              "\n",
              "    .colab-df-convert {\n",
              "      background-color: #E8F0FE;\n",
              "      border: none;\n",
              "      border-radius: 50%;\n",
              "      cursor: pointer;\n",
              "      display: none;\n",
              "      fill: #1967D2;\n",
              "      height: 32px;\n",
              "      padding: 0 0 0 0;\n",
              "      width: 32px;\n",
              "    }\n",
              "\n",
              "    .colab-df-convert:hover {\n",
              "      background-color: #E2EBFA;\n",
              "      box-shadow: 0px 1px 2px rgba(60, 64, 67, 0.3), 0px 1px 3px 1px rgba(60, 64, 67, 0.15);\n",
              "      fill: #174EA6;\n",
              "    }\n",
              "\n",
              "    [theme=dark] .colab-df-convert {\n",
              "      background-color: #3B4455;\n",
              "      fill: #D2E3FC;\n",
              "    }\n",
              "\n",
              "    [theme=dark] .colab-df-convert:hover {\n",
              "      background-color: #434B5C;\n",
              "      box-shadow: 0px 1px 3px 1px rgba(0, 0, 0, 0.15);\n",
              "      filter: drop-shadow(0px 1px 2px rgba(0, 0, 0, 0.3));\n",
              "      fill: #FFFFFF;\n",
              "    }\n",
              "  </style>\n",
              "\n",
              "      <script>\n",
              "        const buttonEl =\n",
              "          document.querySelector('#df-caa4c20a-fc7a-4581-a1a3-304e9cd5630b button.colab-df-convert');\n",
              "        buttonEl.style.display =\n",
              "          google.colab.kernel.accessAllowed ? 'block' : 'none';\n",
              "\n",
              "        async function convertToInteractive(key) {\n",
              "          const element = document.querySelector('#df-caa4c20a-fc7a-4581-a1a3-304e9cd5630b');\n",
              "          const dataTable =\n",
              "            await google.colab.kernel.invokeFunction('convertToInteractive',\n",
              "                                                     [key], {});\n",
              "          if (!dataTable) return;\n",
              "\n",
              "          const docLinkHtml = 'Like what you see? Visit the ' +\n",
              "            '<a target=\"_blank\" href=https://colab.research.google.com/notebooks/data_table.ipynb>data table notebook</a>'\n",
              "            + ' to learn more about interactive tables.';\n",
              "          element.innerHTML = '';\n",
              "          dataTable['output_type'] = 'display_data';\n",
              "          await google.colab.output.renderOutput(dataTable, element);\n",
              "          const docLink = document.createElement('div');\n",
              "          docLink.innerHTML = docLinkHtml;\n",
              "          element.appendChild(docLink);\n",
              "        }\n",
              "      </script>\n",
              "    </div>\n",
              "  </div>\n",
              "  "
            ]
          },
          "metadata": {},
          "execution_count": 21
        }
      ]
    },
    {
      "cell_type": "code",
      "source": [
        "dfw.tail()"
      ],
      "metadata": {
        "colab": {
          "base_uri": "https://localhost:8080/",
          "height": 357
        },
        "id": "vXN62tm1ZD3o",
        "outputId": "53695b5b-07b8-4148-a1d8-cd56323560a7"
      },
      "execution_count": 22,
      "outputs": [
        {
          "output_type": "execute_result",
          "data": {
            "text/plain": [
              "          Date          Open          High           Low         Close  \\\n",
              "256 2023-02-27  17428.599609  17644.750000  17255.199219  17594.349609   \n",
              "257 2023-03-06  17680.349609  17799.949219  17324.349609  17412.900391   \n",
              "258 2023-03-13  17421.900391  17529.900391  16850.150391  17100.050781   \n",
              "259 2023-03-20  17066.599609  17207.250000  16828.349609  16945.050781   \n",
              "260 2023-03-27  16984.300781  17381.599609  16913.750000  17359.750000   \n",
              "\n",
              "        Adj Close   Volume  points_move  abs_points_move   returns  indiavix  \\\n",
              "256  17594.349609  1607100        129.0            129.0  0.007360   12.1800   \n",
              "257  17412.900391  1128100       -181.0            181.0 -0.010313   13.4125   \n",
              "258  17100.050781  1551600       -313.0            313.0 -0.017967   14.7675   \n",
              "259  16945.050781   935700       -155.0            155.0 -0.009064   15.2400   \n",
              "260  17359.750000  1067000        415.0            415.0  0.024473       NaN   \n",
              "\n",
              "     vix_chg  vix_change  exp_move_pct  exp_points_move    lower    upper  \\\n",
              "256   10.12%   -0.141346      2.478018            433.0  17033.0  17899.0   \n",
              "257   10.10%    0.101190      2.127758            374.0  17220.0  17968.0   \n",
              "258    3.20%    0.101025      2.343067            408.0  17005.0  17821.0   \n",
              "259  -15.12%    0.031996      2.579776            441.0  16659.0  17541.0   \n",
              "260      NaN    0.000000      2.662318            451.0  16494.0  17396.0   \n",
              "\n",
              "     overshoot  \n",
              "256      False  \n",
              "257      False  \n",
              "258      False  \n",
              "259      False  \n",
              "260      False  "
            ],
            "text/html": [
              "\n",
              "  <div id=\"df-797a4c6b-6ad5-4c66-827b-f379e71a77ff\">\n",
              "    <div class=\"colab-df-container\">\n",
              "      <div>\n",
              "<style scoped>\n",
              "    .dataframe tbody tr th:only-of-type {\n",
              "        vertical-align: middle;\n",
              "    }\n",
              "\n",
              "    .dataframe tbody tr th {\n",
              "        vertical-align: top;\n",
              "    }\n",
              "\n",
              "    .dataframe thead th {\n",
              "        text-align: right;\n",
              "    }\n",
              "</style>\n",
              "<table border=\"1\" class=\"dataframe\">\n",
              "  <thead>\n",
              "    <tr style=\"text-align: right;\">\n",
              "      <th></th>\n",
              "      <th>Date</th>\n",
              "      <th>Open</th>\n",
              "      <th>High</th>\n",
              "      <th>Low</th>\n",
              "      <th>Close</th>\n",
              "      <th>Adj Close</th>\n",
              "      <th>Volume</th>\n",
              "      <th>points_move</th>\n",
              "      <th>abs_points_move</th>\n",
              "      <th>returns</th>\n",
              "      <th>indiavix</th>\n",
              "      <th>vix_chg</th>\n",
              "      <th>vix_change</th>\n",
              "      <th>exp_move_pct</th>\n",
              "      <th>exp_points_move</th>\n",
              "      <th>lower</th>\n",
              "      <th>upper</th>\n",
              "      <th>overshoot</th>\n",
              "    </tr>\n",
              "  </thead>\n",
              "  <tbody>\n",
              "    <tr>\n",
              "      <th>256</th>\n",
              "      <td>2023-02-27</td>\n",
              "      <td>17428.599609</td>\n",
              "      <td>17644.750000</td>\n",
              "      <td>17255.199219</td>\n",
              "      <td>17594.349609</td>\n",
              "      <td>17594.349609</td>\n",
              "      <td>1607100</td>\n",
              "      <td>129.0</td>\n",
              "      <td>129.0</td>\n",
              "      <td>0.007360</td>\n",
              "      <td>12.1800</td>\n",
              "      <td>10.12%</td>\n",
              "      <td>-0.141346</td>\n",
              "      <td>2.478018</td>\n",
              "      <td>433.0</td>\n",
              "      <td>17033.0</td>\n",
              "      <td>17899.0</td>\n",
              "      <td>False</td>\n",
              "    </tr>\n",
              "    <tr>\n",
              "      <th>257</th>\n",
              "      <td>2023-03-06</td>\n",
              "      <td>17680.349609</td>\n",
              "      <td>17799.949219</td>\n",
              "      <td>17324.349609</td>\n",
              "      <td>17412.900391</td>\n",
              "      <td>17412.900391</td>\n",
              "      <td>1128100</td>\n",
              "      <td>-181.0</td>\n",
              "      <td>181.0</td>\n",
              "      <td>-0.010313</td>\n",
              "      <td>13.4125</td>\n",
              "      <td>10.10%</td>\n",
              "      <td>0.101190</td>\n",
              "      <td>2.127758</td>\n",
              "      <td>374.0</td>\n",
              "      <td>17220.0</td>\n",
              "      <td>17968.0</td>\n",
              "      <td>False</td>\n",
              "    </tr>\n",
              "    <tr>\n",
              "      <th>258</th>\n",
              "      <td>2023-03-13</td>\n",
              "      <td>17421.900391</td>\n",
              "      <td>17529.900391</td>\n",
              "      <td>16850.150391</td>\n",
              "      <td>17100.050781</td>\n",
              "      <td>17100.050781</td>\n",
              "      <td>1551600</td>\n",
              "      <td>-313.0</td>\n",
              "      <td>313.0</td>\n",
              "      <td>-0.017967</td>\n",
              "      <td>14.7675</td>\n",
              "      <td>3.20%</td>\n",
              "      <td>0.101025</td>\n",
              "      <td>2.343067</td>\n",
              "      <td>408.0</td>\n",
              "      <td>17005.0</td>\n",
              "      <td>17821.0</td>\n",
              "      <td>False</td>\n",
              "    </tr>\n",
              "    <tr>\n",
              "      <th>259</th>\n",
              "      <td>2023-03-20</td>\n",
              "      <td>17066.599609</td>\n",
              "      <td>17207.250000</td>\n",
              "      <td>16828.349609</td>\n",
              "      <td>16945.050781</td>\n",
              "      <td>16945.050781</td>\n",
              "      <td>935700</td>\n",
              "      <td>-155.0</td>\n",
              "      <td>155.0</td>\n",
              "      <td>-0.009064</td>\n",
              "      <td>15.2400</td>\n",
              "      <td>-15.12%</td>\n",
              "      <td>0.031996</td>\n",
              "      <td>2.579776</td>\n",
              "      <td>441.0</td>\n",
              "      <td>16659.0</td>\n",
              "      <td>17541.0</td>\n",
              "      <td>False</td>\n",
              "    </tr>\n",
              "    <tr>\n",
              "      <th>260</th>\n",
              "      <td>2023-03-27</td>\n",
              "      <td>16984.300781</td>\n",
              "      <td>17381.599609</td>\n",
              "      <td>16913.750000</td>\n",
              "      <td>17359.750000</td>\n",
              "      <td>17359.750000</td>\n",
              "      <td>1067000</td>\n",
              "      <td>415.0</td>\n",
              "      <td>415.0</td>\n",
              "      <td>0.024473</td>\n",
              "      <td>NaN</td>\n",
              "      <td>NaN</td>\n",
              "      <td>0.000000</td>\n",
              "      <td>2.662318</td>\n",
              "      <td>451.0</td>\n",
              "      <td>16494.0</td>\n",
              "      <td>17396.0</td>\n",
              "      <td>False</td>\n",
              "    </tr>\n",
              "  </tbody>\n",
              "</table>\n",
              "</div>\n",
              "      <button class=\"colab-df-convert\" onclick=\"convertToInteractive('df-797a4c6b-6ad5-4c66-827b-f379e71a77ff')\"\n",
              "              title=\"Convert this dataframe to an interactive table.\"\n",
              "              style=\"display:none;\">\n",
              "        \n",
              "  <svg xmlns=\"http://www.w3.org/2000/svg\" height=\"24px\"viewBox=\"0 0 24 24\"\n",
              "       width=\"24px\">\n",
              "    <path d=\"M0 0h24v24H0V0z\" fill=\"none\"/>\n",
              "    <path d=\"M18.56 5.44l.94 2.06.94-2.06 2.06-.94-2.06-.94-.94-2.06-.94 2.06-2.06.94zm-11 1L8.5 8.5l.94-2.06 2.06-.94-2.06-.94L8.5 2.5l-.94 2.06-2.06.94zm10 10l.94 2.06.94-2.06 2.06-.94-2.06-.94-.94-2.06-.94 2.06-2.06.94z\"/><path d=\"M17.41 7.96l-1.37-1.37c-.4-.4-.92-.59-1.43-.59-.52 0-1.04.2-1.43.59L10.3 9.45l-7.72 7.72c-.78.78-.78 2.05 0 2.83L4 21.41c.39.39.9.59 1.41.59.51 0 1.02-.2 1.41-.59l7.78-7.78 2.81-2.81c.8-.78.8-2.07 0-2.86zM5.41 20L4 18.59l7.72-7.72 1.47 1.35L5.41 20z\"/>\n",
              "  </svg>\n",
              "      </button>\n",
              "      \n",
              "  <style>\n",
              "    .colab-df-container {\n",
              "      display:flex;\n",
              "      flex-wrap:wrap;\n",
              "      gap: 12px;\n",
              "    }\n",
              "\n",
              "    .colab-df-convert {\n",
              "      background-color: #E8F0FE;\n",
              "      border: none;\n",
              "      border-radius: 50%;\n",
              "      cursor: pointer;\n",
              "      display: none;\n",
              "      fill: #1967D2;\n",
              "      height: 32px;\n",
              "      padding: 0 0 0 0;\n",
              "      width: 32px;\n",
              "    }\n",
              "\n",
              "    .colab-df-convert:hover {\n",
              "      background-color: #E2EBFA;\n",
              "      box-shadow: 0px 1px 2px rgba(60, 64, 67, 0.3), 0px 1px 3px 1px rgba(60, 64, 67, 0.15);\n",
              "      fill: #174EA6;\n",
              "    }\n",
              "\n",
              "    [theme=dark] .colab-df-convert {\n",
              "      background-color: #3B4455;\n",
              "      fill: #D2E3FC;\n",
              "    }\n",
              "\n",
              "    [theme=dark] .colab-df-convert:hover {\n",
              "      background-color: #434B5C;\n",
              "      box-shadow: 0px 1px 3px 1px rgba(0, 0, 0, 0.15);\n",
              "      filter: drop-shadow(0px 1px 2px rgba(0, 0, 0, 0.3));\n",
              "      fill: #FFFFFF;\n",
              "    }\n",
              "  </style>\n",
              "\n",
              "      <script>\n",
              "        const buttonEl =\n",
              "          document.querySelector('#df-797a4c6b-6ad5-4c66-827b-f379e71a77ff button.colab-df-convert');\n",
              "        buttonEl.style.display =\n",
              "          google.colab.kernel.accessAllowed ? 'block' : 'none';\n",
              "\n",
              "        async function convertToInteractive(key) {\n",
              "          const element = document.querySelector('#df-797a4c6b-6ad5-4c66-827b-f379e71a77ff');\n",
              "          const dataTable =\n",
              "            await google.colab.kernel.invokeFunction('convertToInteractive',\n",
              "                                                     [key], {});\n",
              "          if (!dataTable) return;\n",
              "\n",
              "          const docLinkHtml = 'Like what you see? Visit the ' +\n",
              "            '<a target=\"_blank\" href=https://colab.research.google.com/notebooks/data_table.ipynb>data table notebook</a>'\n",
              "            + ' to learn more about interactive tables.';\n",
              "          element.innerHTML = '';\n",
              "          dataTable['output_type'] = 'display_data';\n",
              "          await google.colab.output.renderOutput(dataTable, element);\n",
              "          const docLink = document.createElement('div');\n",
              "          docLink.innerHTML = docLinkHtml;\n",
              "          element.appendChild(docLink);\n",
              "        }\n",
              "      </script>\n",
              "    </div>\n",
              "  </div>\n",
              "  "
            ]
          },
          "metadata": {},
          "execution_count": 22
        }
      ]
    },
    {
      "cell_type": "code",
      "source": [
        "def add_day(df):\n",
        "  df.insert(1, \"day\", df[\"Date\"].dt.day_name())\n",
        "  return"
      ],
      "metadata": {
        "id": "8W_JFL6OZLJx"
      },
      "execution_count": 23,
      "outputs": []
    },
    {
      "cell_type": "code",
      "source": [
        "# add_day(dfd)"
      ],
      "metadata": {
        "id": "W408_2UoZ88C"
      },
      "execution_count": 24,
      "outputs": []
    },
    {
      "cell_type": "code",
      "source": [
        "# add_day(dfw)"
      ],
      "metadata": {
        "id": "RcJP4NN-bdUi"
      },
      "execution_count": 26,
      "outputs": []
    },
    {
      "cell_type": "code",
      "source": [
        "dfd.day.value_counts()"
      ],
      "metadata": {
        "colab": {
          "base_uri": "https://localhost:8080/"
        },
        "id": "q_1sapKMbwGI",
        "outputId": "a89d2e48-7b3d-43c2-c04b-695eec9abe1e"
      },
      "execution_count": 30,
      "outputs": [
        {
          "output_type": "execute_result",
          "data": {
            "text/plain": [
              "Friday       52\n",
              "Monday       51\n",
              "Wednesday    49\n",
              "Thursday     49\n",
              "Tuesday      48\n",
              "Name: day, dtype: int64"
            ]
          },
          "metadata": {},
          "execution_count": 30
        }
      ]
    },
    {
      "cell_type": "code",
      "source": [
        "dfw.day.value_counts()"
      ],
      "metadata": {
        "colab": {
          "base_uri": "https://localhost:8080/"
        },
        "id": "osLMsXIdblIw",
        "outputId": "922bf5e6-34de-4914-eeb0-c42e2fdf6e64"
      },
      "execution_count": 29,
      "outputs": [
        {
          "output_type": "execute_result",
          "data": {
            "text/plain": [
              "Monday    261\n",
              "Name: day, dtype: int64"
            ]
          },
          "metadata": {},
          "execution_count": 29
        }
      ]
    },
    {
      "cell_type": "code",
      "source": [
        "dfd.shape"
      ],
      "metadata": {
        "colab": {
          "base_uri": "https://localhost:8080/"
        },
        "id": "0N94_rV3cCxo",
        "outputId": "666bdb23-e8b4-4454-fb5c-b76f0aa50847"
      },
      "execution_count": 32,
      "outputs": [
        {
          "output_type": "execute_result",
          "data": {
            "text/plain": [
              "(249, 19)"
            ]
          },
          "metadata": {},
          "execution_count": 32
        }
      ]
    },
    {
      "cell_type": "code",
      "source": [
        "dfd_thu = dfd.loc[dfd[\"day\"] == \"Thursday\"]\n",
        "dfd_thu.tail()"
      ],
      "metadata": {
        "colab": {
          "base_uri": "https://localhost:8080/",
          "height": 357
        },
        "id": "Tkoxgx1Ib2ci",
        "outputId": "7ca362c1-e770-483f-92e1-a87a142b7eb7"
      },
      "execution_count": 36,
      "outputs": [
        {
          "output_type": "execute_result",
          "data": {
            "text/plain": [
              "          Date       day          Open          High           Low  \\\n",
              "224 2023-02-23  Thursday  17574.650391  17620.050781  17455.400391   \n",
              "229 2023-03-02  Thursday  17421.500000  17445.800781  17306.000000   \n",
              "233 2023-03-09  Thursday  17772.050781  17772.349609  17573.599609   \n",
              "238 2023-03-16  Thursday  16994.650391  17062.449219  16850.150391   \n",
              "243 2023-03-23  Thursday  17097.400391  17205.400391  17045.300781   \n",
              "\n",
              "            Close     Adj Close  Volume  points_move  abs_points_move  \\\n",
              "224  17511.250000  17511.250000  240800        -43.0             43.0   \n",
              "229  17321.900391  17321.900391  310700       -129.0            129.0   \n",
              "233  17589.599609  17589.599609  262400       -165.0            165.0   \n",
              "238  16985.599609  16985.599609  349800         13.0             13.0   \n",
              "243  17076.900391  17076.900391  219200        -75.0             75.0   \n",
              "\n",
              "      returns  indiavix vix_chg  vix_change  exp_move_pct  exp_points_move  \\\n",
              "224 -0.002452   15.0750  -5.90%   -0.032879      1.217773            214.0   \n",
              "229 -0.007392   12.9700  -6.09%   -0.001924      1.015234            177.0   \n",
              "233 -0.009282   12.7250   5.40%    0.022088      0.972656            173.0   \n",
              "238  0.000792   16.2175  -8.94%   -0.004756      1.273047            216.0   \n",
              "243 -0.004373   14.4900   5.18%   -0.021442      1.156836            198.0   \n",
              "\n",
              "       lower    upper  overshoot  \n",
              "224  17340.0  17768.0      False  \n",
              "229  17274.0  17628.0      False  \n",
              "233  17581.0  17927.0      False  \n",
              "238  16756.0  17188.0      False  \n",
              "243  16954.0  17350.0      False  "
            ],
            "text/html": [
              "\n",
              "  <div id=\"df-ce107a06-864d-42dd-9753-5d5126ba0c4e\">\n",
              "    <div class=\"colab-df-container\">\n",
              "      <div>\n",
              "<style scoped>\n",
              "    .dataframe tbody tr th:only-of-type {\n",
              "        vertical-align: middle;\n",
              "    }\n",
              "\n",
              "    .dataframe tbody tr th {\n",
              "        vertical-align: top;\n",
              "    }\n",
              "\n",
              "    .dataframe thead th {\n",
              "        text-align: right;\n",
              "    }\n",
              "</style>\n",
              "<table border=\"1\" class=\"dataframe\">\n",
              "  <thead>\n",
              "    <tr style=\"text-align: right;\">\n",
              "      <th></th>\n",
              "      <th>Date</th>\n",
              "      <th>day</th>\n",
              "      <th>Open</th>\n",
              "      <th>High</th>\n",
              "      <th>Low</th>\n",
              "      <th>Close</th>\n",
              "      <th>Adj Close</th>\n",
              "      <th>Volume</th>\n",
              "      <th>points_move</th>\n",
              "      <th>abs_points_move</th>\n",
              "      <th>returns</th>\n",
              "      <th>indiavix</th>\n",
              "      <th>vix_chg</th>\n",
              "      <th>vix_change</th>\n",
              "      <th>exp_move_pct</th>\n",
              "      <th>exp_points_move</th>\n",
              "      <th>lower</th>\n",
              "      <th>upper</th>\n",
              "      <th>overshoot</th>\n",
              "    </tr>\n",
              "  </thead>\n",
              "  <tbody>\n",
              "    <tr>\n",
              "      <th>224</th>\n",
              "      <td>2023-02-23</td>\n",
              "      <td>Thursday</td>\n",
              "      <td>17574.650391</td>\n",
              "      <td>17620.050781</td>\n",
              "      <td>17455.400391</td>\n",
              "      <td>17511.250000</td>\n",
              "      <td>17511.250000</td>\n",
              "      <td>240800</td>\n",
              "      <td>-43.0</td>\n",
              "      <td>43.0</td>\n",
              "      <td>-0.002452</td>\n",
              "      <td>15.0750</td>\n",
              "      <td>-5.90%</td>\n",
              "      <td>-0.032879</td>\n",
              "      <td>1.217773</td>\n",
              "      <td>214.0</td>\n",
              "      <td>17340.0</td>\n",
              "      <td>17768.0</td>\n",
              "      <td>False</td>\n",
              "    </tr>\n",
              "    <tr>\n",
              "      <th>229</th>\n",
              "      <td>2023-03-02</td>\n",
              "      <td>Thursday</td>\n",
              "      <td>17421.500000</td>\n",
              "      <td>17445.800781</td>\n",
              "      <td>17306.000000</td>\n",
              "      <td>17321.900391</td>\n",
              "      <td>17321.900391</td>\n",
              "      <td>310700</td>\n",
              "      <td>-129.0</td>\n",
              "      <td>129.0</td>\n",
              "      <td>-0.007392</td>\n",
              "      <td>12.9700</td>\n",
              "      <td>-6.09%</td>\n",
              "      <td>-0.001924</td>\n",
              "      <td>1.015234</td>\n",
              "      <td>177.0</td>\n",
              "      <td>17274.0</td>\n",
              "      <td>17628.0</td>\n",
              "      <td>False</td>\n",
              "    </tr>\n",
              "    <tr>\n",
              "      <th>233</th>\n",
              "      <td>2023-03-09</td>\n",
              "      <td>Thursday</td>\n",
              "      <td>17772.050781</td>\n",
              "      <td>17772.349609</td>\n",
              "      <td>17573.599609</td>\n",
              "      <td>17589.599609</td>\n",
              "      <td>17589.599609</td>\n",
              "      <td>262400</td>\n",
              "      <td>-165.0</td>\n",
              "      <td>165.0</td>\n",
              "      <td>-0.009282</td>\n",
              "      <td>12.7250</td>\n",
              "      <td>5.40%</td>\n",
              "      <td>0.022088</td>\n",
              "      <td>0.972656</td>\n",
              "      <td>173.0</td>\n",
              "      <td>17581.0</td>\n",
              "      <td>17927.0</td>\n",
              "      <td>False</td>\n",
              "    </tr>\n",
              "    <tr>\n",
              "      <th>238</th>\n",
              "      <td>2023-03-16</td>\n",
              "      <td>Thursday</td>\n",
              "      <td>16994.650391</td>\n",
              "      <td>17062.449219</td>\n",
              "      <td>16850.150391</td>\n",
              "      <td>16985.599609</td>\n",
              "      <td>16985.599609</td>\n",
              "      <td>349800</td>\n",
              "      <td>13.0</td>\n",
              "      <td>13.0</td>\n",
              "      <td>0.000792</td>\n",
              "      <td>16.2175</td>\n",
              "      <td>-8.94%</td>\n",
              "      <td>-0.004756</td>\n",
              "      <td>1.273047</td>\n",
              "      <td>216.0</td>\n",
              "      <td>16756.0</td>\n",
              "      <td>17188.0</td>\n",
              "      <td>False</td>\n",
              "    </tr>\n",
              "    <tr>\n",
              "      <th>243</th>\n",
              "      <td>2023-03-23</td>\n",
              "      <td>Thursday</td>\n",
              "      <td>17097.400391</td>\n",
              "      <td>17205.400391</td>\n",
              "      <td>17045.300781</td>\n",
              "      <td>17076.900391</td>\n",
              "      <td>17076.900391</td>\n",
              "      <td>219200</td>\n",
              "      <td>-75.0</td>\n",
              "      <td>75.0</td>\n",
              "      <td>-0.004373</td>\n",
              "      <td>14.4900</td>\n",
              "      <td>5.18%</td>\n",
              "      <td>-0.021442</td>\n",
              "      <td>1.156836</td>\n",
              "      <td>198.0</td>\n",
              "      <td>16954.0</td>\n",
              "      <td>17350.0</td>\n",
              "      <td>False</td>\n",
              "    </tr>\n",
              "  </tbody>\n",
              "</table>\n",
              "</div>\n",
              "      <button class=\"colab-df-convert\" onclick=\"convertToInteractive('df-ce107a06-864d-42dd-9753-5d5126ba0c4e')\"\n",
              "              title=\"Convert this dataframe to an interactive table.\"\n",
              "              style=\"display:none;\">\n",
              "        \n",
              "  <svg xmlns=\"http://www.w3.org/2000/svg\" height=\"24px\"viewBox=\"0 0 24 24\"\n",
              "       width=\"24px\">\n",
              "    <path d=\"M0 0h24v24H0V0z\" fill=\"none\"/>\n",
              "    <path d=\"M18.56 5.44l.94 2.06.94-2.06 2.06-.94-2.06-.94-.94-2.06-.94 2.06-2.06.94zm-11 1L8.5 8.5l.94-2.06 2.06-.94-2.06-.94L8.5 2.5l-.94 2.06-2.06.94zm10 10l.94 2.06.94-2.06 2.06-.94-2.06-.94-.94-2.06-.94 2.06-2.06.94z\"/><path d=\"M17.41 7.96l-1.37-1.37c-.4-.4-.92-.59-1.43-.59-.52 0-1.04.2-1.43.59L10.3 9.45l-7.72 7.72c-.78.78-.78 2.05 0 2.83L4 21.41c.39.39.9.59 1.41.59.51 0 1.02-.2 1.41-.59l7.78-7.78 2.81-2.81c.8-.78.8-2.07 0-2.86zM5.41 20L4 18.59l7.72-7.72 1.47 1.35L5.41 20z\"/>\n",
              "  </svg>\n",
              "      </button>\n",
              "      \n",
              "  <style>\n",
              "    .colab-df-container {\n",
              "      display:flex;\n",
              "      flex-wrap:wrap;\n",
              "      gap: 12px;\n",
              "    }\n",
              "\n",
              "    .colab-df-convert {\n",
              "      background-color: #E8F0FE;\n",
              "      border: none;\n",
              "      border-radius: 50%;\n",
              "      cursor: pointer;\n",
              "      display: none;\n",
              "      fill: #1967D2;\n",
              "      height: 32px;\n",
              "      padding: 0 0 0 0;\n",
              "      width: 32px;\n",
              "    }\n",
              "\n",
              "    .colab-df-convert:hover {\n",
              "      background-color: #E2EBFA;\n",
              "      box-shadow: 0px 1px 2px rgba(60, 64, 67, 0.3), 0px 1px 3px 1px rgba(60, 64, 67, 0.15);\n",
              "      fill: #174EA6;\n",
              "    }\n",
              "\n",
              "    [theme=dark] .colab-df-convert {\n",
              "      background-color: #3B4455;\n",
              "      fill: #D2E3FC;\n",
              "    }\n",
              "\n",
              "    [theme=dark] .colab-df-convert:hover {\n",
              "      background-color: #434B5C;\n",
              "      box-shadow: 0px 1px 3px 1px rgba(0, 0, 0, 0.15);\n",
              "      filter: drop-shadow(0px 1px 2px rgba(0, 0, 0, 0.3));\n",
              "      fill: #FFFFFF;\n",
              "    }\n",
              "  </style>\n",
              "\n",
              "      <script>\n",
              "        const buttonEl =\n",
              "          document.querySelector('#df-ce107a06-864d-42dd-9753-5d5126ba0c4e button.colab-df-convert');\n",
              "        buttonEl.style.display =\n",
              "          google.colab.kernel.accessAllowed ? 'block' : 'none';\n",
              "\n",
              "        async function convertToInteractive(key) {\n",
              "          const element = document.querySelector('#df-ce107a06-864d-42dd-9753-5d5126ba0c4e');\n",
              "          const dataTable =\n",
              "            await google.colab.kernel.invokeFunction('convertToInteractive',\n",
              "                                                     [key], {});\n",
              "          if (!dataTable) return;\n",
              "\n",
              "          const docLinkHtml = 'Like what you see? Visit the ' +\n",
              "            '<a target=\"_blank\" href=https://colab.research.google.com/notebooks/data_table.ipynb>data table notebook</a>'\n",
              "            + ' to learn more about interactive tables.';\n",
              "          element.innerHTML = '';\n",
              "          dataTable['output_type'] = 'display_data';\n",
              "          await google.colab.output.renderOutput(dataTable, element);\n",
              "          const docLink = document.createElement('div');\n",
              "          docLink.innerHTML = docLinkHtml;\n",
              "          element.appendChild(docLink);\n",
              "        }\n",
              "      </script>\n",
              "    </div>\n",
              "  </div>\n",
              "  "
            ]
          },
          "metadata": {},
          "execution_count": 36
        }
      ]
    },
    {
      "cell_type": "code",
      "source": [
        "dfd_thu.shape"
      ],
      "metadata": {
        "colab": {
          "base_uri": "https://localhost:8080/"
        },
        "id": "HBbG8DRles14",
        "outputId": "20c0cc94-4303-4a95-8270-39a6fdf038f4"
      },
      "execution_count": 38,
      "outputs": [
        {
          "output_type": "execute_result",
          "data": {
            "text/plain": [
              "(49, 19)"
            ]
          },
          "metadata": {},
          "execution_count": 38
        }
      ]
    },
    {
      "cell_type": "code",
      "source": [
        "sns.lineplot(data=dfd_thu[[\"Date\", \"abs_points_move\", \"exp_points_move\"]])"
      ],
      "metadata": {
        "colab": {
          "base_uri": "https://localhost:8080/",
          "height": 447
        },
        "id": "Nm96zTDUe5Th",
        "outputId": "45226105-b407-4f8a-a595-4b9082b27b8d"
      },
      "execution_count": 40,
      "outputs": [
        {
          "output_type": "execute_result",
          "data": {
            "text/plain": [
              "<Axes: >"
            ]
          },
          "metadata": {},
          "execution_count": 40
        },
        {
          "output_type": "display_data",
          "data": {
            "text/plain": [
              "<Figure size 640x480 with 1 Axes>"
            ],
            "image/png": "[encoded data removed]"
          },
          "metadata": {}
        }
      ]
    },
    {
      "cell_type": "code",
      "source": [
        "dfd_thu[\"overshoot\"].value_counts()"
      ],
      "metadata": {
        "colab": {
          "base_uri": "https://localhost:8080/"
        },
        "id": "Rw8eO0QHfLHA",
        "outputId": "1179ae8d-995a-42b7-9b20-ecb8598929cf"
      },
      "execution_count": 43,
      "outputs": [
        {
          "output_type": "execute_result",
          "data": {
            "text/plain": [
              "False    42\n",
              "True      7\n",
              "Name: overshoot, dtype: int64"
            ]
          },
          "metadata": {},
          "execution_count": 43
        }
      ]
    },
    {
      "cell_type": "code",
      "source": [
        "overshoot_pct = dfd_thu[\"overshoot\"].value_counts()[True] / dfd_thu.shape[0]\n",
        "overshoot_pct.round(2)"
      ],
      "metadata": {
        "colab": {
          "base_uri": "https://localhost:8080/"
        },
        "id": "GEdcjEurfNWo",
        "outputId": "9ce2fb8f-aa30-48bc-e425-fdd3dfbabda6"
      },
      "execution_count": 45,
      "outputs": [
        {
          "output_type": "execute_result",
          "data": {
            "text/plain": [
              "0.14"
            ]
          },
          "metadata": {},
          "execution_count": 45
        }
      ]
    }
  ]
}